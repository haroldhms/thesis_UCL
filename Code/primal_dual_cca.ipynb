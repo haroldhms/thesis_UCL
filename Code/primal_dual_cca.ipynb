{
 "cells": [
  {
   "cell_type": "markdown",
   "metadata": {},
   "source": [
    "# Implementation of primal dual CCA (aka partially linear CCA)\n",
    "Hardoon & Shawe-Taylor, 2011"
   ]
  },
  {
   "cell_type": "code",
   "execution_count": 119,
   "metadata": {
    "ExecuteTime": {
     "end_time": "2022-06-20T19:46:07.619486Z",
     "start_time": "2022-06-20T19:46:07.605485Z"
    }
   },
   "outputs": [],
   "source": [
    "import numpy as np\n",
    "import pandas as pd\n",
    "import cvxpy as cp\n",
    "from scipy.spatial.distance import pdist, squareform\n",
    "from scipy.optimize import minimize, NonlinearConstraint\n",
    "import scipy\n",
    "from sklearn.metrics.pairwise import pairwise_kernels, rbf_kernel\n"
   ]
  },
  {
   "cell_type": "code",
   "execution_count": 230,
   "metadata": {
    "ExecuteTime": {
     "end_time": "2022-06-20T20:42:02.629422Z",
     "start_time": "2022-06-20T20:41:59.696425Z"
    }
   },
   "outputs": [],
   "source": [
    "ret = pd.read_csv('ret_subset.csv')\n"
   ]
  },
  {
   "cell_type": "code",
   "execution_count": 231,
   "metadata": {
    "ExecuteTime": {
     "end_time": "2022-06-20T20:42:03.226421Z",
     "start_time": "2022-06-20T20:42:03.209425Z"
    }
   },
   "outputs": [],
   "source": [
    "ret = np.array(ret.iloc[:100,1:20])"
   ]
  },
  {
   "cell_type": "markdown",
   "metadata": {},
   "source": [
    "# primal dual CCA\n",
    "Hardoon & Shawe-Taylor 2011, non-exact implementation"
   ]
  },
  {
   "cell_type": "code",
   "execution_count": 261,
   "metadata": {
    "ExecuteTime": {
     "end_time": "2022-06-20T20:52:30.640602Z",
     "start_time": "2022-06-20T20:52:30.588600Z"
    }
   },
   "outputs": [],
   "source": [
    "def gaussian_kernel(X,s=1):\n",
    "    \"\"\"\n",
    "    function to obtain gaussian kernel\n",
    "    inputs:\n",
    "            X : numpy matrix of size assets x time\n",
    "            s : scale factor\n",
    "    \"\"\"\n",
    "    #pairwise_dists = squareform(pdist(X, 'euclidean'))\n",
    "    #K = scipy.exp(-pairwise_dists ** 2 / s ** 2)\n",
    "    \n",
    "    # K(x, y) = exp(-gamma ||x-y||^2)\n",
    "    K = rbf_kernel(X, gamma=s)\n",
    "    return K\n",
    "    \n",
    "def primal_dual_cca(X, K, seed_index, sk):\n",
    "    \"\"\"\n",
    "     Original description by David R. Hardoon: \n",
    "     Sparse Canonical Correlation Analysis - SCCA, is a primal-dual solver for\n",
    "     the CCA problem. Given primal data of a view and a dual representation of\n",
    "     the second view will provide a sparse primal weight vector (for the primal\n",
    "     data) and sparse feature projection (for the dual [kernel] data)\n",
    "\n",
    "     Input:  X             - Primal data of view one    [m x l] (rows is the number of assets)\n",
    "             K             - dual data of view two      [l x l]\n",
    "             seed_index    - Starting point for e       [1 x 1]\n",
    "             sk            - scaling factor for mu and gamma\n",
    "\n",
    "     Output: w             - sparse weight vector      [1 x m]\n",
    "             e             - sparse projct vectors     [1 x l]\n",
    "             cor           - correlation value         [1 x 1]\n",
    "    \"\"\"\n",
    "    primal_dim = X.shape[0]\n",
    "    N_samples = X.shape[1]\n",
    "    tau = 0.5\n",
    "\n",
    "    #This is how mu and gamma are set in David's SCCA2.m\n",
    "    Ij = np.zeros((K.shape[1], K.shape[1]))\n",
    "    np.fill_diagonal(Ij, 1)\n",
    "    Ij[seed_index, seed_index] = 0\n",
    "    c = X * K[:,seed_index]\n",
    "    KK = np.transpose(K) * K\n",
    "    d1 = 2*tau*(1-tau)*c\n",
    "    mu = sk*np.mean(np.abs(d1))\n",
    "    gamma = np.mean(np.abs(2*(1-tau)**2*Ij*KK[:,seed_index]))\n",
    "    beta = 1\n",
    "    \n",
    "    # initial parameters\n",
    "    w = np.zeros(primal_dim)\n",
    "    e = np.zeros(N_samples)\n",
    "    e[seed_index] = 1\n",
    "    initial = np.concatenate([w,e])\n",
    "    \n",
    "    # bounds\n",
    "    bnds  = [(-np.inf,np.inf) for i in range(primal_dim)]\n",
    "    bnds2 = [(0, None) for i in range(primal_dim,N_samples+primal_dim)]\n",
    "    bnds.extend(bnds2)\n",
    "\n",
    "    # constraints\n",
    "    const = NonlinearConstraint(kernel_weights_constraint,1.0,1.0)\n",
    "    \n",
    "    # minimization\n",
    "    result = minimize(pl_minimize,x0=initial, args = (X,K,tau,beta,gamma,mu,primal_dim),bounds=bnds, constraints=const).x#, bounds = bnds)#, constraints =(const,))\n",
    "    \n",
    "    w = result[:primal_dim]\n",
    "    e = result[primal_dim:]\n",
    "    p1 = w @ X @ X.T @ w\n",
    "    p2 = e @ K @ K @ e\n",
    "    corr = w @ X @ K @ e / np.sqrt(p1*p2)\n",
    "    return w,e,corr\n",
    "    \n",
    "def kernel_weights_constraint(x):\n",
    "    \"\"\"\n",
    "    need to define a global variable for the dimension of our asset space, currently it is 19\n",
    "    \"\"\"\n",
    "    return np.linalg.norm(x[19:],np.inf)\n",
    "\n",
    "def pl_minimize(x, *args):\n",
    "    X, K, tau, beta, gamma, mu, dimension = args\n",
    "    w = x[:dimension]\n",
    "    e = x[dimension:]\n",
    "    res = np.linalg.norm(tau * X.T @ w - (1-tau)*K @ e) + mu*np.linalg.norm(w,1) + gamma*np.linalg.norm(e,1)\n",
    "    return np.maximum(res, np.zeros(res.shape))**2"
   ]
  },
  {
   "cell_type": "code",
   "execution_count": 262,
   "metadata": {
    "ExecuteTime": {
     "end_time": "2022-06-20T20:52:40.201599Z",
     "start_time": "2022-06-20T20:52:32.212600Z"
    }
   },
   "outputs": [
    {
     "name": "stdout",
     "output_type": "stream",
     "text": [
      "0.0012532154843144848\n",
      "0.004532502975463262\n",
      "119\n",
      "(119,)\n",
      "ok 1\n",
      "ok\n",
      "3.8391045559411845\n"
     ]
    }
   ],
   "source": [
    "# test\n",
    "k = gaussian_kernel(ret)\n",
    "opt_w, opt_e, corr = primal_dual_cca(ret.T, k, 10, 0.1)\n",
    "print(corr)"
   ]
  },
  {
   "cell_type": "markdown",
   "metadata": {},
   "source": [
    "# primal dual CCA\n",
    "exact implementation"
   ]
  },
  {
   "cell_type": "code",
   "execution_count": 259,
   "metadata": {
    "ExecuteTime": {
     "end_time": "2022-06-20T20:51:22.212750Z",
     "start_time": "2022-06-20T20:51:22.150743Z"
    }
   },
   "outputs": [
    {
     "data": {
      "text/plain": [
       "array([[85.29288114, 86.51760884, 87.40002397, ..., 89.64431682,\n",
       "        88.07878171, 88.08935249],\n",
       "       [86.51760884, 87.94930529, 88.80864413, ..., 91.05851987,\n",
       "        89.52161965, 89.40870527],\n",
       "       [87.40002397, 88.80864413, 89.74986444, ..., 91.99242156,\n",
       "        90.43709346, 90.36344359],\n",
       "       ...,\n",
       "       [89.64431682, 91.05851987, 91.99242156, ..., 94.32326099,\n",
       "        92.71407608, 92.65034127],\n",
       "       [88.07878171, 89.52161965, 90.43709346, ..., 92.71407608,\n",
       "        91.15178173, 91.05247221],\n",
       "       [88.08935249, 89.40870527, 90.36344359, ..., 92.65034127,\n",
       "        91.05247221, 91.04547398]])"
      ]
     },
     "execution_count": 259,
     "metadata": {},
     "output_type": "execute_result"
    }
   ],
   "source": [
    "k @ k"
   ]
  }
 ],
 "metadata": {
  "kernelspec": {
   "display_name": "Python 3 (ipykernel)",
   "language": "python",
   "name": "python3"
  },
  "language_info": {
   "codemirror_mode": {
    "name": "ipython",
    "version": 3
   },
   "file_extension": ".py",
   "mimetype": "text/x-python",
   "name": "python",
   "nbconvert_exporter": "python",
   "pygments_lexer": "ipython3",
   "version": "3.7.6"
  },
  "latex_envs": {
   "LaTeX_envs_menu_present": true,
   "autoclose": false,
   "autocomplete": true,
   "bibliofile": "biblio.bib",
   "cite_by": "apalike",
   "current_citInitial": 1,
   "eqLabelWithNumbers": true,
   "eqNumInitial": 1,
   "hotkeys": {
    "equation": "Ctrl-E",
    "itemize": "Ctrl-I"
   },
   "labels_anchors": false,
   "latex_user_defs": false,
   "report_style_numbering": false,
   "user_envs_cfg": false
  },
  "toc": {
   "base_numbering": 1,
   "nav_menu": {},
   "number_sections": true,
   "sideBar": true,
   "skip_h1_title": false,
   "title_cell": "Table of Contents",
   "title_sidebar": "Contents",
   "toc_cell": false,
   "toc_position": {},
   "toc_section_display": true,
   "toc_window_display": false
  }
 },
 "nbformat": 4,
 "nbformat_minor": 4
}
