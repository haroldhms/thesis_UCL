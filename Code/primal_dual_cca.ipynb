{
 "cells": [
  {
   "cell_type": "markdown",
   "metadata": {},
   "source": [
    "# Implementation and convergence analysis of  PLCCA (aka partially linear CCA)\n",
    "Hardoon & Shawe-Taylor, 2011"
   ]
  },
  {
   "cell_type": "code",
   "execution_count": 1,
   "metadata": {
    "ExecuteTime": {
     "end_time": "2022-06-23T07:05:32.746787Z",
     "start_time": "2022-06-23T07:05:32.738785Z"
    }
   },
   "outputs": [],
   "source": [
    "import warnings\n",
    "warnings.filterwarnings(\"ignore\")"
   ]
  },
  {
   "cell_type": "code",
   "execution_count": 2,
   "metadata": {
    "ExecuteTime": {
     "end_time": "2022-06-23T07:05:34.823090Z",
     "start_time": "2022-06-23T07:05:33.155272Z"
    }
   },
   "outputs": [],
   "source": [
    "import numpy as np\n",
    "import pandas as pd\n",
    "import cvxpy as cp\n",
    "from scipy.spatial.distance import pdist, squareform\n",
    "from scipy.optimize import minimize, NonlinearConstraint\n",
    "import scipy\n",
    "from sklearn.metrics.pairwise import pairwise_kernels, rbf_kernel\n",
    "import time"
   ]
  },
  {
   "cell_type": "code",
   "execution_count": 3,
   "metadata": {
    "ExecuteTime": {
     "end_time": "2022-06-23T07:05:34.838066Z",
     "start_time": "2022-06-23T07:05:34.825064Z"
    }
   },
   "outputs": [],
   "source": [
    "from cca import *"
   ]
  },
  {
   "cell_type": "code",
   "execution_count": 4,
   "metadata": {
    "ExecuteTime": {
     "end_time": "2022-06-23T07:05:35.743314Z",
     "start_time": "2022-06-23T07:05:34.841067Z"
    }
   },
   "outputs": [],
   "source": [
    "data = pd.read_csv('ret_subset.csv')"
   ]
  },
  {
   "cell_type": "code",
   "execution_count": 5,
   "metadata": {
    "ExecuteTime": {
     "end_time": "2022-06-23T07:05:36.648290Z",
     "start_time": "2022-06-23T07:05:35.746061Z"
    }
   },
   "outputs": [],
   "source": [
    "ret = pd.read_csv('ret_subset.csv')"
   ]
  },
  {
   "cell_type": "code",
   "execution_count": 6,
   "metadata": {
    "ExecuteTime": {
     "end_time": "2022-06-23T07:05:36.664106Z",
     "start_time": "2022-06-23T07:05:36.650067Z"
    }
   },
   "outputs": [],
   "source": [
    "universe_size = 120"
   ]
  },
  {
   "cell_type": "code",
   "execution_count": 7,
   "metadata": {
    "ExecuteTime": {
     "end_time": "2022-06-23T07:05:36.679292Z",
     "start_time": "2022-06-23T07:05:36.667063Z"
    }
   },
   "outputs": [],
   "source": [
    "ret = np.array(ret.iloc[:252,1:universe_size])"
   ]
  },
  {
   "cell_type": "markdown",
   "metadata": {},
   "source": [
    "# trading signals\n",
    "\n",
    "quick built trading signal to obtain a kernel to test our method"
   ]
  },
  {
   "cell_type": "code",
   "execution_count": 8,
   "metadata": {
    "ExecuteTime": {
     "end_time": "2022-06-23T07:05:36.694064Z",
     "start_time": "2022-06-23T07:05:36.681068Z"
    }
   },
   "outputs": [],
   "source": [
    "def macd(ret, long=8, short=4, signal_span=9):\n",
    "    \"\"\"\n",
    "    calculates the MACD momentum strategy for a single time series\n",
    "    input: pandas single series\n",
    "    output: numpy array of signals\n",
    "    \"\"\"\n",
    "    short_signal = ret.ewm(span=short, adjust=False).mean()\n",
    "    long_signal = ret.ewm(span=long, adjust=False).mean() \n",
    "    macd = short_signal - long_signal\n",
    "    \n",
    "    pos = np.zeros(len(ret))\n",
    "    pos = np.where(macd>0,1,-1)\n",
    "    return pos\n",
    "\n",
    "def macd_signals(returns,long=26,short=12,signal_span=9):\n",
    "    \"\"\"\n",
    "    function calculating all the macd signals\n",
    "    input: pandas dataframe of returns\n",
    "    output: pandas dataframe of signals\n",
    "    \"\"\"\n",
    "    if type(returns) == np.ndarray:\n",
    "        returns = pd.DataFrame(returns)\n",
    "    signals = pd.DataFrame()\n",
    "    for i in range(returns.shape[1]):\n",
    "        signals['signal_{}'.format(i)] = macd(returns.iloc[:,i],long,short,signal_span)\n",
    "    signals.index = returns.index\n",
    "    return signals.shift(1).fillna(0)"
   ]
  },
  {
   "cell_type": "markdown",
   "metadata": {},
   "source": [
    "# primal dual CCA\n",
    "exact implementation"
   ]
  },
  {
   "cell_type": "code",
   "execution_count": null,
   "metadata": {
    "ExecuteTime": {
     "end_time": "2022-06-23T07:04:01.947130Z",
     "start_time": "2022-06-23T07:04:01.837717Z"
    }
   },
   "outputs": [],
   "source": [
    "s = macd_signals(ret)\n",
    "tr_ret = np.array(s) * ret\n",
    "kernel = gaussian_kernel(tr_ret)"
   ]
  },
  {
   "cell_type": "code",
   "execution_count": null,
   "metadata": {
    "ExecuteTime": {
     "end_time": "2022-06-21T17:27:36.782987Z",
     "start_time": "2022-06-21T17:27:35.457990Z"
    }
   },
   "outputs": [],
   "source": [
    "W,Z, output = scca_deflator(ret.T,kernel,np.arange(0,ret.shape[1],1),0,0,0.1,50,10,10)"
   ]
  },
  {
   "cell_type": "code",
   "execution_count": null,
   "metadata": {
    "ExecuteTime": {
     "end_time": "2022-06-21T17:44:43.515126Z",
     "start_time": "2022-06-21T17:44:43.159825Z"
    }
   },
   "outputs": [],
   "source": [
    "# verbose example of single portfolio\n",
    "ww,ee,alphaa,betaa,muu,gammaa,corr,ress = scca(np.array(ret).T,kernel,5,1,0,0.1,50,20,20)"
   ]
  },
  {
   "cell_type": "markdown",
   "metadata": {},
   "source": [
    "# Convergence analysis"
   ]
  },
  {
   "cell_type": "code",
   "execution_count": 9,
   "metadata": {
    "ExecuteTime": {
     "end_time": "2022-06-23T07:05:40.426457Z",
     "start_time": "2022-06-23T07:05:40.404420Z"
    }
   },
   "outputs": [],
   "source": [
    "# variables to loop over\n",
    "universes = np.array([10,50,100,200,498])\n",
    "sparsity = np.array([0.1,0.5,1])\n",
    "overall_while = np.array([500,100,20])\n",
    "convergence_w_while = np.array([100,10])\n",
    "convergence_e_while = np.array([100,10])\n",
    "\n",
    "col = ['time','assets','sparsity','overall_while','cvg_w','cvg_e','w','e','cor','res']\n",
    "super_output = pd.DataFrame(columns=col)"
   ]
  },
  {
   "cell_type": "code",
   "execution_count": null,
   "metadata": {
    "ExecuteTime": {
     "start_time": "2022-06-23T07:05:43.341Z"
    }
   },
   "outputs": [
    {
     "name": "stdout",
     "output_type": "stream",
     "text": [
      "currently on assets : 10, sparsity : 0.1, overall : 500, w cvg : 100, e cvg : 100\n",
      "    \n",
      "currently on assets : 10, sparsity : 0.1, overall : 500, w cvg : 100, e cvg : 10\n",
      "    \n",
      "currently on assets : 10, sparsity : 0.1, overall : 500, w cvg : 10, e cvg : 100\n",
      "    \n",
      "currently on assets : 10, sparsity : 0.1, overall : 500, w cvg : 10, e cvg : 10\n",
      "    \n",
      "currently on assets : 10, sparsity : 0.1, overall : 100, w cvg : 100, e cvg : 100\n",
      "    \n",
      "currently on assets : 10, sparsity : 0.1, overall : 100, w cvg : 100, e cvg : 10\n",
      "    \n",
      "currently on assets : 10, sparsity : 0.1, overall : 100, w cvg : 10, e cvg : 100\n",
      "    \n",
      "currently on assets : 10, sparsity : 0.1, overall : 100, w cvg : 10, e cvg : 10\n",
      "    \n",
      "currently on assets : 10, sparsity : 0.1, overall : 20, w cvg : 100, e cvg : 100\n",
      "    \n",
      "currently on assets : 10, sparsity : 0.1, overall : 20, w cvg : 100, e cvg : 10\n",
      "    \n",
      "currently on assets : 10, sparsity : 0.1, overall : 20, w cvg : 10, e cvg : 100\n",
      "    \n",
      "currently on assets : 10, sparsity : 0.1, overall : 20, w cvg : 10, e cvg : 10\n",
      "    \n",
      "currently on assets : 10, sparsity : 0.5, overall : 500, w cvg : 100, e cvg : 100\n",
      "    \n",
      "currently on assets : 10, sparsity : 0.5, overall : 500, w cvg : 100, e cvg : 10\n",
      "    \n",
      "currently on assets : 10, sparsity : 0.5, overall : 500, w cvg : 10, e cvg : 100\n",
      "    \n",
      "currently on assets : 10, sparsity : 0.5, overall : 500, w cvg : 10, e cvg : 10\n",
      "    \n",
      "currently on assets : 10, sparsity : 0.5, overall : 100, w cvg : 100, e cvg : 100\n",
      "    \n",
      "currently on assets : 10, sparsity : 0.5, overall : 100, w cvg : 100, e cvg : 10\n",
      "    \n",
      "currently on assets : 10, sparsity : 0.5, overall : 100, w cvg : 10, e cvg : 100\n",
      "    \n",
      "currently on assets : 10, sparsity : 0.5, overall : 100, w cvg : 10, e cvg : 10\n",
      "    \n",
      "currently on assets : 10, sparsity : 0.5, overall : 20, w cvg : 100, e cvg : 100\n",
      "    \n",
      "currently on assets : 10, sparsity : 0.5, overall : 20, w cvg : 100, e cvg : 10\n",
      "    \n",
      "currently on assets : 10, sparsity : 0.5, overall : 20, w cvg : 10, e cvg : 100\n",
      "    \n",
      "currently on assets : 10, sparsity : 0.5, overall : 20, w cvg : 10, e cvg : 10\n",
      "    \n",
      "currently on assets : 10, sparsity : 1.0, overall : 500, w cvg : 100, e cvg : 100\n",
      "    \n",
      "currently on assets : 10, sparsity : 1.0, overall : 500, w cvg : 100, e cvg : 10\n",
      "    \n",
      "currently on assets : 10, sparsity : 1.0, overall : 500, w cvg : 10, e cvg : 100\n",
      "    \n",
      "currently on assets : 10, sparsity : 1.0, overall : 500, w cvg : 10, e cvg : 10\n",
      "    \n",
      "currently on assets : 10, sparsity : 1.0, overall : 100, w cvg : 100, e cvg : 100\n",
      "    \n",
      "currently on assets : 10, sparsity : 1.0, overall : 100, w cvg : 100, e cvg : 10\n",
      "    \n",
      "currently on assets : 10, sparsity : 1.0, overall : 100, w cvg : 10, e cvg : 100\n",
      "    \n",
      "currently on assets : 10, sparsity : 1.0, overall : 100, w cvg : 10, e cvg : 10\n",
      "    \n",
      "currently on assets : 10, sparsity : 1.0, overall : 20, w cvg : 100, e cvg : 100\n",
      "    \n",
      "currently on assets : 10, sparsity : 1.0, overall : 20, w cvg : 100, e cvg : 10\n",
      "    \n",
      "currently on assets : 10, sparsity : 1.0, overall : 20, w cvg : 10, e cvg : 100\n",
      "    \n",
      "currently on assets : 10, sparsity : 1.0, overall : 20, w cvg : 10, e cvg : 10\n",
      "    \n",
      "currently on assets : 50, sparsity : 0.1, overall : 500, w cvg : 100, e cvg : 100\n",
      "    \n",
      "currently on assets : 50, sparsity : 0.1, overall : 500, w cvg : 100, e cvg : 10\n",
      "    \n",
      "currently on assets : 50, sparsity : 0.1, overall : 500, w cvg : 10, e cvg : 100\n",
      "    \n",
      "currently on assets : 50, sparsity : 0.1, overall : 500, w cvg : 10, e cvg : 10\n",
      "    \n",
      "currently on assets : 50, sparsity : 0.1, overall : 100, w cvg : 100, e cvg : 100\n",
      "    \n",
      "currently on assets : 50, sparsity : 0.1, overall : 100, w cvg : 100, e cvg : 10\n",
      "    \n",
      "currently on assets : 50, sparsity : 0.1, overall : 100, w cvg : 10, e cvg : 100\n",
      "    \n",
      "currently on assets : 50, sparsity : 0.1, overall : 100, w cvg : 10, e cvg : 10\n",
      "    \n",
      "currently on assets : 50, sparsity : 0.1, overall : 20, w cvg : 100, e cvg : 100\n",
      "    \n",
      "currently on assets : 50, sparsity : 0.1, overall : 20, w cvg : 100, e cvg : 10\n",
      "    \n",
      "currently on assets : 50, sparsity : 0.1, overall : 20, w cvg : 10, e cvg : 100\n",
      "    \n",
      "currently on assets : 50, sparsity : 0.1, overall : 20, w cvg : 10, e cvg : 10\n",
      "    \n",
      "currently on assets : 50, sparsity : 0.5, overall : 500, w cvg : 100, e cvg : 100\n",
      "    \n",
      "currently on assets : 50, sparsity : 0.5, overall : 500, w cvg : 100, e cvg : 10\n",
      "    \n",
      "currently on assets : 50, sparsity : 0.5, overall : 500, w cvg : 10, e cvg : 100\n",
      "    \n",
      "currently on assets : 50, sparsity : 0.5, overall : 500, w cvg : 10, e cvg : 10\n",
      "    \n",
      "currently on assets : 50, sparsity : 0.5, overall : 100, w cvg : 100, e cvg : 100\n",
      "    \n",
      "currently on assets : 50, sparsity : 0.5, overall : 100, w cvg : 100, e cvg : 10\n",
      "    \n",
      "currently on assets : 50, sparsity : 0.5, overall : 100, w cvg : 10, e cvg : 100\n",
      "    \n",
      "currently on assets : 50, sparsity : 0.5, overall : 100, w cvg : 10, e cvg : 10\n",
      "    \n",
      "currently on assets : 50, sparsity : 0.5, overall : 20, w cvg : 100, e cvg : 100\n",
      "    \n",
      "currently on assets : 50, sparsity : 0.5, overall : 20, w cvg : 100, e cvg : 10\n",
      "    \n",
      "currently on assets : 50, sparsity : 0.5, overall : 20, w cvg : 10, e cvg : 100\n",
      "    \n",
      "currently on assets : 50, sparsity : 0.5, overall : 20, w cvg : 10, e cvg : 10\n",
      "    \n",
      "currently on assets : 50, sparsity : 1.0, overall : 500, w cvg : 100, e cvg : 100\n",
      "    \n",
      "currently on assets : 50, sparsity : 1.0, overall : 500, w cvg : 100, e cvg : 10\n",
      "    \n",
      "currently on assets : 50, sparsity : 1.0, overall : 500, w cvg : 10, e cvg : 100\n",
      "    \n",
      "currently on assets : 50, sparsity : 1.0, overall : 500, w cvg : 10, e cvg : 10\n",
      "    \n",
      "currently on assets : 50, sparsity : 1.0, overall : 100, w cvg : 100, e cvg : 100\n",
      "    \n",
      "currently on assets : 50, sparsity : 1.0, overall : 100, w cvg : 100, e cvg : 10\n",
      "    \n",
      "currently on assets : 50, sparsity : 1.0, overall : 100, w cvg : 10, e cvg : 100\n",
      "    \n",
      "currently on assets : 50, sparsity : 1.0, overall : 100, w cvg : 10, e cvg : 10\n",
      "    \n",
      "currently on assets : 50, sparsity : 1.0, overall : 20, w cvg : 100, e cvg : 100\n",
      "    \n",
      "currently on assets : 50, sparsity : 1.0, overall : 20, w cvg : 100, e cvg : 10\n",
      "    \n",
      "currently on assets : 50, sparsity : 1.0, overall : 20, w cvg : 10, e cvg : 100\n",
      "    \n",
      "currently on assets : 50, sparsity : 1.0, overall : 20, w cvg : 10, e cvg : 10\n",
      "    \n",
      "currently on assets : 100, sparsity : 0.1, overall : 500, w cvg : 100, e cvg : 100\n",
      "    \n",
      "currently on assets : 100, sparsity : 0.1, overall : 500, w cvg : 100, e cvg : 10\n",
      "    \n",
      "currently on assets : 100, sparsity : 0.1, overall : 500, w cvg : 10, e cvg : 100\n",
      "    \n",
      "currently on assets : 100, sparsity : 0.1, overall : 500, w cvg : 10, e cvg : 10\n",
      "    \n",
      "currently on assets : 100, sparsity : 0.1, overall : 100, w cvg : 100, e cvg : 100\n",
      "    \n",
      "currently on assets : 100, sparsity : 0.1, overall : 100, w cvg : 100, e cvg : 10\n",
      "    \n",
      "currently on assets : 100, sparsity : 0.1, overall : 100, w cvg : 10, e cvg : 100\n",
      "    \n",
      "currently on assets : 100, sparsity : 0.1, overall : 100, w cvg : 10, e cvg : 10\n",
      "    \n",
      "currently on assets : 100, sparsity : 0.1, overall : 20, w cvg : 100, e cvg : 100\n",
      "    \n",
      "currently on assets : 100, sparsity : 0.1, overall : 20, w cvg : 100, e cvg : 10\n",
      "    \n",
      "currently on assets : 100, sparsity : 0.1, overall : 20, w cvg : 10, e cvg : 100\n",
      "    \n",
      "currently on assets : 100, sparsity : 0.1, overall : 20, w cvg : 10, e cvg : 10\n",
      "    \n",
      "currently on assets : 100, sparsity : 0.5, overall : 500, w cvg : 100, e cvg : 100\n",
      "    \n",
      "currently on assets : 100, sparsity : 0.5, overall : 500, w cvg : 100, e cvg : 10\n",
      "    \n",
      "currently on assets : 100, sparsity : 0.5, overall : 500, w cvg : 10, e cvg : 100\n",
      "    \n",
      "currently on assets : 100, sparsity : 0.5, overall : 500, w cvg : 10, e cvg : 10\n",
      "    \n",
      "currently on assets : 100, sparsity : 0.5, overall : 100, w cvg : 100, e cvg : 100\n",
      "    \n",
      "currently on assets : 100, sparsity : 0.5, overall : 100, w cvg : 100, e cvg : 10\n",
      "    \n",
      "currently on assets : 100, sparsity : 0.5, overall : 100, w cvg : 10, e cvg : 100\n",
      "    \n",
      "currently on assets : 100, sparsity : 0.5, overall : 100, w cvg : 10, e cvg : 10\n",
      "    \n",
      "currently on assets : 100, sparsity : 0.5, overall : 20, w cvg : 100, e cvg : 100\n",
      "    \n",
      "currently on assets : 100, sparsity : 0.5, overall : 20, w cvg : 100, e cvg : 10\n",
      "    \n",
      "currently on assets : 100, sparsity : 0.5, overall : 20, w cvg : 10, e cvg : 100\n",
      "    \n",
      "currently on assets : 100, sparsity : 0.5, overall : 20, w cvg : 10, e cvg : 10\n"
     ]
    },
    {
     "name": "stdout",
     "output_type": "stream",
     "text": [
      "    \n",
      "currently on assets : 100, sparsity : 1.0, overall : 500, w cvg : 100, e cvg : 100\n",
      "    \n",
      "currently on assets : 100, sparsity : 1.0, overall : 500, w cvg : 100, e cvg : 10\n",
      "    \n",
      "currently on assets : 100, sparsity : 1.0, overall : 500, w cvg : 10, e cvg : 100\n",
      "    \n",
      "currently on assets : 100, sparsity : 1.0, overall : 500, w cvg : 10, e cvg : 10\n",
      "    \n",
      "currently on assets : 100, sparsity : 1.0, overall : 100, w cvg : 100, e cvg : 100\n",
      "    \n",
      "currently on assets : 100, sparsity : 1.0, overall : 100, w cvg : 100, e cvg : 10\n",
      "    \n",
      "currently on assets : 100, sparsity : 1.0, overall : 100, w cvg : 10, e cvg : 100\n",
      "    \n",
      "currently on assets : 100, sparsity : 1.0, overall : 100, w cvg : 10, e cvg : 10\n",
      "    \n",
      "currently on assets : 100, sparsity : 1.0, overall : 20, w cvg : 100, e cvg : 100\n",
      "    \n",
      "currently on assets : 100, sparsity : 1.0, overall : 20, w cvg : 100, e cvg : 10\n",
      "    \n",
      "currently on assets : 100, sparsity : 1.0, overall : 20, w cvg : 10, e cvg : 100\n",
      "    \n",
      "currently on assets : 100, sparsity : 1.0, overall : 20, w cvg : 10, e cvg : 10\n",
      "    \n",
      "currently on assets : 200, sparsity : 0.1, overall : 500, w cvg : 100, e cvg : 100\n",
      "    \n",
      "currently on assets : 200, sparsity : 0.1, overall : 500, w cvg : 100, e cvg : 10\n"
     ]
    }
   ],
   "source": [
    "for a in universes:\n",
    "    # returns\n",
    "    X = np.array(data.iloc[:250,1:a])\n",
    "    # kernel\n",
    "    K = gaussian_kernel(X)\n",
    "    for b in sparsity:\n",
    "        for c in overall_while:\n",
    "            for d in convergence_w_while:\n",
    "                for e in convergence_e_while:\n",
    "                    # get output\n",
    "                    try:\n",
    "                        print(\"currently on assets : {}, sparsity : {}, overall : {}, w cvg : {}, e cvg : {}\".format(a,b,c,d,e))\n",
    "                        start = time.time()\n",
    "                        W,Z, output = scca_deflator(X.T,K,np.arange(0,X.shape[1],1),0,0,b,c,d,e)\n",
    "                        end = time.time()\n",
    "                        super_output.loc[len(super_output.index)] = [end-start,a,b,c,d,e,output['W'],output['Z'], output['cor'],output['res']]\n",
    "                        #print(super_output)\n",
    "                    except (RuntimeError, TypeError, NameError,ValueError,IndexError) :\n",
    "                        continue"
   ]
  },
  {
   "cell_type": "code",
   "execution_count": null,
   "metadata": {},
   "outputs": [],
   "source": [
    "super_output"
   ]
  }
 ],
 "metadata": {
  "kernelspec": {
   "display_name": "Python 3 (ipykernel)",
   "language": "python",
   "name": "python3"
  },
  "language_info": {
   "codemirror_mode": {
    "name": "ipython",
    "version": 3
   },
   "file_extension": ".py",
   "mimetype": "text/x-python",
   "name": "python",
   "nbconvert_exporter": "python",
   "pygments_lexer": "ipython3",
   "version": "3.7.6"
  },
  "latex_envs": {
   "LaTeX_envs_menu_present": true,
   "autoclose": false,
   "autocomplete": true,
   "bibliofile": "biblio.bib",
   "cite_by": "apalike",
   "current_citInitial": 1,
   "eqLabelWithNumbers": true,
   "eqNumInitial": 1,
   "hotkeys": {
    "equation": "Ctrl-E",
    "itemize": "Ctrl-I"
   },
   "labels_anchors": false,
   "latex_user_defs": false,
   "report_style_numbering": false,
   "user_envs_cfg": false
  },
  "toc": {
   "base_numbering": 1,
   "nav_menu": {},
   "number_sections": true,
   "sideBar": true,
   "skip_h1_title": false,
   "title_cell": "Table of Contents",
   "title_sidebar": "Contents",
   "toc_cell": false,
   "toc_position": {},
   "toc_section_display": true,
   "toc_window_display": false
  }
 },
 "nbformat": 4,
 "nbformat_minor": 4
}
