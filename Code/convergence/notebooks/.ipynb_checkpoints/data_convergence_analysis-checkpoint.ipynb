{
 "cells": [
  {
   "cell_type": "markdown",
   "metadata": {},
   "source": [
    "# data analysis of convergence thresholds\n",
    "\n",
    "**Reason** : convergence can be very slow. If errors are minor, maximum number of convergence loops can be used to speed up PLCCA execution.\n",
    "\n",
    "**What we look at** : \n",
    "\n",
    "   * weights\n",
    "   * correlations\n",
    "   * residual error\n",
    "   * time-execution\n",
    "   * financial performance metrics"
   ]
  },
  {
   "cell_type": "markdown",
   "metadata": {},
   "source": [
    "# Data and libraries\n",
    "\n",
    "**naming convention :**\n",
    "\n",
    "c100_10 : 100 assets, maximum 10 loops\n",
    "\n",
    "c100_100 : 100 assets, maximum 100 loops\n",
    "\n",
    "*max loops is over each of the following : outer loop, primal weights convergence, dual weights convergence*"
   ]
  },
  {
   "cell_type": "code",
   "execution_count": 1,
   "metadata": {
    "ExecuteTime": {
     "end_time": "2022-06-28T14:08:16.734156Z",
     "start_time": "2022-06-28T14:08:16.717154Z"
    }
   },
   "outputs": [],
   "source": [
    "import warnings\n",
    "warnings.filterwarnings(\"ignore\")"
   ]
  },
  {
   "cell_type": "code",
   "execution_count": 65,
   "metadata": {
    "ExecuteTime": {
     "end_time": "2022-06-29T10:31:35.524393Z",
     "start_time": "2022-06-29T10:31:35.503393Z"
    }
   },
   "outputs": [],
   "source": [
    "import numpy as np\n",
    "import pandas as pd\n",
    "import matplotlib.pylab as plt\n",
    "from sklearn.metrics import mean_squared_error\n",
    "import re"
   ]
  },
  {
   "cell_type": "code",
   "execution_count": 238,
   "metadata": {
    "ExecuteTime": {
     "end_time": "2022-06-29T13:06:32.480193Z",
     "start_time": "2022-06-29T13:06:31.930194Z"
    }
   },
   "outputs": [],
   "source": [
    "c100_10 = pd.read_csv('convergence_100_10.csv')\n",
    "c100_100 = pd.read_csv('convergence_100_100.csv')\n",
    "c100_1000 = pd.read_csv('convergence_100_1000.csv')\n",
    "\n",
    "c50_10 = pd.read_csv('convergence_50_10.csv')\n",
    "c50_100 = pd.read_csv('convergence_50_100.csv')\n",
    "c50_1000 = pd.read_csv('convergence_50_1000.csv') \n",
    "\n",
    "c10_10 = pd.read_csv('convergence_10_10.csv')\n",
    "c10_100 = pd.read_csv('convergence_10_100.csv')\n",
    "c10_1000 = pd.read_csv('convergence_10_1000.csv')\n"
   ]
  },
  {
   "cell_type": "markdown",
   "metadata": {
    "ExecuteTime": {
     "end_time": "2022-06-28T14:16:06.596849Z",
     "start_time": "2022-06-28T14:16:06.537398Z"
    }
   },
   "source": [
    "# Preprocessing"
   ]
  },
  {
   "cell_type": "code",
   "execution_count": 239,
   "metadata": {
    "ExecuteTime": {
     "end_time": "2022-06-29T13:06:34.648680Z",
     "start_time": "2022-06-29T13:06:34.619687Z"
    }
   },
   "outputs": [],
   "source": [
    "def string_to_num(string):\n",
    "    string = string.replace(\"\\n\",\"\")\n",
    "    string = string.replace(\"[\",\"\")\n",
    "    string = string.replace(\"]\",\"\")\n",
    "    string = string.split(\" \")\n",
    "    lst = [s for s in string if s]\n",
    "    lst = list(map(float,lst))\n",
    "    return np.array(lst)\n",
    "def df_str_to_num(df,cols=[\"weights\",\"cor\",\"res\",\"time_outer\",\"time_w\", \"time_e\"]):\n",
    "    opt = pd.DataFrame(columns=cols)\n",
    "    for col in cols:\n",
    "        #print(col)\n",
    "        for i in range(df.shape[0]):\n",
    "            #print(string_to_num(df.loc[i,col]))\n",
    "            #print(string_to_num(df.loc[i,col]))\n",
    "            opt.loc[i,col] = string_to_num(df.loc[i,col])\n",
    "    df[cols] = opt\n",
    "    return df\n",
    "    "
   ]
  },
  {
   "cell_type": "code",
   "execution_count": 240,
   "metadata": {
    "ExecuteTime": {
     "end_time": "2022-06-29T13:06:37.926680Z",
     "start_time": "2022-06-29T13:06:35.119682Z"
    }
   },
   "outputs": [],
   "source": [
    "all_df = [c100_10,c100_100,c100_1000,c50_10,c50_100,c50_1000,c10_10,c10_100,c10_1000]\n",
    "for df in all_df:\n",
    "    df = df_str_to_num(df)\n",
    "    df.pop(\"Unnamed: 0\")"
   ]
  },
  {
   "cell_type": "markdown",
   "metadata": {
    "ExecuteTime": {
     "end_time": "2022-06-29T10:26:53.697636Z",
     "start_time": "2022-06-29T10:26:53.685638Z"
    }
   },
   "source": [
    "# Weights analysis"
   ]
  },
  {
   "cell_type": "code",
   "execution_count": 249,
   "metadata": {
    "ExecuteTime": {
     "end_time": "2022-06-29T13:08:35.007133Z",
     "start_time": "2022-06-29T13:08:32.339402Z"
    }
   },
   "outputs": [],
   "source": [
    "weights_convergence = pd.DataFrame(columns=[\"raw\",\"normalized\"])\n",
    "c = 0\n",
    "for df1 in all_df:\n",
    "    for df2 in all_df:\n",
    "        if df1[\"weights\"][0][0] != df2[\"weights\"][0][0] and df1[\"weights\"][0].shape == df2[\"weights\"][0].shape:\n",
    "            weights_convergence.loc[c,\"raw\"] = np.mean([mean_squared_error(df1[\"weights\"][i],df2[\"weights\"][i]) for i in range(len(df1[\"weights\"]))])\n",
    "            weights_convergence.loc[c,\"normalized\"] = np.mean([mean_squared_error(df1[\"weights\"][i]/np.linalg.norm(df1[\"weights\"][i]),\n",
    "                                                   df2[\"weights\"][i]/np.linalg.norm(df2[\"weights\"][i])) for i in range(len(df1[\"weights\"]))])\n",
    "            \n",
    "            c+=1\n"
   ]
  },
  {
   "cell_type": "code",
   "execution_count": 250,
   "metadata": {
    "ExecuteTime": {
     "end_time": "2022-06-29T13:08:35.896128Z",
     "start_time": "2022-06-29T13:08:35.877132Z"
    }
   },
   "outputs": [],
   "source": [
    "idx = [\"10_100\",\"10_1000\",\"100_1000\"]*3\n",
    "weights_convergence = weights_convergence.drop_duplicates()\n",
    "weights_convergence.index = idx"
   ]
  },
  {
   "cell_type": "code",
   "execution_count": 251,
   "metadata": {
    "ExecuteTime": {
     "end_time": "2022-06-29T13:08:44.379892Z",
     "start_time": "2022-06-29T13:08:44.359890Z"
    }
   },
   "outputs": [
    {
     "data": {
      "text/html": [
       "<div>\n",
       "<style scoped>\n",
       "    .dataframe tbody tr th:only-of-type {\n",
       "        vertical-align: middle;\n",
       "    }\n",
       "\n",
       "    .dataframe tbody tr th {\n",
       "        vertical-align: top;\n",
       "    }\n",
       "\n",
       "    .dataframe thead th {\n",
       "        text-align: right;\n",
       "    }\n",
       "</style>\n",
       "<table border=\"1\" class=\"dataframe\">\n",
       "  <thead>\n",
       "    <tr style=\"text-align: right;\">\n",
       "      <th></th>\n",
       "      <th>raw</th>\n",
       "      <th>normalized</th>\n",
       "    </tr>\n",
       "  </thead>\n",
       "  <tbody>\n",
       "    <tr>\n",
       "      <th>10_100</th>\n",
       "      <td>31.545992</td>\n",
       "      <td>0.016837</td>\n",
       "    </tr>\n",
       "    <tr>\n",
       "      <th>10_1000</th>\n",
       "      <td>33.646371</td>\n",
       "      <td>0.017975</td>\n",
       "    </tr>\n",
       "    <tr>\n",
       "      <th>100_1000</th>\n",
       "      <td>32.384278</td>\n",
       "      <td>0.017242</td>\n",
       "    </tr>\n",
       "    <tr>\n",
       "      <th>10_100</th>\n",
       "      <td>21.899508</td>\n",
       "      <td>0.027471</td>\n",
       "    </tr>\n",
       "    <tr>\n",
       "      <th>10_1000</th>\n",
       "      <td>22.150497</td>\n",
       "      <td>0.027633</td>\n",
       "    </tr>\n",
       "    <tr>\n",
       "      <th>100_1000</th>\n",
       "      <td>19.585416</td>\n",
       "      <td>0.024846</td>\n",
       "    </tr>\n",
       "    <tr>\n",
       "      <th>10_100</th>\n",
       "      <td>8.095928</td>\n",
       "      <td>0.092614</td>\n",
       "    </tr>\n",
       "    <tr>\n",
       "      <th>10_1000</th>\n",
       "      <td>7.385628</td>\n",
       "      <td>0.084004</td>\n",
       "    </tr>\n",
       "    <tr>\n",
       "      <th>100_1000</th>\n",
       "      <td>6.673197</td>\n",
       "      <td>0.076471</td>\n",
       "    </tr>\n",
       "  </tbody>\n",
       "</table>\n",
       "</div>"
      ],
      "text/plain": [
       "                raw normalized\n",
       "10_100    31.545992   0.016837\n",
       "10_1000   33.646371   0.017975\n",
       "100_1000  32.384278   0.017242\n",
       "10_100    21.899508   0.027471\n",
       "10_1000   22.150497   0.027633\n",
       "100_1000  19.585416   0.024846\n",
       "10_100     8.095928   0.092614\n",
       "10_1000    7.385628   0.084004\n",
       "100_1000   6.673197   0.076471"
      ]
     },
     "execution_count": 251,
     "metadata": {},
     "output_type": "execute_result"
    }
   ],
   "source": [
    "weights_convergence"
   ]
  },
  {
   "cell_type": "markdown",
   "metadata": {},
   "source": [
    "# Correlations analysis"
   ]
  },
  {
   "cell_type": "code",
   "execution_count": 416,
   "metadata": {
    "ExecuteTime": {
     "end_time": "2022-06-29T14:38:04.031274Z",
     "start_time": "2022-06-29T14:38:02.786094Z"
    }
   },
   "outputs": [],
   "source": [
    "cor_convergence = pd.DataFrame(columns=[\"cor_mse\"])\n",
    "c = 0\n",
    "for df1 in all_df:\n",
    "    for df2 in all_df:\n",
    "        if df1[\"weights\"][0][0] != df2[\"weights\"][0][0] and df1[\"weights\"][0].shape == df2[\"weights\"][0].shape:\n",
    "            cor_convergence.loc[c,\"cor_mse\"] = np.mean([mean_squared_error(df1[\"cor\"][i],df2[\"cor\"][i]) for i in range(len(df1[\"cor\"]))])\n",
    "            c+=1\n"
   ]
  },
  {
   "cell_type": "code",
   "execution_count": 417,
   "metadata": {
    "ExecuteTime": {
     "end_time": "2022-06-29T14:38:04.057722Z",
     "start_time": "2022-06-29T14:38:04.033786Z"
    }
   },
   "outputs": [],
   "source": [
    "idx = [\"10_100\",\"10_1000\",\"100_1000\"]*3\n",
    "cor_convergence = cor_convergence.drop_duplicates()\n",
    "cor_convergence.index = idx"
   ]
  },
  {
   "cell_type": "code",
   "execution_count": 418,
   "metadata": {
    "ExecuteTime": {
     "end_time": "2022-06-29T14:38:04.235621Z",
     "start_time": "2022-06-29T14:38:04.196623Z"
    }
   },
   "outputs": [
    {
     "data": {
      "text/html": [
       "<div>\n",
       "<style scoped>\n",
       "    .dataframe tbody tr th:only-of-type {\n",
       "        vertical-align: middle;\n",
       "    }\n",
       "\n",
       "    .dataframe tbody tr th {\n",
       "        vertical-align: top;\n",
       "    }\n",
       "\n",
       "    .dataframe thead th {\n",
       "        text-align: right;\n",
       "    }\n",
       "</style>\n",
       "<table border=\"1\" class=\"dataframe\">\n",
       "  <thead>\n",
       "    <tr style=\"text-align: right;\">\n",
       "      <th></th>\n",
       "      <th>10_100</th>\n",
       "      <th>10_1000</th>\n",
       "      <th>100_1000</th>\n",
       "      <th>10_100</th>\n",
       "      <th>10_1000</th>\n",
       "      <th>100_1000</th>\n",
       "      <th>10_100</th>\n",
       "      <th>10_1000</th>\n",
       "      <th>100_1000</th>\n",
       "    </tr>\n",
       "  </thead>\n",
       "  <tbody>\n",
       "    <tr>\n",
       "      <th>cor_mse</th>\n",
       "      <td>0.006806</td>\n",
       "      <td>0.006811</td>\n",
       "      <td>0.006198</td>\n",
       "      <td>0.005288</td>\n",
       "      <td>0.005358</td>\n",
       "      <td>0.003754</td>\n",
       "      <td>0.003954</td>\n",
       "      <td>0.003391</td>\n",
       "      <td>0.003489</td>\n",
       "    </tr>\n",
       "  </tbody>\n",
       "</table>\n",
       "</div>"
      ],
      "text/plain": [
       "           10_100   10_1000  100_1000    10_100   10_1000  100_1000    10_100  \\\n",
       "cor_mse  0.006806  0.006811  0.006198  0.005288  0.005358  0.003754  0.003954   \n",
       "\n",
       "          10_1000  100_1000  \n",
       "cor_mse  0.003391  0.003489  "
      ]
     },
     "execution_count": 418,
     "metadata": {},
     "output_type": "execute_result"
    }
   ],
   "source": [
    "cor_convergence.T"
   ]
  },
  {
   "cell_type": "code",
   "execution_count": 419,
   "metadata": {
    "ExecuteTime": {
     "end_time": "2022-06-29T14:38:09.586181Z",
     "start_time": "2022-06-29T14:38:05.113824Z"
    }
   },
   "outputs": [],
   "source": [
    "# evolution of difference in correlations once we move further into the canonical portfolios\n",
    "mean_diff_corr = np.full((100,18), np.nan)\n",
    "co = 0\n",
    "for df1 in all_df:\n",
    "    for df2 in all_df[co:]:\n",
    "        if df1[\"weights\"][0][0] != df2[\"weights\"][0][0] and df1[\"weights\"][0].shape == df2[\"weights\"][0].shape:\n",
    "            for i in range(len(df1[\"weights\"][0])):\n",
    "                a = np.array([df1.loc[j,\"cor\"][i] for j in range(100)])\n",
    "                b = np.array([df2.loc[j,\"cor\"][i] for j in range(100)])\n",
    "                s = mean_squared_error(a,b)\n",
    "                #z = np.mean(abs(a-b))\n",
    "                z = np.mean(abs(a-b))\n",
    "                mean_diff_corr[i,co] = z\n",
    "            \n",
    "            # next col\n",
    "            co += 1"
   ]
  },
  {
   "cell_type": "code",
   "execution_count": 420,
   "metadata": {
    "ExecuteTime": {
     "end_time": "2022-06-29T14:38:09.672602Z",
     "start_time": "2022-06-29T14:38:09.586181Z"
    }
   },
   "outputs": [],
   "source": [
    "mean_diff_corr = pd.DataFrame(mean_diff_corr, columns = np.arange(0,18,1))\n",
    "mean_diff_corr = mean_diff_corr.T.drop_duplicates().T\n",
    "mean_diff_corr = mean_diff_corr.iloc[:,:-1]\n",
    "mean_diff_corr.columns = idx"
   ]
  },
  {
   "cell_type": "code",
   "execution_count": 421,
   "metadata": {
    "ExecuteTime": {
     "end_time": "2022-06-29T14:38:10.492811Z",
     "start_time": "2022-06-29T14:38:09.678685Z"
    }
   },
   "outputs": [
    {
     "data": {
      "text/plain": [
       "<AxesSubplot:>"
      ]
     },
     "execution_count": 421,
     "metadata": {},
     "output_type": "execute_result"
    },
    {
     "data": {
      "image/png": "[encoded data removed]",
      "text/plain": [
       "<Figure size 432x288 with 1 Axes>"
      ]
     },
     "metadata": {
      "needs_background": "light"
     },
     "output_type": "display_data"
    }
   ],
   "source": [
    "# plot mean difference in orthogonal portfolio correlations for different max convergences\n",
    "mean_diff_corr.plot()"
   ]
  },
  {
   "cell_type": "markdown",
   "metadata": {},
   "source": [
    "# Residual analysis"
   ]
  },
  {
   "cell_type": "code",
   "execution_count": 422,
   "metadata": {
    "ExecuteTime": {
     "end_time": "2022-06-29T14:38:23.470317Z",
     "start_time": "2022-06-29T14:38:22.453726Z"
    }
   },
   "outputs": [],
   "source": [
    "res_convergence = pd.DataFrame(columns=[\"res_mse\"])\n",
    "c = 0\n",
    "for df1 in all_df:\n",
    "    for df2 in all_df:\n",
    "        if df1[\"weights\"][0][0] != df2[\"weights\"][0][0] and df1[\"weights\"][0].shape == df2[\"weights\"][0].shape:\n",
    "            res_convergence.loc[c,\"res_mse\"] = np.mean([mean_squared_error(df1[\"res\"][i],df2[\"res\"][i]) for i in range(len(df1[\"res\"]))])\n",
    "            c+=1\n"
   ]
  },
  {
   "cell_type": "code",
   "execution_count": 423,
   "metadata": {
    "ExecuteTime": {
     "end_time": "2022-06-29T14:38:27.825366Z",
     "start_time": "2022-06-29T14:38:27.806368Z"
    }
   },
   "outputs": [],
   "source": [
    "idx = [\"10_100\",\"10_1000\",\"100_1000\"]*3\n",
    "res_convergence = res_convergence.drop_duplicates()\n",
    "res_convergence.index = idx"
   ]
  },
  {
   "cell_type": "code",
   "execution_count": 424,
   "metadata": {
    "ExecuteTime": {
     "end_time": "2022-06-29T14:38:29.274017Z",
     "start_time": "2022-06-29T14:38:29.241018Z"
    }
   },
   "outputs": [
    {
     "data": {
      "text/html": [
       "<div>\n",
       "<style scoped>\n",
       "    .dataframe tbody tr th:only-of-type {\n",
       "        vertical-align: middle;\n",
       "    }\n",
       "\n",
       "    .dataframe tbody tr th {\n",
       "        vertical-align: top;\n",
       "    }\n",
       "\n",
       "    .dataframe thead th {\n",
       "        text-align: right;\n",
       "    }\n",
       "</style>\n",
       "<table border=\"1\" class=\"dataframe\">\n",
       "  <thead>\n",
       "    <tr style=\"text-align: right;\">\n",
       "      <th></th>\n",
       "      <th>10_100</th>\n",
       "      <th>10_1000</th>\n",
       "      <th>100_1000</th>\n",
       "      <th>10_100</th>\n",
       "      <th>10_1000</th>\n",
       "      <th>100_1000</th>\n",
       "      <th>10_100</th>\n",
       "      <th>10_1000</th>\n",
       "      <th>100_1000</th>\n",
       "    </tr>\n",
       "  </thead>\n",
       "  <tbody>\n",
       "    <tr>\n",
       "      <th>res_mse</th>\n",
       "      <td>0.001702</td>\n",
       "      <td>0.001703</td>\n",
       "      <td>0.001549</td>\n",
       "      <td>0.001322</td>\n",
       "      <td>0.001339</td>\n",
       "      <td>0.000939</td>\n",
       "      <td>0.000988</td>\n",
       "      <td>0.000848</td>\n",
       "      <td>0.000872</td>\n",
       "    </tr>\n",
       "  </tbody>\n",
       "</table>\n",
       "</div>"
      ],
      "text/plain": [
       "           10_100   10_1000  100_1000    10_100   10_1000  100_1000    10_100  \\\n",
       "res_mse  0.001702  0.001703  0.001549  0.001322  0.001339  0.000939  0.000988   \n",
       "\n",
       "          10_1000  100_1000  \n",
       "res_mse  0.000848  0.000872  "
      ]
     },
     "execution_count": 424,
     "metadata": {},
     "output_type": "execute_result"
    }
   ],
   "source": [
    "res_convergence.T"
   ]
  },
  {
   "cell_type": "code",
   "execution_count": 425,
   "metadata": {
    "ExecuteTime": {
     "end_time": "2022-06-29T14:38:40.808341Z",
     "start_time": "2022-06-29T14:38:37.530187Z"
    }
   },
   "outputs": [],
   "source": [
    "# evolution of difference in correlations once we move further into the canonical portfolios\n",
    "mean_diff_res = np.full((100,18), np.nan)\n",
    "co = 0\n",
    "for df1 in all_df:\n",
    "    for df2 in all_df[co:]:\n",
    "        if df1[\"weights\"][0][0] != df2[\"weights\"][0][0] and df1[\"weights\"][0].shape == df2[\"weights\"][0].shape:\n",
    "            for i in range(len(df1[\"weights\"][0])):\n",
    "                a = np.array([df1.loc[j,\"res\"][i] for j in range(100)])\n",
    "                b = np.array([df2.loc[j,\"res\"][i] for j in range(100)])\n",
    "                s = mean_squared_error(a,b)\n",
    "                #z = np.mean(abs(a-b))\n",
    "                z = np.mean(abs(a-b))\n",
    "                mean_diff_res[i,co] = z\n",
    "            \n",
    "            # next col\n",
    "            co += 1"
   ]
  },
  {
   "cell_type": "code",
   "execution_count": 426,
   "metadata": {
    "ExecuteTime": {
     "end_time": "2022-06-29T14:38:42.086108Z",
     "start_time": "2022-06-29T14:38:42.033103Z"
    }
   },
   "outputs": [],
   "source": [
    "mean_diff_res = pd.DataFrame(mean_diff_res, columns = np.arange(0,18,1))\n",
    "mean_diff_res = mean_diff_res.T.drop_duplicates().T\n",
    "mean_diff_res = mean_diff_res.iloc[:,:-1]\n",
    "mean_diff_res.columns = idx"
   ]
  },
  {
   "cell_type": "code",
   "execution_count": 427,
   "metadata": {
    "ExecuteTime": {
     "end_time": "2022-06-29T14:38:44.098449Z",
     "start_time": "2022-06-29T14:38:43.544635Z"
    }
   },
   "outputs": [
    {
     "data": {
      "text/plain": [
       "<AxesSubplot:>"
      ]
     },
     "execution_count": 427,
     "metadata": {},
     "output_type": "execute_result"
    },
    {
     "data": {
      "image/png": "[encoded data removed]",
      "text/plain": [
       "<Figure size 432x288 with 1 Axes>"
      ]
     },
     "metadata": {
      "needs_background": "light"
     },
     "output_type": "display_data"
    }
   ],
   "source": [
    "# plot mean difference in orthogonal portfolios residuals for different max convergences\n",
    "mean_diff_res.plot()"
   ]
  },
  {
   "cell_type": "markdown",
   "metadata": {},
   "source": [
    "# time execution"
   ]
  },
  {
   "cell_type": "markdown",
   "metadata": {},
   "source": [
    "## outer loop"
   ]
  },
  {
   "cell_type": "code",
   "execution_count": null,
   "metadata": {},
   "outputs": [],
   "source": []
  }
 ],
 "metadata": {
  "kernelspec": {
   "display_name": "Python 3 (ipykernel)",
   "language": "python",
   "name": "python3"
  },
  "language_info": {
   "codemirror_mode": {
    "name": "ipython",
    "version": 3
   },
   "file_extension": ".py",
   "mimetype": "text/x-python",
   "name": "python",
   "nbconvert_exporter": "python",
   "pygments_lexer": "ipython3",
   "version": "3.7.6"
  },
  "latex_envs": {
   "LaTeX_envs_menu_present": true,
   "autoclose": false,
   "autocomplete": true,
   "bibliofile": "biblio.bib",
   "cite_by": "apalike",
   "current_citInitial": 1,
   "eqLabelWithNumbers": true,
   "eqNumInitial": 1,
   "hotkeys": {
    "equation": "Ctrl-E",
    "itemize": "Ctrl-I"
   },
   "labels_anchors": false,
   "latex_user_defs": false,
   "report_style_numbering": false,
   "user_envs_cfg": false
  },
  "toc": {
   "base_numbering": 1,
   "nav_menu": {},
   "number_sections": true,
   "sideBar": true,
   "skip_h1_title": false,
   "title_cell": "Table of Contents",
   "title_sidebar": "Contents",
   "toc_cell": false,
   "toc_position": {},
   "toc_section_display": true,
   "toc_window_display": false
  }
 },
 "nbformat": 4,
 "nbformat_minor": 4
}
