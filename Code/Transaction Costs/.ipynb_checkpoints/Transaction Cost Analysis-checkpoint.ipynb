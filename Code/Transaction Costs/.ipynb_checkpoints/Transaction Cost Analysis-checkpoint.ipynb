{
 "cells": [
  {
   "cell_type": "markdown",
   "metadata": {},
   "source": [
    "# Transaction Cost analysis\n",
    "\n",
    "for different kernels"
   ]
  },
  {
   "cell_type": "markdown",
   "metadata": {},
   "source": [
    "# Libraries and Data"
   ]
  },
  {
   "cell_type": "code",
   "execution_count": 8,
   "metadata": {
    "ExecuteTime": {
     "end_time": "2022-07-11T13:18:18.460451Z",
     "start_time": "2022-07-11T13:18:18.446921Z"
    }
   },
   "outputs": [],
   "source": [
    "import numpy as np\n",
    "import pandas as pd\n",
    "import sys\n",
    "import os\n",
    "import pickle\n",
    "import cvxpy as cp\n",
    "\n",
    "from project_lib.backtest import *\n",
    "\n",
    "HOME_DIRECTORY = 'C:/Users/Harol/OneDrive/Documents/master computational finance/thesis/thesis_UCL/Code/Transaction Costs'\n",
    "sys.path.append(HOME_DIRECTORY)"
   ]
  },
  {
   "cell_type": "code",
   "execution_count": 4,
   "metadata": {
    "ExecuteTime": {
     "end_time": "2022-07-11T12:08:02.713508Z",
     "start_time": "2022-07-11T12:08:02.594706Z"
    }
   },
   "outputs": [],
   "source": [
    "# import returns\n",
    "with open(HOME_DIRECTORY + '/data/processed_daily_data/ret_subset.pkl', 'rb') as f:\n",
    "    ret = pickle.load(f)"
   ]
  },
  {
   "cell_type": "code",
   "execution_count": 5,
   "metadata": {
    "ExecuteTime": {
     "end_time": "2022-07-11T12:08:03.594924Z",
     "start_time": "2022-07-11T12:08:03.580926Z"
    }
   },
   "outputs": [],
   "source": [
    "universe_size = 100\n",
    "ret = ret.iloc[:1000, :universe_size]  # subset the data\n",
    "ret = ret.iloc[(4):] # burn\n"
   ]
  },
  {
   "cell_type": "code",
   "execution_count": 6,
   "metadata": {
    "ExecuteTime": {
     "end_time": "2022-07-11T12:08:22.792272Z",
     "start_time": "2022-07-11T12:08:04.590103Z"
    }
   },
   "outputs": [],
   "source": [
    "# import weights and correlations\n",
    "gauss_w = pd.read_csv(\"gaussian_weights.csv\")\n",
    "tri_w = pd.read_csv(\"triangular_weights.csv\")\n",
    "epan_w = pd.read_csv(\"epanechnikov_weights.csv\")\n",
    "cca_w = pd.read_csv(\"sample_cca_weights.csv\") # linear version\n",
    "\n",
    "gauss_c = pd.read_csv(\"gaussian_correlations.csv\")\n",
    "tri_c = pd.read_csv(\"triangular_correlations.csv\")\n",
    "epan_c = pd.read_csv(\"epanechnikov_correlations.csv\")\n",
    "\n",
    "dfs = [gauss_w, tri_w, epan_w, gauss_c, tri_c, epan_c]"
   ]
  },
  {
   "cell_type": "code",
   "execution_count": 27,
   "metadata": {
    "ExecuteTime": {
     "end_time": "2022-07-08T10:38:30.768976Z",
     "start_time": "2022-07-08T10:38:30.727991Z"
    }
   },
   "outputs": [],
   "source": [
    "for df in dfs:\n",
    "    df.set_index(\"date\", inplace=True)"
   ]
  },
  {
   "cell_type": "code",
   "execution_count": 25,
   "metadata": {
    "ExecuteTime": {
     "end_time": "2022-07-11T13:29:11.064439Z",
     "start_time": "2022-07-11T13:29:11.059445Z"
    }
   },
   "outputs": [],
   "source": [
    "cca_w.set_index(\"Unnamed: 0\", inplace=True)"
   ]
  },
  {
   "cell_type": "code",
   "execution_count": 49,
   "metadata": {
    "ExecuteTime": {
     "end_time": "2022-07-08T11:16:23.305798Z",
     "start_time": "2022-07-08T11:16:23.285802Z"
    }
   },
   "outputs": [],
   "source": [
    "kernels = [\"gaussian\",\"triangular\",\"epanechnikov\"]"
   ]
  },
  {
   "cell_type": "markdown",
   "metadata": {},
   "source": [
    "## preprocessing"
   ]
  },
  {
   "cell_type": "code",
   "execution_count": 28,
   "metadata": {
    "ExecuteTime": {
     "end_time": "2022-07-08T10:39:03.279093Z",
     "start_time": "2022-07-08T10:39:03.254093Z"
    }
   },
   "outputs": [],
   "source": [
    "def cleaning(x):\n",
    "    a = [ele for ele in x.strip(\"[]\").split(\" \") if ele.strip()]\n",
    "    a = [elem.replace(\"\\n\",\"\") for elem in a]\n",
    "    return np.asarray(a,dtype=float)"
   ]
  },
  {
   "cell_type": "code",
   "execution_count": 29,
   "metadata": {
    "ExecuteTime": {
     "end_time": "2022-07-08T10:40:22.885202Z",
     "start_time": "2022-07-08T10:39:06.278092Z"
    }
   },
   "outputs": [],
   "source": [
    "gauss_w  = gauss_w.applymap(cleaning)\n",
    "tri_w = tri_w.applymap(cleaning)\n",
    "epan_w = epan_w.applymap(cleaning)"
   ]
  },
  {
   "cell_type": "markdown",
   "metadata": {},
   "source": [
    "## correcting a mistake regarding the correlations"
   ]
  },
  {
   "cell_type": "code",
   "execution_count": null,
   "metadata": {},
   "outputs": [],
   "source": [
    "K_pl = np.linalg.inv(cov_R_half) @ (results.T @ results) @ np.linalg.inv(cov_R_half)\n",
    "        \n",
    "        # make sure it's sorted\n",
    "        eigen_val, eigen_vec = np.linalg.eig(K_pl)\n",
    "        order = np.argsort(eigen_val)[::-1]\n",
    "        idx = np.empty_like(order)\n",
    "        idx[order] = np.arange(len(order))\n",
    "        eigen_vec[:] = eigen_vec[:, idx] "
   ]
  },
  {
   "cell_type": "code",
   "execution_count": 101,
   "metadata": {
    "ExecuteTime": {
     "end_time": "2022-07-08T11:56:07.030793Z",
     "start_time": "2022-07-08T11:47:21.595993Z"
    }
   },
   "outputs": [
    {
     "name": "stdout",
     "output_type": "stream",
     "text": [
      "gaussian\n",
      "triangular\n",
      "epanechnikov\n"
     ]
    }
   ],
   "source": [
    "# step 1: all column elements as one matrix\n",
    "# step 2: eigenvalues\n",
    "# step 3: eigenvalues in place\n",
    "#for kernel in kernels:\n",
    "for kernel in kernels:\n",
    "    print(kernel)\n",
    "    cp = all_weights[kernel].copy()\n",
    "    for row in range(cp.shape[0]):\n",
    "        cov_R_half = get_cov(ret.iloc[row:(row+250),:], method=\"sample\", square_root=True)\n",
    "        # re-extract the weights\n",
    "        w = cov_R_half.T @ np.array(gauss_w.iloc[0,:].to_list()).T\n",
    "        \n",
    "        K = w @ w.T\n",
    "        \n",
    "        eigenval, eigenvec = np.linalg.eig(K)\n",
    "        \n",
    "        for col in range(all_corr[kernel].shape[1]):\n",
    "            all_corr[kernel].iloc[row,col] = eigenval[col]\n"
   ]
  },
  {
   "cell_type": "markdown",
   "metadata": {
    "ExecuteTime": {
     "end_time": "2022-07-08T08:59:11.963908Z",
     "start_time": "2022-07-08T08:59:11.920945Z"
    }
   },
   "source": [
    "# No Transaction Costs Performance"
   ]
  },
  {
   "cell_type": "code",
   "execution_count": null,
   "metadata": {},
   "outputs": [],
   "source": []
  },
  {
   "cell_type": "code",
   "execution_count": null,
   "metadata": {},
   "outputs": [],
   "source": []
  },
  {
   "cell_type": "markdown",
   "metadata": {},
   "source": [
    "# Transaction cost based on portfolios\n",
    "\n",
    "Inspired from analytical solutions of optimal portfolio rebalancing, Ding Liu, 2019"
   ]
  },
  {
   "cell_type": "code",
   "execution_count": 34,
   "metadata": {
    "ExecuteTime": {
     "end_time": "2022-07-08T10:46:08.418948Z",
     "start_time": "2022-07-08T10:46:08.404946Z"
    }
   },
   "outputs": [],
   "source": [
    "all_weights = {'gaussian':gauss_w, 'triangular':tri_w,'epanechnikov':epan_w}\n",
    "all_corr = {'gaussian':gauss_c, 'triangular':tri_c,'epanechnikov':epan_c}"
   ]
  },
  {
   "cell_type": "code",
   "execution_count": 206,
   "metadata": {
    "ExecuteTime": {
     "end_time": "2022-07-08T16:47:38.210256Z",
     "start_time": "2022-07-08T16:47:38.172756Z"
    }
   },
   "outputs": [],
   "source": [
    "def update_weights(new_weights,old_weights, corr, tcost, risk_aversion, pf_variance):\n",
    "    \"\"\"\n",
    "        rebalance the weights depending on rebalancing costs, risk aversion, and portfolio variance\n",
    "        \n",
    "        inputs:\n",
    "                new_weights   : matrix of all weights calculated using CCA at t [m x m]\n",
    "                old_weights   : total portfolio weights at t-1                  [1 x m]\n",
    "                corr          : correlations corresponding to new_weights at t  [1 x m]\n",
    "                tcost         : transaction cost parameter                      [1 x 1]\n",
    "                risk_aversion : risk aversion parameter                         [1 x 1]\n",
    "                pf_variance   : current portfolio variance at t-1               [1 x 1]\n",
    "        outputs:\n",
    "                change_w : change in weights (compared to old weights) [1 x m]\n",
    "    \"\"\"\n",
    "    # step 1 : multiply each portfolio by its correlation\n",
    "    w = new_weights*np.array(corr)\n",
    "    # step 2 : calculate total weights\n",
    "    total_w = w.sum()\n",
    "    # step 3 : calculate weights change\n",
    "    change_w = old_weights - total_w\n",
    "    # step 4 : initial transaction cost\n",
    "    rebalance_cost = tcost * np.sum(np.abs(change_w))\n",
    "    # step 5 : calculate which portfolios to include iteratively\n",
    "    trade = False\n",
    "    while(trade==False):\n",
    "        # check whether it is worth rebalancing given total current turnover\n",
    "        if np.sum(np.abs(change_w)) - (1/risk_aversion) * rebalance_cost / pf_variance < 0:\n",
    "            # remove last canonical portfolio\n",
    "            # unless we decide not to trade any portfolio -> end loop\n",
    "            if w.shape[1]==0:\n",
    "                trade = True\n",
    "            else:\n",
    "                w = np.delete(w, -1, 1)\n",
    "                total_w = w.sum()\n",
    "                change_w = old_weights - total_w\n",
    "                rebalance_cost = tcost * np.sum(np.abs(change_w))\n",
    "        else:\n",
    "            trade = True\n",
    "    # return the change in weights\n",
    "    return change_w"
   ]
  },
  {
   "cell_type": "code",
   "execution_count": null,
   "metadata": {},
   "outputs": [],
   "source": [
    "# function to iteratively calculate portfolio weights & profitability\n",
    "def backtest_cca():\n",
    "    return 0"
   ]
  },
  {
   "cell_type": "markdown",
   "metadata": {},
   "source": [
    "# Transaction cost on asset level\n",
    "\n",
    "Implementation of \"Multiperiod portfolio optimization with multiple risky assets and general transaction costs\", Mei, Demiguel, Nogales, 2016"
   ]
  },
  {
   "cell_type": "code",
   "execution_count": 180,
   "metadata": {
    "ExecuteTime": {
     "end_time": "2022-07-11T14:08:35.591963Z",
     "start_time": "2022-07-11T14:08:35.569984Z"
    }
   },
   "outputs": [],
   "source": [
    "def rebalancing(X,X_prev, rho, gamma, kappa, mu,sigma, lag, target=\"Markowitz\"):\n",
    "    \"\"\"\n",
    "        Function to calculate optimal rebalancing on asset level with proportional transaction costs.\n",
    "        \n",
    "        Implementation equation (2) in Multiperiod portfolio optimization with multiple risky assets\n",
    "        and general transaction costs.\n",
    "        \n",
    "        Inputs:\n",
    "                X      : target weights                   [1 x m]\n",
    "                X_prev : previous weights                 [1 x m]\n",
    "                rho    : discount rate                    [1 x 1]\n",
    "                gamma  : absolute risk-aversion parameter [1 x 1]\n",
    "                kappa  : transaction cost parameter       [1 x 1]\n",
    "                mu     : mean returns                     [1 x m]\n",
    "                sigma  : covariance of returns            [m x m]\n",
    "                lag    : rebalancing horizon              [1 x 1]\n",
    "        Output:\n",
    "                new_w : new weights [1 x m]\n",
    "    \"\"\"\n",
    "    m = len(X)\n",
    "    \n",
    "    # initiliase variable\n",
    "    w = cp.Variable(m)\n",
    "    \n",
    "    constraints = []\n",
    "    # objective function\n",
    "    if target==\"Markowitz\":\n",
    "        obj = cp.Maximize((1-rho)**lag * (w * mu - gamma/2 * w * sigma * w) - kappa*cp.norm(w - X_prev, 1))\n",
    "    elif target==\"Target\":\n",
    "        ########### PERFORM WITH SCIPY INSTEAD\n",
    "        obj = cp.Minimize(cp.norm(X - w + kappa * cp.norm(w - X_prev, 2)))\n",
    "        #obj = cp.Minimize(cp.sum(X-w))\n",
    "        #constraints = [cp.norm(w)<=1]\n",
    "    elif target == \"Simple\":\n",
    "        obj  = cp.Maximize((1-rho)**lag * w - kappa * cp.norm(w - X_prev, 1))\n",
    "    # constraints\n",
    "    # None first\n",
    "    \n",
    "    # solve problem\n",
    "    prob = cp.Problem(obj, constraints)\n",
    "    prob.solve(verbose = False)\n",
    "    \n",
    "    # new weights\n",
    "    new_w = np.array(w.value)\n",
    "    \n",
    "    \n",
    "    return new_w"
   ]
  },
  {
   "cell_type": "code",
   "execution_count": 181,
   "metadata": {
    "ExecuteTime": {
     "end_time": "2022-07-11T14:08:35.944691Z",
     "start_time": "2022-07-11T14:08:35.930151Z"
    }
   },
   "outputs": [],
   "source": [
    "def constant_rebalancing(weights, rho, gamma, kappa, returns, lag, target):\n",
    "    \"\"\"\n",
    "        function to perform continuous rebalancing taking into account transaction costs\n",
    "    \n",
    "    \"\"\"\n",
    "    # create some variables    \n",
    "    means = returns.rolling(250).mean().iloc[250:,:]\n",
    "    #covariances = returns.rolling(250).cov()\n",
    "    covariances = 1\n",
    "    new_weights = weights.copy()\n",
    "    \n",
    "    new_weights.iloc[0,:] = new_weights.iloc[0,:] / np.linalg.norm(new_weights.iloc[0,:])\n",
    "    \n",
    "    # first very basic function\n",
    "    for i in range(1,weights.shape[0]):\n",
    "        target_w = np.array(weights.iloc[i,:]/np.linalg.norm(weights.iloc[i,:]))\n",
    "        prev_w = np.array(new_weights.iloc[i-1,:])\n",
    "        \n",
    "        temp = rebalancing(target_w, prev_w, rho=rho,\n",
    "                              gamma=gamma, kappa=kappa, mu=means.iloc[i,:], sigma=covariances, lag=lag, target=target)\n",
    "        \n",
    "        for j in range(len(temp)):\n",
    "            new_weights.iloc[i,j] = temp[j]\n",
    "    \n",
    "    return new_weights\n"
   ]
  },
  {
   "cell_type": "code",
   "execution_count": 182,
   "metadata": {
    "ExecuteTime": {
     "end_time": "2022-07-11T14:08:36.531901Z",
     "start_time": "2022-07-11T14:08:36.517899Z"
    }
   },
   "outputs": [],
   "source": [
    "w1 = cca_w.iloc[:30,:]"
   ]
  },
  {
   "cell_type": "code",
   "execution_count": 183,
   "metadata": {
    "ExecuteTime": {
     "end_time": "2022-07-11T14:08:37.192787Z",
     "start_time": "2022-07-11T14:08:37.136056Z"
    }
   },
   "outputs": [
    {
     "ename": "DCPError",
     "evalue": "Problem does not follow DCP rules. Specifically:\nThe objective is not DCP. Its following subexpressions are not:\nPnorm([-0.01368765  0.02860982  0.10425334  0.0127551  -0.17631836  0.16844974\n -0.04502345 -0.1609566  -0.08420795  0.06898771 -0.04570198 -0.08093863\n -0.03131281 -0.01317662  0.03632065  0.16102246 -0.00897908 -0.07434336\n  0.03660794 -0.08343276  0.32845866  0.06511509 -0.06681589  0.01619158\n -0.08198363  0.05016495  0.01690636  0.00273489  0.12488434 -0.04378369\n -0.01346023 -0.0206625  -0.00807106  0.05471725 -0.06771223 -0.02566036\n -0.00608362  0.03918081 -0.01050398 -0.04170811 -0.00318333  0.03060305\n -0.07921408  0.12485943 -0.06462082 -0.06268304 -0.03108823  0.14502283\n  0.0221164   0.11843417 -0.09932598 -0.20291036 -0.12099852 -0.07140752\n -0.00414892 -0.03941578 -0.16655488  0.03643385 -0.0668413  -0.01071378\n -0.06276808  0.00534519  0.15080153 -0.0060064   0.06477865  0.12174877\n -0.13020197  0.16971143 -0.18678217  0.00410654  0.13468667 -0.12753288\n  0.09497769 -0.14192593 -0.06600165 -0.03900256 -0.03287151  0.07891672\n  0.05821577  0.02783501  0.08004574 -0.01698796 -0.0719795   0.28591914\n -0.01267581  0.03569053  0.05074405 -0.26186063  0.14342154  0.04532527\n -0.01019668  0.05491252  0.05956164 -0.26105209 -0.07830265  0.00154123\n -0.05118725 -0.04649715  0.16060229  0.02022962] + -var31700 + Promote(0.005 @ Pnorm(var31700 + -[ 0.00743627  0.05677201  0.06911179  0.00868293 -0.1185923   0.10407006\n  0.0292195  -0.08275845 -0.05225456  0.19553134 -0.08371994 -0.18664402\n  0.03939459  0.02940373  0.06239132  0.15517228  0.0060213  -0.05808712\n -0.04070316 -0.21330018  0.29874542  0.07807595  0.03042829 -0.10107245\n -0.05907403 -0.1301343  -0.03725936  0.02345288  0.13361011  0.03009768\n -0.10419773  0.0073741   0.02531829  0.02533427 -0.11084849  0.06982757\n -0.00682999 -0.03444828 -0.00443282 -0.13293754  0.07368836 -0.05939263\n -0.0216832   0.07497318 -0.0524823  -0.06323466 -0.08366286  0.09957535\n -0.00337351  0.29474888 -0.09307522 -0.01431502 -0.08849288 -0.18065892\n  0.00997475 -0.00848265 -0.08650373  0.1006562  -0.12869228  0.03974039\n -0.12103214  0.07659485  0.12123473 -0.14999187  0.03742864  0.06202054\n -0.10332444 -0.0310383   0.0224636  -0.00739269  0.10249247  0.15741116\n -0.02427225 -0.01074388  0.02778514 -0.03073976 -0.05824635  0.01186359\n  0.03201748  0.05847112 -0.01788159 -0.11798175 -0.08827431  0.12580441\n -0.14342695  0.07149313  0.01404265 -0.0626284   0.18875727 -0.00299651\n  0.0069563   0.19017598  0.21241661 -0.04611544 -0.02896567  0.01547176\n -0.1376227   0.04212197  0.13290961 -0.20419721], 2), (100,)), 2)",
     "output_type": "error",
     "traceback": [
      "\u001b[1;31m---------------------------------------------------------------------------\u001b[0m",
      "\u001b[1;31mDCPError\u001b[0m                                  Traceback (most recent call last)",
      "\u001b[1;32m~\\AppData\\Local\\Temp\\ipykernel_12168\\3323394536.py\u001b[0m in \u001b[0;36m<module>\u001b[1;34m\u001b[0m\n\u001b[1;32m----> 1\u001b[1;33m \u001b[0mconstant_rebalancing\u001b[0m\u001b[1;33m(\u001b[0m\u001b[0mw1\u001b[0m\u001b[1;33m,\u001b[0m \u001b[0mrho\u001b[0m\u001b[1;33m=\u001b[0m\u001b[1;36m0\u001b[0m\u001b[1;33m,\u001b[0m \u001b[0mgamma\u001b[0m\u001b[1;33m=\u001b[0m\u001b[1;36m10e-6\u001b[0m\u001b[1;33m,\u001b[0m \u001b[0mkappa\u001b[0m\u001b[1;33m=\u001b[0m\u001b[1;36m0.005\u001b[0m\u001b[1;33m,\u001b[0m \u001b[0mreturns\u001b[0m\u001b[1;33m=\u001b[0m\u001b[0mret\u001b[0m\u001b[1;33m,\u001b[0m \u001b[0mlag\u001b[0m\u001b[1;33m=\u001b[0m\u001b[1;36m1\u001b[0m\u001b[1;33m,\u001b[0m \u001b[0mtarget\u001b[0m\u001b[1;33m=\u001b[0m\u001b[1;34m\"Target\"\u001b[0m\u001b[1;33m)\u001b[0m\u001b[1;33m\u001b[0m\u001b[1;33m\u001b[0m\u001b[0m\n\u001b[0m",
      "\u001b[1;32m~\\AppData\\Local\\Temp\\ipykernel_12168\\2876664540.py\u001b[0m in \u001b[0;36mconstant_rebalancing\u001b[1;34m(weights, rho, gamma, kappa, returns, lag, target)\u001b[0m\n\u001b[0;32m     18\u001b[0m \u001b[1;33m\u001b[0m\u001b[0m\n\u001b[0;32m     19\u001b[0m         temp = rebalancing(target_w, prev_w, rho=rho,\n\u001b[1;32m---> 20\u001b[1;33m                               gamma=gamma, kappa=kappa, mu=means.iloc[i,:], sigma=covariances, lag=lag, target=target)\n\u001b[0m\u001b[0;32m     21\u001b[0m \u001b[1;33m\u001b[0m\u001b[0m\n\u001b[0;32m     22\u001b[0m         \u001b[1;32mfor\u001b[0m \u001b[0mj\u001b[0m \u001b[1;32min\u001b[0m \u001b[0mrange\u001b[0m\u001b[1;33m(\u001b[0m\u001b[0mlen\u001b[0m\u001b[1;33m(\u001b[0m\u001b[0mtemp\u001b[0m\u001b[1;33m)\u001b[0m\u001b[1;33m)\u001b[0m\u001b[1;33m:\u001b[0m\u001b[1;33m\u001b[0m\u001b[1;33m\u001b[0m\u001b[0m\n",
      "\u001b[1;32m~\\AppData\\Local\\Temp\\ipykernel_12168\\3363418967.py\u001b[0m in \u001b[0;36mrebalancing\u001b[1;34m(X, X_prev, rho, gamma, kappa, mu, sigma, lag, target)\u001b[0m\n\u001b[0;32m     38\u001b[0m     \u001b[1;31m# solve problem\u001b[0m\u001b[1;33m\u001b[0m\u001b[1;33m\u001b[0m\u001b[1;33m\u001b[0m\u001b[0m\n\u001b[0;32m     39\u001b[0m     \u001b[0mprob\u001b[0m \u001b[1;33m=\u001b[0m \u001b[0mcp\u001b[0m\u001b[1;33m.\u001b[0m\u001b[0mProblem\u001b[0m\u001b[1;33m(\u001b[0m\u001b[0mobj\u001b[0m\u001b[1;33m,\u001b[0m \u001b[0mconstraints\u001b[0m\u001b[1;33m)\u001b[0m\u001b[1;33m\u001b[0m\u001b[1;33m\u001b[0m\u001b[0m\n\u001b[1;32m---> 40\u001b[1;33m     \u001b[0mprob\u001b[0m\u001b[1;33m.\u001b[0m\u001b[0msolve\u001b[0m\u001b[1;33m(\u001b[0m\u001b[0mverbose\u001b[0m \u001b[1;33m=\u001b[0m \u001b[1;32mFalse\u001b[0m\u001b[1;33m)\u001b[0m\u001b[1;33m\u001b[0m\u001b[1;33m\u001b[0m\u001b[0m\n\u001b[0m\u001b[0;32m     41\u001b[0m \u001b[1;33m\u001b[0m\u001b[0m\n\u001b[0;32m     42\u001b[0m     \u001b[1;31m# new weights\u001b[0m\u001b[1;33m\u001b[0m\u001b[1;33m\u001b[0m\u001b[1;33m\u001b[0m\u001b[0m\n",
      "\u001b[1;32m~\\anaconda3\\lib\\site-packages\\cvxpy\\problems\\problem.py\u001b[0m in \u001b[0;36msolve\u001b[1;34m(self, *args, **kwargs)\u001b[0m\n\u001b[0;32m    479\u001b[0m         \u001b[1;32melse\u001b[0m\u001b[1;33m:\u001b[0m\u001b[1;33m\u001b[0m\u001b[1;33m\u001b[0m\u001b[0m\n\u001b[0;32m    480\u001b[0m             \u001b[0msolve_func\u001b[0m \u001b[1;33m=\u001b[0m \u001b[0mProblem\u001b[0m\u001b[1;33m.\u001b[0m\u001b[0m_solve\u001b[0m\u001b[1;33m\u001b[0m\u001b[1;33m\u001b[0m\u001b[0m\n\u001b[1;32m--> 481\u001b[1;33m         \u001b[1;32mreturn\u001b[0m \u001b[0msolve_func\u001b[0m\u001b[1;33m(\u001b[0m\u001b[0mself\u001b[0m\u001b[1;33m,\u001b[0m \u001b[1;33m*\u001b[0m\u001b[0margs\u001b[0m\u001b[1;33m,\u001b[0m \u001b[1;33m**\u001b[0m\u001b[0mkwargs\u001b[0m\u001b[1;33m)\u001b[0m\u001b[1;33m\u001b[0m\u001b[1;33m\u001b[0m\u001b[0m\n\u001b[0m\u001b[0;32m    482\u001b[0m \u001b[1;33m\u001b[0m\u001b[0m\n\u001b[0;32m    483\u001b[0m     \u001b[1;33m@\u001b[0m\u001b[0mclassmethod\u001b[0m\u001b[1;33m\u001b[0m\u001b[1;33m\u001b[0m\u001b[0m\n",
      "\u001b[1;32m~\\anaconda3\\lib\\site-packages\\cvxpy\\problems\\problem.py\u001b[0m in \u001b[0;36m_solve\u001b[1;34m(self, solver, warm_start, verbose, gp, qcp, requires_grad, enforce_dpp, ignore_dpp, **kwargs)\u001b[0m\n\u001b[0;32m   1006\u001b[0m \u001b[1;33m\u001b[0m\u001b[0m\n\u001b[0;32m   1007\u001b[0m         data, solving_chain, inverse_data = self.get_problem_data(\n\u001b[1;32m-> 1008\u001b[1;33m             solver, gp, enforce_dpp, ignore_dpp, verbose)\n\u001b[0m\u001b[0;32m   1009\u001b[0m \u001b[1;33m\u001b[0m\u001b[0m\n\u001b[0;32m   1010\u001b[0m         \u001b[1;32mif\u001b[0m \u001b[0mverbose\u001b[0m\u001b[1;33m:\u001b[0m\u001b[1;33m\u001b[0m\u001b[1;33m\u001b[0m\u001b[0m\n",
      "\u001b[1;32m~\\anaconda3\\lib\\site-packages\\cvxpy\\problems\\problem.py\u001b[0m in \u001b[0;36mget_problem_data\u001b[1;34m(self, solver, gp, enforce_dpp, ignore_dpp, verbose)\u001b[0m\n\u001b[0;32m    608\u001b[0m                 \u001b[0msolver\u001b[0m\u001b[1;33m=\u001b[0m\u001b[0msolver\u001b[0m\u001b[1;33m,\u001b[0m \u001b[0mgp\u001b[0m\u001b[1;33m=\u001b[0m\u001b[0mgp\u001b[0m\u001b[1;33m,\u001b[0m\u001b[1;33m\u001b[0m\u001b[1;33m\u001b[0m\u001b[0m\n\u001b[0;32m    609\u001b[0m                 \u001b[0menforce_dpp\u001b[0m\u001b[1;33m=\u001b[0m\u001b[0menforce_dpp\u001b[0m\u001b[1;33m,\u001b[0m\u001b[1;33m\u001b[0m\u001b[1;33m\u001b[0m\u001b[0m\n\u001b[1;32m--> 610\u001b[1;33m                 ignore_dpp=ignore_dpp)\n\u001b[0m\u001b[0;32m    611\u001b[0m             \u001b[0mself\u001b[0m\u001b[1;33m.\u001b[0m\u001b[0m_cache\u001b[0m\u001b[1;33m.\u001b[0m\u001b[0mkey\u001b[0m \u001b[1;33m=\u001b[0m \u001b[0mkey\u001b[0m\u001b[1;33m\u001b[0m\u001b[1;33m\u001b[0m\u001b[0m\n\u001b[0;32m    612\u001b[0m             \u001b[0mself\u001b[0m\u001b[1;33m.\u001b[0m\u001b[0m_cache\u001b[0m\u001b[1;33m.\u001b[0m\u001b[0msolving_chain\u001b[0m \u001b[1;33m=\u001b[0m \u001b[0msolving_chain\u001b[0m\u001b[1;33m\u001b[0m\u001b[1;33m\u001b[0m\u001b[0m\n",
      "\u001b[1;32m~\\anaconda3\\lib\\site-packages\\cvxpy\\problems\\problem.py\u001b[0m in \u001b[0;36m_construct_chain\u001b[1;34m(self, solver, gp, enforce_dpp, ignore_dpp)\u001b[0m\n\u001b[0;32m    845\u001b[0m         return construct_solving_chain(self, candidate_solvers, gp=gp,\n\u001b[0;32m    846\u001b[0m                                        \u001b[0menforce_dpp\u001b[0m\u001b[1;33m=\u001b[0m\u001b[0menforce_dpp\u001b[0m\u001b[1;33m,\u001b[0m\u001b[1;33m\u001b[0m\u001b[1;33m\u001b[0m\u001b[0m\n\u001b[1;32m--> 847\u001b[1;33m                                        ignore_dpp=ignore_dpp)\n\u001b[0m\u001b[0;32m    848\u001b[0m \u001b[1;33m\u001b[0m\u001b[0m\n\u001b[0;32m    849\u001b[0m     \u001b[1;33m@\u001b[0m\u001b[0mstaticmethod\u001b[0m\u001b[1;33m\u001b[0m\u001b[1;33m\u001b[0m\u001b[0m\n",
      "\u001b[1;32m~\\anaconda3\\lib\\site-packages\\cvxpy\\reductions\\solvers\\solving_chain.py\u001b[0m in \u001b[0;36mconstruct_solving_chain\u001b[1;34m(problem, candidates, gp, enforce_dpp, ignore_dpp)\u001b[0m\n\u001b[0;32m    160\u001b[0m     \u001b[1;32mif\u001b[0m \u001b[0mlen\u001b[0m\u001b[1;33m(\u001b[0m\u001b[0mproblem\u001b[0m\u001b[1;33m.\u001b[0m\u001b[0mvariables\u001b[0m\u001b[1;33m(\u001b[0m\u001b[1;33m)\u001b[0m\u001b[1;33m)\u001b[0m \u001b[1;33m==\u001b[0m \u001b[1;36m0\u001b[0m\u001b[1;33m:\u001b[0m\u001b[1;33m\u001b[0m\u001b[1;33m\u001b[0m\u001b[0m\n\u001b[0;32m    161\u001b[0m         \u001b[1;32mreturn\u001b[0m \u001b[0mSolvingChain\u001b[0m\u001b[1;33m(\u001b[0m\u001b[0mreductions\u001b[0m\u001b[1;33m=\u001b[0m\u001b[1;33m[\u001b[0m\u001b[0mConstantSolver\u001b[0m\u001b[1;33m(\u001b[0m\u001b[1;33m)\u001b[0m\u001b[1;33m]\u001b[0m\u001b[1;33m)\u001b[0m\u001b[1;33m\u001b[0m\u001b[1;33m\u001b[0m\u001b[0m\n\u001b[1;32m--> 162\u001b[1;33m     \u001b[0mreductions\u001b[0m \u001b[1;33m=\u001b[0m \u001b[0m_reductions_for_problem_class\u001b[0m\u001b[1;33m(\u001b[0m\u001b[0mproblem\u001b[0m\u001b[1;33m,\u001b[0m \u001b[0mcandidates\u001b[0m\u001b[1;33m,\u001b[0m \u001b[0mgp\u001b[0m\u001b[1;33m)\u001b[0m\u001b[1;33m\u001b[0m\u001b[1;33m\u001b[0m\u001b[0m\n\u001b[0m\u001b[0;32m    163\u001b[0m \u001b[1;33m\u001b[0m\u001b[0m\n\u001b[0;32m    164\u001b[0m     \u001b[1;31m# Process DPP status of the problem.\u001b[0m\u001b[1;33m\u001b[0m\u001b[1;33m\u001b[0m\u001b[1;33m\u001b[0m\u001b[0m\n",
      "\u001b[1;32m~\\anaconda3\\lib\\site-packages\\cvxpy\\reductions\\solvers\\solving_chain.py\u001b[0m in \u001b[0;36m_reductions_for_problem_class\u001b[1;34m(problem, candidates, gp)\u001b[0m\n\u001b[0;32m     93\u001b[0m                        \"Consider calling solve() with `qcp=True`.\")\n\u001b[0;32m     94\u001b[0m         raise DCPError(\n\u001b[1;32m---> 95\u001b[1;33m             \"Problem does not follow DCP rules. Specifically:\\n\" + append)\n\u001b[0m\u001b[0;32m     96\u001b[0m     \u001b[1;32melif\u001b[0m \u001b[0mgp\u001b[0m \u001b[1;32mand\u001b[0m \u001b[1;32mnot\u001b[0m \u001b[0mproblem\u001b[0m\u001b[1;33m.\u001b[0m\u001b[0mis_dgp\u001b[0m\u001b[1;33m(\u001b[0m\u001b[1;33m)\u001b[0m\u001b[1;33m:\u001b[0m\u001b[1;33m\u001b[0m\u001b[1;33m\u001b[0m\u001b[0m\n\u001b[0;32m     97\u001b[0m         \u001b[0mappend\u001b[0m \u001b[1;33m=\u001b[0m \u001b[0mbuild_non_disciplined_error_msg\u001b[0m\u001b[1;33m(\u001b[0m\u001b[0mproblem\u001b[0m\u001b[1;33m,\u001b[0m \u001b[1;34m'DGP'\u001b[0m\u001b[1;33m)\u001b[0m\u001b[1;33m\u001b[0m\u001b[1;33m\u001b[0m\u001b[0m\n",
      "\u001b[1;31mDCPError\u001b[0m: Problem does not follow DCP rules. Specifically:\nThe objective is not DCP. Its following subexpressions are not:\nPnorm([-0.01368765  0.02860982  0.10425334  0.0127551  -0.17631836  0.16844974\n -0.04502345 -0.1609566  -0.08420795  0.06898771 -0.04570198 -0.08093863\n -0.03131281 -0.01317662  0.03632065  0.16102246 -0.00897908 -0.07434336\n  0.03660794 -0.08343276  0.32845866  0.06511509 -0.06681589  0.01619158\n -0.08198363  0.05016495  0.01690636  0.00273489  0.12488434 -0.04378369\n -0.01346023 -0.0206625  -0.00807106  0.05471725 -0.06771223 -0.02566036\n -0.00608362  0.03918081 -0.01050398 -0.04170811 -0.00318333  0.03060305\n -0.07921408  0.12485943 -0.06462082 -0.06268304 -0.03108823  0.14502283\n  0.0221164   0.11843417 -0.09932598 -0.20291036 -0.12099852 -0.07140752\n -0.00414892 -0.03941578 -0.16655488  0.03643385 -0.0668413  -0.01071378\n -0.06276808  0.00534519  0.15080153 -0.0060064   0.06477865  0.12174877\n -0.13020197  0.16971143 -0.18678217  0.00410654  0.13468667 -0.12753288\n  0.09497769 -0.14192593 -0.06600165 -0.03900256 -0.03287151  0.07891672\n  0.05821577  0.02783501  0.08004574 -0.01698796 -0.0719795   0.28591914\n -0.01267581  0.03569053  0.05074405 -0.26186063  0.14342154  0.04532527\n -0.01019668  0.05491252  0.05956164 -0.26105209 -0.07830265  0.00154123\n -0.05118725 -0.04649715  0.16060229  0.02022962] + -var31700 + Promote(0.005 @ Pnorm(var31700 + -[ 0.00743627  0.05677201  0.06911179  0.00868293 -0.1185923   0.10407006\n  0.0292195  -0.08275845 -0.05225456  0.19553134 -0.08371994 -0.18664402\n  0.03939459  0.02940373  0.06239132  0.15517228  0.0060213  -0.05808712\n -0.04070316 -0.21330018  0.29874542  0.07807595  0.03042829 -0.10107245\n -0.05907403 -0.1301343  -0.03725936  0.02345288  0.13361011  0.03009768\n -0.10419773  0.0073741   0.02531829  0.02533427 -0.11084849  0.06982757\n -0.00682999 -0.03444828 -0.00443282 -0.13293754  0.07368836 -0.05939263\n -0.0216832   0.07497318 -0.0524823  -0.06323466 -0.08366286  0.09957535\n -0.00337351  0.29474888 -0.09307522 -0.01431502 -0.08849288 -0.18065892\n  0.00997475 -0.00848265 -0.08650373  0.1006562  -0.12869228  0.03974039\n -0.12103214  0.07659485  0.12123473 -0.14999187  0.03742864  0.06202054\n -0.10332444 -0.0310383   0.0224636  -0.00739269  0.10249247  0.15741116\n -0.02427225 -0.01074388  0.02778514 -0.03073976 -0.05824635  0.01186359\n  0.03201748  0.05847112 -0.01788159 -0.11798175 -0.08827431  0.12580441\n -0.14342695  0.07149313  0.01404265 -0.0626284   0.18875727 -0.00299651\n  0.0069563   0.19017598  0.21241661 -0.04611544 -0.02896567  0.01547176\n -0.1376227   0.04212197  0.13290961 -0.20419721], 2), (100,)), 2)"
     ]
    }
   ],
   "source": [
    "constant_rebalancing(w1, rho=0, gamma=10e-6, kappa=0.005, returns=ret, lag=1, target=\"Target\")"
   ]
  },
  {
   "cell_type": "code",
   "execution_count": null,
   "metadata": {},
   "outputs": [],
   "source": []
  }
 ],
 "metadata": {
  "kernelspec": {
   "display_name": "Python 3 (ipykernel)",
   "language": "python",
   "name": "python3"
  },
  "language_info": {
   "codemirror_mode": {
    "name": "ipython",
    "version": 3
   },
   "file_extension": ".py",
   "mimetype": "text/x-python",
   "name": "python",
   "nbconvert_exporter": "python",
   "pygments_lexer": "ipython3",
   "version": "3.7.6"
  },
  "latex_envs": {
   "LaTeX_envs_menu_present": true,
   "autoclose": false,
   "autocomplete": true,
   "bibliofile": "biblio.bib",
   "cite_by": "apalike",
   "current_citInitial": 1,
   "eqLabelWithNumbers": true,
   "eqNumInitial": 1,
   "hotkeys": {
    "equation": "Ctrl-E",
    "itemize": "Ctrl-I"
   },
   "labels_anchors": false,
   "latex_user_defs": false,
   "report_style_numbering": false,
   "user_envs_cfg": false
  },
  "toc": {
   "base_numbering": 1,
   "nav_menu": {},
   "number_sections": true,
   "sideBar": true,
   "skip_h1_title": false,
   "title_cell": "Table of Contents",
   "title_sidebar": "Contents",
   "toc_cell": false,
   "toc_position": {},
   "toc_section_display": true,
   "toc_window_display": false
  }
 },
 "nbformat": 4,
 "nbformat_minor": 4
}
