{
 "cells": [
  {
   "cell_type": "markdown",
   "metadata": {},
   "source": [
    "# Transaction Cost analysis\n",
    "\n",
    "for different kernels"
   ]
  },
  {
   "cell_type": "markdown",
   "metadata": {},
   "source": [
    "# Libraries and Data"
   ]
  },
  {
   "cell_type": "code",
   "execution_count": 92,
   "metadata": {
    "ExecuteTime": {
     "end_time": "2022-07-08T11:40:17.378696Z",
     "start_time": "2022-07-08T11:40:12.264535Z"
    }
   },
   "outputs": [],
   "source": [
    "import numpy as np\n",
    "import pandas as pd\n",
    "import sys\n",
    "import os\n",
    "import pickle\n",
    "\n",
    "from project_lib.backtest import *\n",
    "\n",
    "HOME_DIRECTORY = 'C:/Users/Harol/OneDrive/Documents/master computational finance/thesis/thesis_UCL/Code/Transaction Costs'\n",
    "sys.path.append(HOME_DIRECTORY)"
   ]
  },
  {
   "cell_type": "code",
   "execution_count": 93,
   "metadata": {
    "ExecuteTime": {
     "end_time": "2022-07-08T11:40:21.469693Z",
     "start_time": "2022-07-08T11:40:21.415697Z"
    }
   },
   "outputs": [],
   "source": [
    "# import returns\n",
    "with open(HOME_DIRECTORY + '/data/processed_daily_data/ret_subset.pkl', 'rb') as f:\n",
    "    ret = pickle.load(f)"
   ]
  },
  {
   "cell_type": "code",
   "execution_count": 94,
   "metadata": {
    "ExecuteTime": {
     "end_time": "2022-07-08T11:40:22.009692Z",
     "start_time": "2022-07-08T11:40:21.985692Z"
    }
   },
   "outputs": [],
   "source": [
    "universe_size = 100\n",
    "ret = ret.iloc[:1000, :universe_size]  # subset the data\n",
    "ret = ret.iloc[(4):] # burn\n"
   ]
  },
  {
   "cell_type": "code",
   "execution_count": 26,
   "metadata": {
    "ExecuteTime": {
     "end_time": "2022-07-08T10:38:30.721976Z",
     "start_time": "2022-07-08T10:38:18.162346Z"
    }
   },
   "outputs": [],
   "source": [
    "# import weights and correlations\n",
    "gauss_w = pd.read_csv(\"gaussian_weights.csv\")\n",
    "tri_w = pd.read_csv(\"triangular_weights.csv\")\n",
    "epan_w = pd.read_csv(\"epanechnikov_weights.csv\")\n",
    "\n",
    "gauss_c = pd.read_csv(\"gaussian_correlations.csv\")\n",
    "tri_c = pd.read_csv(\"triangular_correlations.csv\")\n",
    "epan_c = pd.read_csv(\"epanechnikov_correlations.csv\")\n",
    "\n",
    "dfs = [gauss_w, tri_w, epan_w, gauss_c, tri_c, epan_c]"
   ]
  },
  {
   "cell_type": "code",
   "execution_count": 27,
   "metadata": {
    "ExecuteTime": {
     "end_time": "2022-07-08T10:38:30.768976Z",
     "start_time": "2022-07-08T10:38:30.727991Z"
    }
   },
   "outputs": [],
   "source": [
    "for df in dfs:\n",
    "    df.set_index(\"date\", inplace=True)"
   ]
  },
  {
   "cell_type": "code",
   "execution_count": 49,
   "metadata": {
    "ExecuteTime": {
     "end_time": "2022-07-08T11:16:23.305798Z",
     "start_time": "2022-07-08T11:16:23.285802Z"
    }
   },
   "outputs": [],
   "source": [
    "kernels = [\"gaussian\",\"triangular\",\"epanechnikov\"]"
   ]
  },
  {
   "cell_type": "markdown",
   "metadata": {},
   "source": [
    "## preprocessing"
   ]
  },
  {
   "cell_type": "code",
   "execution_count": 28,
   "metadata": {
    "ExecuteTime": {
     "end_time": "2022-07-08T10:39:03.279093Z",
     "start_time": "2022-07-08T10:39:03.254093Z"
    }
   },
   "outputs": [],
   "source": [
    "def cleaning(x):\n",
    "    a = [ele for ele in x.strip(\"[]\").split(\" \") if ele.strip()]\n",
    "    a = [elem.replace(\"\\n\",\"\") for elem in a]\n",
    "    return np.asarray(a,dtype=float)"
   ]
  },
  {
   "cell_type": "code",
   "execution_count": 29,
   "metadata": {
    "ExecuteTime": {
     "end_time": "2022-07-08T10:40:22.885202Z",
     "start_time": "2022-07-08T10:39:06.278092Z"
    }
   },
   "outputs": [],
   "source": [
    "gauss_w  = gauss_w.applymap(cleaning)\n",
    "tri_w = tri_w.applymap(cleaning)\n",
    "epan_w = epan_w.applymap(cleaning)"
   ]
  },
  {
   "cell_type": "markdown",
   "metadata": {},
   "source": [
    "## correcting a mistake regarding the correlations"
   ]
  },
  {
   "cell_type": "code",
   "execution_count": null,
   "metadata": {},
   "outputs": [],
   "source": [
    "K_pl = np.linalg.inv(cov_R_half) @ (results.T @ results) @ np.linalg.inv(cov_R_half)\n",
    "        \n",
    "        # make sure it's sorted\n",
    "        eigen_val, eigen_vec = np.linalg.eig(K_pl)\n",
    "        order = np.argsort(eigen_val)[::-1]\n",
    "        idx = np.empty_like(order)\n",
    "        idx[order] = np.arange(len(order))\n",
    "        eigen_vec[:] = eigen_vec[:, idx] "
   ]
  },
  {
   "cell_type": "code",
   "execution_count": 101,
   "metadata": {
    "ExecuteTime": {
     "end_time": "2022-07-08T11:56:07.030793Z",
     "start_time": "2022-07-08T11:47:21.595993Z"
    }
   },
   "outputs": [
    {
     "name": "stdout",
     "output_type": "stream",
     "text": [
      "gaussian\n",
      "triangular\n",
      "epanechnikov\n"
     ]
    }
   ],
   "source": [
    "# step 1: all column elements as one matrix\n",
    "# step 2: eigenvalues\n",
    "# step 3: eigenvalues in place\n",
    "#for kernel in kernels:\n",
    "for kernel in kernels:\n",
    "    print(kernel)\n",
    "    cp = all_weights[kernel].copy()\n",
    "    for row in range(cp.shape[0]):\n",
    "        cov_R_half = get_cov(ret.iloc[row:(row+250),:], method=\"sample\", square_root=True)\n",
    "        # re-extract the weights\n",
    "        w = cov_R_half.T @ np.array(gauss_w.iloc[0,:].to_list()).T\n",
    "        \n",
    "        K = w @ w.T\n",
    "        \n",
    "        eigenval, eigenvec = np.linalg.eig(K)\n",
    "        \n",
    "        for col in range(all_corr[kernel].shape[1]):\n",
    "            all_corr[kernel].iloc[row,col] = eigenval[col]\n"
   ]
  },
  {
   "cell_type": "markdown",
   "metadata": {
    "ExecuteTime": {
     "end_time": "2022-07-08T08:59:11.963908Z",
     "start_time": "2022-07-08T08:59:11.920945Z"
    }
   },
   "source": [
    "# No Transaction Costs Performance"
   ]
  },
  {
   "cell_type": "code",
   "execution_count": 34,
   "metadata": {
    "ExecuteTime": {
     "end_time": "2022-07-08T10:46:08.418948Z",
     "start_time": "2022-07-08T10:46:08.404946Z"
    }
   },
   "outputs": [],
   "source": [
    "all_weights = {'gaussian':gauss_w, 'triangular':tri_w,'epanechnikov':epan_w}\n",
    "all_corr = {'gaussian':gauss_c, 'triangular':tri_c,'epanechnikov':epan_c}"
   ]
  },
  {
   "cell_type": "code",
   "execution_count": 206,
   "metadata": {
    "ExecuteTime": {
     "end_time": "2022-07-08T16:47:38.210256Z",
     "start_time": "2022-07-08T16:47:38.172756Z"
    }
   },
   "outputs": [],
   "source": [
    "def update_weights(new_weights,old_weights, corr, tcost, risk_aversion, pf_variance):\n",
    "    \"\"\"\n",
    "        rebalance the weights depending on rebalancing costs, risk aversion, and portfolio variance\n",
    "        \n",
    "        inputs:\n",
    "                new_weights   : matrix of all weights calculated using CCA at t [m x m]\n",
    "                old_weights   : total portfolio weights at t-1                  [1 x m]\n",
    "                corr          : correlations corresponding to new_weights at t  [1 x m]\n",
    "                tcost         : transaction cost parameter                      [1 x 1]\n",
    "                risk_aversion : risk aversion parameter                         [1 x 1]\n",
    "                pf_variance   : current portfolio variance at t-1               [1 x 1]\n",
    "        outputs:\n",
    "                change_w : change in weights (compared to old weights) [1 x m]\n",
    "    \"\"\"\n",
    "    # step 1 : multiply each portfolio by its correlation\n",
    "    w = new_weights*np.array(corr)\n",
    "    # step 2 : calculate total weights\n",
    "    total_w = w.sum()\n",
    "    # step 3 : calculate weights change\n",
    "    change_w = old_weights - total_w\n",
    "    # step 4 : initial transaction cost\n",
    "    rebalance_cost = tcost * np.sum(np.abs(change_w))\n",
    "    # step 5 : calculate which portfolios to include iteratively\n",
    "    trade = False\n",
    "    while(trade==False):\n",
    "        # check whether it is worth rebalancing given total current turnover\n",
    "        if np.sum(np.abs(change_w)) - (1/risk_aversion) * rebalance_cost / pf_variance < 0:\n",
    "            # remove last canonical portfolio\n",
    "            # unless we decide not to trade any portfolio -> end loop\n",
    "            if w.shape[1]==0:\n",
    "                trade = True\n",
    "            else:\n",
    "                w = np.delete(w, -1, 1)\n",
    "                total_w = w.sum()\n",
    "                change_w = old_weights - total_w\n",
    "                rebalance_cost = tcost * np.sum(np.abs(change_w))\n",
    "        else:\n",
    "            trade = True\n",
    "    # return the change in weights\n",
    "    return change_w"
   ]
  },
  {
   "cell_type": "code",
   "execution_count": null,
   "metadata": {},
   "outputs": [],
   "source": [
    "# function to iteratively calculate portfolio weights & profitability\n",
    "def backtest_cca():\n",
    "    return 0"
   ]
  }
 ],
 "metadata": {
  "kernelspec": {
   "display_name": "Python 3 (ipykernel)",
   "language": "python",
   "name": "python3"
  },
  "language_info": {
   "codemirror_mode": {
    "name": "ipython",
    "version": 3
   },
   "file_extension": ".py",
   "mimetype": "text/x-python",
   "name": "python",
   "nbconvert_exporter": "python",
   "pygments_lexer": "ipython3",
   "version": "3.7.6"
  },
  "latex_envs": {
   "LaTeX_envs_menu_present": true,
   "autoclose": false,
   "autocomplete": true,
   "bibliofile": "biblio.bib",
   "cite_by": "apalike",
   "current_citInitial": 1,
   "eqLabelWithNumbers": true,
   "eqNumInitial": 1,
   "hotkeys": {
    "equation": "Ctrl-E",
    "itemize": "Ctrl-I"
   },
   "labels_anchors": false,
   "latex_user_defs": false,
   "report_style_numbering": false,
   "user_envs_cfg": false
  },
  "toc": {
   "base_numbering": 1,
   "nav_menu": {},
   "number_sections": true,
   "sideBar": true,
   "skip_h1_title": false,
   "title_cell": "Table of Contents",
   "title_sidebar": "Contents",
   "toc_cell": false,
   "toc_position": {},
   "toc_section_display": true,
   "toc_window_display": false
  }
 },
 "nbformat": 4,
 "nbformat_minor": 4
}
