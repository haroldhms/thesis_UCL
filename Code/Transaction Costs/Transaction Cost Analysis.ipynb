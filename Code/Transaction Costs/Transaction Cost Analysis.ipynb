{
 "cells": [
  {
   "cell_type": "markdown",
   "metadata": {},
   "source": [
    "# Transaction Cost analysis\n",
    "\n",
    "for different kernels"
   ]
  },
  {
   "cell_type": "markdown",
   "metadata": {},
   "source": [
    "# Libraries and Data"
   ]
  },
  {
   "cell_type": "code",
   "execution_count": 71,
   "metadata": {
    "ExecuteTime": {
     "end_time": "2022-07-11T17:34:23.726481Z",
     "start_time": "2022-07-11T17:34:23.545285Z"
    }
   },
   "outputs": [
    {
     "data": {
      "text/html": [
       "        <script type=\"text/javascript\">\n",
       "        window.PlotlyConfig = {MathJaxConfig: 'local'};\n",
       "        if (window.MathJax && window.MathJax.Hub && window.MathJax.Hub.Config) {window.MathJax.Hub.Config({SVG: {font: \"STIX-Web\"}});}\n",
       "        if (typeof require !== 'undefined') {\n",
       "        require.undef(\"plotly\");\n",
       "        requirejs.config({\n",
       "            paths: {\n",
       "                'plotly': ['https://cdn.plot.ly/plotly-2.12.1.min']\n",
       "            }\n",
       "        });\n",
       "        require(['plotly'], function(Plotly) {\n",
       "            window._Plotly = Plotly;\n",
       "        });\n",
       "        }\n",
       "        </script>\n",
       "        "
      ]
     },
     "metadata": {},
     "output_type": "display_data"
    }
   ],
   "source": [
    "import numpy as np\n",
    "import pandas as pd\n",
    "import sys\n",
    "import os\n",
    "import pickle\n",
    "import cvxpy as cp\n",
    "from scipy.optimize import minimize\n",
    "from project_lib.backtest import *\n",
    "from project_lib.utils import *\n",
    "from project_lib.performance import *\n",
    "from project_lib.analysis import *\n",
    "from project_lib.portfolio import Portfolio\n",
    "\n",
    "HOME_DIRECTORY = 'C:/Users/Harol/OneDrive/Documents/master computational finance/thesis/thesis_UCL/Code/Transaction Costs'\n",
    "sys.path.append(HOME_DIRECTORY)"
   ]
  },
  {
   "cell_type": "code",
   "execution_count": 2,
   "metadata": {
    "ExecuteTime": {
     "end_time": "2022-07-11T17:02:19.376483Z",
     "start_time": "2022-07-11T17:02:19.331385Z"
    }
   },
   "outputs": [],
   "source": [
    "# import returns\n",
    "with open(HOME_DIRECTORY + '/data/processed_daily_data/ret_subset.pkl', 'rb') as f:\n",
    "    ret = pickle.load(f)"
   ]
  },
  {
   "cell_type": "code",
   "execution_count": 3,
   "metadata": {
    "ExecuteTime": {
     "end_time": "2022-07-11T17:02:20.143418Z",
     "start_time": "2022-07-11T17:02:20.131462Z"
    }
   },
   "outputs": [],
   "source": [
    "universe_size = 100\n",
    "ret = ret.iloc[:1000, :universe_size]  # subset the data\n",
    "ret = ret.iloc[(4):] # burn\n"
   ]
  },
  {
   "cell_type": "code",
   "execution_count": 67,
   "metadata": {
    "ExecuteTime": {
     "end_time": "2022-07-11T17:33:20.894945Z",
     "start_time": "2022-07-11T17:33:20.882957Z"
    }
   },
   "outputs": [],
   "source": [
    "prices = (1 + ret).cumprod()\n",
    "prices = prices.iloc[:,:universe_size]"
   ]
  },
  {
   "cell_type": "code",
   "execution_count": 56,
   "metadata": {
    "ExecuteTime": {
     "end_time": "2022-07-11T17:31:17.650385Z",
     "start_time": "2022-07-11T17:31:14.440209Z"
    }
   },
   "outputs": [],
   "source": [
    "# import weights and correlations\n",
    "gauss_w = pd.read_csv(\"gaussian_weights.csv\")\n",
    "tri_w = pd.read_csv(\"triangular_weights.csv\")\n",
    "epan_w = pd.read_csv(\"epanechnikov_weights.csv\")\n",
    "cca_w = pd.read_csv(\"sample_cca_weights.csv\") # linear version\n",
    "\n",
    "gauss_c = pd.read_csv(\"gaussian_correlations.csv\")\n",
    "tri_c = pd.read_csv(\"triangular_correlations.csv\")\n",
    "epan_c = pd.read_csv(\"epanechnikov_correlations.csv\")\n",
    "\n",
    "dfs = [gauss_w, tri_w, epan_w, gauss_c, tri_c, epan_c]"
   ]
  },
  {
   "cell_type": "code",
   "execution_count": 57,
   "metadata": {
    "ExecuteTime": {
     "end_time": "2022-07-11T17:31:17.682183Z",
     "start_time": "2022-07-11T17:31:17.652226Z"
    }
   },
   "outputs": [],
   "source": [
    "for df in dfs:\n",
    "    df.set_index(\"date\", inplace=True)\n",
    "    df.index = pd.to_datetime(df.index)"
   ]
  },
  {
   "cell_type": "code",
   "execution_count": 58,
   "metadata": {
    "ExecuteTime": {
     "end_time": "2022-07-11T17:31:19.043948Z",
     "start_time": "2022-07-11T17:31:19.030925Z"
    }
   },
   "outputs": [],
   "source": [
    "cca_w.set_index(\"Unnamed: 0\", inplace=True)\n",
    "cca_w.index = pd.to_datetime(cca_w.index)"
   ]
  },
  {
   "cell_type": "code",
   "execution_count": 61,
   "metadata": {
    "ExecuteTime": {
     "end_time": "2022-07-11T17:31:28.956708Z",
     "start_time": "2022-07-11T17:31:28.945708Z"
    }
   },
   "outputs": [],
   "source": [
    "kernels = [\"gaussian\",\"triangular\",\"epanechnikov\"]"
   ]
  },
  {
   "cell_type": "markdown",
   "metadata": {},
   "source": [
    "## preprocessing"
   ]
  },
  {
   "cell_type": "code",
   "execution_count": 62,
   "metadata": {
    "ExecuteTime": {
     "end_time": "2022-07-11T17:31:30.601030Z",
     "start_time": "2022-07-11T17:31:30.594980Z"
    }
   },
   "outputs": [],
   "source": [
    "def cleaning(x):\n",
    "    a = [ele for ele in x.strip(\"[]\").split(\" \") if ele.strip()]\n",
    "    a = [elem.replace(\"\\n\",\"\") for elem in a]\n",
    "    return np.asarray(a,dtype=float)"
   ]
  },
  {
   "cell_type": "code",
   "execution_count": 63,
   "metadata": {
    "ExecuteTime": {
     "end_time": "2022-07-11T17:31:52.863023Z",
     "start_time": "2022-07-11T17:31:32.405837Z"
    }
   },
   "outputs": [],
   "source": [
    "gauss_w  = gauss_w.applymap(cleaning)\n",
    "tri_w = tri_w.applymap(cleaning)\n",
    "epan_w = epan_w.applymap(cleaning)"
   ]
  },
  {
   "cell_type": "markdown",
   "metadata": {},
   "source": [
    "## correcting a mistake regarding the correlations"
   ]
  },
  {
   "cell_type": "code",
   "execution_count": null,
   "metadata": {},
   "outputs": [],
   "source": [
    "K_pl = np.linalg.inv(cov_R_half) @ (results.T @ results) @ np.linalg.inv(cov_R_half)\n",
    "        \n",
    "        # make sure it's sorted\n",
    "        eigen_val, eigen_vec = np.linalg.eig(K_pl)\n",
    "        order = np.argsort(eigen_val)[::-1]\n",
    "        idx = np.empty_like(order)\n",
    "        idx[order] = np.arange(len(order))\n",
    "        eigen_vec[:] = eigen_vec[:, idx] "
   ]
  },
  {
   "cell_type": "code",
   "execution_count": 101,
   "metadata": {
    "ExecuteTime": {
     "end_time": "2022-07-08T11:56:07.030793Z",
     "start_time": "2022-07-08T11:47:21.595993Z"
    }
   },
   "outputs": [
    {
     "name": "stdout",
     "output_type": "stream",
     "text": [
      "gaussian\n",
      "triangular\n",
      "epanechnikov\n"
     ]
    }
   ],
   "source": [
    "# step 1: all column elements as one matrix\n",
    "# step 2: eigenvalues\n",
    "# step 3: eigenvalues in place\n",
    "#for kernel in kernels:\n",
    "for kernel in kernels:\n",
    "    print(kernel)\n",
    "    cp = all_weights[kernel].copy()\n",
    "    for row in range(cp.shape[0]):\n",
    "        cov_R_half = get_cov(ret.iloc[row:(row+250),:], method=\"sample\", square_root=True)\n",
    "        # re-extract the weights\n",
    "        w = cov_R_half.T @ np.array(gauss_w.iloc[0,:].to_list()).T\n",
    "        \n",
    "        K = w @ w.T\n",
    "        \n",
    "        eigenval, eigenvec = np.linalg.eig(K)\n",
    "        \n",
    "        for col in range(all_corr[kernel].shape[1]):\n",
    "            all_corr[kernel].iloc[row,col] = eigenval[col]\n"
   ]
  },
  {
   "cell_type": "markdown",
   "metadata": {
    "ExecuteTime": {
     "end_time": "2022-07-08T08:59:11.963908Z",
     "start_time": "2022-07-08T08:59:11.920945Z"
    }
   },
   "source": [
    "# No Transaction Costs Performance"
   ]
  },
  {
   "cell_type": "code",
   "execution_count": null,
   "metadata": {},
   "outputs": [],
   "source": []
  },
  {
   "cell_type": "code",
   "execution_count": null,
   "metadata": {},
   "outputs": [],
   "source": []
  },
  {
   "cell_type": "markdown",
   "metadata": {},
   "source": [
    "# Transaction cost based on portfolios\n",
    "\n",
    "Inspired from analytical solutions of optimal portfolio rebalancing, Ding Liu, 2019"
   ]
  },
  {
   "cell_type": "code",
   "execution_count": 34,
   "metadata": {
    "ExecuteTime": {
     "end_time": "2022-07-08T10:46:08.418948Z",
     "start_time": "2022-07-08T10:46:08.404946Z"
    }
   },
   "outputs": [],
   "source": [
    "all_weights = {'gaussian':gauss_w, 'triangular':tri_w,'epanechnikov':epan_w}\n",
    "all_corr = {'gaussian':gauss_c, 'triangular':tri_c,'epanechnikov':epan_c}"
   ]
  },
  {
   "cell_type": "code",
   "execution_count": 206,
   "metadata": {
    "ExecuteTime": {
     "end_time": "2022-07-08T16:47:38.210256Z",
     "start_time": "2022-07-08T16:47:38.172756Z"
    }
   },
   "outputs": [],
   "source": [
    "def update_weights(new_weights,old_weights, corr, tcost, risk_aversion, pf_variance):\n",
    "    \"\"\"\n",
    "        rebalance the weights depending on rebalancing costs, risk aversion, and portfolio variance\n",
    "        \n",
    "        inputs:\n",
    "                new_weights   : matrix of all weights calculated using CCA at t [m x m]\n",
    "                old_weights   : total portfolio weights at t-1                  [1 x m]\n",
    "                corr          : correlations corresponding to new_weights at t  [1 x m]\n",
    "                tcost         : transaction cost parameter                      [1 x 1]\n",
    "                risk_aversion : risk aversion parameter                         [1 x 1]\n",
    "                pf_variance   : current portfolio variance at t-1               [1 x 1]\n",
    "        outputs:\n",
    "                change_w : change in weights (compared to old weights) [1 x m]\n",
    "    \"\"\"\n",
    "    # step 1 : multiply each portfolio by its correlation\n",
    "    w = new_weights*np.array(corr)\n",
    "    # step 2 : calculate total weights\n",
    "    total_w = w.sum()\n",
    "    # step 3 : calculate weights change\n",
    "    change_w = old_weights - total_w\n",
    "    # step 4 : initial transaction cost\n",
    "    rebalance_cost = tcost * np.sum(np.abs(change_w))\n",
    "    # step 5 : calculate which portfolios to include iteratively\n",
    "    trade = False\n",
    "    while(trade==False):\n",
    "        # check whether it is worth rebalancing given total current turnover\n",
    "        if np.sum(np.abs(change_w)) - (1/risk_aversion) * rebalance_cost / pf_variance < 0:\n",
    "            # remove last canonical portfolio\n",
    "            # unless we decide not to trade any portfolio -> end loop\n",
    "            if w.shape[1]==0:\n",
    "                trade = True\n",
    "            else:\n",
    "                w = np.delete(w, -1, 1)\n",
    "                total_w = w.sum()\n",
    "                change_w = old_weights - total_w\n",
    "                rebalance_cost = tcost * np.sum(np.abs(change_w))\n",
    "        else:\n",
    "            trade = True\n",
    "    # return the change in weights\n",
    "    return change_w"
   ]
  },
  {
   "cell_type": "code",
   "execution_count": null,
   "metadata": {},
   "outputs": [],
   "source": [
    "# function to iteratively calculate portfolio weights & profitability\n",
    "def backtest_cca():\n",
    "    return 0"
   ]
  },
  {
   "cell_type": "markdown",
   "metadata": {},
   "source": [
    "# Transaction cost on asset level\n",
    "\n",
    "Implementation of \"Multiperiod portfolio optimization with multiple risky assets and general transaction costs\", Mei, Demiguel, Nogales, 2016"
   ]
  },
  {
   "cell_type": "code",
   "execution_count": 41,
   "metadata": {
    "ExecuteTime": {
     "end_time": "2022-07-11T17:18:34.794732Z",
     "start_time": "2022-07-11T17:18:34.772732Z"
    }
   },
   "outputs": [],
   "source": [
    "def rebalancing(X,X_prev, rho, gamma, kappa, mu,sigma, lag, target=\"Markowitz\"):\n",
    "    \"\"\"\n",
    "        Function to calculate optimal rebalancing on asset level with proportional transaction costs.\n",
    "        \n",
    "        Implementation equation (2) in Multiperiod portfolio optimization with multiple risky assets\n",
    "        and general transaction costs.\n",
    "        \n",
    "        Inputs:\n",
    "                X      : target weights                   [1 x m]\n",
    "                X_prev : previous weights                 [1 x m]\n",
    "                rho    : discount rate                    [1 x 1]\n",
    "                gamma  : absolute risk-aversion parameter [1 x 1]\n",
    "                kappa  : transaction cost parameter       [1 x 1]\n",
    "                mu     : mean returns                     [1 x m]\n",
    "                sigma  : covariance of returns            [m x m]\n",
    "                lag    : rebalancing horizon              [1 x 1]\n",
    "        Output:\n",
    "                new_w : new weights [1 x m]\n",
    "    \"\"\"\n",
    "    m = len(X)\n",
    "    \n",
    "    # initiliase variable\n",
    "    w = cp.Variable(m)\n",
    "    \n",
    "    constraints = []\n",
    "    # objective function\n",
    "    if target==\"Markowitz\":\n",
    "        obj = cp.Maximize((1-rho)**lag * (w * mu - gamma/2 * w * sigma * w) - kappa*cp.norm(w - X_prev, 1))\n",
    "    elif target==\"Target\":\n",
    "        ########### PERFORM WITH SCIPY INSTEAD\n",
    "        #obj = cp.Minimize(cp.norm(X - w + kappa * cp.norm(w - X_prev, 1)))\n",
    "        #obj = cp.Minimize(cp.sum(X-w))\n",
    "        #constraints = [cp.norm(w)<=1]\n",
    "        arguments = (X, kappa, X_prev)\n",
    "        res = minimize(minimize_target, x0=X, args=arguments)\n",
    "        new_w = res.x\n",
    "        \n",
    "    elif target == \"Simple\":\n",
    "        obj  = cp.Maximize((1-rho)**lag * w - kappa * cp.norm(w - X_prev, 1))\n",
    "    # constraints\n",
    "    # None first\n",
    "    \n",
    "    # solve problem\n",
    "    #prob = cp.Problem(obj, constraints)\n",
    "    #prob.solve(verbose = False)\n",
    "    \n",
    "    # new weights\n",
    "    #new_w = np.array(w.value)\n",
    "    \n",
    "    \n",
    "    return new_w\n",
    "def minimize_target(w, X, kappa, X_prev):\n",
    "    return np.linalg.norm(X-w + kappa * np.linalg.norm(w - X_prev,1),1)"
   ]
  },
  {
   "cell_type": "code",
   "execution_count": 42,
   "metadata": {
    "ExecuteTime": {
     "end_time": "2022-07-11T17:18:35.029508Z",
     "start_time": "2022-07-11T17:18:35.016466Z"
    }
   },
   "outputs": [],
   "source": [
    "def constant_rebalancing(weights, rho, gamma, kappa, returns, lag, target):\n",
    "    \"\"\"\n",
    "        function to perform continuous rebalancing taking into account transaction costs\n",
    "    \n",
    "    \"\"\"\n",
    "    # create some variables    \n",
    "    means = returns.rolling(250).mean().iloc[250:,:]\n",
    "    #covariances = returns.rolling(250).cov()\n",
    "    covariances = 1\n",
    "    new_weights = weights.copy()\n",
    "    \n",
    "    new_weights.iloc[0,:] = new_weights.iloc[0,:]# / np.linalg.norm(new_weights.iloc[0,:])\n",
    "    \n",
    "    # first very basic function\n",
    "    for i in range(1,weights.shape[0]):\n",
    "        target_w = np.array(weights.iloc[i,:])#/np.linalg.norm(weights.iloc[i,:]))\n",
    "        prev_w = np.array(new_weights.iloc[i-1,:])\n",
    "        \n",
    "        temp = rebalancing(target_w, prev_w, rho=rho,\n",
    "                              gamma=gamma, kappa=kappa, mu=means.iloc[i,:], sigma=covariances, lag=lag, target=target)\n",
    "        \n",
    "        for j in range(len(temp)):\n",
    "            new_weights.iloc[i,j] = temp[j]\n",
    "    \n",
    "    return new_weights\n"
   ]
  },
  {
   "cell_type": "code",
   "execution_count": 64,
   "metadata": {
    "ExecuteTime": {
     "end_time": "2022-07-11T17:32:06.010896Z",
     "start_time": "2022-07-11T17:32:06.001855Z"
    }
   },
   "outputs": [],
   "source": [
    "w1 = cca_w.iloc[:30,:]"
   ]
  },
  {
   "cell_type": "code",
   "execution_count": 83,
   "metadata": {
    "ExecuteTime": {
     "end_time": "2022-07-11T17:36:32.399100Z",
     "start_time": "2022-07-11T17:36:08.688288Z"
    }
   },
   "outputs": [],
   "source": [
    "test = constant_rebalancing(w1, rho=0, gamma=10e-6, kappa=0.01, returns=ret, lag=1, target=\"Target\")\n"
   ]
  },
  {
   "cell_type": "code",
   "execution_count": 84,
   "metadata": {
    "ExecuteTime": {
     "end_time": "2022-07-11T17:36:32.414957Z",
     "start_time": "2022-07-11T17:36:32.401952Z"
    }
   },
   "outputs": [],
   "source": [
    "test1 = {\"sample\":test}"
   ]
  },
  {
   "cell_type": "code",
   "execution_count": 85,
   "metadata": {
    "ExecuteTime": {
     "end_time": "2022-07-11T17:36:32.446956Z",
     "start_time": "2022-07-11T17:36:32.417953Z"
    }
   },
   "outputs": [],
   "source": [
    "# build P&L\n",
    "cov_models=[\"sample\"]\n",
    "pnl_results = dict()\n",
    "ptf_ret = dict()\n",
    "for model in cov_models:\n",
    "    portfolio =  Portfolio(prices=prices.loc[test1[model].index], position=test1[model], period=0)\n",
    "    ptf_ret[model] = portfolio.profit.to_frame(name=\"Profit\")\n",
    "    pnl_results[model] = portfolio.nav().to_frame(name=\"NAV\")"
   ]
  },
  {
   "cell_type": "code",
   "execution_count": 86,
   "metadata": {
    "ExecuteTime": {
     "end_time": "2022-07-11T17:36:32.507955Z",
     "start_time": "2022-07-11T17:36:32.449956Z"
    }
   },
   "outputs": [
    {
     "data": {
      "text/html": [
       "<div>\n",
       "<style scoped>\n",
       "    .dataframe tbody tr th:only-of-type {\n",
       "        vertical-align: middle;\n",
       "    }\n",
       "\n",
       "    .dataframe tbody tr th {\n",
       "        vertical-align: top;\n",
       "    }\n",
       "\n",
       "    .dataframe thead th {\n",
       "        text-align: right;\n",
       "    }\n",
       "</style>\n",
       "<table border=\"1\" class=\"dataframe\">\n",
       "  <thead>\n",
       "    <tr style=\"text-align: right;\">\n",
       "      <th></th>\n",
       "      <th>AV</th>\n",
       "      <th>SD</th>\n",
       "      <th>IR</th>\n",
       "      <th>VaR</th>\n",
       "      <th>MDD</th>\n",
       "      <th>P2T</th>\n",
       "      <th>P2P</th>\n",
       "      <th>P2PL</th>\n",
       "      <th>Calmar</th>\n",
       "      <th>Stability</th>\n",
       "      <th>Omega</th>\n",
       "      <th>Sortino</th>\n",
       "      <th>TailRatio</th>\n",
       "      <th>CSR</th>\n",
       "      <th>Kurtosis</th>\n",
       "    </tr>\n",
       "  </thead>\n",
       "  <tbody>\n",
       "    <tr>\n",
       "      <th>sample</th>\n",
       "      <td>799.59</td>\n",
       "      <td>171.69</td>\n",
       "      <td>4.66</td>\n",
       "      <td>0.8</td>\n",
       "      <td>-1.28</td>\n",
       "      <td>3.0</td>\n",
       "      <td>NaN</td>\n",
       "      <td>30.0</td>\n",
       "      <td>6.25</td>\n",
       "      <td>0.78</td>\n",
       "      <td>2.07</td>\n",
       "      <td>7.83</td>\n",
       "      <td>1.3</td>\n",
       "      <td>2.69</td>\n",
       "      <td>0.04</td>\n",
       "    </tr>\n",
       "  </tbody>\n",
       "</table>\n",
       "</div>"
      ],
      "text/plain": [
       "            AV      SD    IR  VaR   MDD  P2T  P2P  P2PL  Calmar  Stability  \\\n",
       "sample  799.59  171.69  4.66  0.8 -1.28  3.0  NaN  30.0    6.25       0.78   \n",
       "\n",
       "        Omega  Sortino  TailRatio   CSR  Kurtosis  \n",
       "sample   2.07     7.83        1.3  2.69      0.04  "
      ]
     },
     "execution_count": 86,
     "metadata": {},
     "output_type": "execute_result"
    }
   ],
   "source": [
    "build_table2(cov_models, ptf_ret)"
   ]
  },
  {
   "cell_type": "code",
   "execution_count": 87,
   "metadata": {
    "ExecuteTime": {
     "end_time": "2022-07-11T17:36:32.571957Z",
     "start_time": "2022-07-11T17:36:32.510957Z"
    }
   },
   "outputs": [
    {
     "data": {
      "text/html": [
       "<div>\n",
       "<style scoped>\n",
       "    .dataframe tbody tr th:only-of-type {\n",
       "        vertical-align: middle;\n",
       "    }\n",
       "\n",
       "    .dataframe tbody tr th {\n",
       "        vertical-align: top;\n",
       "    }\n",
       "\n",
       "    .dataframe thead th {\n",
       "        text-align: right;\n",
       "    }\n",
       "</style>\n",
       "<table border=\"1\" class=\"dataframe\">\n",
       "  <thead>\n",
       "    <tr style=\"text-align: right;\">\n",
       "      <th></th>\n",
       "      <th>TO</th>\n",
       "      <th>GL</th>\n",
       "      <th>PL</th>\n",
       "      <th>IR_net</th>\n",
       "      <th>herf</th>\n",
       "      <th>pos</th>\n",
       "    </tr>\n",
       "  </thead>\n",
       "  <tbody>\n",
       "    <tr>\n",
       "      <th>sample</th>\n",
       "      <td>23.53</td>\n",
       "      <td>25.69</td>\n",
       "      <td>0.33</td>\n",
       "      <td>3.03</td>\n",
       "      <td>0.09</td>\n",
       "      <td>66.8</td>\n",
       "    </tr>\n",
       "  </tbody>\n",
       "</table>\n",
       "</div>"
      ],
      "text/plain": [
       "           TO     GL    PL  IR_net  herf   pos\n",
       "sample  23.53  25.69  0.33    3.03  0.09  66.8"
      ]
     },
     "execution_count": 87,
     "metadata": {},
     "output_type": "execute_result"
    }
   ],
   "source": [
    "build_table3(cov_models, test1, ptf_ret)"
   ]
  },
  {
   "cell_type": "code",
   "execution_count": 88,
   "metadata": {
    "ExecuteTime": {
     "end_time": "2022-07-11T17:36:35.984125Z",
     "start_time": "2022-07-11T17:36:35.913156Z"
    }
   },
   "outputs": [
    {
     "data": {
      "application/vnd.plotly.v1+json": {
       "config": {
        "plotlyServerURL": "https://plot.ly"
       },
       "data": [
        {
         "line": {
          "color": "#4E87A0",
          "width": 2
         },
         "name": "sample",
         "opacity": 0.8,
         "type": "scatter",
         "x": [
          "2001-01-04T00:00:00",
          "2001-01-05T00:00:00",
          "2001-01-08T00:00:00",
          "2001-01-09T00:00:00",
          "2001-01-10T00:00:00",
          "2001-01-11T00:00:00",
          "2001-01-12T00:00:00",
          "2001-01-16T00:00:00",
          "2001-01-17T00:00:00",
          "2001-01-18T00:00:00",
          "2001-01-19T00:00:00",
          "2001-01-22T00:00:00",
          "2001-01-23T00:00:00",
          "2001-01-24T00:00:00",
          "2001-01-25T00:00:00",
          "2001-01-26T00:00:00",
          "2001-01-29T00:00:00",
          "2001-01-30T00:00:00",
          "2001-01-31T00:00:00",
          "2001-02-01T00:00:00",
          "2001-02-02T00:00:00",
          "2001-02-05T00:00:00",
          "2001-02-06T00:00:00",
          "2001-02-07T00:00:00",
          "2001-02-08T00:00:00",
          "2001-02-09T00:00:00",
          "2001-02-12T00:00:00",
          "2001-02-13T00:00:00",
          "2001-02-14T00:00:00",
          "2001-02-15T00:00:00"
         ],
         "y": [
          1,
          0.9784517799490132,
          0.9746216502616302,
          0.9838174769038645,
          0.9898023579834605,
          1.0015764293472655,
          1.007337108791251,
          1.0214130537300359,
          1.020598633773446,
          1.0334763611421993,
          1.018955111873306,
          1.0332135655706263,
          1.0433327370382395,
          1.0454883611872055,
          1.0485864460859255,
          1.0468314745829974,
          1.057588123199907,
          1.068082120796588,
          1.0675167177089686,
          1.071494048974699,
          1.0667949321556236,
          1.055064108500602,
          1.0611451958637126,
          1.0549067904211438,
          1.0510454382341712,
          1.0379794389721941,
          1.0597196584588062,
          1.058365025834382,
          1.06719400479242,
          1.0886773985154317
         ]
        }
       ],
       "layout": {
        "template": {
         "data": {
          "bar": [
           {
            "error_x": {
             "color": "#2a3f5f"
            },
            "error_y": {
             "color": "#2a3f5f"
            },
            "marker": {
             "line": {
              "color": "#E5ECF6",
              "width": 0.5
             },
             "pattern": {
              "fillmode": "overlay",
              "size": 10,
              "solidity": 0.2
             }
            },
            "type": "bar"
           }
          ],
          "barpolar": [
           {
            "marker": {
             "line": {
              "color": "#E5ECF6",
              "width": 0.5
             },
             "pattern": {
              "fillmode": "overlay",
              "size": 10,
              "solidity": 0.2
             }
            },
            "type": "barpolar"
           }
          ],
          "carpet": [
           {
            "aaxis": {
             "endlinecolor": "#2a3f5f",
             "gridcolor": "white",
             "linecolor": "white",
             "minorgridcolor": "white",
             "startlinecolor": "#2a3f5f"
            },
            "baxis": {
             "endlinecolor": "#2a3f5f",
             "gridcolor": "white",
             "linecolor": "white",
             "minorgridcolor": "white",
             "startlinecolor": "#2a3f5f"
            },
            "type": "carpet"
           }
          ],
          "choropleth": [
           {
            "colorbar": {
             "outlinewidth": 0,
             "ticks": ""
            },
            "type": "choropleth"
           }
          ],
          "contour": [
           {
            "colorbar": {
             "outlinewidth": 0,
             "ticks": ""
            },
            "colorscale": [
             [
              0,
              "#0d0887"
             ],
             [
              0.1111111111111111,
              "#46039f"
             ],
             [
              0.2222222222222222,
              "#7201a8"
             ],
             [
              0.3333333333333333,
              "#9c179e"
             ],
             [
              0.4444444444444444,
              "#bd3786"
             ],
             [
              0.5555555555555556,
              "#d8576b"
             ],
             [
              0.6666666666666666,
              "#ed7953"
             ],
             [
              0.7777777777777778,
              "#fb9f3a"
             ],
             [
              0.8888888888888888,
              "#fdca26"
             ],
             [
              1,
              "#f0f921"
             ]
            ],
            "type": "contour"
           }
          ],
          "contourcarpet": [
           {
            "colorbar": {
             "outlinewidth": 0,
             "ticks": ""
            },
            "type": "contourcarpet"
           }
          ],
          "heatmap": [
           {
            "colorbar": {
             "outlinewidth": 0,
             "ticks": ""
            },
            "colorscale": [
             [
              0,
              "#0d0887"
             ],
             [
              0.1111111111111111,
              "#46039f"
             ],
             [
              0.2222222222222222,
              "#7201a8"
             ],
             [
              0.3333333333333333,
              "#9c179e"
             ],
             [
              0.4444444444444444,
              "#bd3786"
             ],
             [
              0.5555555555555556,
              "#d8576b"
             ],
             [
              0.6666666666666666,
              "#ed7953"
             ],
             [
              0.7777777777777778,
              "#fb9f3a"
             ],
             [
              0.8888888888888888,
              "#fdca26"
             ],
             [
              1,
              "#f0f921"
             ]
            ],
            "type": "heatmap"
           }
          ],
          "heatmapgl": [
           {
            "colorbar": {
             "outlinewidth": 0,
             "ticks": ""
            },
            "colorscale": [
             [
              0,
              "#0d0887"
             ],
             [
              0.1111111111111111,
              "#46039f"
             ],
             [
              0.2222222222222222,
              "#7201a8"
             ],
             [
              0.3333333333333333,
              "#9c179e"
             ],
             [
              0.4444444444444444,
              "#bd3786"
             ],
             [
              0.5555555555555556,
              "#d8576b"
             ],
             [
              0.6666666666666666,
              "#ed7953"
             ],
             [
              0.7777777777777778,
              "#fb9f3a"
             ],
             [
              0.8888888888888888,
              "#fdca26"
             ],
             [
              1,
              "#f0f921"
             ]
            ],
            "type": "heatmapgl"
           }
          ],
          "histogram": [
           {
            "marker": {
             "pattern": {
              "fillmode": "overlay",
              "size": 10,
              "solidity": 0.2
             }
            },
            "type": "histogram"
           }
          ],
          "histogram2d": [
           {
            "colorbar": {
             "outlinewidth": 0,
             "ticks": ""
            },
            "colorscale": [
             [
              0,
              "#0d0887"
             ],
             [
              0.1111111111111111,
              "#46039f"
             ],
             [
              0.2222222222222222,
              "#7201a8"
             ],
             [
              0.3333333333333333,
              "#9c179e"
             ],
             [
              0.4444444444444444,
              "#bd3786"
             ],
             [
              0.5555555555555556,
              "#d8576b"
             ],
             [
              0.6666666666666666,
              "#ed7953"
             ],
             [
              0.7777777777777778,
              "#fb9f3a"
             ],
             [
              0.8888888888888888,
              "#fdca26"
             ],
             [
              1,
              "#f0f921"
             ]
            ],
            "type": "histogram2d"
           }
          ],
          "histogram2dcontour": [
           {
            "colorbar": {
             "outlinewidth": 0,
             "ticks": ""
            },
            "colorscale": [
             [
              0,
              "#0d0887"
             ],
             [
              0.1111111111111111,
              "#46039f"
             ],
             [
              0.2222222222222222,
              "#7201a8"
             ],
             [
              0.3333333333333333,
              "#9c179e"
             ],
             [
              0.4444444444444444,
              "#bd3786"
             ],
             [
              0.5555555555555556,
              "#d8576b"
             ],
             [
              0.6666666666666666,
              "#ed7953"
             ],
             [
              0.7777777777777778,
              "#fb9f3a"
             ],
             [
              0.8888888888888888,
              "#fdca26"
             ],
             [
              1,
              "#f0f921"
             ]
            ],
            "type": "histogram2dcontour"
           }
          ],
          "mesh3d": [
           {
            "colorbar": {
             "outlinewidth": 0,
             "ticks": ""
            },
            "type": "mesh3d"
           }
          ],
          "parcoords": [
           {
            "line": {
             "colorbar": {
              "outlinewidth": 0,
              "ticks": ""
             }
            },
            "type": "parcoords"
           }
          ],
          "pie": [
           {
            "automargin": true,
            "type": "pie"
           }
          ],
          "scatter": [
           {
            "fillpattern": {
             "fillmode": "overlay",
             "size": 10,
             "solidity": 0.2
            },
            "type": "scatter"
           }
          ],
          "scatter3d": [
           {
            "line": {
             "colorbar": {
              "outlinewidth": 0,
              "ticks": ""
             }
            },
            "marker": {
             "colorbar": {
              "outlinewidth": 0,
              "ticks": ""
             }
            },
            "type": "scatter3d"
           }
          ],
          "scattercarpet": [
           {
            "marker": {
             "colorbar": {
              "outlinewidth": 0,
              "ticks": ""
             }
            },
            "type": "scattercarpet"
           }
          ],
          "scattergeo": [
           {
            "marker": {
             "colorbar": {
              "outlinewidth": 0,
              "ticks": ""
             }
            },
            "type": "scattergeo"
           }
          ],
          "scattergl": [
           {
            "marker": {
             "colorbar": {
              "outlinewidth": 0,
              "ticks": ""
             }
            },
            "type": "scattergl"
           }
          ],
          "scattermapbox": [
           {
            "marker": {
             "colorbar": {
              "outlinewidth": 0,
              "ticks": ""
             }
            },
            "type": "scattermapbox"
           }
          ],
          "scatterpolar": [
           {
            "marker": {
             "colorbar": {
              "outlinewidth": 0,
              "ticks": ""
             }
            },
            "type": "scatterpolar"
           }
          ],
          "scatterpolargl": [
           {
            "marker": {
             "colorbar": {
              "outlinewidth": 0,
              "ticks": ""
             }
            },
            "type": "scatterpolargl"
           }
          ],
          "scatterternary": [
           {
            "marker": {
             "colorbar": {
              "outlinewidth": 0,
              "ticks": ""
             }
            },
            "type": "scatterternary"
           }
          ],
          "surface": [
           {
            "colorbar": {
             "outlinewidth": 0,
             "ticks": ""
            },
            "colorscale": [
             [
              0,
              "#0d0887"
             ],
             [
              0.1111111111111111,
              "#46039f"
             ],
             [
              0.2222222222222222,
              "#7201a8"
             ],
             [
              0.3333333333333333,
              "#9c179e"
             ],
             [
              0.4444444444444444,
              "#bd3786"
             ],
             [
              0.5555555555555556,
              "#d8576b"
             ],
             [
              0.6666666666666666,
              "#ed7953"
             ],
             [
              0.7777777777777778,
              "#fb9f3a"
             ],
             [
              0.8888888888888888,
              "#fdca26"
             ],
             [
              1,
              "#f0f921"
             ]
            ],
            "type": "surface"
           }
          ],
          "table": [
           {
            "cells": {
             "fill": {
              "color": "#EBF0F8"
             },
             "line": {
              "color": "white"
             }
            },
            "header": {
             "fill": {
              "color": "#C8D4E3"
             },
             "line": {
              "color": "white"
             }
            },
            "type": "table"
           }
          ]
         },
         "layout": {
          "annotationdefaults": {
           "arrowcolor": "#2a3f5f",
           "arrowhead": 0,
           "arrowwidth": 1
          },
          "autotypenumbers": "strict",
          "coloraxis": {
           "colorbar": {
            "outlinewidth": 0,
            "ticks": ""
           }
          },
          "colorscale": {
           "diverging": [
            [
             0,
             "#8e0152"
            ],
            [
             0.1,
             "#c51b7d"
            ],
            [
             0.2,
             "#de77ae"
            ],
            [
             0.3,
             "#f1b6da"
            ],
            [
             0.4,
             "#fde0ef"
            ],
            [
             0.5,
             "#f7f7f7"
            ],
            [
             0.6,
             "#e6f5d0"
            ],
            [
             0.7,
             "#b8e186"
            ],
            [
             0.8,
             "#7fbc41"
            ],
            [
             0.9,
             "#4d9221"
            ],
            [
             1,
             "#276419"
            ]
           ],
           "sequential": [
            [
             0,
             "#0d0887"
            ],
            [
             0.1111111111111111,
             "#46039f"
            ],
            [
             0.2222222222222222,
             "#7201a8"
            ],
            [
             0.3333333333333333,
             "#9c179e"
            ],
            [
             0.4444444444444444,
             "#bd3786"
            ],
            [
             0.5555555555555556,
             "#d8576b"
            ],
            [
             0.6666666666666666,
             "#ed7953"
            ],
            [
             0.7777777777777778,
             "#fb9f3a"
            ],
            [
             0.8888888888888888,
             "#fdca26"
            ],
            [
             1,
             "#f0f921"
            ]
           ],
           "sequentialminus": [
            [
             0,
             "#0d0887"
            ],
            [
             0.1111111111111111,
             "#46039f"
            ],
            [
             0.2222222222222222,
             "#7201a8"
            ],
            [
             0.3333333333333333,
             "#9c179e"
            ],
            [
             0.4444444444444444,
             "#bd3786"
            ],
            [
             0.5555555555555556,
             "#d8576b"
            ],
            [
             0.6666666666666666,
             "#ed7953"
            ],
            [
             0.7777777777777778,
             "#fb9f3a"
            ],
            [
             0.8888888888888888,
             "#fdca26"
            ],
            [
             1,
             "#f0f921"
            ]
           ]
          },
          "colorway": [
           "#636efa",
           "#EF553B",
           "#00cc96",
           "#ab63fa",
           "#FFA15A",
           "#19d3f3",
           "#FF6692",
           "#B6E880",
           "#FF97FF",
           "#FECB52"
          ],
          "font": {
           "color": "#2a3f5f"
          },
          "geo": {
           "bgcolor": "white",
           "lakecolor": "white",
           "landcolor": "#E5ECF6",
           "showlakes": true,
           "showland": true,
           "subunitcolor": "white"
          },
          "hoverlabel": {
           "align": "left"
          },
          "hovermode": "closest",
          "mapbox": {
           "style": "light"
          },
          "paper_bgcolor": "white",
          "plot_bgcolor": "#E5ECF6",
          "polar": {
           "angularaxis": {
            "gridcolor": "white",
            "linecolor": "white",
            "ticks": ""
           },
           "bgcolor": "#E5ECF6",
           "radialaxis": {
            "gridcolor": "white",
            "linecolor": "white",
            "ticks": ""
           }
          },
          "scene": {
           "xaxis": {
            "backgroundcolor": "#E5ECF6",
            "gridcolor": "white",
            "gridwidth": 2,
            "linecolor": "white",
            "showbackground": true,
            "ticks": "",
            "zerolinecolor": "white"
           },
           "yaxis": {
            "backgroundcolor": "#E5ECF6",
            "gridcolor": "white",
            "gridwidth": 2,
            "linecolor": "white",
            "showbackground": true,
            "ticks": "",
            "zerolinecolor": "white"
           },
           "zaxis": {
            "backgroundcolor": "#E5ECF6",
            "gridcolor": "white",
            "gridwidth": 2,
            "linecolor": "white",
            "showbackground": true,
            "ticks": "",
            "zerolinecolor": "white"
           }
          },
          "shapedefaults": {
           "line": {
            "color": "#2a3f5f"
           }
          },
          "ternary": {
           "aaxis": {
            "gridcolor": "white",
            "linecolor": "white",
            "ticks": ""
           },
           "baxis": {
            "gridcolor": "white",
            "linecolor": "white",
            "ticks": ""
           },
           "bgcolor": "#E5ECF6",
           "caxis": {
            "gridcolor": "white",
            "linecolor": "white",
            "ticks": ""
           }
          },
          "title": {
           "x": 0.05
          },
          "xaxis": {
           "automargin": true,
           "gridcolor": "white",
           "linecolor": "white",
           "ticks": "",
           "title": {
            "standoff": 15
           },
           "zerolinecolor": "white",
           "zerolinewidth": 2
          },
          "yaxis": {
           "automargin": true,
           "gridcolor": "white",
           "linecolor": "white",
           "ticks": "",
           "title": {
            "standoff": 15
           },
           "zerolinecolor": "white",
           "zerolinewidth": 2
          }
         }
        },
        "title": {
         "text": "Cumulative PnL"
        },
        "yaxis": {
         "title": {
          "text": "Cumulative Returns (Log-Scale)"
         },
         "type": "log"
        }
       }
      },
      "text/html": [
       "<div>                            <div id=\"eacdf5e8-6626-4c28-8cff-e40e033a889d\" class=\"plotly-graph-div\" style=\"height:525px; width:100%;\"></div>            <script type=\"text/javascript\">                require([\"plotly\"], function(Plotly) {                    window.PLOTLYENV=window.PLOTLYENV || {};                                    if (document.getElementById(\"eacdf5e8-6626-4c28-8cff-e40e033a889d\")) {                    Plotly.newPlot(                        \"eacdf5e8-6626-4c28-8cff-e40e033a889d\",                        [{\"line\":{\"color\":\"#4E87A0\",\"width\":2},\"name\":\"sample\",\"opacity\":0.8,\"x\":[\"2001-01-04T00:00:00\",\"2001-01-05T00:00:00\",\"2001-01-08T00:00:00\",\"2001-01-09T00:00:00\",\"2001-01-10T00:00:00\",\"2001-01-11T00:00:00\",\"2001-01-12T00:00:00\",\"2001-01-16T00:00:00\",\"2001-01-17T00:00:00\",\"2001-01-18T00:00:00\",\"2001-01-19T00:00:00\",\"2001-01-22T00:00:00\",\"2001-01-23T00:00:00\",\"2001-01-24T00:00:00\",\"2001-01-25T00:00:00\",\"2001-01-26T00:00:00\",\"2001-01-29T00:00:00\",\"2001-01-30T00:00:00\",\"2001-01-31T00:00:00\",\"2001-02-01T00:00:00\",\"2001-02-02T00:00:00\",\"2001-02-05T00:00:00\",\"2001-02-06T00:00:00\",\"2001-02-07T00:00:00\",\"2001-02-08T00:00:00\",\"2001-02-09T00:00:00\",\"2001-02-12T00:00:00\",\"2001-02-13T00:00:00\",\"2001-02-14T00:00:00\",\"2001-02-15T00:00:00\"],\"y\":[1.0,0.9784517799490132,0.9746216502616302,0.9838174769038645,0.9898023579834605,1.0015764293472655,1.007337108791251,1.0214130537300359,1.020598633773446,1.0334763611421993,1.018955111873306,1.0332135655706263,1.0433327370382395,1.0454883611872055,1.0485864460859255,1.0468314745829974,1.057588123199907,1.068082120796588,1.0675167177089686,1.071494048974699,1.0667949321556236,1.055064108500602,1.0611451958637126,1.0549067904211438,1.0510454382341712,1.0379794389721941,1.0597196584588062,1.058365025834382,1.06719400479242,1.0886773985154317],\"type\":\"scatter\"}],                        {\"title\":{\"text\":\"Cumulative PnL\"},\"yaxis\":{\"title\":{\"text\":\"Cumulative Returns (Log-Scale)\"},\"type\":\"log\"},\"template\":{\"data\":{\"histogram2dcontour\":[{\"type\":\"histogram2dcontour\",\"colorbar\":{\"outlinewidth\":0,\"ticks\":\"\"},\"colorscale\":[[0.0,\"#0d0887\"],[0.1111111111111111,\"#46039f\"],[0.2222222222222222,\"#7201a8\"],[0.3333333333333333,\"#9c179e\"],[0.4444444444444444,\"#bd3786\"],[0.5555555555555556,\"#d8576b\"],[0.6666666666666666,\"#ed7953\"],[0.7777777777777778,\"#fb9f3a\"],[0.8888888888888888,\"#fdca26\"],[1.0,\"#f0f921\"]]}],\"choropleth\":[{\"type\":\"choropleth\",\"colorbar\":{\"outlinewidth\":0,\"ticks\":\"\"}}],\"histogram2d\":[{\"type\":\"histogram2d\",\"colorbar\":{\"outlinewidth\":0,\"ticks\":\"\"},\"colorscale\":[[0.0,\"#0d0887\"],[0.1111111111111111,\"#46039f\"],[0.2222222222222222,\"#7201a8\"],[0.3333333333333333,\"#9c179e\"],[0.4444444444444444,\"#bd3786\"],[0.5555555555555556,\"#d8576b\"],[0.6666666666666666,\"#ed7953\"],[0.7777777777777778,\"#fb9f3a\"],[0.8888888888888888,\"#fdca26\"],[1.0,\"#f0f921\"]]}],\"heatmap\":[{\"type\":\"heatmap\",\"colorbar\":{\"outlinewidth\":0,\"ticks\":\"\"},\"colorscale\":[[0.0,\"#0d0887\"],[0.1111111111111111,\"#46039f\"],[0.2222222222222222,\"#7201a8\"],[0.3333333333333333,\"#9c179e\"],[0.4444444444444444,\"#bd3786\"],[0.5555555555555556,\"#d8576b\"],[0.6666666666666666,\"#ed7953\"],[0.7777777777777778,\"#fb9f3a\"],[0.8888888888888888,\"#fdca26\"],[1.0,\"#f0f921\"]]}],\"heatmapgl\":[{\"type\":\"heatmapgl\",\"colorbar\":{\"outlinewidth\":0,\"ticks\":\"\"},\"colorscale\":[[0.0,\"#0d0887\"],[0.1111111111111111,\"#46039f\"],[0.2222222222222222,\"#7201a8\"],[0.3333333333333333,\"#9c179e\"],[0.4444444444444444,\"#bd3786\"],[0.5555555555555556,\"#d8576b\"],[0.6666666666666666,\"#ed7953\"],[0.7777777777777778,\"#fb9f3a\"],[0.8888888888888888,\"#fdca26\"],[1.0,\"#f0f921\"]]}],\"contourcarpet\":[{\"type\":\"contourcarpet\",\"colorbar\":{\"outlinewidth\":0,\"ticks\":\"\"}}],\"contour\":[{\"type\":\"contour\",\"colorbar\":{\"outlinewidth\":0,\"ticks\":\"\"},\"colorscale\":[[0.0,\"#0d0887\"],[0.1111111111111111,\"#46039f\"],[0.2222222222222222,\"#7201a8\"],[0.3333333333333333,\"#9c179e\"],[0.4444444444444444,\"#bd3786\"],[0.5555555555555556,\"#d8576b\"],[0.6666666666666666,\"#ed7953\"],[0.7777777777777778,\"#fb9f3a\"],[0.8888888888888888,\"#fdca26\"],[1.0,\"#f0f921\"]]}],\"surface\":[{\"type\":\"surface\",\"colorbar\":{\"outlinewidth\":0,\"ticks\":\"\"},\"colorscale\":[[0.0,\"#0d0887\"],[0.1111111111111111,\"#46039f\"],[0.2222222222222222,\"#7201a8\"],[0.3333333333333333,\"#9c179e\"],[0.4444444444444444,\"#bd3786\"],[0.5555555555555556,\"#d8576b\"],[0.6666666666666666,\"#ed7953\"],[0.7777777777777778,\"#fb9f3a\"],[0.8888888888888888,\"#fdca26\"],[1.0,\"#f0f921\"]]}],\"mesh3d\":[{\"type\":\"mesh3d\",\"colorbar\":{\"outlinewidth\":0,\"ticks\":\"\"}}],\"scatter\":[{\"fillpattern\":{\"fillmode\":\"overlay\",\"size\":10,\"solidity\":0.2},\"type\":\"scatter\"}],\"parcoords\":[{\"type\":\"parcoords\",\"line\":{\"colorbar\":{\"outlinewidth\":0,\"ticks\":\"\"}}}],\"scatterpolargl\":[{\"type\":\"scatterpolargl\",\"marker\":{\"colorbar\":{\"outlinewidth\":0,\"ticks\":\"\"}}}],\"bar\":[{\"error_x\":{\"color\":\"#2a3f5f\"},\"error_y\":{\"color\":\"#2a3f5f\"},\"marker\":{\"line\":{\"color\":\"#E5ECF6\",\"width\":0.5},\"pattern\":{\"fillmode\":\"overlay\",\"size\":10,\"solidity\":0.2}},\"type\":\"bar\"}],\"scattergeo\":[{\"type\":\"scattergeo\",\"marker\":{\"colorbar\":{\"outlinewidth\":0,\"ticks\":\"\"}}}],\"scatterpolar\":[{\"type\":\"scatterpolar\",\"marker\":{\"colorbar\":{\"outlinewidth\":0,\"ticks\":\"\"}}}],\"histogram\":[{\"marker\":{\"pattern\":{\"fillmode\":\"overlay\",\"size\":10,\"solidity\":0.2}},\"type\":\"histogram\"}],\"scattergl\":[{\"type\":\"scattergl\",\"marker\":{\"colorbar\":{\"outlinewidth\":0,\"ticks\":\"\"}}}],\"scatter3d\":[{\"type\":\"scatter3d\",\"line\":{\"colorbar\":{\"outlinewidth\":0,\"ticks\":\"\"}},\"marker\":{\"colorbar\":{\"outlinewidth\":0,\"ticks\":\"\"}}}],\"scattermapbox\":[{\"type\":\"scattermapbox\",\"marker\":{\"colorbar\":{\"outlinewidth\":0,\"ticks\":\"\"}}}],\"scatterternary\":[{\"type\":\"scatterternary\",\"marker\":{\"colorbar\":{\"outlinewidth\":0,\"ticks\":\"\"}}}],\"scattercarpet\":[{\"type\":\"scattercarpet\",\"marker\":{\"colorbar\":{\"outlinewidth\":0,\"ticks\":\"\"}}}],\"carpet\":[{\"aaxis\":{\"endlinecolor\":\"#2a3f5f\",\"gridcolor\":\"white\",\"linecolor\":\"white\",\"minorgridcolor\":\"white\",\"startlinecolor\":\"#2a3f5f\"},\"baxis\":{\"endlinecolor\":\"#2a3f5f\",\"gridcolor\":\"white\",\"linecolor\":\"white\",\"minorgridcolor\":\"white\",\"startlinecolor\":\"#2a3f5f\"},\"type\":\"carpet\"}],\"table\":[{\"cells\":{\"fill\":{\"color\":\"#EBF0F8\"},\"line\":{\"color\":\"white\"}},\"header\":{\"fill\":{\"color\":\"#C8D4E3\"},\"line\":{\"color\":\"white\"}},\"type\":\"table\"}],\"barpolar\":[{\"marker\":{\"line\":{\"color\":\"#E5ECF6\",\"width\":0.5},\"pattern\":{\"fillmode\":\"overlay\",\"size\":10,\"solidity\":0.2}},\"type\":\"barpolar\"}],\"pie\":[{\"automargin\":true,\"type\":\"pie\"}]},\"layout\":{\"autotypenumbers\":\"strict\",\"colorway\":[\"#636efa\",\"#EF553B\",\"#00cc96\",\"#ab63fa\",\"#FFA15A\",\"#19d3f3\",\"#FF6692\",\"#B6E880\",\"#FF97FF\",\"#FECB52\"],\"font\":{\"color\":\"#2a3f5f\"},\"hovermode\":\"closest\",\"hoverlabel\":{\"align\":\"left\"},\"paper_bgcolor\":\"white\",\"plot_bgcolor\":\"#E5ECF6\",\"polar\":{\"bgcolor\":\"#E5ECF6\",\"angularaxis\":{\"gridcolor\":\"white\",\"linecolor\":\"white\",\"ticks\":\"\"},\"radialaxis\":{\"gridcolor\":\"white\",\"linecolor\":\"white\",\"ticks\":\"\"}},\"ternary\":{\"bgcolor\":\"#E5ECF6\",\"aaxis\":{\"gridcolor\":\"white\",\"linecolor\":\"white\",\"ticks\":\"\"},\"baxis\":{\"gridcolor\":\"white\",\"linecolor\":\"white\",\"ticks\":\"\"},\"caxis\":{\"gridcolor\":\"white\",\"linecolor\":\"white\",\"ticks\":\"\"}},\"coloraxis\":{\"colorbar\":{\"outlinewidth\":0,\"ticks\":\"\"}},\"colorscale\":{\"sequential\":[[0.0,\"#0d0887\"],[0.1111111111111111,\"#46039f\"],[0.2222222222222222,\"#7201a8\"],[0.3333333333333333,\"#9c179e\"],[0.4444444444444444,\"#bd3786\"],[0.5555555555555556,\"#d8576b\"],[0.6666666666666666,\"#ed7953\"],[0.7777777777777778,\"#fb9f3a\"],[0.8888888888888888,\"#fdca26\"],[1.0,\"#f0f921\"]],\"sequentialminus\":[[0.0,\"#0d0887\"],[0.1111111111111111,\"#46039f\"],[0.2222222222222222,\"#7201a8\"],[0.3333333333333333,\"#9c179e\"],[0.4444444444444444,\"#bd3786\"],[0.5555555555555556,\"#d8576b\"],[0.6666666666666666,\"#ed7953\"],[0.7777777777777778,\"#fb9f3a\"],[0.8888888888888888,\"#fdca26\"],[1.0,\"#f0f921\"]],\"diverging\":[[0,\"#8e0152\"],[0.1,\"#c51b7d\"],[0.2,\"#de77ae\"],[0.3,\"#f1b6da\"],[0.4,\"#fde0ef\"],[0.5,\"#f7f7f7\"],[0.6,\"#e6f5d0\"],[0.7,\"#b8e186\"],[0.8,\"#7fbc41\"],[0.9,\"#4d9221\"],[1,\"#276419\"]]},\"xaxis\":{\"gridcolor\":\"white\",\"linecolor\":\"white\",\"ticks\":\"\",\"title\":{\"standoff\":15},\"zerolinecolor\":\"white\",\"automargin\":true,\"zerolinewidth\":2},\"yaxis\":{\"gridcolor\":\"white\",\"linecolor\":\"white\",\"ticks\":\"\",\"title\":{\"standoff\":15},\"zerolinecolor\":\"white\",\"automargin\":true,\"zerolinewidth\":2},\"scene\":{\"xaxis\":{\"backgroundcolor\":\"#E5ECF6\",\"gridcolor\":\"white\",\"linecolor\":\"white\",\"showbackground\":true,\"ticks\":\"\",\"zerolinecolor\":\"white\",\"gridwidth\":2},\"yaxis\":{\"backgroundcolor\":\"#E5ECF6\",\"gridcolor\":\"white\",\"linecolor\":\"white\",\"showbackground\":true,\"ticks\":\"\",\"zerolinecolor\":\"white\",\"gridwidth\":2},\"zaxis\":{\"backgroundcolor\":\"#E5ECF6\",\"gridcolor\":\"white\",\"linecolor\":\"white\",\"showbackground\":true,\"ticks\":\"\",\"zerolinecolor\":\"white\",\"gridwidth\":2}},\"shapedefaults\":{\"line\":{\"color\":\"#2a3f5f\"}},\"annotationdefaults\":{\"arrowcolor\":\"#2a3f5f\",\"arrowhead\":0,\"arrowwidth\":1},\"geo\":{\"bgcolor\":\"white\",\"landcolor\":\"#E5ECF6\",\"subunitcolor\":\"white\",\"showland\":true,\"showlakes\":true,\"lakecolor\":\"white\"},\"title\":{\"x\":0.05},\"mapbox\":{\"style\":\"light\"}}}},                        {\"responsive\": true}                    ).then(function(){\n",
       "                            \n",
       "var gd = document.getElementById('eacdf5e8-6626-4c28-8cff-e40e033a889d');\n",
       "var x = new MutationObserver(function (mutations, observer) {{\n",
       "        var display = window.getComputedStyle(gd).display;\n",
       "        if (!display || display === 'none') {{\n",
       "            console.log([gd, 'removed!']);\n",
       "            Plotly.purge(gd);\n",
       "            observer.disconnect();\n",
       "        }}\n",
       "}});\n",
       "\n",
       "// Listen for the removal of the full notebook cells\n",
       "var notebookContainer = gd.closest('#notebook-container');\n",
       "if (notebookContainer) {{\n",
       "    x.observe(notebookContainer, {childList: true});\n",
       "}}\n",
       "\n",
       "// Listen for the clearing of the current output cell\n",
       "var outputEl = gd.closest('.output');\n",
       "if (outputEl) {{\n",
       "    x.observe(outputEl, {childList: true});\n",
       "}}\n",
       "\n",
       "                        })                };                });            </script>        </div>"
      ]
     },
     "metadata": {},
     "output_type": "display_data"
    }
   ],
   "source": [
    "plotting(pnl_results, cov_models)"
   ]
  },
  {
   "cell_type": "markdown",
   "metadata": {},
   "source": [
    "## impact of different levels of transaction costs"
   ]
  },
  {
   "cell_type": "code",
   "execution_count": 93,
   "metadata": {
    "ExecuteTime": {
     "end_time": "2022-07-11T18:14:33.956725Z",
     "start_time": "2022-07-11T18:14:33.945744Z"
    }
   },
   "outputs": [],
   "source": [
    "# in case I want to parallelize\n",
    "#%%writefile rebalancing.py\n",
    "#import numpy as np\n",
    "#import pandas as pd\n",
    "## import constant_rebalancing function\n",
    "#def reb(cca_w,ret, tcost):\n",
    "#    return constant_rebalancing(cca_w, rho=0, gamma=10e-6, kappa=tcost, returns=ret, lag=1, target=\"Target\")"
   ]
  },
  {
   "cell_type": "code",
   "execution_count": null,
   "metadata": {
    "ExecuteTime": {
     "start_time": "2022-07-11T18:15:02.881Z"
    }
   },
   "outputs": [
    {
     "name": "stdout",
     "output_type": "stream",
     "text": [
      "on tcost 0.001\n",
      "on tcost 0.0025\n",
      "on tcost 0.005\n"
     ]
    }
   ],
   "source": [
    "tcosts = [0.001, 0.0025, 0.005, 0.01, 0.05, 0.1]\n",
    "\n",
    "for tcost in tcosts:\n",
    "    print(\"on tcost {}\".format(tcost))\n",
    "    tcost_weights = constant_rebalancing(w1, rho=0, gamma=10e-6, kappa=tcost, returns=ret, lag=1, target=\"Target\")\n",
    "    tcost_weights.to_csv(\"cca_tcostweights_\"+str(tcost)+\".csv\")"
   ]
  },
  {
   "cell_type": "code",
   "execution_count": null,
   "metadata": {},
   "outputs": [],
   "source": []
  }
 ],
 "metadata": {
  "kernelspec": {
   "display_name": "Python 3 (ipykernel)",
   "language": "python",
   "name": "python3"
  },
  "language_info": {
   "codemirror_mode": {
    "name": "ipython",
    "version": 3
   },
   "file_extension": ".py",
   "mimetype": "text/x-python",
   "name": "python",
   "nbconvert_exporter": "python",
   "pygments_lexer": "ipython3",
   "version": "3.7.6"
  },
  "latex_envs": {
   "LaTeX_envs_menu_present": true,
   "autoclose": false,
   "autocomplete": true,
   "bibliofile": "biblio.bib",
   "cite_by": "apalike",
   "current_citInitial": 1,
   "eqLabelWithNumbers": true,
   "eqNumInitial": 1,
   "hotkeys": {
    "equation": "Ctrl-E",
    "itemize": "Ctrl-I"
   },
   "labels_anchors": false,
   "latex_user_defs": false,
   "report_style_numbering": false,
   "user_envs_cfg": false
  },
  "toc": {
   "base_numbering": 1,
   "nav_menu": {},
   "number_sections": true,
   "sideBar": true,
   "skip_h1_title": false,
   "title_cell": "Table of Contents",
   "title_sidebar": "Contents",
   "toc_cell": false,
   "toc_position": {},
   "toc_section_display": true,
   "toc_window_display": false
  }
 },
 "nbformat": 4,
 "nbformat_minor": 4
}
