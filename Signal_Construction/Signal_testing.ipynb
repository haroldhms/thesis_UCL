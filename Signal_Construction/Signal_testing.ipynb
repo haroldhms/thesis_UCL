{
 "cells": [
  {
   "cell_type": "markdown",
   "metadata": {},
   "source": [
    "# This file will serve as the main testing ground for a variety of signals for the CRSP data set\n",
    "\n",
    "## The multiple strategies are the underlying:\n",
    "\n",
    "### 1. Univariate Strategies\n",
    "   * MACD (momentum), bollinger bands (mean reversion), univariate KRR\n",
    "   \n",
    "### 2. Multivariate Strategies\n",
    "   * multivariate KRR, VAR\n",
    "   \n",
    "### 3. NN-based methodologies\n",
    "   \n",
    "### 4. Others? (eg. from academic literature)\n",
    "\n",
    "### Further to do:\n",
    "   * include fractional differentiation to maximise memory & keep stationarity\n",
    "   * perform necessary statistical tests on VAR & its parameters\n",
    "        * get VAR to work only with cointegrated pairs\n",
    "   * generally: optimize code & parallelize operations"
   ]
  },
  {
   "cell_type": "markdown",
   "metadata": {},
   "source": [
    "# Libraries"
   ]
  },
  {
   "cell_type": "code",
   "execution_count": 7,
   "metadata": {
    "ExecuteTime": {
     "end_time": "2022-01-31T10:42:23.407767Z",
     "start_time": "2022-01-31T10:42:23.388811Z"
    }
   },
   "outputs": [],
   "source": [
    "import pandas as pd\n",
    "import numpy as np\n",
    "import matplotlib.pyplot as plt\n",
    "import matplotlib.dates as mdates\n",
    "import statsmodels as sm\n",
    "from sklearn.model_selection import *\n",
    "from sklearn.metrics import mean_squared_error\n",
    "from sklearn.decomposition import *\n",
    "from sklearn.kernel_ridge import *\n",
    "import math\n",
    "import scipy\n",
    "from statsmodels.tsa.api import VAR\n",
    "from statsmodels.tsa.stattools import adfuller\n",
    "from statsmodels.tools.eval_measures import rmse, aic\n",
    "from statsmodels.tsa.stattools import grangercausalitytests\n",
    "from statsmodels.tsa.vector_ar.vecm import coint_johansen\n",
    "from scipy.stats.mstats import winsorize\n",
    "import warnings\n",
    "warnings.filterwarnings(\"ignore\")"
   ]
  },
  {
   "cell_type": "markdown",
   "metadata": {},
   "source": [
    "# Preprocessing"
   ]
  },
  {
   "cell_type": "code",
   "execution_count": 2,
   "metadata": {
    "ExecuteTime": {
     "end_time": "2022-01-31T09:35:13.891962Z",
     "start_time": "2022-01-31T09:35:13.243905Z"
    }
   },
   "outputs": [],
   "source": [
    "data  = pd.read_csv('data/returns.csv')\n",
    "data.set_index('date', inplace=True)\n",
    "data.index = pd.to_datetime(data.index)\n",
    "data = data.iloc[:,:50]"
   ]
  },
  {
   "cell_type": "markdown",
   "metadata": {},
   "source": [
    "# Univariate strategies\n",
    "* Simple strategies\n",
    "    + mean reversion -> DONE\n",
    "    + momentum (MACD) -> DONE\n",
    "* forecasting strategies (requires cross-validation procedure)\n",
    "    + ARMA\n",
    "    + KRR (extremely slow) -> DONE"
   ]
  },
  {
   "cell_type": "code",
   "execution_count": 471,
   "metadata": {
    "ExecuteTime": {
     "end_time": "2022-01-31T22:21:20.418275Z",
     "start_time": "2022-01-31T22:21:20.337292Z"
    }
   },
   "outputs": [],
   "source": [
    "def macd(ret, long=26, short=12, signal_span=9, plot=False):\n",
    "\n",
    "    short_signal = ret.ewm(span=short, adjust=False).mean()\n",
    "    long_signal = ret.ewm(span=long, adjust=False).mean() \n",
    "    macd = short_signal - long_signal\n",
    "    \n",
    "    pos = np.zeros(len(ret))\n",
    "    pos = np.where(macd>0,1,-1)\n",
    "    \n",
    "    if plot==True:\n",
    "        %matplotlib widget\n",
    "        fig = plt.figure()\n",
    "        ax = fig.add_subplot(111)\n",
    "        ax.plot(ret.index[:100],signal[:100], label = 'signal', color='g')\n",
    "        ax.plot(ret.index[:100],macd[:100], label = 'macd', color = 'b')\n",
    "        ax.legend(loc=1)\n",
    "        ax.set_xlabel(\"time\")\n",
    "        ax.set_ylabel(\"MACD/SIGNAL\")\n",
    "        \n",
    "        months = mdates.MonthLocator()\n",
    "        ax.xaxis.set_major_locator(months) \n",
    "        fig.autofmt_xdate()\n",
    "        \n",
    "        ax2 = ax.twinx()\n",
    "        ax2.stem(stock.index[:100],position[:100])\n",
    "        ax2.set_ylabel(\"position (1 for long, 0 for none, -1 for short)\")\n",
    "        ax2.set_ylim(-3,3)\n",
    "        ax.set_title(\"MACD strategy visualised with positions as stems for first 100 observations\")\n",
    "        plt.show()\n",
    "    \n",
    "    return pos\n",
    "\n",
    "def macd_signals(returns,long=26,short=12,signal_span=9):\n",
    "    signals = pd.DataFrame()\n",
    "    for i in range(returns.shape[1]):\n",
    "        signals['signal_{}'.format(i)] = macd(returns.iloc[:,i],long,short,signal_span)\n",
    "    signals.index = returns.index\n",
    "    return signals.shift(1).fillna(0)\n",
    "\n",
    "# figure out way to use this function -> more efficient code\n",
    "def rolling_pipe(dataframe, window, fctn):\n",
    "    return pd.Series([dataframe.iloc[i-window: i].pipe(fctn) \n",
    "                      if i >= window else None \n",
    "                      for i in range(1, len(dataframe)+1)],\n",
    "                     index = dataframe.index) \n",
    "\n",
    "# bollinger bands: mean reversion\n",
    "def rev(ret,lookback,band,plot):\n",
    "    # work with prices\n",
    "    p = (ret+1).cumprod()\n",
    "    # obtain mean & vol\n",
    "    m = p.rolling(window=lookback).mean()\n",
    "    s = p.rolling(window=lookback).std()\n",
    "    lower_band = m - band*s\n",
    "    higher_band = m + band*s\n",
    "    \n",
    "    #signal = np.where(ret > higher_band,-1,\n",
    "    #                  np.where(ret < m, 0,\n",
    "    #                           np.where(ret < lower_band, 1,0)))\n",
    "    \n",
    "    signal2 = np.zeros(len(ret))\n",
    "    position_short = False\n",
    "    position_long = False\n",
    "    for i in range(len(ret)):\n",
    "        # sell if higher than band\n",
    "        if p[i] > higher_band[i]:\n",
    "            signal2[i] = -1\n",
    "            position_short = True\n",
    "        # sell back if from lower band to mean\n",
    "        elif p[i] < higher_band[i] and p.iloc[i] > m[i] and position_long == True:\n",
    "            signal2[i] = 0\n",
    "            position_long = False\n",
    "        # buy back if from higher band to mean\n",
    "        elif p[i] < m[i] and position_short == True:\n",
    "            signal2[i] = 0\n",
    "            position_short = False\n",
    "        # buy if lower barrier hit\n",
    "        elif p[i] < lower_band[i]:\n",
    "            signal2[i] = 1\n",
    "            position_long = True\n",
    "        else:\n",
    "            signal2[i] = signal2[i-1]\n",
    "        \n",
    "\n",
    "    if plot==True:\n",
    "        %matplotlib widget\n",
    "        fig = plt.figure()\n",
    "        ax = fig.add_subplot(111)\n",
    "        ax.plot(ret.index,lower_band, label = 'lower', color='b')\n",
    "        ax.plot(ret.index,higher_band, label = 'higher', color = 'b')\n",
    "        ax.plot(ret.index,m, label = 'mean', color = 'b')\n",
    "        ax.plot(ret.index,p,label=\"returns\", color=\"r\")\n",
    "\n",
    "        ax.legend(loc=1)\n",
    "        ax.set_xlabel(\"TIME\")\n",
    "        ax.set_ylabel(\"PRICE\")\n",
    "\n",
    "        months = mdates.MonthLocator()\n",
    "        ax.xaxis.set_major_locator(months) \n",
    "        fig.autofmt_xdate()\n",
    "\n",
    "        plt.show()\n",
    "        \n",
    "    return signal2\n",
    "\n",
    "\n",
    "def reversion_signals(returns,lookback=100,band=2,plot=False):\n",
    "    signals = pd.DataFrame()\n",
    "    for i in range(returns.shape[1]):\n",
    "        signals['signal_{}'.format(i)] = rev(ret = returns.iloc[:,i],lookback=lookback,band=band,plot=plot)\n",
    "    signals.index = returns.index\n",
    "    return signals.shift(1).fillna(0)\n",
    "\n",
    "# kernel ridge\n",
    "def krr_signals(data,window_size=30,npredictions=5):\n",
    "    n = len(data)-1\n",
    "    predicted_values = np.zeros(n+npredictions+1)\n",
    "\n",
    "    \n",
    "    # rolling window\n",
    "    for i in range(window_size,n,npredictions):\n",
    "        if i % 100 == 0: print('{} % done'.format(round(i/(n-30)*100)),end=\"\\r\")\n",
    "        #    print(i)\n",
    "                \n",
    "        list_x = np.array(data.iloc[(i-window_size):i]).reshape(-1,1)\n",
    "        list_y = np.array(data.iloc[(i-window_size+1):(i+1)]) \n",
    "        list_x_pred = np.array(data.iloc[i:(i+npredictions)]).reshape(-1,1)\n",
    "        \n",
    "        parameters = {'kernel':['rbf'], 'alpha':np.arange(0.001,3,1).tolist(),'degree':np.arange(0.001,3,1).tolist()}\n",
    "        clf = GridSearchCV(KernelRidge(), parameters)\n",
    "        clf = clf.fit(list_x,list_y)\n",
    "        pred = clf.predict(list_x_pred)\n",
    "        predicted_values[i:(i+npredictions)] = pred\n",
    "    \n",
    "    # turn values into signals\n",
    "    signals = np.where(predicted_values > 0,1,-1)\n",
    "    \n",
    "    return signals\n",
    "def krr_signals_univ(data,window_size=30,npredictions=5):\n",
    "    n = data.shape[0]\n",
    "    signals = np.zeros((n+npredictions,data.shape[1]))\n",
    "    for i in range(data.shape[1]):\n",
    "        signals[:,i] = krr_signals(data.iloc[:,i],window_size=window_size,npredictions=npredictions)\n",
    "    return signals\n"
   ]
  },
  {
   "cell_type": "markdown",
   "metadata": {},
   "source": [
    "# Multivariate Econometric\n",
    "   * Vector Autoregressive (VAR) -> DONE\n",
    "   * Vector error correction models (VECM)\n",
    "   * Kernel Ridge Regression (KRR) -> DONE"
   ]
  },
  {
   "cell_type": "markdown",
   "metadata": {},
   "source": [
    "### Statistical tests\n",
    "   * **Granger causality** (column var causes row var) -> rejection means good candidate for MV\n",
    "       (tests the null hypothesis that the coefficients of past values in the regression equation is zero. In simpler terms, the past values of time series (X) do not cause the other series (Y))\n",
    "   * **ADF test** -> need stationarity in time series\n",
    "   * **cointegration** -> establish the presence of a statistically significant connection between two or more time series"
   ]
  },
  {
   "cell_type": "code",
   "execution_count": 462,
   "metadata": {
    "ExecuteTime": {
     "end_time": "2022-01-31T18:27:22.738158Z",
     "start_time": "2022-01-31T18:27:22.707528Z"
    }
   },
   "outputs": [],
   "source": [
    "def grangers_causation_matrix(data, variables, test='ssr_chi2test', maxlag=4):    \n",
    "    \"\"\"\n",
    "    data      : pandas dataframe containing the time series variables\n",
    "    variables : list containing names of the time series variables.\n",
    "    \"\"\"\n",
    "    df = pd.DataFrame(np.zeros((len(variables), len(variables))), columns=variables, index=variables)\n",
    "    for c in df.columns:\n",
    "        for r in df.index:\n",
    "            test_result = grangercausalitytests(data[[r, c]], maxlag=maxlag, verbose=False)\n",
    "            p_values = [round(test_result[i+1][0][test][1],4) for i in range(maxlag)]\n",
    "            min_p_value = np.min(p_values)\n",
    "            df.loc[r, c] = min_p_value\n",
    "    df.columns = [var + '_x' for var in variables]\n",
    "    df.index = [var + '_y' for var in variables]\n",
    "    return df\n",
    "\n",
    "def adfuller_test(series, signif=0.05):\n",
    "    \"\"\"Perform ADFuller to test for Stationarity of given series of returns and print report\"\"\"\n",
    "    for name, column in series.iteritems():\n",
    "        r = adfuller(column, autolag='BIC')\n",
    "        output = {'test_statistic':round(r[0], 4), 'pvalue':round(r[1], 4), 'n_lags':round(r[2], 4), 'n_obs':r[3]}\n",
    "        p_value = output['pvalue']\n",
    "        if p_value > signif:\n",
    "            print(\"series {} is non-stationary\".format(column.name))\n",
    "            \n",
    "def cointegration_test(df, alpha=0.05): \n",
    "    \"\"\"Perform Johanson's Cointegration Test and Report Summary\"\"\"\n",
    "    out = coint_johansen(df,-1,5)\n",
    "    d = {'0.90':0, '0.95':1, '0.99':2}\n",
    "    traces = out.lr1\n",
    "    cvts = out.cvt[:, d[str(1-alpha)]]\n",
    "    # print output if failed\n",
    "    for name, trace, cvt in zip(df.columns, traces, cvts):\n",
    "        if trace < cvt: print(\"column {} failed the cointegration test\".format(name))\n",
    "\n",
    "def multivariate_tests(data,alpha=0.05,maxlag=4, test = 'ssr_chi2test'):\n",
    "    \"\"\"\n",
    "    data: pandas dataframe\n",
    "    alpha: significance level\n",
    "    maxlag: maximum number of lags for granger causality test\n",
    "    test: test for granger causality\n",
    "    \n",
    "    what it does: prints failed adf and cointegration tests\n",
    "    \n",
    "    returns: granger causality matrix\n",
    "    \"\"\"\n",
    "    adfuller_test(data, signif=alpha)\n",
    "    cointegration_test(data, alpha=alpha)\n",
    "    \n",
    "    return grangers_causation_matrix(data, data.columns, test=test, maxlag=maxlag)"
   ]
  },
  {
   "cell_type": "markdown",
   "metadata": {},
   "source": [
    "### VAR model\n",
    "still requires some code optimisation\n",
    "\n",
    "suggested improvements: build model using solely cointegrated time series -> can include more lags"
   ]
  },
  {
   "cell_type": "code",
   "execution_count": 463,
   "metadata": {
    "ExecuteTime": {
     "end_time": "2022-01-31T18:27:23.065426Z",
     "start_time": "2022-01-31T18:27:23.014757Z"
    }
   },
   "outputs": [],
   "source": [
    "def var(df, window=30,maxlag=3,npredictions=5):\n",
    "    \n",
    "    n = len(df)\n",
    "    # initiate forecasts dataframe\n",
    "    forecasts = np.zeros((n+npredictions,df.shape[1])) \n",
    "    \n",
    "    # rolling window approach\n",
    "    for i in range(window,n,npredictions):\n",
    "        if i % 250 == 0: print('{}% done'.format(round(i/(n-30)*100)),end=\"\\r\")\n",
    "        bic_list = []\n",
    "        series = df.iloc[(i-window):i,:]\n",
    "        model = VAR(series)\n",
    "        \n",
    "        # optimal lags and fitting\n",
    "        for j in np.arange(0,maxlag+1,1):\n",
    "            try:\n",
    "                result = model.fit(j)\n",
    "                bic_list.append(result.bic)\n",
    "            except:\n",
    "                print(\"cannot deal with lag of {}, restarting with maxlag of {}\".format(j,maxlag-1))\n",
    "                if maxlag == 0:\n",
    "                    print(\"window size too small relative to number of assets, please restart\")\n",
    "                    return 0\n",
    "                else:\n",
    "                    return var(df, window, maxlag-1)\n",
    "        \n",
    "        # final check\n",
    "        if len(bic_list) == 1:\n",
    "                print(\"window size too small relative to number of assets, please restart\")\n",
    "                return 0   \n",
    "            \n",
    "        nbr_lags = bic_list.index(min(bic_list)) + 1\n",
    "        model_fitted = model.fit(nbr_lags)\n",
    "\n",
    "        forecast_input = series.values[-nbr_lags:]\n",
    "        \n",
    "        fc = model_fitted.forecast(y=forecast_input, steps=npredictions)\n",
    "        forecasts[i:(i+npredictions),:] = fc\n",
    "        \n",
    "    signals = np.where(forecasts > 0,1,-1)\n",
    "\n",
    "                \n",
    "    return signals\n",
    "\n",
    "def krr_signals_mv(data,window_size=30,npredictions=5):\n",
    "    n = len(data)-1\n",
    "\n",
    "    predicted_values = np.zeros((n+npredictions+1,data.shape[1]))    \n",
    "\n",
    "    # rolling window\n",
    "    # re-fit the model every \"npredictions\" days\n",
    "    for i in range(window_size,n,npredictions):\n",
    "        if i % 100 == 0: print('{} % done'.format(round(i/(n-window_size)*100)),end=\"\\r\")\n",
    "        begin = i - window_size\n",
    "        \n",
    "        # obtain principal components, section 2.5\n",
    "        pca = PCA(n_components=4)\n",
    "        principalComponents = pca.fit_transform(np.array(data.iloc[begin:i,:]))\n",
    "        \n",
    "        principalDf = pd.DataFrame(data = principalComponents, columns = ['pc1','pc2','pc3','pc4'])\n",
    "        \n",
    "        model = linear_model.LinearRegression()\n",
    "        model_score = model.fit(principalDf,data.iloc[begin:i,:]).score(principalDf,data.iloc[begin:i,:])\n",
    "        \n",
    "        x = np.array(data.iloc[(i-window_size):i,:])#.reshape(-1,1)\n",
    "        y = np.array(data.iloc[(i-window_size+1):(i+1),:]) \n",
    "        x_pred = np.array(data.iloc[i:(i+npredictions),:])\n",
    "        \n",
    "        # gaussian kernel parameters\n",
    "        nbr_assets = data.shape[1]\n",
    "        df = window_size - nbr_assets\n",
    "        if df<0:df=1 # for chi-square\n",
    "        r2 = np.array(model_score)\n",
    "        sigma0 = math.sqrt(chi2.ppf(0.95,df)) / math.pi\n",
    "        sigma = np.array([0.5*sigma0,sigma0,2*sigma0,4*sigma0,8*sigma0])\n",
    "        lambda0 = (1-r2)/(r2)\n",
    "        lambdaa = np.array([lambda0/8.0,lambda0/4.0,lambda0/2.0,lambda0,2*lambda0])\n",
    "        \n",
    "        parameters = {'kernel':['rbf'], 'alpha':lambdaa.tolist(),'degree':[2]}\n",
    "        clf = GridSearchCV(KernelRidge(), parameters)\n",
    "        clf = clf.fit(x,y)\n",
    "        pred = clf.predict(x_pred)\n",
    "        predicted_values[i:(i+npredictions),:] = pred\n",
    "    \n",
    "    # turn values into signals\n",
    "    signals = np.where(predicted_values > 0,1,-1)\n",
    "    \n",
    "    return signals"
   ]
  },
  {
   "cell_type": "markdown",
   "metadata": {},
   "source": [
    "# NN-based methodologies\n",
    "   * LSTM\n",
    "   * CNN\n",
    "   * prophet (Facebook)\n",
    "   * other?"
   ]
  },
  {
   "cell_type": "code",
   "execution_count": null,
   "metadata": {},
   "outputs": [],
   "source": []
  },
  {
   "cell_type": "markdown",
   "metadata": {},
   "source": [
    "# (initial) Testing the strategies\n",
    "\n",
    "Conclusions:\n",
    "   * standard MACD, mean reversion and VAR are bad strategies, all beaten by long only\n",
    "   * KRR performs very well on average"
   ]
  },
  {
   "cell_type": "code",
   "execution_count": 464,
   "metadata": {
    "ExecuteTime": {
     "end_time": "2022-01-31T18:27:24.878817Z",
     "start_time": "2022-01-31T18:27:24.860143Z"
    }
   },
   "outputs": [],
   "source": [
    "# performance evaluation\n",
    "def pnl(data,signals):\n",
    "    d = np.array(data)\n",
    "    s = np.array(signals)\n",
    "    return (1 + pd.DataFrame(np.multiply(d,s), index=data.index)).cumprod()"
   ]
  },
  {
   "cell_type": "code",
   "execution_count": 465,
   "metadata": {
    "ExecuteTime": {
     "end_time": "2022-01-31T22:18:02.425521Z",
     "start_time": "2022-01-31T18:27:25.578245Z"
    }
   },
   "outputs": [
    {
     "name": "stdout",
     "output_type": "stream",
     "text": [
      "macd done\n",
      "mean reversion done\n",
      "krr univariate done\n",
      "krr multivariate done\n",
      "100% done\r"
     ]
    }
   ],
   "source": [
    "stocks = data\n",
    "# 1. test macd\n",
    "macd_multiple = macd_signals(stocks,26,12,9)\n",
    "print(\"macd done\")\n",
    "# 2. test mean reversion\n",
    "#m_r = reversion_signals(stocks)\n",
    "print(\"mean reversion done\")\n",
    "# 3. test krr univariate\n",
    "krr_univ = krr_signals_univ(stocks)\n",
    "print(\"krr univariate done\")\n",
    "# 4. test krr multivariate\n",
    "krr_mv = krr_signals_mv(stocks)\n",
    "print(\"krr multivariate done\")\n",
    "# 5. test VAR -> cannot deal with very high dimensions\n",
    "var_s = var(stocks.iloc[:,:5],window = 30,maxlag=3,npredictions=5)"
   ]
  },
  {
   "cell_type": "code",
   "execution_count": 473,
   "metadata": {
    "ExecuteTime": {
     "end_time": "2022-01-31T22:22:16.056192Z",
     "start_time": "2022-01-31T22:22:15.993342Z"
    }
   },
   "outputs": [],
   "source": [
    "macd_perf = pnl(stocks,macd_multiple)\n",
    "m_r_perf = pnl(stocks,m_r)\n",
    "krr_perf = pnl(stocks,krr_mv[:-5,:])\n",
    "#krr2_perf = pnl(stocks,krr_univ[:-5,:])\n",
    "var_perf = pnl(stocks.iloc[:,:5],var_s[:-5,:])\n",
    "\n",
    "# skip first 30 days -> window size\n",
    "macd_perf = macd_perf.iloc[30:,:]\n",
    "m_r_perf = m_r_perf.iloc[30:,:]\n",
    "krr_perf = krr_perf.iloc[30:,:]\n",
    "#krr2_perf = krr2_perf.iloc[30:,:]\n",
    "var_perf = var_perf.iloc[30:,:]\n",
    "long_only = (1+stocks.iloc[30:,:]).cumprod()"
   ]
  },
  {
   "cell_type": "code",
   "execution_count": 476,
   "metadata": {
    "ExecuteTime": {
     "end_time": "2022-01-31T22:22:34.371567Z",
     "start_time": "2022-01-31T22:22:34.248690Z"
    }
   },
   "outputs": [
    {
     "data": {
      "application/vnd.jupyter.widget-view+json": {
       "model_id": "de08f338d1f542fb89625fd4ae063aa6",
       "version_major": 2,
       "version_minor": 0
      },
      "image/png": "[encoded data removed]",
      "text/html": [
       "\n",
       "            <div style=\"display: inline-block;\">\n",
       "                <div class=\"jupyter-widgets widget-label\" style=\"text-align: center;\">\n",
       "                    Figure\n",
       "                </div>\n",
       "                <img src='data:image/png;base64,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' width=640.0/>\n",
       "            </div>\n",
       "        "
      ],
      "text/plain": [
       "Canvas(toolbar=Toolbar(toolitems=[('Home', 'Reset original view', 'home', 'home'), ('Back', 'Back to previous …"
      ]
     },
     "metadata": {},
     "output_type": "display_data"
    }
   ],
   "source": [
    "index = macd_perf.index\n",
    "%matplotlib widget\n",
    "fig = plt.figure()\n",
    "ax = fig.add_subplot(111)\n",
    "ax.plot(index,macd_perf.mean(axis=1), label = 'macd', color = 'r')\n",
    "ax.plot(index,krr_perf.mean(axis=1), label = 'krr multivariate', color = 'b')\n",
    "#ax.plot(index,krr2_perf.mean(axis=1), label = 'krr univariate', color = 'b')\n",
    "ax.plot(index,m_r_perf.mean(axis=1), label = 'mean reversion', color = 'g')\n",
    "ax.plot(index,long_only.mean(axis=1), label = 'real', color = 'y')\n",
    "ax.plot(index,var_perf.mean(axis=1), label = 'var', color = 'gray')\n",
    "\n",
    "ax.legend(loc=0)\n",
    "ax.grid()\n",
    "ax.set_xlabel(\"Time\")\n",
    "ax.set_ylabel(\"Multiple\")\n",
    "#ax2.set_ylabel(\"pred\")\n",
    "plt.show()"
   ]
  },
  {
   "cell_type": "code",
   "execution_count": null,
   "metadata": {},
   "outputs": [],
   "source": []
  }
 ],
 "metadata": {
  "kernelspec": {
   "display_name": "Python 3",
   "language": "python",
   "name": "python3"
  },
  "language_info": {
   "codemirror_mode": {
    "name": "ipython",
    "version": 3
   },
   "file_extension": ".py",
   "mimetype": "text/x-python",
   "name": "python",
   "nbconvert_exporter": "python",
   "pygments_lexer": "ipython3",
   "version": "3.7.6"
  },
  "latex_envs": {
   "LaTeX_envs_menu_present": true,
   "autoclose": false,
   "autocomplete": true,
   "bibliofile": "biblio.bib",
   "cite_by": "apalike",
   "current_citInitial": 1,
   "eqLabelWithNumbers": true,
   "eqNumInitial": 1,
   "hotkeys": {
    "equation": "Ctrl-E",
    "itemize": "Ctrl-I"
   },
   "labels_anchors": false,
   "latex_user_defs": false,
   "report_style_numbering": false,
   "user_envs_cfg": false
  }
 },
 "nbformat": 4,
 "nbformat_minor": 4
}
