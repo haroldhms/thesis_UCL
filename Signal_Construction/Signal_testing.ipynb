{
 "cells": [
  {
   "cell_type": "markdown",
   "metadata": {},
   "source": [
    "# This file will serve as the main testing ground for a variety of signals for the CRSP data set\n",
    "\n",
    "## The multiple strategies are the underlying:\n",
    "\n",
    "### 1. Univariate Strategies\n",
    "   \n",
    "### 2. Multivariate Strategies\n",
    "   \n",
    "### 3. NN-based methodologies\n",
    "   \n",
    "### 4. Others? (eg. from academic literature)"
   ]
  },
  {
   "cell_type": "markdown",
   "metadata": {},
   "source": [
    "# Libraries"
   ]
  },
  {
   "cell_type": "code",
   "execution_count": 1,
   "metadata": {
    "ExecuteTime": {
     "end_time": "2022-01-26T09:42:06.073249Z",
     "start_time": "2022-01-26T09:42:04.458357Z"
    }
   },
   "outputs": [],
   "source": [
    "import pandas as pd\n",
    "import numpy as np\n",
    "import matplotlib.pyplot as plt\n",
    "import matplotlib.dates as mdates\n",
    "import statsmodels as sm\n",
    "from sklearn.model_selection import *\n",
    "from sklearn.metrics import mean_squared_error\n",
    "from sklearn.decomposition import *\n",
    "from sklearn.kernel_ridge import *\n",
    "import math\n",
    "import scipy\n",
    "from statsmodels.tsa.api import VAR\n",
    "from statsmodels.tsa.stattools import adfuller\n",
    "from statsmodels.tools.eval_measures import rmse, aic\n",
    "from statsmodels.tsa.stattools import grangercausalitytests\n",
    "from statsmodels.tsa.vector_ar.vecm import coint_johansen\n",
    "import warnings\n",
    "warnings.filterwarnings(\"ignore\")"
   ]
  },
  {
   "cell_type": "markdown",
   "metadata": {},
   "source": [
    "# Preprocessing"
   ]
  },
  {
   "cell_type": "code",
   "execution_count": 2,
   "metadata": {
    "ExecuteTime": {
     "end_time": "2022-01-26T09:42:07.532144Z",
     "start_time": "2022-01-26T09:42:06.934686Z"
    }
   },
   "outputs": [],
   "source": [
    "data  = pd.read_csv('data/returns.csv')\n",
    "data.set_index('date', inplace=True)\n",
    "data.index = pd.to_datetime(data.index)"
   ]
  },
  {
   "cell_type": "markdown",
   "metadata": {},
   "source": [
    "# Univariate strategies\n",
    "* Simple strategies\n",
    "    + moving average\n",
    "    + MACD -> DONE\n",
    "* forecasting strategies (requires cross-validation procedure)\n",
    "    + ARMA\n",
    "    + KRR -> IN PROGRESS\n",
    "    + Ornstein-Uhlenbeck"
   ]
  },
  {
   "cell_type": "code",
   "execution_count": 3,
   "metadata": {
    "ExecuteTime": {
     "end_time": "2022-01-26T09:42:09.973661Z",
     "start_time": "2022-01-26T09:42:09.953753Z"
    }
   },
   "outputs": [],
   "source": [
    "def macd(ret, long=26, short=12, signal_span=9, plot=False):\n",
    "\n",
    "    short_signal = ret.ewm(span=short, adjust=False).mean()\n",
    "    long_signal = ret.ewm(span=long, adjust=False).mean() \n",
    "    macd = short_signal - long_signal\n",
    "    signal = macd.ewm(span=signal_span, adjust=False).mean()\n",
    "\n",
    "    position = np.zeros(len(ret))\n",
    "    \n",
    "    for i in range(len(ret)):\n",
    "        \n",
    "        if macd[i] >= 0:\n",
    "            if macd[i] > signal[i]:\n",
    "                position[i] = 1\n",
    "            else: position[i] = 0\n",
    "        \n",
    "        else:\n",
    "            if macd[i] < signal[i]:\n",
    "                position[i] = -1\n",
    "            else: position[i] = 0\n",
    "    \n",
    "    if plot==True:\n",
    "        %matplotlib widget\n",
    "        fig = plt.figure()\n",
    "        ax = fig.add_subplot(111)\n",
    "        ax.plot(ret.index[:100],signal[:100], label = 'signal', color='g')\n",
    "        ax.plot(ret.index[:100],macd[:100], label = 'macd', color = 'b')\n",
    "        ax.legend(loc=1)\n",
    "        ax.set_xlabel(\"time\")\n",
    "        ax.set_ylabel(\"MACD/SIGNAL\")\n",
    "        \n",
    "        months = mdates.MonthLocator()\n",
    "        ax.xaxis.set_major_locator(months) \n",
    "        fig.autofmt_xdate()\n",
    "        \n",
    "        ax2 = ax.twinx()\n",
    "        ax2.stem(stock.index[:100],position[:100])\n",
    "        ax2.set_ylabel(\"position (1 for long, 0 for none, -1 for short)\")\n",
    "        ax2.set_ylim(-3,3)\n",
    "        ax.set_title(\"MACD strategy visualised with positions as stems for first 100 observations\")\n",
    "        plt.show()\n",
    "    \n",
    "    return (position * ret).values\n",
    "\n",
    "def macd_signals(returns,long=26,short=12,signal_span=9):\n",
    "    signals = pd.DataFrame()\n",
    "    for i in range(returns.shape[1]):\n",
    "        signals['signal_{}'.format(i)] = macd(returns.iloc[:,i],long,short,signal_span)\n",
    "    signals.index = returns.index\n",
    "    return signals\n",
    "\n"
   ]
  },
  {
   "cell_type": "code",
   "execution_count": 4,
   "metadata": {
    "ExecuteTime": {
     "end_time": "2022-01-26T09:42:11.488669Z",
     "start_time": "2022-01-26T09:42:11.474669Z"
    }
   },
   "outputs": [],
   "source": [
    "# auto ARIMA\n",
    "\n",
    "# Orstein-Uhlenbeck function (mean reversion)"
   ]
  },
  {
   "cell_type": "code",
   "execution_count": 275,
   "metadata": {
    "ExecuteTime": {
     "end_time": "2022-01-26T17:20:19.580031Z",
     "start_time": "2022-01-26T17:20:19.556993Z"
    }
   },
   "outputs": [],
   "source": [
    "# kernel ridge\n",
    "def krr(data,window_size=30):\n",
    "    n = len(data)-1\n",
    "    predicted_values = np.zeros(n-window_size)\n",
    "    \n",
    "    # rolling window\n",
    "    for i in range(window_size,n):\n",
    "        if i % 100 == 0: print('{} % done'.format(round(i/(n-30)*100)),end=\"\\r\")\n",
    "        #    print(i)\n",
    "        \n",
    "        list_x = np.array(data.iloc[(i-window_size):i]).reshape(-1,1)\n",
    "        list_y = np.array(data.iloc[(i-window_size+1):(i+1)]) \n",
    "        list_x_pred = np.array(data.iloc[i+1]).reshape(-1,1)\n",
    "        \n",
    "        parameters = {'kernel':['rbf'], 'alpha':np.arange(0.001,6,1).tolist(),'degree':np.arange(0.001,6,1).tolist()}\n",
    "        clf = GridSearchCV(KernelRidge(), parameters)\n",
    "        clf = clf.fit(list_x,list_y)\n",
    "        pred = clf.predict(list_x_pred)\n",
    "        predicted_values[i-window_size] = pred\n",
    "\n",
    "    return predicted_values"
   ]
  },
  {
   "cell_type": "code",
   "execution_count": null,
   "metadata": {},
   "outputs": [],
   "source": [
    "pr = krr(data.iloc[:,1])"
   ]
  },
  {
   "cell_type": "code",
   "execution_count": 8,
   "metadata": {
    "ExecuteTime": {
     "end_time": "2022-01-26T14:26:49.558309Z",
     "start_time": "2022-01-26T14:26:49.121915Z"
    }
   },
   "outputs": [
    {
     "data": {
      "application/vnd.jupyter.widget-view+json": {
       "model_id": "c5d7d5d96c2340aa9fef6d3adc6d07c8",
       "version_major": 2,
       "version_minor": 0
      },
      "image/png": "[encoded data removed]",
      "text/html": [
       "\n",
       "            <div style=\"display: inline-block;\">\n",
       "                <div class=\"jupyter-widgets widget-label\" style=\"text-align: center;\">\n",
       "                    Figure\n",
       "                </div>\n",
       "                <img src='data:image/png;base64,iVBORw0KGgoAAAANSUhEUgAAAoAAAAHgCAYAAAA10dzkAAAABHNCSVQICAgIfAhkiAAAAAlwSFlzAAAPYQAAD2EBqD+naQAAADh0RVh0U29mdHdhcmUAbWF0cGxvdGxpYiB2ZXJzaW9uMy4xLjMsIGh0dHA6Ly9tYXRwbG90bGliLm9yZy+AADFEAAAgAElEQVR4nOydeXgURfrHv5NkEkAuOQOIgAhCRDwAOVwURU5vZUH9CbKCx7IewLoqAgqIIKAYL1A88BZ2PRaPiARcDhUBORUQUECuQASFAAmZmUz//uj0THVPn3NkZjLfz/PMMzPd1dXV1dVVb7/11vu6JEmSQAghhBBCUoa0eBeAEEIIIYRULBQACSGEEEJSDAqAhBBCCCEpBgVAQgghhJAUgwIgIYQQQkiKQQGQEEIIISTFoABICCGEEJJiUAAkhBBCCEkxKAASQgghhKQYFAAJIYQQQlIMCoCEEEIIISkGBUBCCCGEkBSDAiAhhBBCSIpBAZAQQgghJMWgAEgIIYQQkmJQACSEEEIISTEoABJCCCGEpBgUAAkhhBBCUgwKgIQQQgghKQYFQEIIIYSQFIMCICGEEEJIikEBkBBCCCEkxaAASAghhBCSYlAAJIQQQghJMSgAEkIIIYSkGBQACSGEEEJSDAqAhBBCCCEpBgVAQgghhJAUgwIgIYQQQkiKQQGQEEIIISTFoABICCGEEJJiUAAkhBBCCEkxKAASQgghhKQYFAAJIYQQQlIMCoCEEEIIISkGBUBCCCGEkBSDAiAhhBBCSIpBAZAQQgghJMWgAEgIIYQQkmJQACSEEEIISTEoABJCCCGEpBgUAAkhhBBCUgwKgIQQQgghKQYFQEIIIYSQFIMCICGEEEJIikEBkBBCCCEkxaAASAghhBCSYlAAJIQQQghJMSgAEkIIIYSkGBQACSGEEEJSDAqAhBBCCCEpBgVAQgghhJAUgwIgIYQQQkiKQQGQEEIIISTFoABICCGEEJJiUAAkhBBCCEkxMuJdgGTG5/Nh/fr1aNiwIdLSKEsTQgghyYDf78ehQ4dw4YUXIiMjNUWh1LzqKLF+/XpcfPHF8S4GIYQQQsJg9erV6NSpU7yLERcoAEZAw4YNAcgNqFGjRlHL1+fzYcmSJejZs2fKvplUFKzrioN1XXGwrisO1nXFEO16LigowMUXXxwYx1MRttYIUKZ9GzVqhDPOOCNq+Xq9XtSrVw9NmjSB2+2OWr4kFNZ1xcG6rjhY1xUH67piiFU9p7L5VupeOSGEEEJIikIBkBBCCCEkxaAASAghhBCSYtAGkBBCCKmkSJIEn8+HsrKyeBclIrxeLzIyMnDq1Clb15Keno6MjAy4XK4KKF1yQgGQEEIIqYR4PB4UFBSguLg43kWJGEmSkJ2djb1799oW6qpVq4ZGjRohMzMzxqVLTigAEkIIIZUMv9+PXbt2IT09HY0bN0ZmZmZSa8P8fj9OnDiB6tWrW67clSQJHo8Hv//+O3bt2oVWrVpFbbXvrFmzMGPGDBQUFODcc89Fbm4uunfvrpv21Vdfxdtvv42ffvoJANChQwdMmTJF5T9YkiRMnDgRc+bMwZ9//onOnTvjpZdewrnnnhuV8ppBAZAQQgipZHg8Hvj9fjRt2hTVqlWLd3Eixu/3w+PxoEqVKraEuapVq8LtduO3334LHBcp8+fPx8iRIzFr1ixccskleOWVV9CvXz9s2bIFZ555Zkj6pUuX4pZbbkG3bt1QpUoVTJ8+Hb1798bmzZvRpEkTAMD06dMxc+ZMvPnmm2jdujUmT56MXr16Ydu2bahRo0bEZTaDi0AIIYSQSkpK+7mL8rXPnDkTw4YNw/Dhw9G2bVvk5uaiadOmmD17tm769957DyNGjMAFF1yANm3a4NVXX4Xf78eSJUsAyNq/3NxcjB07FjfeeCPatWuHt956C8XFxXj//fejWnY9UrdlEEIIISSlOX78OIqKigKf0tJS3XQejwdr165F7969Vdt79+6N7777zta5iouL4fV6UadOHQDArl27cPDgQVWeWVlZuOyyy2znGQkUAAkhhBCSkuTk5KBWrVqBz9SpU3XTHT58GGVlZSGh4xo2bIiDBw/aOtcjjzyCJk2a4MorrwSAwHGR5BkJtAEkhBBCSEqyZcuWgD0eIGvgzNAupJEkydbimunTp+ODDz7A0qVLQ+wRw80zUigAEkIIISRp8Xg8Ybt6qVGjBmrWrGmZrl69ekhPTw/RzBUWFoZo8LQ8/fTTmDJlChYvXoz27dsHtmdnZwOQNYGNGjVylGc04BRwJWbvXuChh4DfPt0IPPoocPJkvItECCGEmNKjRw/ce++9uPfee1G7dm3UrVsX48ePhyRJAIDmzZtj8uTJGDp0KGrVqoU777wz5mXKzMxEhw4dkJ+fr9qen5+Pbt26GR43Y8YMPPHEE1i4cCE6duyo2teiRQtkZ2er8vR4PFi2bJlpntGCGsBKTP/+wE8/AQtmVME2TAX8fuCpp+JdLEIIIfFAkoB4OYWuVg1wMK351ltvYdiwYVi1ahV++OEH3HXXXWjQoAHuu+8+ALJgNX78eIwbNy5WJQ5h9OjRGDx4MDp27IiuXbtizpw52LNnD+655x4AwJAhQ9CkSZOAHeH06dMxfvx4vP/++2jevHlAe1i9enVUr14dLpcLI0eOxJQpU9CqVSu0atUKU6ZMQbVq1XDrrbfG/HooAFZiyn1PYjvOkX9s3hy/whBCCIkvxcVA9erxOfeJE8Bpp9lO3rRpUzz77LNwuVw455xzsGnTJsyePTsgAF5xxRV48MEHY1VaXQYNGoQjR45g0qRJKCgoQLt27ZCXl4dmzZoBAPbs2aNyPTNr1ix4PB4MGDBAlc/jjz+OCRMmAAAeeughlJSUYMSIEQFH0IsWLYq5D0CAAiAhhBBCEowuXbqoFkJ06dIFM2fODMQB1k6nVhQjRozAiBEjdPctXbpU9X/37t2W+blcLkyYMCEgEFYkFAAJIYSQVKBaNVkTF69zR5HTHGgTiT4UAAkhhJBUwOVyNA0bT77//nvV/1WrVqFly5ZIT0+PU4kqH1wFTAghhJCEYu/evRg9ejS2bduGDz74AC+++CLuvvvueBerUkENICGEEEISiiFDhqCkpAQXX3wx0tPTce+992Lo0KHxLlalggIgIYQQQhIKt9uN3NxczJ49GwDg9/tRVFQEwN7iCmINp4AJIUlDaSnw3nvAoUPxLgkhhCQ3FAAJIUnD+PHAbbcBXbrEuySEEJLccAqYEJI0fPKJ/M0ZIEIqL1p/eiQ2UAOYSpTHUSSEEEJIakMBkBBCCCEkxaAASAghhFRSpBSe+Unla7cDBcBUQoirSEgywiZMiD3cbjcAoLi4OM4liR/KtSt1QdRwEQghhBBSyUhPT0ft2rVRWFgIAKhWrRpcSfwG5ff74fF4cOrUKaSlmeuuJElCcXExCgsLUbt2bYaPM4ACICGEEFIJyc7OBoCAEJjMSJKEkpISVK1a1bYgW7t27UAdkFAoABJCkoYkVmAQUuG4XC40atQIDRo0gNfrjXdxIsLr9WL58uW49NJLbU3put1uav4soABICCGEVGLS09OTXhhKT0+Hz+dDlSpVaNMXJbgIhBBCCCEkxaAASAghhBCSYlAATCXoE4kkObQBJISQ6EABkBCSNPAdhhBCogMFQEIIIYSQFIMCICGEEEJIikEBkBCSNNAGkBBCogMFQEIIISRa+Hw0ViVJAQVAQgghJBoUFQH16wPXXRfvkhBiCQXAVMLu/NmpU8DatXyLJQkHp4BJQrNgAXD0KPDZZ/EuCSGWUAAkofTrB3TsCLzySrxLQgghhJAYQAGQhLJ0qfw9e3Zci0EIIYSQ2JBUAuCsWbPQokULVKlSBR06dMCKFStM03/00UfIyclBVlYWcnJy8MknnwT2eb1ePPzwwzjvvPNw2mmnoXHjxhgyZAgOHDgQ68tIHjjfRgghhFRKkkYAnD9/PkaOHImxY8di/fr16N69O/r164c9e/bopl+5ciUGDRqEwYMHY+PGjRg8eDAGDhyIVatWAQCKi4uxbt06jB8/HuvWrcPHH3+M7du349prr63Iy6pYnNr0UQAkCQabJElo2EBJEpE0AuDMmTMxbNgwDB8+HG3btkVubi6aNm2K2QbTlLm5uejVqxfGjBmDNm3aYMyYMejZsydyc3MBALVq1UJ+fj4GDhyIc845B126dMELL7yAtWvXGgqVKQc7M0IIIaRSkhHvAtjB4/Fg7dq1eOSRR1Tbe/fuje+++073mJUrV2LUqFGqbX369AkIgHocO3YMLpcLtWvX1t1fWlqK0tLSwP/jx48DAHw+H7xer61rsYOSV+R5ulX//JKEMht5KkdJkgRfFK8rEYleXRMrolHXkpQBwBVxPpUdtuuKQ6xrl9cbGFRZ99El2m3a5/NFJZ9kJikEwMOHD6OsrAwNGzZUbW/YsCEOHjyoe8zBgwcdpT916hQeeeQR3HrrrahZs6ZumqlTp2LixIkh25csWYJ69erZuRRH5OfnR5iD2hdVYWEhVuXl2T7qWFERltlIXxmIvK6JXSKp6xMnrgBQAwCQlyJtMxLYriuO/Px8nLFxIzqU/2f7jA3RatOHDx+OSj7JTFIIgAouzZSkJEkh28JJ7/V6cfPNN8Pv92PWrFmG+Y0ZMwajR48O/N+/fz9ycnLQs2dPNGnSxO5lWOL1epGfn49evXrB7XZbH2CTBg0aoH///rbT16xd21H6ZCRWdU1CiUZdV68e7LIqe9uMBLbrikOs68w//wxsZ/uMLtFu0/v3749CqZKbpBAA69Wrh/T09BDtXWFhYYiWTyE7O9tWeq/Xi4EDB2LXrl34+uuvDbV/AJCVlYWsrKzA/6KiIgBARkZGTDpZt9sd1XzTXC6kOcgvLS3NUfpkJtp1TYyJpK7F9zfeL2vYrisOt9uNjIwM1X8SfaLVpsV7laokxSKQzMxMdOjQIUT1m5+fj27duuke07Vr15D0ixYtUqVXhL8dO3Zg8eLFqFu3bvQLTwghhBCSYCSNCDx69GgMHjwYHTt2RNeuXTFnzhzs2bMH99xzDwBgyJAhaNKkCaZOnQoAeOCBB3DppZdi2rRpuO6667BgwQIsXrwY33zzDQDZAHTAgAFYt24dPv/8c5SVlQU0hnXq1EFmZmZ8LpQQYggXphNCSHRICg0gAAwaNAi5ubmYNGkSLrjgAixfvhx5eXlo1qwZAGDPnj0oKCgIpO/WrRvmzZuHuXPnon379njzzTcxf/58dO7cGQCwb98+fPrpp9i3bx8uuOACNGrUKPAxWlmccnC0JYQQ+7DPrPQ4CUixefNm3HTTTWjevDlcLpeuF5IJEybA5XKpPtnZ2bG8hABJowEEgBEjRmDEiBG6+5Yq4csEBgwYgAEDBuimb968OSSnjpEJIYQQIzimVGqUgBSzZs3CJZdcgldeeQX9+vXDli1bcOaZZ4akLy4uxllnnYW//vWvIW7pRM4991wsXrw48D89PT0m5deSNBpAEgWcvp0q6d98E2jTBtixI+pFIoQQQpIBpwEpOnXqhBkzZuDmm29WLSDVkpGRgezs7MCnfv36sboEFRQAU4lwQ8H97W/Atm1Aub0lIfGCM2wkoWEDTTqOHz+OoqKiwEcM9iCiBKTo3bu3artZQAq77NixA40bN0aLFi1w8803Y+fOnRHlZxcKgMQYbWd26lR8ykEIIYTEgJycHNSqVSvwURaSagknIIUdOnfujLfffhtfffUVXn31VRw8eBDdunXDkSNHws7TLkllA0gIIYQQEi22bNmiCuRgNlULOA9IYUW/fv0Cv8877zx07doVLVu2xFtvvaUKPBELKAASYzidQQghpBJTo0YN0wAQCuEEpAiH0047Deeddx52VIDNPaeAiTFaAZAr3Eic4TsJISQehBOQIhxKS0uxdetWNGrUKGp5GkENIDGGoy0hhBACwHlACo/Hgy1btgR+79+/Hxs2bED16tVx9tlnAwAefPBBXHPNNTjzzDNRWFiIyZMno6ioCLfffnvMr4cCICGEEEKIBYMGDcKRI0cwadIkFBQUoF27diEBKdLSghOrBw4cwIUXXhj4//TTT+Ppp5/GZZddFvBdvG/fPtxyyy04fPgw6tevjy5duuD7778P5BlLKAASY2KhASwqAubNA264AaggX0eEEEJINHASkMJOwIl58+ZFq2iOoQ1gKnH4sDM7vlgIgHfeCdx9NyCsfCKEkEoBzWZIEkEBMJVYtQq47774luHDD+XvtWut0/p8wAsvAJs2xbZMhBBCSIpBATDVeOkl+2lj8TbrRAM5Zw5w//3A+edHvxykcnDiBFBSEu9SEEJI0kEbQGJMvKcz7GgJSUqhapKlpUCNGkBaGuD1yt+EEEJswR6TGBNvDSAhZuzZI3/7/bIASAghxDYUAIl9KLwRQgghlQIKgMSYeE8BE0IIISQmUAAkxlAAJAkGmyRJaNhASRJBAZAYE+/OjFPOhBBCSEygAEjsE2+BkBARviCQRINtkiQRFACJMVqBr6I7NwqcRINhk2BbIYQQR1AAJMZwUCUJBhUsJKFhn0mSCAqAhBBCCCEpBgVAYgzfZkllgapDQghRQQGQGBNvAZCDNtEQVpNctw5o0gR4++2ol4eEQVlZvEtACAEFQGJGvBeBEBINBg0CCgqA22+Pd0nIzJlA9erAmjXxLklsiPdLMyEOoABI4oskATt26AuX7ExJNPD54l0CovDPfwKnTgF33RXvksQGviSTJIICYGVl06bI89AKYLEQyEaNAlq3BqZMiX7ehAAclAkhRAcKgJWVyy+PPI+K0MA995z8PW5c7M9Fkh6xST4153T0xlcoRWb8CkQIIUkKBcDKyh9/GO87fNheHrQBJAnMmGfqIx+98QFuMU9IUwJSUbCtkSSCAmAq8t138S6BPShwEhuUoKp5ArYjQggJgQJgKmJ3QIzH26zHU/HnJEkDQ8ERQkh0oACYivj98S6BPi+/DGRlAQsWxLskpDJB4ZBUFGxrJImgAJiKJKoA+Pe/y98DB8rf7EyJDSRYtJPKNgV84ADw7LPA0aPxLgnRUtnaGqnUZMS7ACQOhDsFzM6NxJvfCwE0CN2eSm3z8suB7duBb78FPvww3qUJj1S6X4QkKNQApiJ2NYDUwJFEY98+58dUtna8fbv8/cUX8S0HISSpoQCYitiNxVkRjqDNoJaARIPK2o4S1ZTDDpVNKFeorNdFKiUUAFORadPiXQJCooalDWBlJZkFQEJI3KEAmIps3GgvHd9mSWWgsrZju5p8QgjRgQIgMSaKi0D27gUuvBCYi6Hhn5+kPC6EtkEXJOCzz4wPqqxTwMl8XclcdkIqCRQAiTF6AtixY0BeHuD1Ospq9GhgwwbgDsyNUuEIERgwIN4lIISQpIICIHFGz57AVVcBTz7p6LATJ2JUHpLyWNoAUpOceCTzPfn4Y+C99+JdCkIihgIgMUavk167Vv5+553Yn5/TRESD3hSwJWxHJFr4fMBNNwG33Qb8/nu8S0NIRFAAJMaYvaVzUCWEhEuy9h/iwpuioviVg5AoQAEwxfAhHYWoH+9iEBJbDh8G7rsPWL8ev/vrooxdHakIknlqm6QcSdMrzpo1Cy1atECVKlXQoUMHrFixwjT9Rx99hJycHGRlZSEnJweffPKJav/HH3+MPn36oF69enC5XNiwYUMsi58w/AXfoCEK8eOPNhJHsTNL1hd+kqT84x/Aiy9izUV3ocHeteiLhfEuEUlQ3n4byM+3mZgdGalEJIUAOH/+fIwcORJjx47F+vXr0b17d/Tr1w979uzRTb9y5UoMGjQIgwcPxsaNGzF48GAMHDgQq1atCqQ5efIkLrnkEjz11FMVdRkJwSp0ASB3epbEewqYb9MEAP78M/BTzwZQdxHIpk0AgJdxDwBgMXrFpmwkPBLk2d6yBbj9dqB37zAOTpBrIBWLE2XU5s2bcdNNN6F58+ZwuVzIzc2NOM9okhQC4MyZMzFs2DAMHz4cbdu2RW5uLpo2bYrZs2frps/NzUWvXr0wZswYtGnTBmPGjEHPnj1VlT948GA89thjuPLKKyvqMpIPdnAk3rz0ElCnDjBzprPj2HYj4667gBEjYpd/gmjS9u+PdwlIMuFUGVVcXIyzzjoLTz31FLKzs6OSZzTJiPkZIsTj8WDt2rV45JFHVNt79+6N7777TveYlStXYtSoUaptffr0MZS+7VJaWorS0tLA/+PHjwMAfD4fvA794pmh5BVJnm6L/X5/Gbxe/VBS7kAaP8q8XtV/5Y1BAuBzUD5JSof2fcMr5K1KW553elnQciua9astQyzzJ0HCqWv3vffKP/75T3jvu8/U5YuYb4akn7Iy3GfxmTG6noja9aFDcL/6qnz8E08ANWs6z8MApeySJDnqP2KFz+eCMgzaqiuhz/J6vYDXq6prl88XGFQrQ1tLJKLdV/t8PsfHiMooQFY2ffXVV5g9ezamTp0akr5Tp07o1KkTAITIMOHmGU0SXgA8fPgwysrK0LBhQ9X2hg0b4uDBg7rHHDx40FF6u0ydOhUTJ04M2b5kyRLUq1cvorz1yLdtmBLKdRb7d+3aiby8LabHHjh4EGvz8gL/jx07htPLfxcXF2NxXp7t8vz+excA6nuSJ+Qt4vf7kZeXhwv27UMzIW0siaSuiTOc1LXYPuQ20CQkjTItLLaRy0+ehJ7YEut2FCvcRUXo/uij2HfZZWgrbLe6nnDadZXDh9Gn/PeiRYvgq1bNcR5GKPezqKgISxPgXmzYUB9ANwD22sa8d8/GBmzBt7gEa5cuRfHPPwf25efno/H69ehU/j9Z21qiE62++vDhw47Sh6OMikeeTkh4AVDBpZnSkSQpZFsk6e0wZswYjB49OvB///79yMnJQc+ePdGkSejAFC5erxf5+fno1asX3G4rXV54HDjQEv37NzdN07hxYzTs3z/wv1atWoHf1apVQ39hnxWzZ6eHbDM6Pi0tDf3790e6sHDHybmcUBF1TWQirev+/ftjMkIXaym6PrGNZDz6qGEeyUjao48ifd8+tNU4IDa6nojqWph66t2nD1CjhuPyWlGzZs2EuBeZmcExwU55rr9ersvn8ADG9egBnHWWqq4zT550lB+xT7T76v3l8//Hjx9HkeDSJysrC1lZWSHpw1FGWRGLPJ2Q8AJgvXr1kJ6eHlIZhYWFIZWmkJ2d7Si9XbQNQ2k0GRkZMREe3G53zISSVavSsGxZGq68EsDgwUBpKTBvHpAWnKZNS09HmnD+NEGAdklSxGUzOt6l7BPKopv2yBFg2zaga9eIbb5iWddETbh1bXWMan95e9BOBCftPfYbmGvYqBPH1yykd2dmqv5HC1daWkLciwxhBHRSHh/K+3yxrtxuZGj+k+gTrb46o/zm5+TkqLY//vjjmDBhguFxsVAuxSJPOyT8IpDMzEx06NAhRO2bn5+Pbt266R7TtWvXkPSLFi0yTJ+qLFkCWfB7913gP/8BhOkMXRLNsP7ss4FLLgG+/DLeJSGJRqK11WSiIhZoJMgikKhTWa+rErNlyxYcO3Ys8BkzZoxuunCUUVbEIk8nJLwACACjR4/Ga6+9hjfeeANbt27FqFGjsGfPHtxzj+ziYciQIaqb9sADD2DRokWYNm0afv75Z0ybNg2LFy/GyJEjA2n++OMPbNiwAVu2yHZw27Ztw4YNGypE7ZpQiJoFrVGsdhCt6M7NahA/elT+/uyz2JeFOGP3bqBvX2Dx4qhmG1YouMpART574rkoSBuTynWTnw8sXRrvUkSFGjVqoGbNmoGP3vQvEJ4yyopY5OmEhJ8CBoBBgwbhyJEjmDRpEgoKCtCuXTvk5eWhWTN5icCePXuQJkwXduvWDfPmzcO4ceMwfvx4tGzZEvPnz0fnzp0DaT799FP87W9/C/y/+eabAVirfysdBlNLCQHfppMWacjtmLeiMc77aiTaST/F9lx6633LB+eUFRgjgQKgJWar0Ss9R48GHSd6PDExEUhURo8ejcGDB6Njx47o2rUr5syZE6KMatKkSWD1rsfjCSiZPB4P9u/fjw0bNqB69eo4++yzbeUZS5JCAASAESNGYISBX6qlOm8iAwYMwIABAwzzGzp0KIYOHRql0iUnLheAGTOCG7QCl1nn/9tvcnoOEESHhTta4la8AQAUwaJBZXvOKtv1KFTW6xIRHLPD600pAdCpMurAgQO48MILA/+ffvppPP3007jssssCcotVnrEkaQRAEiPK3docQR24j7t0XWcY8vnnwDXX2EpKZV5qsc5zbnwLkAoDsQXpJSXAqVPOB2jxYe3bF/j4YyDabq6SvENIac1yij9bTpRRzZs3h2SjrZvlGUuSwgaQ6LB6NfDII4DgdiBcTuA01MMR1Ore3jyhtiH/+mvE5yaVlBiNj04H3kozVedUYCopwdW33IKMRo2cn0s0C1mxAhg3znkeSYKjan3ggZiVI2lJckE+1aEGMFlR7BklCZg2LaKsdqCV/g6rhzuKDmIjIsXfSIkOqd4mtm8HALjCeUHUPvdHjkShQEnOgQPA888DeA5A+YtFqraxVL3uSgg1gMnOxo3xO3fVqrHN325Hw7fQhIO3JMo4HXSjeQMq8YBv+9IEp/REgA96UkMNYLJTVlZx59L2lg40gI7GEI9H/mbnknwUFQEzZwJHncfZjCqVWGiJOU4Wg6UKSkxqom4P7KOTGgqAyU5JSeg2m1M2lv26VYJYagCPH7eflgNU4vDww8DLLwMYG9divPPHVaiDxnEtQ1RxOtBGMjBXhAC4caNsa5iWnJNQKb0IhFQakvPpI0H++CN028qV4ecndv7agUD730Hn7Xg8mj/f4QEkIVi9Ot4lwO7dwJA9k3E1vuBAHQ4VpdX5+uuKOU9FwpdRkkRQAEx2tm4N3ZaeHn5+Tjr/WDqRfuyx2OVNYke5VrgiBS/tSt/ffzfeR8qRJFlYLy7W3ycSKy2d3uxFBROurCvBldhO9GMJp4ArDRQAKyM2BUDX8mWhG8UHeu9e8wxi+fA7mQImiUO5ABgrwcuWYHnqVEzOnbToPadvvCF7Erj8cuv0Wq3Wxo3Atm2xKVcy0bIlkEpRoxSo5efmaWYAACAASURBVKw0UABMEgoLZdOqY8dsJLYpAErffKOzUeiUly83zyCWb8DKQhCSXFSpEu8SAK+/Hu8SJD6vvSZ/603ZmwmAR44AF1wAtGkTu7JVIBHLMuWO9FOWZBfiUxwKgElC377A3/8ODB9uI3GspoC1+w4fDv88VlTk6mYSPeIpAEoScN11wFtvxq8MiYKZLa9TRCnJaFbg6FHgww+daV+TRXjQmSY31EQfPRrjwhASPSgAJgnr18vfH38M647Tps2ObifmpFO+4w7z/b/+Gr6QSAEwOYnDqs7AdPOWLcCnn1b4+ROe9993lt7JS6DCjTcCf/2rHJ2osvHRRyGb9EwcXCtWAHfeWRElii+0Aaw0UABMRqweulhpAF0uoHt3e/ns3w+cfTZQv75lthFDm5TEofxexMUG0Bdn34MJhEu0FRk8WCeByf0xmwIW9504Efz9v//J3y+/bL+QyYLXaytZ2pQpMS5IgsD+ttJAATAZsbK9i0QAtNK8nX66vXzWrQu/DE4RB6V33gEef5xvpimEoxXHpaXG+7ZuBTTB3JOVjD59wj/YTAAU+54NG0KPNatfq/PEAVtF4IuFMQlwD0n40BF0MmIlAGbYu63KwPk4BEPm/PxwS2V+rop6aRwyRP7u2xfo2rWCTkq0xNP/num5zQasnBz5+5df5BWelZloaABTBbsL0qgZI0kGNYDJiEYADOmTbTpYVabpPsO1wY0//WRygFRxA0CrVvbT7twZuo0B7ONDHAZBR9PNRi9PYrvevTui8iQ9dgVAo75gyxb97U88YX6eOGCrudKtkJpUfyGoRFAATEa++CLw83rXAnTrphnXvvoq/LwzM1V/b74Z6IVFFa/P+dvfzPeLHY9eNBR2THElLjaAOosdQsph5L9O9B5ds2YYJatE2F0EYpTOyA4wWZ27253WrgQaQMfdJvvZpIYCYDIyYEDg5wLpWnz/PbB5s/NsrKbpypCG+fOBxeiFbTjHYebqzlCvn5AkYDea6ZfCqjMVJV69KW92TPFh3rz4nXv6dAAWwudFF+lv//nn4O9E8GUYTyLVADZqFN55Khqv117YTLvlTCYB0OcD3nsP2LMnsOnmm4F27TQz3u+8A/Tvr3ZASw1gpYECIFFz2mm6mwODqt0HXky3aZNukjFjgBbYjRn4V+hOKztHcWUeBcCUwalmMR+97CUUFz8lU9vRM3+INlYCoNZG7hybL4teb3ynV6dMAR6vQK3k7t3AWWcBzz9fcec04sUXgdtukz01lDN/vjx7v2SJkG7IEODLL4GnngpuowBYaaAAWBmJ5KGsVi165VA4/3zdzdOmyd8PY3roTiuHquLKvEQTAF94AXjllfidPxb88oscAswKZSFFgrAfZ1gn2rsX+O234P/vvotdgcLhvfeAZ5/V3zdqVHh5hrsIRHwxU9JNnqxOb7Bo4gAaYSdaBDfcfDNQr158ov5IEjBhgr0XimhpAEePBnbtAh54wF5+sURZ7GfTxY1tB9dFRWpzCpLQUACsjNh0oqw7BSwIVmLnaDhdbPQGH+l0iF6YOhEnGsCPPw5vjlzLv/8N/Pe/5ml+/x24/37gnnsql/F4q1ZyCDCrzt3tjmkx9NphRPaGHg9w5plqm9O//z38/GLBbbcZ79OzT3PiikUPpzaAL72kTmMg0DXBAbTETvyJ2sGNJ0/KQlFF89xzFX9OPVvleGHSP0trfgAefFD9km2UXttWatUCGjSwGbOUxBsKgJWRCGL0Sl59n1eGU8DRjLwg2metXGk+EOlpAMVORzl2+XLgpptk45ZIOHwYGDQIuOEGc42FGDYqGv7Djh6VY9smSoipX381358AdlCOXNAkSr2Gi97L3l13WR8XDTcwym+tYGOh0duJs+yXJVb885/yqaO5vM3qOkpKoneuSDEr6+OPAc88A8ydG9xmFOHHqI+Oxgs3iTkUACsjEQiAjoUWuyHbTtno/JxM24oaQKUze/RRdZrjx4GFC+3nacZbbwV/V6Rj2JtvlgNA33NPZPlEq8xW03XJZhOkV944hLMLG+3zV1YGvP229XFOwr05XQTidEo3HgJgJH2kAa5ffjFPEKlmNpqYaQCVl30l/iigfibstAE6z04KkqinI2aonkODzu0X2HBua7BgwwVJHly0jqLtalDsrLbTDmZmA4PYwSgXv3WretvppwNTp9ornxWiprMihRzFpc/8+eHnsW0bUKeOPK0TDuL1Wg2cMa4bPY2NIy1Oixbq/3rlTQAtpm20A+0HH0Sep1MbQC0Wgk7I/QqnvsvK5NjDWt+C0UaS7Nm+AtZxz5PpxQIAZs8O/rY7BaygOOQnCU2StcgUYf9+XPLoo3B9+KFpMsNhz2CQ7oGl1ud+7VXjfRs2hL7djxhhnSdg743QyVujqAFUOiGtpsKudtIORm/AWqIpPBw/HvxtsDrbFu+/L+f1zDPhHS9e7+rV9tNWEI5sAHftAr79VjhYp7zhtptYXLtVntqy6sX91SOaU8Ba9DSAommEFm1/VVQELFhgbkO7cCHw4YcR+xa0bDsvvwx89JG9zKyefVGjVlGsXq0fss9pP2VTeJ2BB5GDzSj8rTixNJ5EFwqACUj6qFGot2ULMm691fYxqudZZwCTYHNFpOoYm51EtAY+owgCemiFxYICdQSUaA/G4bg+cFoG0ZbqkUfUDolPnnSWl0gksaEB9XU8/LCttLFwBC1JwHe4JPKM/vIXdabR4PhxOXzc3Xebp/P5gDlz1H4HzbBapSk+60VF9vKMhHAFwE8+Mc5T+yzfdBNw/fXAv3TcQylU1ErTmTPtpzUTqlS+VSqIEyeAzp2BCy8MFcaiJQBq2sBDmIGtyMGTGCv701yxwjjPeKz+JiooACYif/5pvr9t25BNVlPA7yNUmIyaAXQ83vS0ftsu0QgG0bbxsasBDJd//xuoWzcoYCk+cqJBpOV1Upcx1ACuWxeDTI3K61QL+N57snZxzhzzdHPmyEKizjOsy+efm+8Xy3nnnfbyBEJfaERtmxMN4IkToXnrDexmmjqtALh4sfz92mvGx+idN96YaclshudESUn0QhGKU9L79qn3ORUAZ84M3nsbLwGlyJJ/XHqpfn733iubpVSEH0tiCAXAZKRrVwAmWhadAftNDLWVtdTYmZYQAPDDD86PsYPR4HzyJNCxo3qb1pVEtI2QYy0A3n+//D1dxydiuBQVyRoAUZgMZ3ozQQTAqCsM9u4Fhg7V3+dU42r3uletcpavEKlBF/F+/vvfzvJWGD4cqFo1aENrJACeOKF2kWNXADx61HygN9JymrW7KAmAli/B0TLp0GosjdrL+efLdqp607ZOKSwM/tZqnO0sAtHy4486iW20+//9T7bVFNvqSy/Jz5iVWcr69XKfaNdfIXEEBcAkQ5Kg+9CpnmedjtOutm+EN+gfy2oabzeaYTeaAT/9FLpTGwouGlOCf/wBdOkiu3QRXSrodUJmHcbmzcC55zobMMVp1FjYANoRsvQ6YDNyc2UbILGuvF5g2DDgyivtC4Pa67WxgjSq7jUsCLtt3XxzUNukxanLDrsCoOizUquV0cPK0XO49opiO33jDfl7xgz520gAnDwZ2LHDOJ9bbpG/CwrUaTQCYUjb8Pnk9r9tm/rcZtdmJgCuXq1etR8JTp5nbVrxWrQaXyNn40r9Wth/26Jce+xDOi69ukbk7i31+lQ77f6KK2QNsLI6XbQHNbJtLi2VheaLLpJnRYziS5OIoACYiDiJg1uO6jmMYPHDK7/fqF8kTaddiky0wG60wG6UnqygJf9Tp8oaFDtTJGbqon/8Q7Y3HDTIOh9Jkt9gxekUv1/uzJzYLNo5jxVGwooReiu0+/aVB/wlS4A1a+zlo21vZiYKejaAy5fbO09Fs3at8b4YuAkBoHaUHQ0XRVphyy56fczcufJUsLYtzpolv3xptXiSpBYKlOfhnXdC05nh8wH33Qe0aaMOOWZ2D8Qp63HjgLy84P/OnWXNrtnzUqOGeZkUDPpi3ZcOs367Th31f6uXuWjMYLRuDQBYih5YgUvVMlQ4L6rKy4vR/bS6z4pzf3HGyCjyVNu2skNpBacvv8QWFACTDEkCHl9/nXkiHZu8aGtkjgre/GNme67tpIy8y+t1PGYdqM3phFOngP1zF8lvsGKn9eGHwO23y1rEaGFH4Bg92lmeeqsoly0L/rY7raIV+Jz4kAOAyy7TT7t4sTxYG7gewn332StfuJjZrk6dqhYqIuG//5XrffNmtQbNanGOnZeCcBdDGNmrPfus/nmffjp0mygAVq1q7C5Fk5+uBnDWLPn3uHGGx6kQn5cnnwSuuio0jdl0e7lwEdXFSmY2gFqTAr3oRSJ2BECj+rn1Vnk1+NixAIAyCO1s4UK5Xw3HbEfv+pyYfCheDfr2DW4zEkS1Jj1W9UXCggJgorN5c4hj10mbbsBm5Bh3XjoDfz56OT617c7R4wEWLbJv6GzCbjRDTyxGHvrpFMhBZ2PmQsKmS5XWrYEzhvXBNrRW7xA7TzN/V07KG4uFNFZ52g1Vd4YDu1An19yrlzxdd/75sjsh0e1NYaEcsF7ArtLC1suOdipTywsv6AsV338vr/a1CgmosHu3HD2mRw/ZdEF8RrTaj8JC+ZwLFsj/YxlK0Kgyf/1V/x6WlOhPcdpxOu33m98RM2Hn4MHQbR9/bPzSIGJm4lG1qvXxDnFpyyrWo9i2AetnU6mTnTv1p4vvvlsOz6jN99Ah2Rfku+/q24/2K+9XrWxL9Xj2WVmw1HPBpf2th7JfNK+wO1tFATAmUABMRMSOtl07Wduk4ThMpjB07JcknVsdrlbwMUxEewgd8LZtQJ8+QM+eEQsyd+ANfI2euAp5oQOD2apALWYOqgXXBC6tlmf7dvkNdcUK7N0rb/ocV6vTiNqHd96RO+EdO9RG14B9YaisLDI3L0ZYOem2c6/07DvNtJXhLgKZPRt4/PHgfz0bPDvOxO3SurV1Gj369JEH5RtusJfezM6vcWP1/3/9S9Y6Xn+9/D+WocPM3HrYtamVJGDCBPl3SYnacbCIQXt5GXfjLQwJfc7F/u/119X7vv1WdhNj5FZFXOxgJiTadY1k0J61fafLSpDRXqOeRlWcSlHSt2wpezjQLuKYM0cW1rWOv3VdgDnTchqmnztXFiybNxcS6wuAunl8+GFo+apXD02nFzOZAmBMoACYpOgJb9ddJysapJMmTlejwBN4DIVoGPgviT6+DKYV7QqbB5Ed+L32swP2CiRJoUbWZqvLBM1KhjLYKgwcKEffMHJfAIQOSjVrygJFw4by9ItTxJibZgwc6CxfK5vB335TR0/RQzsVAxi/tX//fUCzFtbUmhhKS084HW2xICKWnDgBtG/v3N7BTFjW1qPWns+uBrBHD9k8QrsyPpxyKQtCtPh85oscAKBTJ/lbqzEuKwtpD4fQAH/HyxiKt+A9JdSD36/OV/SFCZjHmPX77bvXKRcALfslm7agp3adwJfoC79Ru1futVKHu3cD+/er04gLfrT96Nq1skN3rVZTm06su2bNbJU9Eg79nobnny+3ErHz8nfHHer/mZnytyj06Wl9GVouJlAATFJckFSdqs8nRytbtgz4pTQMVy46hDWIOzGa1sGLoJF8x6M2Fz3oRf0wizxghp2VmWYohs6AfW3Y88/bS2fXcF2hZ0/z/ffeC+TkmGvW6tcP3WYkAJa7JwqbQ4dk7deXXxqvktThY+gvXIoqr7xibIi+bZu8sEgPPW2GglXoQ7sawGXL5JcIJ64yzMw1jNqttnwHhBe0qlWD06racmuu0wUJJxDU/Pi9Jtqz+++XtU6AbNP3/ffGabUaeDPMNIDbtgG9e8uLlwzaurY/+/uEG9EfX+I1DNfPUxFgsoMvuCGh40ThWyvwFBYC//d/8sI1UXDUzhyINqHlz66lkBuB66Y+tzfEAw+UW8LYyUdrMuDxyFPLdesCz5V7oNCzrY6lOUQKQwEwEbFh7KR9qGMdgcusE1HtU8pucg0T8Dg+0gzan+Mq/IYz8Qta2S7TZuRgIfrI54qWn6gjR0I2hb2Axu5NOfNMZ/mWlckaAau34qZN7eW3YIGs6ZgxQx0mTTmX3vktcOXk2Du3yOrVcln69wf+9jfbh32D7liBv1gnbN/eeZkUzCI5GGl9Z80ynyq2qkcnU8AZGcFnoNyGcDLG4iWUh2p00kHopZWk0Gda9Cty2mly5AcgdLAWNbtKdqIAZdWOBw+W22eXLubacicLG8z62JtukmOeX3aZbQ3gHydkgXYBhAV6ei5tunQJbqtaNWhyMm+eOkNtnYgL4EQXN4rAV1Qk53PhhaHntELjMcHJi//GrbLDZ62/ctt5lJQEF7eNHGmcLiZe4AkFwCTFTACsSB9sISgdq8mAMxETMADq+JrX4HPMhMUq1xYtVH/bYTP6YSE2nTgrMR2FGtXBwYOycKBMJ/bo4Sy/xx6Tp/usHHvZHQBq1ZKnlx56SB0mDdB3p2MnX829ijWXwiTklEK4sZABWStphNFKXCOtoIJWuNC2Fydaj4yMoNBw+unYiRYYj8m4Fy/J2/RszowI172RngB47BjQp4+pQOAqszG9Z6cu7L7wAEF3RdfraI8V418ARYdK8BQexi9oaT9vLWVlwNKl8m/xucjMlDWcX30V9KGooNVmTpwY/F2+uhdAcIX+jBlyPiLl7cFSGOvcOTrO/MPRQig2pFaYuWwiYUMBMEmpCA1gNKeAo3K+888HAHjgRiesDmzeXNwisjARYuVpBaBY0LOnLBwoxtTashtNQyvlnDJF/rZaFGNXKK5dOzjNpkU7TQXYWkEYci9j5VfPCTbapgSgzGm3qDVQFwdrM6I1BQzI9avcb7c7dJHYQw/Zz8toqtus/lyu4BRwWVmwLL/9Znk6yWtDALSzYEnbxm64QRaMzj5bPV0t0qhR6DbBznN03TcxBk/hPKjrxOglW3f7lClBk4aMjKAXAkkynopfuFBe7WzF6afLZgaTJ4fus+s7b+PGoP1mJMRyGqqCXyhTBQqAiYiNgcqPNNUgmzAawFh2AuUd/CL0xg/QdFh2hB0DzZVbtKNxOh1rhtFUmqJhUd7etXY8Dz4YnfPbNZw+7bRQ7YGC3sKT998P3aY9vmFD9X+t8b7R+RRiIYib+Wkrpxu+Q2tshxcaoc4szq5WABS0Gl5koMhoxf7VV2seXM1zrzN1aogodEW6YlKv/7F6rtPSghpAIKixK3d8bfpyZ6edWsVHB0IFZrdbFnx//TU0FrFyPRZtYtnxiwAAp1BVtgtUDhevRzAb0b3OF14I/k5Px3rpAizDpWqhXQ+rKDCAfM3XXmuapMLGg2j0/UaCfrRC8kWBWbNmoUWLFqhSpQo6dOiAFSvMZx8++ugj5OTkICsrCzk5OfhEXDQJYOjQoXC5XKpPF9FUIIZQAExwTilBtTX0wNKI845lx+AtS8MqXBzQppi6rbFLuQDn0w7OLpc9DeD8+bqDjVsMK2XXPYQd9EKo1aoVmk67YGX+fPP87JTxww+NV3Rq0XEzZEr79rLLloEDg1oX0bkrENphawc6bXotevUUKTYGke/RFTvREj+jjbxBqXOtkZO4T4zuoSEHW1ALRTiCOvoJxPAMWmFEu2LSjLKyYNs2KY8t9LRlkqQv+Cu4XECW0FcpQpGyylNMqnWh4rXx7NpZ4CFGEQHUL3zalftKyEKrJiEW1eClJU2Mta1zDtVJMjJwUfE36IFlKDhocXI7K8693lC73XihJwC2a+fsZU6c3k5A5s+fj5EjR2Ls2LFYv349unfvjn79+mGPwazIypUrMWjQIAwePBgbN27E4MGDMXDgQKzSOCnv27cvCgoKAp+8aDmht4ACYAJzN15GVZzCj2gXsq8YamfGsdAAim+zTvMc9tx56IJVGIsnAQCrEIU3GqNpRLuLQPbsAV59NWSzSgAUV+lFirZD3Lgx1HGrJNl3LSJJsl8+cWDzeuWpHu3ilb/+1Xl5rbjppuDvSZOA//xH5VNRhXZk7RV0RO5SHB2boSOoR9yuHWgRAm1fWcWrF3JN0dzqCVySBLRqFVjU9D9crn8icbo4Ei2HqAF0u1H2V4cug0T0XP9YOXk/eFAtwCpRXAw0gFKW4IjZyPxAxELLBQDYsEH9X8+HZaAABhpA8UWyTh1bbc4lmGzophfvq/Cs7yuweJGz8uMJyP4ALYiaH8Bw+Ne/jPsIPSKx060AZs6ciWHDhmH48OFo27YtcnNz0bRpU8w28IGZm5uLXr16YcyYMWjTpg3GjBmDnj17Ijc3V5UuKysL2dnZgU8dbejAGEEBMBEp7zDm4G4AwBQ8qptMNQXsCwoFTgZKQ79VOueylba8Y33na9kVzTQ8Yrsslpi5ZLAjAJ5+ejDKgkC6eKyNaULbaP1Z6QkRL79sX1MHhC78yMyUNXJ2FpJkZck+2jp0kOurbl375wWC03riikRlwBRtqXr3DpVlBHcoGXaEUx0BMOKBKZx7a+YP8r335G89AbCoKGCzaorYprWVpueCxwhxOjEjI3RBhLg61Ao92zFtHGArPv9c/ugItS5IajMHPYFTi52Qd8LiDQCyOxcRJa63np85vWMuvNBeX2rkckqS5Gn+Q4eC20QtYiIuXIsEPUfQijmCnbjrCY7H48HatWvRWzAFAIDevXvjOwO3VStXrgxJ36dPn5D0S5cuRYMGDdC6dWvceeedKHTi0igCKABWEqR/Orcb+xADUAcmfsoEdqEFGuIQnsC4kH1Re2PUmS5SYaQBbNPG2P5ENB4+/XQ5rq+GNKPQRuXYGgRq1w5GcFDQOm3VcTGDESOs8xbLJghGXmSgEOVCgpm2Q6GoSB4k16yRO2Yj9yW//hq6rUYN4Isv5N/iNI1isyPWYV5e5G0iDMevf+B0Y3s7IDwNm9mKWMV1h57NXUmJPA1fjmF9iGXSCqiKCxk7zsU1U8B+rU/G9eut84g211wTXG2ruX6XJDzL11nENo8WX30lP/+NGgXL5RLqvLBQ7SooIwMwePZt9QnbtwefGQXhZUFalG+35OEzbhxcYuQOG4T97Or1wVeXR1HSRixJII4fP46ioqLAp9TADvHw4cMoKytDQ419c8OGDXHQ4KXi4MGDlun79euH9957D19//TWeeeYZrFmzBldccYVhOaIJBcAkwLCzaSv4Wltl4iDVgJ9wHo6htuF+sSMYg6k4jPp4DE9YZyxOqTrBaoA2EABd/zGJ+Sk6Wc7K0jUyThOFjXBXqx49GjrVoX3DD9eZqRK2rKxMtbjiYqxGQxRiq2KvZtRhvPiiPPWsCNhKPRtFjlA0FmKHLhr4izxR3h6UKYvrr5dtFPVuZYSxka0G3br4A7VgMp0eyRSrnouRs86Sv/UEQLv3WiyTGBt4w4ZgHdhxAJ6WptYAOhz0Y4aBba7kF+5luE7bnbJwYfC3cn9EoVtry1dWZiT/qYUko+dObxW3qC3We9GKNuPGBafjY43WRvKrr4KRXLTP3mefWeeXpW//Hm1ycnJQq1atwGfq1Kmm6V2aa5EkKWSbk/SDBg3CVVddhXbt2uGaa67Bl19+ie3bt+ML7ctDDEgqATDaq28kScKECRPQuHFjVK1aFT169MBms1BDFYWmwRgOfIJxbVTtNhyiKl9JifOIFeVILgubGKMpYDO/dKL6XZJCVwNCowHUEwAbNATGjzcvGxCq4dNqsaze6Ix8YilG+e+9J2sxy9kAeVpvHm6WNxhNk9WooR9zc8gQ/fTKdYj1arSydPVqOZ1i2xSI56vTHp0M9GYRH8LFwRRwyPOk18aUlXp6U8CaRQeq/EQtk1gmceHLli3B9nKa2t5XF5/P/iIQK5ssoY1FTPnUv1l9SsUOYx5v3x5pqYIhEMW60mrRfT4YSoACaYKTcFVfqCf8CudzrVhmp6SRkZUFqanGs4FF/6w73lxwgfW5BBthP9LMV6PbcXEktnsnYQ4dsmXLFhw7dizwGTNmjG66evXqIT09PUTbV1hYGKLlU8jOznaUHgAaNWqEZs2aYUd5WM1YkjQCYCxW30yfPh0zZ87Eiy++iDVr1iA7Oxu9evXCca2hfpxZDn07JCkz+IYUyYKNqGKg6k+DDefBafY0gI6E3cxMyxBllhrAjAygWzfz87jdwJVXqrc51QD26qXvhkbUqJrZDa1ZY1w2I/RcTSi+/8Rzud1BZ8LaKB+vvx4UAJXBRe8WaWOfVjQWGkCpajXjnXpT0sogple/Gr9sqjYrrvATy1RVWBhRrZozAbC01HpVct++gCTh5AKLEIuijadT8jXTmjqzAS5Iam3wokXOztGqlT37Si1NmoSWxS0IKdpy+HyR9aV6C2eMNOmxRCvwXXKJaXLJraN5697d0SnfwDBzjb+dl0G3WxbK//Uv2XF+jKhRowZq1qwZ+GQZaB4zMzPRoUMH5GvaeH5+ProZjA9du3YNSb9o0SLD9ABw5MgR7N27F430fFRGmaQRAKO9+kaSJOTm5mLs2LG48cYb0a5dO7z11lsoLi7G+2buDuLAPhh4uM+KrQBoN0/V4GYw3ZABGzZdLovmaDeyRUi+5gO/pQZQ8ltrjzZtCnWmKuZ74IC1f7/ata19uCkLD/S40SAmrtuNvXtDXfEBAGbODN2mCIBiXbhcwUUjWru4b74Jdujl08ySpGP87yC+b0yIxE+ZXttTBECnU8uihk1cGCQuYnj99WD7EaaGfUjHRDyGb6EZQMQBVdOGAlf91Vf44v1jqP7MRIzHJOPyhWMGoWipO3RQby+vN1ONapEDgVMxYzDzI2kUhlDv5crMpZLPB1ckbUZv1kAQQiOetbHS9JbfC1Xz/OYb6/aq7et27QpO5TrBrO7sCJRutxwXePp05wvWYsTo0aPx2muv4Y033sDWrVsxatQo7NmzB/fccw8AYMiQISoN4gMPPIBFixZh2rRp+PnnnzFtBFRjQQAAIABJREFU2jQsXrwYI8vD3p04cQIPPvggVq5cid27d2Pp0qW45pprUK9ePdxgFkYySiSFABiL1Te7du3CwYMHVWmysrJw2WWXGeZZWlqqMhZVNIU+nw9erzdqH8lmp1MmdPSxngKONH9bAuBJY9tBr9cLfxgCoNfrhb+8Pn1eL/w6b15pQt2X6Wl6/H74TM5d9sAD8LZsiTJNx+ovLQ3k6/+//wtuN/Dv5m3ZElKETny9Xi+8Gq2Lr0oVnHmm7JKrQwc/nn66TNXeyh5VrzIvO3RI3idMYUlpafAb+aZ6553g+SVJzlNHiCjTLPL5Ee0wFY+gBBWjFfEJU+RfoD9+xjmq/ZLqd/Beer1eSHqrkqdNk++tDYFJlZ9m4Fbugyryw+efB9q7T1gN/AruxgRMxF+g9v3mF1bSeiH3SXqMeFDWMk6GDZMGB3hPP12+Dk1d+Ay03rrPmbLPyK8eAO+PP8rnqVMHvv/8R05fPvgGMFi449d52fGZTD/7NVPAXoerdsuGDw/dZiDISG3aOMobAHx6vinFPMuU51xYOHbxxbBqrf5MtQbMm51tZ/4mtHyacU2Vp42wfVJ5X6LNI1rjrNEzYsagQYOQm5uLSZMm4YILLsDy5cuRl5eHZs2aAQD27NmDAuGlrlu3bpg3bx7mzp2L9u3b480338T8+fPRuXNnAEB6ejp+/PFHXHfddWjdujVuv/12tG7dGitXrkSNME2pnBChy/iKIRarb5RvvTS/GYQvmjp1KibqhHlasmQJ6tWrZ+9ibNDlyBEYWwgE2SFMf8d6CtgsTzvncyMylwd5eXm49I8/4NQ6KS8vD385ehR1Aaxbtw6tDx0KWfZy4UsvYUG5n7r2u3ZBG3SotLQUq374AUYTJ59ffjmQl4dWv/0GUfdQtHQpDg4ejDYax85pOm5fSmvVwsKFC3H5qVNw+q4t3vsVs2ejtHZt9BP2r/zxRwDyarx169Kwbh3QqlVw8Oial4cGQvo/Fy7Et3/5CzJKSnBV+bbi4mLsycxEW4uyLP7f/+CpXRt7DjQCoJ5y+2nDBpW7mvbl4bWKUQ1PINQ2swRV8Dvq40zsDdlnxu/Qd5+yZs0adAXwHbriasgG1n+2PBu1y43xfX79drz4/ffRr3xadP1996HuTz/hzP/9D64//8SiDz9Ep8JCnI4MfIIbcCmWIxuHQvJQ7lFxvXrIz8uDuO5VcfqqXQt7as0aVAOw6ccfcVH5toCDag1pHwVja3+Zn4+d++oCer4HDx4E0Ew3j0jIW7gQcLmQXlpa3tJk1q5cic466XcJAqv25fI7nw96+qF93btj7datavu9//4XAHDV3LnIsLCxTVu9OmTbzl9+AdArNDGAoj/+UAmq8n2yv2J5e3FxyPOyUzCDEPvNA3XrInSC2pwvSkoCpdlz+eVI83pxxjffBPav7dkT+/PysG5dAwBdA9fQql49GOhIAQBHzjgD2Br8n7dwIVrv3Gn57GtZvWoVfhdeIrVt3qomT506hUU6L53aKdVwOawX5tIGI0aMwAgD7w1LlZjPAgMGDMCAAQN001etWhVfWUVFiiVSErB//34JgPTdd9+ptk+ePFk655xzdI9xu93S+++/r9r27rvvSllZWZIkSdK3334rAZAOHDigSjN8+HCpT58+unmeOnVKOnbsWOCzZcsWCYC0a9cuyePxRO3ju/JKSYJiKGP8OfHEjMDvpbg08Ps3NLV1vNFH+VGE6oFtHbDGMH0h6oVs1OZXF79bnrcZdhmWxePxSGUXXSRJgPQ2blOleQ+3GGbq8Xiksm7dJAmQvPPnS/62bXXTnTx6VK77O+8MuYaZ2VMlT3Gx6Tk8Ho/kOXTIdiV7vv9e9d87b57k8Xgk//nn285D+TkeE4P5LFkiebZsUZ9r1aqQw1XtbcKEkLx9jz4qed98M/Df37Kl5F2yxPq6Cgokj8cjjR/rCWx+GXdJF2CdtHv629Inn/xXOoT6qvL3wxfqukC6dALVpObYKQGStBHnSRIgrUInx21Zdc0lJZIESM/j3sA2sb591YLtfT2C28t69Ahe3/btUtlttwXLunixVHbFFdIUPCIBkpSNA7r3SGmj/mrVJI/Ho66zU6fke3/66boF986dG/j9D7wQ2GV4D0pLpZUriwObyuSJTEkCpKb4zfL4cD6B9nT8uGq7/+yzJQmQilElsPlHnCtt/Udu4P9ruEN9vStW6J9jzx7DPtOo7qw+X7xVYFgf/nbtpLbVdgXbjyfYph/BFN37fA0WBNvT44+H5OmbNi3wdxU6BbYX3zJU6oGvpccReoxpna9ZI/meeELylJZKnoICVbv0lJZKHo9H+uwzr+oaPCdOSL6ZMyXPpk2S9913Q67hw0ufDTmPXh8hHqPUn/jf+/nnqnukzdPq+vyNG6uOP3nypPTf//5XOnnyZFTG2V27dkkApL179zoTSCoRSaEBjMXqm+zyiA8HDx5UGVua5ZmVlaUyEC0qN3zPyMiAO9LwSwL+tDT8Ay9aphvx2VWB37HWAJpNAduZHk6znHgAfkNzw31uny9gm+R3YLngdrsDNi0ZGRmGK3Ezly5FxnXX6Rutu9LgFg309c4BAA0aGKYJOaazWi+S0batrNEIox2J9zsjIwP44Qf1uXTCqqna64MPAko0g9deAwCkT5miPofLhQwbhvfuKlUAtxtpQs9yD14BAExYUBWFtTJxAwrxgbJyGaHttS22BiJoAMAnuAHt8WPEZgjuKlWATz8Frg0a+4s2Xkb2XmmCV353drbKfi1j/37A5cKCcn3GQRgYbmdlAaWAq2XLkL7CXVIC3H23YbzbDGHq3E4duDMzkZER1Li3xnZMxOP4P0TRtnnSJNWK+sA1aezHXDrxjF2QkCbY+w7H6xiGoFY8w+AZcDdoYPx8iLZ8s2bZ9q+ZYeJ71PXTTwCCtpVO+/h0bXuqVw/p990HPBya9sP9l2ApLsdSXI4JEGaZCgrUTtYF3G63vDq2Y0ekA3IUo5MngePHkSGMYWKx3UofM2qUfIzODFqaxpTF7XYDLVuaX6wOGenp+veralVbdem67z7ddG63OyrjbUakMbMrAUlhAxiL1TctWrRAdna2Ko3H48GyZctMV+hUCC4XZuEflsneXh1UysfTDYwdIi2flL84IACaCbilMHEmLUmGK3HTx44Fli8PrmJ+663gzgKd2KhG2HDaKy1egoULgQOisKB02OF2bIrhu98f6t7FKnbwaafJIfIGDzZOoywCsVqZZnKu4lPpyMuTfeeNQdDXVh6uwmzcg39DjhAiCn+AvZcH22gN3AWbNcM2qqzCbdhQXlG5VZgfKynB7xsPWIc6nPSE3DYU59Digo8JE0KdhosINm2LcaVxOgN+xdm4DfLioai9HBr5aDO4/46ef2ERxyach13Ki6HZsyEKLQ6iTrj0PA8IPhTDqi+ljWlDueXnq1d6C5wS7WDF8mdnO1uAUa2aylcoIHd7huitxtU74NZbgUcfBQwWXepiZBtr183QQw/ZPxcJi6QQAIHor75xuVwYOXIkpkyZgk8++QQ//fQThg4dimrVquFWO573E4x4rgK2QxkshBATFuBaNBjcG/lFstbM9Yh+eLlnMRJVUIov0F+1/XhZtWDpDQRA1+bNwGWXBTcIxtqOrt1GXNOPf85Bv37AGQjGEA2s3AznrbTbJcFBR6/Ttfv2bmbHqgyw55xjnAYwFzZ37zbcNQKzMQj/1l0QotR/VNq1dpWqdqWzHopbKMUhtxi7uaQE1xy2DuUnNTlDXsGt5HHGGcGdzz1nfrBg33fUxHG7HaL2ouj3h6UVAsrvo5FwcO65spB9+DAO/nIC52MTzsIueZ9GeC8qkj23+HxQ+8DUtMEReAnD8JpRYUKJxJ67StWgU/RDGltQEwHWlS5cWy+NTaLeM3XVVaHbwkFnYYtuG0lLA558EujfP3RfOQvRx/xcb74phzfU+ONVoSx4Gj48umE5iS5JU8PRXn0DAA899BBGjhyJESNGoGPHjti/fz8WLVpUIatvko1IFoE8gXH4E+EFt/4OXXE9FuBwURZ675YDn+u+tQMYjWcBAEPwdmDbmjVAzZVfYTheM9UAhiC8BUuNHJhn23AJsmiFrAWQxMdP6eT1BEDB4bce0mU9guf1+9Uag5IS+25K7Ax8OkbOKkwEQJdeKDwNHjMNbjTIzsZxMVycgSCiGgQXl/vNU+6NWJ+nTllr/2ChhenUyTzmcMeOKEMa/HDF18eniCTJUSYE1qyRQw4vcfcNTa4VKowq5Jln5O+6dbF9v7n/wyuvBPr0kb2EqBDa4ElUw2yMwBsYpta4B4qh82zoTFvbxdWiedDvntafrFmoS1EAvO02WdBS6kLvmfr007DLKPLyl81QB0dwTFx6ZtpYjXkBGhdg2nxuv10Wii++2DiTjRvl+OjPPhtWGYgzkkYABOTVN7t370ZpaSnWrl2LS4VOc+nSpXjzzTdV6QcMGICff/4ZHo8HW7duxY0aP2kulwsTJkxAQUEBTp06hWXLlqFdu3YVcSnmhBGyar/jNWTOiGTgsRU+zoBLoOOSx8JhtFhWxR/vGxgmx7C144EekG1pFNo6Xf9mgZ47CeVtV09LUL7S0ZCMjODxkhScZurQwZnj2fr1je0YraaRnaYzQE/7MB6T8RPOjShfkbEQ7BvFKWCjJq7YheolCDd0IBCMJLJmjWmUGN8TU9EGP6MzVhmmsYvqOY4k4odiqi9w5ZVyBLsrvV9aH29Ub6JvUzF7nXjBit9zTbevaoOivbDtWQhBsBXry45cJMEVfIZ//FG900SxoAoXlpUlxxAePVrZGXqAA+2Y2XDy9zc64U/UQW2IvhjD6+vzoNFK6t1jsTDLl6u8AgCQTUzuvls/chGJOkklABJjhuAd60Q2UZzMioNxpItAoolks9kWoYbqRdm/fUdILy6ZvZWX4+qt7yYibHQWZQQGLb0oDHXMtacuF9RTwMrU09q1zsrlcgFr1uAoauEUNDZe5VPbh9uYayMjFQCN6AcbQkU4OHnZUrSf4jE2fVPqCg9iuLtVxsLd9hON8Qta4Qd0wiFkm59ozhzzcojPquCb0jEaAXDvXvXMuDbqhraPMBSmzj1XP43JS1BIXllZcvQIO+iFa9NzGA1D94LwQHhpa9w4EP5OZecJhNjmiZg2wwinQh0r9MzSO8nMKm337sD//mc/PxJ1KACSELROZhMNSRtcWzO4HEE93IHXcQ3UAcdvg459npFdjuiYNVrhmzIzZcNw4Zx/KjZd5Z38ulUe/Acan1FWIcwk6NsA2hButfx5PAOn46jaPhEALroI06cD9X9egVw8YJxBGNprO+xDU2yAjXikTjGLrGKEeI1mGsB/BBdy2R43dQTBjEwH3fSdd9pPa6N9SABWo5M8RXjhhZAAbENrSH61Hd/QofZPa2oDKDi9tltnIenS0gATZ9Iq9DRNYrxeQRoS/QaLfc4XgubLdVq1YCQdkUOHwn82KtoWzqzihbJYemUNcyqZVBwUABORGA2ikeDIBjCG6vsv0RfDplgbn8/FHViOy1TbPoDO4h4j7/7hxBq1onbtEO3fdJSvdCvXnHXAOgzEf/C9rvtcgZ071f/1BMDLdRwBW/D9BlnYPYJQe8CHy91XjIIcTtF01bAOkWqK74a5dissxEUhwnMnPTlVJ3E5gpBiqgE00eoZUi00HrGZUrUUmdijhIq8+mrjhOWonlW3OzQUYG31IpPPcA06YzXOx0Zg6lRMaP8x2mAbHioYpRrgtc1Ri/be2zEpsTu7LkkAyqOC4Kyzyk9go6316CELbFoMjjWSZ3xCPIV164CJeCx0MZMDF1EhVLAAaPqcCouXRkMnjKTAuHfbhIT/Xrs2qCAl8YcCYCVEipKpuN0B+6/4DxbgWlyLBRiNZ2IqwPbHl/CVaXyNRXC1Up/QlWv+SZNDZm/CRrSzKiwM2V2M8gFI08lv1frdv0wtzIbExhQXgSh5/fOfTktruMBGlzDCVyUyqgG+b1+VOxAVotGZmQAoTOeLeb/4InDFFcCJNB33HjraZrOF4R3xA5phD35AB1v3W/VMZ2YCo0apFytowqrNK/fX+BuaA6efjkmb5PikT88+LSINj2QQdUWVxokGcMAAeQ66PKoLAOCiiwyPAQDccov+dhsaf6M+Z98+YAImYpro7M9GTFfTPixGZhWG9OsHTDV4AXK55DjVALbB3CPAkx+eg2uuCf5fvlx2W1i+bpMkABQAKyGb0B7Z0A+RZxc/XFghBGQy66CWoQeuxwJ8hmvxLEZXuAYzEs1SmY7N1NC8gUZmQM6YM0dWCZgQKLumkw+pb63LDe2gIC4CadUKx1AT7y1vGrIQ0RInAqDWgFtYZBWubFDR9qTLlgGvQz82M26/XX97q1ZAuTspaBxmq9ixI/BTrI/77pNNn164Y33oMY0bh2wyEgAlAD/hPADAB7hF9hlXfq71623UozIFLGrsq1dHHvphBF5CKTLVCye0z7XZTbaKs2qjgTieAtYuslixwvS4U9cN0rcAEF5sjPo9L9y4CR/iBdyru38jgjMIRS+9g7lzQ/18q9q6WZ9Z0TNCbdqYC8Hl5bGzqGa90MS/kKMv6vnaJzHmxhtv1P1QAKyEDMPrKLQVTdiYN3AHrtXY0FVKdIKzv/O92hFx2P1v48b2Vx27LKbItI53BY1hyCIQvx+DMB+3TW6DOwxkG+NyOOgSunZV/49CPOwXDQbUaLBrV6hQ0aOHHIlCO+VuKXxEYVruRF2NKqRdO90pYKNT/QMvBX5LcAENG6KoSF4vcdddOlLjmDHqdpWeHnqdF16Iq5CH2RiB53G/epDXFsSskjQ+8EIEe+387l13AQfUDtfDtgFU0KlLkfHTqqv8vQcwkLjF87yH/8PHuAn34wXdtGI9D/n7abjjDuCmm4zLYqoBrOgpYAm2Or01MHHnQhKKWrVqBT41a9bEkiVL8MMPP1AArIyINinh8ijUmg0nmpnPfP0iPr8j2pqFNo8zTZsGf0fSkY8bpz5etFfTLgLx+/EVZF9sSuAJuziaAtYOEhZTVV9o3UToEInLICvOOkuOeqfHTpwFv0tTfq1kITqIN7nWMqTJw7mF+6BNm9PxAHLxu2JvqcyNbdyoSmc0Fs+GOtzZjt9ro1YtlSJWzZQpkLKCmp3F31VD/frylDR+/FFe6d0v+OzuwxnqvsSJAKjl6uBcoEsJGSvyyishUWaivYbgBnwSrOtt2/Cfj3XuYVaWSgAUBbO8vGCyIphH5wgct3w5FiyQf2oXvIp5i7+13mMqWgBcuTJ02/HjwLXXlq+ZsooGRBKOuXPnBj4NGzbEwIEDsWvXLnuSwvPPP2/7RPfff3/YhSTlJMAikN+hNlreoQnPZca1xfOiXZzkRZxee/JJ24eFaAQaN5an1a6/XtZsaKdoRAFQY5fmxOhaFZHAKUK71WvCJxF/317aNQ8iEz1j1BuUkRsAhg2TY8wqmAzKrdN+QX3/IXy/sQMUv9aSBLz0knrs/PxzAHgAe3AmPsGNwTzbtw8msrmSW4ILb8y10W8I5e71ubya+777gDMXtMO1/xfqA1XUAB44rCmLDQnta1yOZ86Zg6n/qgd8LuwYMgSCv3ZdItYAaliLjvgXZuBN/A1o3Vpfhv/oI0PhflEwhLTq+fwU1+qf8OGHZVcnBhi9VLdvr7mmxo3Vto0xZuZM4Jnn1GV76ings8/kz//5LSJ+GCD2CX/8IUc/HDIEMNfTkmjzxhtv4JtvvkF6ero9AfBZm165XS4XBcAEIBZ2VEetlvzHkwgF5l+vvhotP//cOmG45OTITsT6hkZIMEIcYLZsAe6/H5g40YVLRKFEdYCwCEQzvaYT793kxA7rcsCAoJpREC6S0QPEVJ/Gd5wY87dLF7UwZqIB3OlvgZ1oAdE93JYtwNNP66dfjwvlH5/pmFw4CLdmq84NBNcZM2RHztpZU1EAbNJb44zbxgl74mtgG1AwUti4cZOh/80xY+SIgW+/HZ4AuHmzrKidMEF/7UWBEA0kpCoOHJAldD03LtA8VunpQPl71rvQWQ3/l+7Ak9fbKj8A8+furbdk9z5LltjPL1LEmQtoqiQKCgrF8ua114AfINuc/4E6Or4HSLTx+XzYunUrzjnnHHsC4K5du2JdJhJF/Kk2s++gQypBFVT9f/buPC6K+v8D+GuB5RQ3EQFRFK1UyBtTsLwTSVGrb6lZpGak9sU0Lb9qlmRftVMzy0xF/ab+0g7Pb8Q3NDUP8EBXRYzyKJUAL8QDg0U+vz/GXfaYnZ3Znb3Y9/Px2Afs7MxnPvPZ2Z33fuZzwHA6uBorxssTRTtv7sGDwJ9/GkxyL0VyMtd+bccO7mJ36BAwYYLRSvqdQIwCQCnBmMLbtCwZ+KdMBcBdnLQBoIT3wWWmNBNSVYXziEIULkBhPI/xvfIuEdnW1nhaWNE0GlHv3wm0QxcrdwEAe/cCQUGmsY9gQ38JJ5Z+ZwChWs333uP+rl8PbNxYu7y01Pw4yvrZePZZ7hbqU0/dW/71ekCvs+9PGIC/d+XCHzwBIM+tTbMzgfgHALdNVq8VFga+ojNXZAoIjHnTogU3HaFMd4ZqarikBJMbOpRrdnJv2jZ73ZTSjlX/NL7DJjyF3b8Iz4pIbDdmzBi8+OKLOH36tKdFCp7B0T0pnU7Ct9NkfAIG4CRiUQlf7NypwHs7nsJt7Y0InqFNdMmLDeBOnuQa/DzwAPc8KEhy8Kd/4TEekiYxkWeSD+08u9Onc2NRiFBRARQWGu/Y8CuhFGFogXNITzda797V+eqdQCzAayhFmMH78Msvwvt2h3P0w/vmojnO403MNb0q3asBbIXfRKVldY2opd609+zAY+YqrowIl/uPehOuKMBkCwANciDyrdfvQM8zghJvNvQn0rl7F2BepvlfcYLr8GP2Lr7e0E2KRtbVSblAKx5e1dVcX6N+/Sys6OUFvPsuDMZxsaNN4Bqu6t9svHuXxgy0h48++gjTp0/HwoULrQsAL168iCVLlmD69OmYMmWKwYM4nztcXOX0e+xQ0fVJX+EFfItn0BYn0a/RcQwY4IOV5c9hHmZyKwgN3puVJdimRyc21nSIFDP03yu9UUMMG4gbvZ3Xr/MkdPw499e4pgrmr9Pt2nHxrv5oGcadQOZjBv5ENN55x2jje/fXRowApmIBBuEH3K720w0IrJ01zV0xBky7zp0T8zET6G80HeC9APCmQGcA/XKXMmVwdTUwBFswH9NFB4CAbng2YTXipq7TEgwAbZkHWaIff+RG3uE7982d36NHgzcS0w5DYjYA9Pbmxmz573+h0JvSTv9wLcW+UgNA49XV6tpj/ftv4dPg2DH+GST5nDjBtWzYuROShohyRkDbowd3q/g3cb+xiEheXl6YNm0aioqKpAeAO3bsQOvWrbFkyRJ8/PHH2LlzJ1atWoWVK1dCrVbbI79EIk8LAN/5Jkbb79IiBgW+xDgAwL7LtQOZ/j50KveTs75A776oKGD2bNxCEDQy9LQ21qqV7EkCANLMjKyiDdY2bKhdpvAxvOBbGutr+3bubx66oOXqt3D//Ty9GHm4+i1gkwu88RXQwhAjxoRiJd3n9V4116ZNwDYMwUzMB6qr5W1PaWGWHuPDFBxRQCBj02B+KrakJKCyUjAbJv71L2DRIv4pfs1lY+1aQMHMF7xxAPia/uQm990HDBpkUCD6vWMtxb7mmuqaHTfcqNw7deKaf965ww1v+OCD4HpMAAbtP375BejYsfZmgxRCzZ6lvj9Crl7l3j/9JrViaMvbmtkaibDq6mps375degA4Y8YMTJ06Ffn5+fD398f333+PCxcuoFevXnjmmWfskVfPY+Mva08LAKWohD9v8MGUvqKGWyi/6YVg3ML9qO2Vd+4c8L//ic+DmF/TujwqFFJHWzGxe7eElS0NSC3gUgU3EK+Y/jTn0FJCpuxP8mdGxHSHogO3hqHcSdSoESorDQfK3f3kJ9LyZYl/gKTVrQ0AP8Q0XEBT3tf++EPcRZ3va1CtBsaMEVnbCf73Vdvswfjj/sknXGdvOWg0wNdfmy43N/W4gqcsr13javeqq+9V7C9bxlWtf1J7TmgDTXG3/8XTzqyndfiw9Wm9/DLwwQfA1q3Wbe+OHcpc2Z9//ol27dph6NCh0gPAU6dOYdS9EfJ9fHxw584d1KtXD3PmzMH7YifgJsIk3PbhQwGgsB14TPI25eXApEnAoo1c77gLqJ0qpGVLrlZDbKAl5gtNP/CqqjJ8TY6ZocydYnLc6nHHL+zRWG3w3OIxSJzvWrAndlAQEB2N8nKuAlp/8O4fgoZJ2o8llqY4NA66xLYB5CuvwQIDyX9lNAQM3+wQfGkePszNxPfSS8Lr6fCc0NqZ/Ph+761aBSxdyk3w0qePUecVC3kzNnKk+B745j53J0/qPfHz46aEtFenNT0pKbXTpF+6ZFsAqN+ZxxK+zlLu+H3iyiZNmoQuXbqgrKxM+n2soKAgVN6rH46MjMSZM2fw0EPc8ABX5P4Z4qm0nzwrUQAonaUvmenTuQsDUHuvJQMvYixW6p7n5ppO2WurUp5eprwBYECA+FlHUNtBmXCqYVg1081wYhD07s0NUVJZyQ2IWxMUjLMQHqLl559r/xfTJjIz0zTY37hJgWppzfbM4quRMqa9y6hlSwB4DB3Nbmp8of/6a8OgzlyaFrIh6bWKCv7lJj3sJaarz3j6NwNvzgLmcmMIein4EzQuE33XrgmPa8lHv5OP/rjmfD78kPtt0qGD8Hpy4huEmgJAee3duxf79u2Dr6+v9AAwPj4e+/btQ2xsLAYNGoSpU6fixIkT2LhxI+Lj4+2RX89jYwMMCgCls/QlwwV/hl5ChkEA+MMPQJMmXMcIc/O3iqWtAeS7APMGgBJnC9C2/wO4Y795Exg4EFCpJCXjMXbvrq3hPXf4CulNAAAgAElEQVQOmL8iDstwWnAb434j5mjPPb5aoDNnDHtG2sLSBZ+PLQGgFIxnchA5AsAbFfwfxMxM2zoXiM2b0ex2hgYPBuYCFQhAXin/7XIhs2ZJ3gRvvil93Ycflr4fW3z3nWGHOAeOge0RampqcPdeY1TJl6kFCxbg1r36+vT0dNy6dQsbNmzAAw88IHrAaGKBcTWARBQASif0hW4yVIr+dnr/79nDPa5d4wZuNkfbYZfbnnuvjEduEWp7J8ctYGOff86NBafvJ/THYvAfyLffcg27PdH588CyH5pYXlEiVxs6RAEm2Abwh4IWeAy+8EOVSwSAP/3EvTf6zpXwt3kcZHlWQkFib9L885+W1+mPbOzPe0RyHsTeXjbb8USkQ4ds296iPn0AvWnyjLsS/PmnnffvYfr3749PPvkEy5Ytk94GsGXLlmh/b6qiwMBALFmyBMePH8fGjRvRXDuXJbFNdLRNm1MAKN2mTV4oKOB/zWTMPT18ZT1pEvDrr/zrnz3L3So2lmI0mYA2AGQK048ob2WfDdHDpUvc7U1jA/CT6cJ7hg3jasL46N9mqots/H1mlqsFgIBwDWDyqn/gDXyIGihsDgC3beOGO9Gn3ztdiHbfA3hmKOs1o7ttGbORYA0guIHp90N68Dd3LtdbXN/Jk1w/Ef12nJmZ3EDyciotlbcX/x9f1PEvDBezcOFC7N69G7GxsdaNA3j9+nWsWLECM2bMwLV7IzUeOXIERUVFsmbUU939z39s2p4CQOt068Zf6yB0O9dcWcfE8He0MG5Mrf0iNa5lVGvbT/FEBcY1gHPnAumVtRFcGe4zn2Ee2ok85GJck1jX2NhE18SFC0B2tvsFgACwGK+iE47a2m8NP/zAzeKhT2zNjzu3EXsJK0Svq19Lynf7t21bYNw4rsmA9seZrTWdfCIi5E3vgNpP8HV3fn9dUWRkJNRqNd544w3pAeDx48fRqlUrvP/++/joo49w/d5olZs2bcIMvmoEIp2f8AfCEgoArXPrFtfA35jQLdcVMN9Km68pp3EvS3Pv1fx7A1PzvW6cn5oa4B3NTBxCF2jgg3BYO+8YEUPuABDgZnfZvFn+dG1lKQAEgOPoYP1Ud3r4pkIWy7j20FUIDbbMGPB/eE50Wj17cu1KLQVEr7/OjUxwWriJqsuw9MOHAkD5aDQajBkzBsXFxRgzZoz0AHDKlCkYPXo0fv/9d/j7++uWP/744/jF0vxPxCEoALQe3xh2Ql/i4/Gl2dcUCu728UsvAcXF1uXntsJ0uBFzAWlXHIIvNNDA/sNEeDJ7BRtZWfZJ1xZiAkBnY4x/gGhXJ/U82ruXmw9c7AweDz4oPU/OYOnGoUbj0Eln6jSlUolNem0HJAeAhw4dwrhx40yWN2nSBCViW6USQfpzYFqDAkB52fJ+dOnCDVr70kvcLWHjX7O3EQSA/wvuMOLQpjrfYNmtW/bpBELEGz/ePum62kXuE7yGSth2N8IRrl0DPvvM2bmQbuVKy+vweUR6k0GXZmkG2SNHuGmJiTyefPJJbL53u0FyL2B/f3/cuHHDZHlhYSEaNWpke+4IvvjCtit8jXVNO4kd7dsHhIWZjgu2GmPw8fBDKOVp8D4Hb5ssO3OGAkBnExzbzQauFgACQAkaOzsLddbt29Ztl59veZ26xhXbx7qrBx54AO+++y72798vPVIYOnQo5syZA829hjAKhQLnz5/H9OnT8Y9//EP2zHoiW9vTMAoAXYL+cC/l5eYDh+1PLeFdrqznb7KMMclD/hE3wfO7mtRhYm/lEsu3iYl4K1aswH333Ye8vDzpkcJHH32EK1euICwsDHfu3EGvXr3wwAMPIDg4GHPnzrVHfj1OVhZd4euCJ58Ut97+/fzLvduYzvDOGNUAElIXZGc7Owfug370yufcuXO6h6RbwBqNBkOHDsXy5cvx119/4ciRI6ipqUHnzp3x2GPS51clpC4rLxe33qJF/MuL/VuYLJs1iwJAQohnoe88eWVkZGDhwoXSAkClUon8/Hx4e3ujb9++6Nu3r73yR4jbkzA1L6+9e00bvmRm2pYmIYS4G6oBlM9bb72FhQsXYuLEidJvAb/wwgvIyMiwR74IIYQQQgxcuuTsHNQdX3zxBZYvX4758+dL7wVcVVWFFStWIDs7G126dEFQUJDB6wsWLJAto4QQQgjxbBs2AGvWODsXdcPdu3fRpUsXAFYMA5Ofn4/OnTsDAH777TeD1xTUV5sQQgghxCU9//zz+OKLL7BgwQLpt4B37txp9vHzzz/bI7+EEEIIIU63ZMkStGjRAv7+/oiLi8OePXsE1//+++8RGxsLPz8/xMbGGszEAQCMMaSnpyMyMhIBAQHo3bs3Tp48ac9DQEZGBtq2bUsDxhFCCCGEWLJhwwZMnjwZb775Jo4ePYoePXrg8ccfx/nz53nXz8nJwfDhw5GSkoJjx44hJSUFw4YNw4EDB3TrfPDBB1iwYAE+++wzHDp0CBEREejfvz9u2mmgSO1d3EaNGgGMWO3ChQsMALtw4YKs6XKjvdGDHvSgBz3oQY+GDRmrqqpimzdvZlVVVbJcZ625fnft2pWNHz/eYFmbNm3Y9OnTedcfNmwYS0pKMlg2YMAANmLECMYYYzU1NSwiIoK99957utf//vtvplKp2NKlS0Xny1pUA0gIIYQQl2XP4a9u3ryJGzdu6B6VlZW861VVVSEvLw+JiYkGyxMTE7HfzGj+OTk5JusPGDBAt/65c+dQUlJisI6fnx969eplNk05UQBICCGEEJfVtav90o6NjYVKpdI95s+fz7velStXcPfuXYSHhxssDw8PR0lJCe82JSUlgutr/0pJU06SewETQgghhNQFBQUFaNKkie65n5+f4PrGo50wxgRHQBGzvtQ05UIBICGEEEI8UnBwMOrXr29xvdDQUHh7e5vUzF26dMmkBk8rIiJCcP2IiAgAXE1g48aNRaUpJ7oFTAghhBAiwNfXF3FxccjOzjZYnp2dje7du/Nuk5CQYLL+Tz/9pFu/RYsWiIiIMFinqqoKu3fvNpumnKgGkBBCCCHEgilTpiAlJQVdunRBQkICli1bhvPnz2P8+PEAuKlymzRpomtHOGnSJPTs2RPvv/8+hg4dii1btmD79u3Yu3cvAO7W7+TJkzFv3jw8+OCDePDBBzFv3jwEBgZi5MiRdj8eCgAJIYQQQiwYPnw4rl69ijlz5qC4uBht27ZFZmYmmjdvDgA4f/48vLxqb6x2794d69evx6xZs/DWW2/h/vvvx4YNG9CtWzfdOtOmTcOdO3fwyiuvoKysDN26dcNPP/2E4OBgux+PgjHG7L6XOurixYuIiorChQsX0LRpU9nSpRn1CCGEmNOvH7Bjh7Nz4TiMARqNBpmZmRg4cCCUSqXNadrr+u1OqA0gIYQQ4kZ69XJ2DkhdQAEgIR7u6aednQNCiBTV1c7OAakLXD4ALCsrQ0pKim6QxpSUFFy/fl1wm8rKSkycOBGhoaEICgrCkCFDcPHiRYN1Jk2ahLi4OPj5+aFjx472PATiwlq18uwWELdvA6tWOTsXhNgmNNTZOXAsqQGgWm2ffDiCA/pCeCyXDwBHjhwJtVqNrKwsZGVlQa1WIyUlRXCbyZMnY9OmTVi/fj327t2LW7duITk5GXfv3tWtwxjDiy++iOHDh9v7EIgLCwqSP80hQ4CVK4HYWHnTffRRedMDgMBAoF49975AEGEffWT/faSm2n8fQnJznbt/a3z/vfXbSm0n3qEDsHSp9ftzpuXLnZ2DOszusw3boKCggAFgubm5umU5OTkMAPv11195t7l+/TpTKpVs/fr1umVFRUXMy8uLZWVlmaw/e/Zs1qFDB6vyZ81k0mI4e+JtT3p07nxX9jS14uJqly1fbnu6x44xFhkpTx43bmTs+nXD8+77753/ftBD/scHH9h/Hy+/7NxjvHyZsZkznV/WUh43bth2vFLWZ4yx48edf8zWPDQaLv9VVVVs8+bNrKqqSpbrrL2u3+7EpWsAc3JyoFKpDLpMx8fHQ6VSmZ0oOS8vDxqNxmBy5cjISLRt29YhkysT9yL2l/Tjj0tPW280AIvbN2wo/Hrv3kC7dsCBA8CiRcA//2n4ekCAtLyFhQEqleGyp54Czp2Tlg5xfUolkJFh330wZt/0hcyaxd0C9vV1Xh6sIabM4uJMlx0/7lm3vGlUDPtx6QCwpKQEYWFhJsvDwsIEJ1/29fVFgwYNDJbLMblyZWUlbty4oXvcvHkTAFBdXQ2NRiPbgzjG00/XABB35dq8Wfz7on0ffXxqdMvCwjTo1q3G7DZt2ph/DQA+/1yD6moNwsM1mDBBg8DA2uYMjRoxiD0OLXPnbJMmGkyYcNfsdjExTrzS1zFff23/lvydOt3FqFEapKSIO3+9va17f2tqhM9fua1aVY2kpBpcvqzB229z565+Ex9rObJNcGWl8Hty//0MOTmm62g/q1Onij9e42tLWJjjjrNHD9vOjepqw2ujXNfZaupJ45yBoNPT0/HOO+8IrnPo0CEAppMkAwBj0idKtmYbY/Pnz+fN944dOxAq60+yoTKmRcwZOXIb/vWvngAaWFz3xx8zYe598fauwd27tb+lMjMzAQBlZY8CaKhbNm0acOeOD55/fpBu3V69LsDLi2HkyFPYt2+AQbqff74D//xnPwDArl278fvvt3WvnT0bA6AVAOCLL7bhuecGQsrHOScnB9evX+N9rbg4FsCDvK/NnbsVt28rkZIyUPS+CL+AgB+QlNQeWVkt7JL+5s1bAAC//KJdYvl7pUWL6wgLq0D8/vVYgKmi9vPss6dw/nwAgGjdfp94Qp7vsOHDf8WGDW1Mljdo8APGjwf27atd9vvvrQHUruvlVYOaGml1HMOGHcC//x1v9nUvL4aUlAL85z8PSUqXT1ZWNgDzn6NbtyqQmbkd+u9bWNhtnDu3AxcuMJw9a/5zaiwzMxN//BEMoC8AYMCAUzh7VoV9+5pYfwAiXbt2DYD118cff8w0qAU0nlrNWleuXJElHbfmjPvOly9fZqdOnRJ83Llzh2VkZDCVSmWyvUqlYitXruRNe8eOHQwAu3btmsHy9u3bs7fffttkfSltAP/++29WXl6ue2jbKJ47d45VVVXJ9nB2mwtPeVRVVbGHH67mfW3atGqTdc2l4+NTY7JuVVUVi4+/a7KsqqqKffGFRrf8o4+qed93b+8aduVK7bJjxwzPkddfrzZIOzCwxmz++B67dmnMnn9TpvCXiXZf16/TOSrX+TdxovmytvWxefNmdvv2bUnfK1273uXaWAGSjmPsWMNzXY78f/RRNTtxwjStVq1qeM/bt94yLMtff5Wej02bNIKvZ2Vxn5tXX7X9fSstrc3fiBF3WVaW4b5btqwxKMsJE6rZnTu1xzt1qrg89OjBvad5ebVpLVhQzS5fdsznuEcP29pZa4/39u3bJue0LY9z584xwLPbADqlBjA0NFRUjVlCQgLKy8tx8OBBdO3aFQBw4MABlJeXm50oOS4uDkqlEtnZ2Rg2bBgAoLi4GPn5+fjggw9syrefnx/8/Px0z2/cuAEA8PHxkWVkcuJYSqUS3t78tyf8/LxN1g0LAy5d4ltbYbIu3760xo8HJkzg/vf29oZS6W2yfliYAoGBtdt4eSmhn6y33iZKpVJyOxnunOV/zUug0kSpVELvI8DLU2YpmDAB+OIL4XUeeAA4fZr/NaVSKVjWclAqlZK+m7y8vKBUms/UE08Amzeb7kP//JPru1Cp9Iavb+2JrlIBU6YAL76o4N2Ht9HHqHVrJVasAF56Sfw+vb2FL4mRkdznxnhfUk2bBoSF1R5D06ZeSEw0LnfuOLt149r+jh3rDX//2h2by0NsLFBQwLUf3LEDCA72uve+Qm9b/u8dfR07AhUVwG+/ST06o6NQWH+Sf/SR6fkk9Zw2x8eHZsJ16TaAMTExSEpKQmpqKnJzc5Gbm4vU1FQkJyejdevWAICioiK0adMGBw8eBACoVCqMHTsWU6dOxY4dO3D06FE8//zzaNeuHR577DFd2qdPn4ZarUZJSQnu3LkDtVoNtVqNqqoqpxwrcY7nnmO8y/m+XM195zD+JGyiUAD6308ObmLFSztgtKVgMy3N/nlxlIkTgfbtTZd/8w3w8ceWt7d3gCc3/ff2B4Hbk1qffMK/PBYnZc0LAEREAG+/DUiZtUtq+Vv6LGuHdqpfX1q6xt5/33S/xsc7Zw73d+9eoLjYtEOIubxmZXEdY7Zu5YJmbRnoD3mlUFj+HAcGAnp9KR2mc2fub6dOwFRxrRCIlVz+62ndunVo164dEhMTkZiYiPbt22PNmjW61zUaDQoLC1FRUaFbtnDhQjzxxBMYNmwYHnnkEQQGBmLbtm3w1ruqv/TSS+jUqRO+/PJL/Pbbb+jUqRM6deqEv/76y6HHR5wrNbUGQ4aYVtHwBYDR0fxp/O9//MvjzTclssjLyzAAlKF9u4H77pO+zdq13F9LF4669BvqsccM3wetwEBxwYWcAWAQbolab9o04PvvrWvgrp/fxig2ef3FF7m/nTsDZWXApEn86RxBZ6v2b5wX/XPNmibcUrcRCgC9vWu/F+wdmGzYADz3HPe/jw8X/IrRujUQFQW8+y4QGWn4WsuWtf+LCQDl+mErNZ3+/YHCQoAG7bA/lw8AQ0JCsHbtWl3P27Vr1+I+vatXdHQ0GGPo3bu3bpm/vz8WL16Mq1evoqKiAtu2bUNUVJRBurt27QJjzOQRbe4qT+okLy9gzJiTePPNu9iyBWjWjFs+lKcNuzYA0urRgxuRv18//rT//W/ucVKgMsTcl6PxF7RxICHlS/VeSwiDfD1kRRt27a1fSxeOPn2kp+1q4uKAmTOBwYNNj3f4cCApSVxwISUA7N9f+PVR+I+odP79b2DwYNMTRMxdM/1jYjA9wMGDufN53z7hHxF+sP1XgPFnwJoAUGoALjTY+rx5tf8HB0tLt7OFeNj489y4sbT0Ae67S+i7Rp+YABAAYmKk50NfcrJ127VqBfj727ZvYpnLB4CE2OLMGcvrKBTA7Nk1GDIE+PVXbiy8du1M14uOBj77rPb5L78ItwUKCgLefFN4RhChABAAXnsNeOYZ/tuQ+oReX7Kk9v9Vq7g8CXntNeELnNCF46+/gEaNhNN3dRs2ADk5wNy53LEaBxHr13Pvu5jgwtL7JsWLWClqPXPnZBMRHT7139saM5eH2FjHXJyNzzN71QDqr9OwIVezyWfMGOn717LU3Ez7w1PLmtq31FTxbRPFluXLLwPvvAN8+qn0/Dz6KPDee9K3s0eTGsKPAkBSp+nf9hAjIMD8rV45jRvHXZC1t9SMab+gFyzg2psZf2Eb1+Zs2MBdoN54wzStwMDa/3v1spy3yEjzF0FAOPCpCwPUDhsGsx1u9Fm6iK5aBaxYAZjprwbA8GJnKT2FyLEezb0/UoMhvhpAc+zVDlZKDWCnTqbLrLlNb65mU/9zZIlxLbi5Nrw//sjdRtd2CtNyRBAk5nzw8eHaXaalAU8+CUyeLD79PXu4Ow36x2J8nMS5KACsY8y1RyOGLPVkNUeuUemXLgXOnzd/sVm9Wnj7KVO42zPahuJRUdz8wx06mK6rf4ET2/FNqCbBy8uwJlRfXexYZ+49txRcjB7N1QLrj1UnRGgmi8RE8QGgOW+/bXkd3bHGx5utAXQUqW0ABw82fU/MbfPAA+LTNUeoqcPPPxs+NxfQJSVxHWmM33upAWBkpLTgSswtYP1aXoUC2LgRWLhQWr6MWdP2mNgPBYB1TM+etqfRIKjS9kRk8OST9kv7loj29A8/zP1NSLBPHoQCCL0mrbxCQrihHt56S3i9mBgu2J00iRsOw6gprNWefbb2/44dub+ffFI3p22ypkZN6Bb6ffdxw1sYW7SIq7H+/HPD5R98APzf/1nOpyWjR1tuEqE7pl9+Qc37PJmUUZMmwPPPA//4h4W8iKRQcOnpM/feqdXS0uYjpR2g1IBOTNr6aV64YHk6SX1iAkBzHXxsIaYc6Baw49TB3+ueTY75MLvFeyHLBcZxs2dtkpi0t23jauJGj7ZfPuzpySe5WkHA/HAdQlq0MD83cEgIkJ3N1RJ07851hnG3uVjFsmbMt7w8869dvcofmLRsWRugaed6btSo9rb+eenZ4N3Hvn3Av/7FDS9iTBcUKJVgj/aQYY/mnT/PlcPNm1ynqz/+MKylNA5SrAkMzAU5+ncArO2pLSVAFZv3zz/nysFSpxFjUo/BUt4PHKj9ASwnCu5cC9UA1jGy1MAolVAfcI1aQGcKD+culOHhzs6JdXr1su2Wi377RL4epI89xjX09vKqu8EfYN1n6kGBGbr0L9ZShuLwgTxzl3bvzrXP+u9/hfNmz7En1erafQUHAykppmPrie2pKsTc9kI97KWmJYbYtnOvvMLV+DqiJl1oH127ypeHe3M4ABB3TlGQ6DgUANYxcn1oO3S1spGcjMx9WQwf7th8eCr9c8ncbBa2kNJD9jMfO9yPAncb8uOPhXu12nMwZykXu7bIl3XfgwYB06cbLtP/wWD8+bO1569+hyy+tqrGZeHlZVj2+oGEWGLeuwaWpwLnJeW7NiXFun0IseVHl3H7SnuaM4cbmig/n24BuxoKAInbcWY7M3P71l4cpfQUNMdVetLqH6vxMBVymDmTq4nS16IF/7q9sdumffn68g/e6+XFdajpIXC3U/8W8MyZ1u1/40ZuVoYffrBuewBQ2GF+vTlzuJ6oS5dybV0XLap9zTgArLaxAtJSAGl84VcouDar2nPCmqFIxNQALl0KdOvG9aSXQr8drL7Bg8XnwxZTp3JtfN99V/q2ctSuiqUdDsu4RzBxPgoAiYlp06Stb80XsxiWxshzJXv3crdEjQMaKfbs4W6pZmfLly9Xxhh3vLv1YruZM4FRo0zXDVJUmC6UICaGv+OFltA5pf+a8QDaYm+xP/kkcO0aMNDy7GoAatuodumit7BvX3EbS6BUcj1Rx43jZl7QHyuwWzfDHyNCs9GIubBbuv1nXCOsDVLOnuXSr1fP8j6MiakBjI4GcnNNB0y35Jln+HvDb9kiLR1raTuCzZpl3fbWfo+uWWP9VH9SOqoQ+6MA0M21aSNvepcvS5/J4ZVX5M2DlrW/Fo0vyo6Y3S8ujgvcpDbe1vfoo1wQqO1V62yOCrT1e67Xq8c/BE4ESmzah7maRTGEgoizZ+VJx9jx49yA3P8RN/mHXQQEGH52bK29sRQA9utn2NtZjvNPTA2g2P3wDUzNd1vaFX+gGjPOo5Rz8/nngZNoa9V+J00CnnpKeB2qJXQcCgCJAbluPz79tO1pSKkBvHGj9v8PPjB8LSDA9rwI7buusvex8r2/Zm+xK6zvlBQXB3zxhdWbC14c5bjlzycmhhsEPCzMPumLpd/5x9q2clpiOgDo31aV4/wTE9h40mdaS6iHtdSaUCkCA4HvvzecPtO4l71KZb/9E0MUALo5hUJ4qjFH5cHYt98CHZtcsildKQFgcDA3fMLhw9x4dwsXAtu327R70fsmpn75hbuYCw24LemXvg3VAl9/DURECK8jVHOrH0TwtVOr63bt4mq6fvpJ2nYf4nWEB93UPRe6hcxHjrI1977K9b656/vvyDaAfLKzgStXgPffNxyOKCGBa5NLHIMCQBfUsKG0i118vJ0yYisbuw2au+YPHcq/vHlzrrZHoeCGXdD/lSkXoWm96hpbLhA9enC387QzlfRveRodcdRgHSk1gHLZts10sGCAG1B7zhz+AYL1A8BWreyXN1fVqxc3LpxBe0QRXsfH+CyptteL1GFl5Oh93bQpN793iUALAncd5slWNn3WbCw0hYJrDzhtmuHg9JmZ1rX1JNahANAFLVwo7aeypdoNawn1jNRn7ovk05UShsrnYe7WrRy3l63Vrh1w8CBQVOS8PIhlPK6aVHIEY6+/zg08vOWZdfgZfTEWK6xLyIYaQP3jSE7mGrEbCwzkgkC+4Un0r3XGg+O6aw2Q3OToBGJMrrJt3Zo/Xtm/n6uJatTI+rTdtVOD2E5PZv3+u2x5CQ/nmhc0amT7dxaRhgJAFzRihGu0gn3kEdu279GT/5ukKS6I2r5zZ+52rvEwB86+6D78MDf3pqt77jln54CrxeneHQhQVqMBruNJbNK95qjG3raeL/PnA48/zjVrkDttucyfz/01nkbO2fTLR2oAaO/gKiGB67kvFt/5aty5yF3uENh8C9horrroaOuT8vHhamiLiuw75iYxRcVdB8k1aK+YyeOtsRCviVqvYUNg+XLrhznQ8tReZbbOziFrcMPzJkjqQGHDmyh0S0nMMYaGcremnFnzzEdbQ//SS9yAzleu2K9HvhzEtgHMyOB6i/bvb9/8COELaMQEsPpDGpnjCj8a5JhmT06+vvyzDRH7ormA6wDjL5T775cn3YAAroeWpS9uqV9oQ7EFbXEC+WjH+3rPnlx7vhdekJYukZe9L1RDhpjf54kT3O12Wz33nH3beDnzYr5pEzeIs3ZYDVe/HSm2BlB/CkJn2bOH6zykPyaqpfz7+TH4+LhAdCdCW+tGcRHN1WqiCT+qASSC7PHLUIlqHIf5ecBGjwa++kq+X4TUrsQ69g5ufAR+fupfoHpit9Un4tq1Vm3mML17W79tw4ZchxZ7DUUjB4bak8iecwvLrWlT4I03DJcZD1diTOznxZm3OY8f5+aAtmW8UjGM28oS10QBoJtTKOxbfS827dGjpaUr9F0pNfAwHvfPmLc3cPMmsGyZtHQ9nb1vAYvlBdeNHGwtoyeeALZu5YYwqpP03ndHBIDa2/RNm8qfdlAQ//JWrbhjfPxx4XNc2xRBam9qObVrx80BbW/OvqVMxKEAkAgS+0FetQpY/aiVPTxtZPxLnU+9eibtlokFLlVz6qj5tSTy8jKtGZLSq1Sh4N8StugAACAASURBVOaObd5c3ny5IqnjAFojORk4dAjIz5c33SeeMP/aTz9VY+zYE/jyS+EDPHiQa6P53Xfy5k0OttYiM8b9kNF/TlwfBYB1gNRaiJgY+fatP9iyXB96V2gkTbg2mEOGyDTXs8iTg/e979WLu7K7qKoq4LffuGnhUlNtmw/aXYkZtN0RNYAKBVfDJvdsEkKnb2QkMHjwWYvzQsfEcG3j7FE7aSs5xrccPFje9Ij9USeQOiokhJt8no+cv87sMdiylACQgkX78fWVseLNlpNO4dq/U728gAcf5P6nZgbmuVMbQE8j1zXh8mWgosL2aQOJY7j2Nyux2q5d5l9z9ep5CgDroPZcpx8m2PqTuKuQEDMvOLgG0F7oe0aY9poSGgo0a+bcvBDxqAawDuAL6ISG0HD1AJDUQcOH4+6VKzhxrCmQ4ezM1KILuzzeegsoKOCfZk8rNBS4IG4MeJfjSd+Z9JnwHFQD6IHMfZn16mVjujLV7tAXUB3k5YWa8eNxO6Kx4Gr03run++7jxiQUmn1m2zagWzdgxw7H5YuIp23GMGKEc/NRF5SVlSElJQUqlQoqlQopKSm4fv264DaVlZWYOHEiQkNDERQUhCFDhuDixYsG6ygUCpPH0qVLrc4nBYB1gNSLprlbMXznUXY20CBYg+/wD8sJy/QzWcp0ShQwuBdHvF9SejS6W82OC/eF4cX0vms6dAByc4G+fZ2XH2LekSPcg2+AdiLNyJEjoVarkZWVhaysLKjVaqSkpAhuM3nyZGzatAnr16/H3r17cevWLSQnJ+OuUff5VatWobi4WPcYNWqU1fmkW8BuzpoLqrmLHt84V489Blz98RAUj26UviMJ0rAYWzAUPxxvhpYtza+nPd5evbhpl8aMsWu2iMwcEXDV5R8FvXtzA/kSIifGuKGyOnWyfnvCOXXqFLKyspCbm4tu3boBAJYvX46EhAQUFhaidevWJtuUl5cjIyMDa9aswWP3Jqheu3YtoqKisH37dgwYMEC37n333YeIiAhZ8ko1gG7Omg+e1G0Ut25K34lEi/EqzqO56Om/tmzhxtOSZYgS4rHqcrDoCqh8iau7efMmbty4oXtUVlbalF5OTg5UKpUu+AOA+Ph4qFQq7N+/n3ebvLw8aDQaJCYm6pZFRkaibdu2JtukpaUhNDQUDz/8MJYuXYoaG3pXUQDoAbxgWIXMGDBhgul6Zsenys0VtR9H9vBUqYB//IObr1gsuhi5PnqP6hh6P4mLi42N1bXVU6lUmD9/vk3plZSUICwszGR5WFgYSkpKzG7j6+uLBkbj54SHhxts8+677+Lbb7/F9u3bMWLECEydOhXz5s2zOq8UALo5MRfMCfjC4DljwCefcO37tPr2FUhL5FWZLwDUTtMmU421Tbca6DYFIcQadfW7Qztki9BMJ2K4c/kUFBSgvLxc95gxYwbveunp6bydMPQfhw8fBsB11jDGGONdLsR4m1mzZiEhIQEdO3bE1KlTMWfOHHz44YeS0tRHbQA9QENcNXjOGDfI772mBpbZMHv5G28A48cDlZVA//7AqEFXgLlWJ0eIRc2bc0OSEEKEHToE7NwJPPmks3PiPMHBwagvYt7LtLQ0jLDQRTo6OhrHjx9HaWmpyWuXL19GeHg473YRERGoqqpCWVmZQS3gpUuX0F2gV2R8fDxu3LiB0tJSs2kLoQDQA/iiyuC55CYDxpOdmhGsvMO/PJh7HD0K4Ew5BYB25M6/xOWyfDmwYAGQlmZ5XXe75ezr6+wcSETno0sLCwOGD7c9HU/oORwaGorQ0FCL6yUkJKC8vBwHDx5E165dAQAHDhxAeXm52WAuLi4OSqUS2dnZGDZsGACguLgY+fn5+EB7G43H0aNH4e/vj/sszUNoBgWAHkhykCCyBvCpqMN4Bt/gEewDsEhyvgiRIyCLjOQ6CInhbgHziy8C//kPMHCgs3NCPN3UqcDHH3P/23AXss6JiYlBUlISUlNT8eWXXwIAXn75ZSQnJ+t6ABcVFaFfv3746quv0LVrV6hUKowdOxZTp05Fw4YNERISgtdffx3t2rXT9Qretm0bSkpKkJCQgICAAOzcuRNvvvkmXn75Zfj5+VmVVwoA6wBLF02F0c9wawPAMJTiEsxXM/t41eAbaH9Oul4A6G61PdZw9WO0JeB64AHg9Gn58uKOgoKAe82MCHGq998Hnn4aiIsDlEpn58a1rFu3Dq+++qquV++QIUPw2Wef6V7XaDQoLCxERUWFbtnChQvh4+ODYcOG4c6dO+jXrx9Wr14N73t34JRKJZYsWYIpU6agpqYGLVu2xJw5c/DPf/7T6nxSAFgHSL2oWhsAfog3MApfmV9PTPThxAjF3Wp7PJHQ6ZGUBOh9h1qVBnGwOvJeWDs+Xl3m7Q3Exzs7F64pJCQEa9euNft6dHQ0mNEFyd/fH4sXL8bixYt5t0lKSkJSUpKs+aQA0ANJDoTuXVEdOcwLqZtcLThztfwQ13L0KPDDD9ztTkLqGgoA3UBNDVfFbjQjDADrLmD26gQiKrKkajiPRsP4EHfSsSP3IKQuonEA3YBCAfjIGKpLDgDv3QI2rgEUGxcSQgghxLVQAOgmhGo/7H4bi2cHEyYAarWd9yszut3n+vTfowULgNBQ4PPPnZcfQgipqygAdBPmAkC96QZtSkvw9hpPDeCSJUDbttL3TYiQJk1q/3/tNeDSJSA2lnsudI7qzZVOXAj95iLEdVEA6Ka6dAHS07laEktto3pgj8Fza3sBu3snEGpD5rp+/JH7UdGli+FysbW2AmOlEkII4UGdQNxUTAwwe7bwOucRhdN4AD2w12C5tW0ACbEXW0c3aNlSnnwQedFvLkJcFwWAbsKaNoBRuIgoXJSUFq97vT1kqQGkhniEEEKI01HVjgey2ziALn6PlWJP54uKumWXdK19b+mcIIR4KrcIAMvKypCSkgKVSgWVSoWUlBRcv35dcJvKykpMnDgRoaGhCAoKwpAhQ3DxYm1t2LFjx/Dss88iKioKAQEBiImJwaJFrjd9mZacsZXktO5t4O5tAInzNW58G9u3V6OgwNk5IQ5x/wPOzgEhxAy3CABHjhwJtVqNrKwsZGVlQa1WIyUlRXCbyZMnY9OmTVi/fj327t2LW7duITk5GXfvjaacl5eHRo0aYe3atTh58iTefPNNzJgxw2C+PleSkGD+tQYNpKUluQ2gWC5eneLiFZQeo2dPhpgY6dvZ4/2jc8JOTp0C1q/nJoolhLgkl28DeOrUKWRlZSE3Nxfd7o15snz5ciQkJKCwsBCtW7c22aa8vBwZGRlYs2YNHnvsMQDA2rVrERUVhe3bt2PAgAF48cUXDbZp2bIlcnJysHHjRqSlpdn/wCRavRp4QO/HtH6sNWECsGcPkJwsLi271QDSTCCEEABo0wZo0waKjc7OCCHEHJevAczJyYFKpdIFfwAQHx8PlUqF/fv3826Tl5cHjUaDxMRE3bLIyEi0bdvW7DYAFziGhITIl3kZNWpk+Fw/jgoIADZtAsaONbOxr6/BU2trAJ15C7h9e+6v3lsqmYtXUBJCCCEO4/I1gCUlJQgLCzNZHhYWhpKSErPb+Pr6ooHRvdHw8HCz2+Tk5OCbb77BDz/8YDYvlZWVqKys1D2/efMmAKC6uhoajcbisYjFpaU0eM4lX7uspqYGGg3P5MB6tGsb17kxxqDRVBusxZj59BR375qcKHzH611To/tFYbY8NBq9o+B7mX+7bduAr7/2wqhRNbC2qKurFdCe8tr9GP91d3zH6CpsLeuaGi8A/PMPVlXVfmZqPy9CuHUVCv3PQt3hKue1a52Pht+pcjFX1kFBPrh9WyH7/jyV3Od0dXXd+9xL5bQAMD09He+8847gOocOHQIAKHiqbhhjvMuFmNvm5MmTGDp0KN5++23079/f7Pbz58/nzfOOHTsQGhoqKS+W/BMX8DnSMAPzkJn5ECoqfAAM0r3+118XkZl5VDCNoff+1hhV+d29W4PMzEyDta5cuYrMTP7a0ebHj6MjDGsAa7ev1bmoCFECrwNAYEkJzJew+e0A7q7SgQMCG1ugVkcCeJh3P9nZ2dYn7EKOHWsKgGt3JVSWzmRtWf/5Z3sALXhf+9///geAawOxa9dONGp0x0Jq3HlfUVGBzMztVuXHHTj7vM7LawygKwBXOB+H6v6zR16My3r27AZYsqQDxozJR2bmFdn356nkOqevXKH3xGkBYFpaGkaMGCG4TnR0NI4fP47S0lKT1y5fvozw8HDe7SIiIlBVVYWysjKDWsBLly6he/fuBusWFBSgb9++SE1NxaxZswTzM2PGDEyZMkX3vKioCLGxsejXrx+a6M9hZSONRoMezdvh5T+XIbZXKNjAN3DjhuE6TZo0xcCBjUWl52U0kLOXlxcGDhxosKxhw4Ymy7QUxcUmy/jW9f72W8HXAQBnz+r+7dS+GkeP+yDM5ypQbWE7Gdy8WRvAavej0WiQnZ2N/v37Q6kUqpt0D9evmx6jq7C1rH/80XyLlQF6c8H16dMHzZqJSzMwMNDlykkOrnJe//23a56PcubFXFkPHAhMngxoA2BiG7nP6aKiIhly5d6cFgCGhoaKqjVLSEhAeXk5Dh48iK5duQ/SgQMHUF5ebhLMacXFxUGpVCI7OxvDhg0DABQXFyM/Px8f6M0ZdfLkSfTt2xejRo3C3LlzLebFz88Pfn5+uuc37kVlPj4+sn/J/jJ7FvoXF8M7NRVQKmGcvJeXF5RKcU04jes8MzIUJvkVTI9nKjje49ULNM2Wh97yLV/fwYdLgzFxZyqQb2E7Gfjone3G+1EqlXUiABQ6RldhbVkLVfjrp6fk+bwIpOqy5SQHZ5/Xrno+2iMvzi5rTyFXOfv4uHwLOLtz+U4gMTExSEpKQmpqKnJzc5Gbm4vU1FQkJyfregAXFRWhTZs2OHjwIABApVJh7NixmDp1Knbs2IGjR4/i+eefR7t27XS9gk+ePIk+ffqgf//+mDJlCkpKSlBSUoLLly877Vj1VYaEoOaNN0x7f8hA26FCKrk7gUQ1Zfj0U+DBf4/iFowcKWv6xqgTiGegjuaugz5zhLgutwiB161bh1dffVXXq3fIkCEG4/VpNBoUFhaioqJCt2zhwoXw8fHBsGHDcOfOHfTr1w+rV6+G971pzb799ltcvnwZ69atw7p163TbNW/eHH/88YdjDsxRHHVFtHY/Q4cCf/0FRETImx/iMSjQIIQQadwiAAwJCcHatWvNvh4dHQ1mFHz4+/tj8eLFWLx4Me826enpSE9PlzObboPvYilqCD97DgPTWFx7RuK5qGaPEELk4/K3gIkMbK0eoangiIuj4JAQQqShAJCIZjEAFBNoOvFeXbt2Tts1kdnp08C773L/BwcbviblFKNbx4QQT0UBoJuQ80IlubbkqacAAAGtLIyt4eJTwcXGAjt3AoWFTssCkcn99wPTpgH/+Q9QUODs3BBCiPtxizaAxJRDay4aNQIqKvA8/PF/g4B7Halt54Tql969Hb5LYie+vsALL3D/37rl3LwQQoi7oQDQA1kVdwUEwB/Azz/LnRtCHO+JJ4DNm4GpU52dE0IIcQ4KAD1c/frAjRtAUpKzc0KIMDlbD3zzDfDbb1yzAEII8UQUAHq4ggJg927gmWdkSOydd4AtW4C0NBkSI8R+lErgoYecnQtCCHEeCgA9kH5NSpMmMk7A0bIlUFYG3BtsmxBnoCFhCCHEMuoF7An8/R23Lwr+iJ00aeLsHBBCSN1BAWBdtnkz0KIFkJVlsNipY5/RwGvESq+/DowZw7UyEEKnGCGEWEa3gOuyoUO5ByF1QGAgsHKls3NBCCF1A9UAEkIIIYR4GAoA3ZQtt7mc2kieWugTQgghTkcBoJswDvjqRBxFjbUIIQ5Srx73NyjIufkgxFVQAOiBKO4ihHiaPXu4Ae/37HF2TghxDdQJxE1REEdIrTpRI07sqmNH4McfnZ0LQlwH1QASx6LIldgZnWKug94L4onKysqQkpIClUoFlUqFlJQUXL9+XXCbZcuWoXfv3qhfvz4UCgXv+takK4QCQEJInUK1gYQQZxo5ciTUajWysrKQlZUFtVqNlJQUwW0qKiqQlJSEmTNnypquELoFTAhxe1TT5JooGCee5tSpU8jKykJubi66desGAFi+fDkSEhJQWFiI1q1b8243efJkAMCuXbtkTVcI1QASQgghhMggJycHKpVKF6QBQHx8PFQqFfbv3+9S6VINICGEEEI80s2bN3Hjxg3dcz8/P/j5+VmdXklJCcLCwkyWh4WFoaSkxKXSpRpAN0W3vAghhBDbxMbG6jpVqFQqzJ8/n3e99PR0KBQKwcfhw4cBAAqeCzRjjHe5FHKnSzWAbora1hBSiz4Prol+qBJXV1BQgCZNmuiem6v9S0tLw4gRIwTTio6OxvHjx1FaWmry2uXLlxEeHm51PiMiImRPlwJAN1Env0jr5EERZ6PTihAiVnBwMOrXr29xvdDQUISGhlpcLyEhAeXl5Th48CC6du0KADhw4ADKy8vRvXt3q/Npj3TpFrCbooscIYQQ4lpiYmKQlJSE1NRU5ObmIjc3F6mpqUhOTtb11C0qKkKbNm1w8OBB3XYlJSVQq9U4ffo0AODEiRNQq9W4du2a6HSlogCQEEIIIUQm69atQ7t27ZCYmIjExES0b98ea9as0b2u0WhQWFiIiooK3bKlS5eiU6dOSE1NBQD07NkTnTp1wtatW0WnKxXdAiaEEGIX1DaTeKKQkBCsXbvW7OvR0dFgRh+O9PR0pKen25SuVFQDSAipUyjoIIQQyygAJIS4PWoT65rofSHEdVEASAhxe1TrRwgh0lAA6KbolzUh/OizQQghllEA6KbctsZD/+rstgdBCCGEuDcKAAkhhBBCPAwFgG7C+LaW297molo/QgghxOloHEAP1KaNs3Nwj9tGsa4rORnw9wdsmHGIENl07uzsHBBCzKEA0MN8+y2gVDo7F8ReVCqgvJzeY+IamjcHTp4EQkKcnRNCiDEKAD2Mt7ezc0DszdfX2TkgpFZsrLNzQAjhQ20ACSFuLyCg9v+GDZ2XD0IIcRdUA+hh4uKcnAEaBobYgY8P8OefQHU1EBjo7NwQQojrowDQQ1y+DJSVAc2aOTsnhNgHnduEECIeBYAeIjSUexBCCCGEUBtAQgghhBAPQwGgm6Ih9AghhBBiLQoAiWNRxw9CCCHE6SgAdBN1ssavTh4UIYQQ4vrcIgAsKytDSkoKVCoVVCoVUlJScP36dcFtKisrMXHiRISGhiIoKAhDhgzBxYsXda9fvXoVSUlJiIyMhJ+fH6KiopCWloYbN27Y+3A8Gw0DQwghhDidWwSAI0eOhFqtRlZWFrKysqBWq5GSkiK4zeTJk7Fp0yasX78ee/fuxa1bt5CcnIy7d+8CALy8vDB06FBs3boVv/32G1avXo3t27dj/PjxjjgkQgghhBCncflhYE6dOoWsrCzk5uaiW7duAIDly5cjISEBhYWFaN26tck25eXlyMjIwJo1a/DYY48BANauXYuoqChs374dAwYMQIMGDTBhwgTdNs2bN8crr7yCDz/80DEHRgghhBDiJC4fAObk5EClUumCPwCIj4+HSqXC/v37eQPAvLw8aDQaJCYm6pZFRkaibdu22L9/PwYMGGCyzV9//YWNGzeiV69eZvNSWVmJyspK3fObN28CAKqrq6HRaKw6Pj7atPTT5P5V6p7X1NRAo7kr2z4dRqPRHYVGo9EemBOzY1rWxD6orB2HytpxqKwdQ+5yrq6uliUdd+byAWBJSQnCwsJMloeFhaGkpMTsNr6+vmjQoIHB8vDwcJNtnn32WWzZsgV37tzB4MGDsWLFCrN5mT9/Pt555x2T5Tt27ECoHUZZzs7O1v1fWekFYLDu+YULF5CZqZZ9n/YWUFoKbVj+v//9D3f1J3F1Iv2yJvZFZe04VNaOQ2XtGHKV85UrV2RJx505LQBMT0/nDab0HTp0CACg4OktyhjjXS6Eb5uFCxdi9uzZKCwsxMyZMzFlyhQsWbKEd/sZM2ZgypQpuudFRUWIjY1Fv3790KRJE0l5EaLRaJCdnY3+/ftDqeTqy+7cMVwnKioKAwdGyrZPh/njD92/AwYMAOrVc15ewF/WxD6orB2HytpxqKwdQ+5yLioqkiFX7s1pAWBaWhpGjBghuE50dDSOHz+O0tJSk9cuX76M8PBw3u0iIiJQVVWFsrIyg1rAS5cuoXv37ibrRkREoE2bNmjYsCF69OiBt956C40bNzZJ18/PD35+frrn2h7DPj4+dvngK5VKXbrGtd7e3l5QKt2iD48hvXJSKpUGz51Jv6yJfVFZOw6VteNQWTuGXOXs4+PyN0DtzmklEBoaKuq2aUJCAsrLy3Hw4EF07doVAHDgwAGUl5ebBHNacXFxUCqVyM7OxrBhwwAAxcXFyM/PxwcffGB2X+zesCT67fxchfGIKTSCCiGEEEKs5fIhcExMDJKSkpCamoovv/wSAPDyyy8jOTlZ1wGkqKgI/fr1w1dffYWuXbtCpVJh7NixmDp1Kho2bIiQkBC8/vrraNeuna5XcGZmJkpLS/Hwww+jXr16KCgowLRp0/DII48gOjraWYdLCCGEEGJ3Lh8AAsC6devw6quv6nr1DhkyBJ999pnudY1Gg8LCQlRUVOiWLVy4ED4+Phg2bBju3LmDfv36YfXq1fD29gYABAQEYPny5XjttddQWVmJqKgoPPXUU5g+fbpjD85KNIkGIYQQQqzlFgFgSEgI1q5da/b16Oho3e1bLX9/fyxevBiLFy/m3aZPnz7Yv3+/rPkkhBBCCHEHbtiLwDNRmz9CCCGEyIUCQEIIIYQQD0MBoJugGkBCCCGEyIUCQEIIIYQQD0MBoJswrgF0217A+hmnak1CCCHEKSgAdBM0EDQhhBBC5EIBICGEEEKIh6EA0E0YT33otreACSGEEOJ0FAC6icBAYOlSZ+dCBnTvmhBCSB1WVlaGlJQUqFQqqFQqpKSk4Pr164LbLFu2DL1790b9+vWhUCh414+OjoZCoTB42DJ7GQWAbmTcOGfnQGZUjUkIIaSOGTlyJNRqNbKyspCVlQW1Wo2UlBTBbSoqKpCUlISZM2cKrjdnzhwUFxfrHrNmzbI6n24xFRwhhBBCiKs7deoUsrKykJubi27dugEAli9fjoSEBBQWFqJ169a8202ePBkAsGvXLsH0g4ODERERIUteqQaQOA/dDiaEEFKH5OTkQKVS6YI/AIiPj4dKpcL+/fttTv/9999Hw4YN0bFjR8ydOxdVVVVWp0U1gMSx6LYvIYQQF3Hz5k3cuHFD99zPzw9+fn5Wp1dSUoKwsDCT5WFhYSgpKbE6XQCYNGkSOnfujAYNGuDgwYOYMWMGzp07hxUrVliVHtUAuimKowghhBDbxMbG6jprqFQqzJ8/n3e99PR0kw4Yxo/Dhw8DABQ8F2jGGO9yKV577TX06tUL7du3x0svvYSlS5ciIyMDV69etSo9qgF0U3T3lBBCCLFNQUEBmjRponturvYvLS0NI0aMEEwrOjoax48fR2lpqclrly9fRnh4uG2ZNRIfHw8AOH36NBo2bCh5ewoACSGEEOKRgoODUb9+fYvrhYaGIjQ01OJ6CQkJKC8vx8GDB9G1a1cAwIEDB1BeXo7u3bvbnF99R48eBQA0btzYqu3pFrCbolvAhBBCiGuJiYlBUlISUlNTkZubi9zcXKSmpiI5OVnXA7ioqAht2rTBwYMHdduVlJRArVbj9OnTAIATJ05ArVbj2rVrALjOJQsXLoRarca5c+fwzTffYNy4cRgyZAiaNWtmVV4pACSEEEIIkcm6devQrl07JCYmIjExEe3bt8eaNWt0r2s0GhQWFqKiokK3bOnSpejUqRNSU1MBAD179kSnTp2wdetWANyt6Q0bNqB3796IjY3F22+/jdTUVHz99ddW55NuAbup3r2dnQMrNWhQ+78NPa0IIYQQVxQSEoK1a9eafT06OhrMqCF/eno60tPTzW7TuXNn5ObmypVFABQAup0//wTy8oAnnnB2TqxUvz6wbx/g4wP4+jo7N4QQQohHogDQzTRrxj3cmswNYQkhhBAiDbUBJIQQQgjxMBQAEkIIIYR4GAoACSGEEEI8DAWAhBBCCCEehgJAQgghhBAPQwEgIYQQQoiHoQCQEEIIIcTDUABICCGEEOJhKAAkhBBCCPEwFAASQgghhHgYCgAJIYQQQjwMBYCEEEIIIR6GAkBCCCGEEA/j4+wMuLOamhoAQHFxsazpVldX48qVKygqKoKPD71F9kRl7ThU1o5DZe04VNaOIXc5a6/b2uu4J6Kz1QalpaUAgK5duzo5J4QQQgiRqrS0FM2aNXN2NpxCwRhjzs6Eu6qursbRo0cRHh4OLy/57qbfvHkTsbGxKCgoQHBwsGzpElNU1o5DZe04VNaOQ2XtGHKXc01NDUpLS9GpUyePrbmlANAF3bhxAyqVCuXl5ahfv76zs1OnUVk7DpW141BZOw6VtWNQOcuPOoEQQgghhHgYCgAJIYQQQjyMd3p6erqzM0FMeXt7o3fv3h7bNsGRqKwdh8racaisHYfK2jGonOVFbQAJIYQQQjwM3QImhBBCCPEwFAASQgghhHgYCgAJIYQQQjwMBYCEEEIIIR6GAkA7mT9/Ph5++GEEBwcjLCwMTzzxBAoLCw3WqaysxMSJExEaGoqgoCAMGTIEFy9eNFjn/PnzGDx4MIKCghAaGopXX30VVVVVBuvs3r0bcXFx8Pf3R8uWLbF06VK7H58rcWRZa+3btw8+Pj7o2LGj3Y7L1TiynNetW4cOHTogMDAQjRs3xpgxY3D16lW7H6OrkKusJ02ahLi4OPj5+fGeq7t27cLQoUPRuHFjBAUFoWPHjli3bp1dj83VOKqsAYAxho8+j7NM3gAAC2VJREFU+gitWrWCn58foqKiMG/ePLsdm6uRo6yPHTuGZ599FlFRUQgICEBMTAwWLVpksi9Pvy6KwohdDBgwgK1atYrl5+cztVrNBg0axJo1a8Zu3bqlW2f8+PGsSZMmLDs7mx05coT16dOHdejQgVVXVzPGGKuurmZt27Zlffr0YUeOHGHZ2dksMjKSpaWl6dI4e/YsCwwMZJMmTWIFBQVs+fLlTKlUsu+++87hx+wsjiprrevXr7OWLVuyxMRE1qFDB4cdp7M5qpz37NnDvLy82KJFi9jZs2fZnj172EMPPcSeeOIJhx+zs8hR1owxNnHiRPbZZ5+xlJQU3nN17ty5bNasWWzfvn3s9OnTbNGiRczLy4tt3brVIcfpChxV1tp1WrduzbZs2cLOnj3Ljh49yrKzs+1+jK5CjrLOyMhgEydOZLt27WJnzpxha9asYQEBAWzx4sW6NOi6KA4FgA5y6dIlBoDt3r2bMcYFEUqlkq1fv163TlFREfPy8mJZWVmMMcYyMzOZl5cXKyoq0q3z9ddfMz8/P1ZeXs4YY2zatGmsTZs2BvsaN24ci4+Pt/chuSx7lbXW8OHD2axZs9js2bM9KgA0Zq9y/vDDD1nLli0N9vXpp5+ypk2b2vuQXJY1Za1Pyrk6cOBANmbMGHky7obsVdYFBQXMx8eH/frrr/bLvJuxtay1XnnlFdanTx/dc7ouikO3gB2kvLwcABASEgIAyMvLg0ajQWJiom6dyMhItG3bFvv37wcA5OTkoG3btoiMjNStM2DAAFRWViIvL0+3jn4a2nUOHz4MjUZj12NyVfYqawBYtWoVzpw5g9mzZzviUFyavcq5e/fuuHjxIjIzM8EYQ2lpKb777jsMGjTIUYfmcqwpa1v2pd2PJ7JXWW/btg0tW7bEf//7X7Ro0QLR0dF46aWXcO3aNXkPwI3IVdbG5yxdF8WhANABGGOYMmUKHn30UbRt2xYAUFJSAl9fXzRo0MBg3fDwcJSUlOjWCQ8PN3i9QYMG8PX1FVwnPDwc1dXVuHLlir0OyWXZs6x///13TJ8+HevWrfP4kejtWc7du3fHunXrMHz4cPj6+iIiIgL33XcfFi9e7IAjcz3WlrU1vvvuOxw6dAhjxoyxKc/uyp5lffbsWfz555/49ttv8dVXX2H16tXIy8vD008/LesxuAu5yjonJwfffPMNxo0bp1tG10VxPPsq5iBpaWk4fvw49u7da3FdxhgUCoXuuf7/Ytdh9yZ34du2rrNXWd+9excjR47EO++8g1atWsmaZ3dkz3O6oKAAr776Kt5++20MGDAAxcXFeOONNzB+/HhkZGTIdxBuwpaylmLXrl0YPXo0li9fjoceesiqNNydPcu6pqYGlZWV+Oqrr3TfIRkZGYiLi0NhYSFat25tdb7dkRxlffLkSQwdOhRvv/02+vfvb/AaXRctoxpAO5s4cSK2bt2KnTt3omnTprrlERERqKqqQllZmcH6ly5d0v1yiYiIMPnVU1ZWBo1GI7jOpUuX4OPjg4YNG9rjkFyWPcv65s2bOHz4MNLS0uDj4wMfHx/MmTMHx44dg4+PD37++Wf7H6CLsPc5PX/+fDzyyCN444030L59ewwYMABLlizBypUrUVxcbOejcy22lLUUu3fvxuDBg7FgwQK88MILNufbHdm7rBs3bgwfHx+DH5AxMTEAuJ7xnkSOsi4oKEDfvn2RmpqKWbNmGbxG10VxKAC0E8YY0tLSsHHjRvz8889o0aKFwetxcXFQKpXIzs7WLSsuLkZ+fj66d+8OAEhISEB+fr7BRe+nn36Cn58f4uLidOvop6Fdp0uXLlAqlfY6PJfiiLKuX78+Tpw4AbVarXuMHz8erVu3hlqtRrdu3RxzsE7kqHO6oqICXl6GX03e3t66PHgCOcparF27dmHQoEF477338PLLL8uSf3fiqLJ+5JFHUF1djTNnzuiW/fbbbwCA5s2b23gU7kGusj558iT69OmDUaNGYe7cuSb7oeuiSA7rbuJhJkyYwFQqFdu1axcrLi7WPSoqKnTrjB8/njVt2pRt376dHTlyhPXt25d3yIx+/fqxI0eOsO3bt7OmTZvyDgPz2muvsYKCApaRkeFx3d0dVdbGPK0XsKPKedWqVczHx4ctWbKEnTlzhu3du5d16dKFde3a1eHH7CxylDVjjP3+++/s6NGjbNy4caxVq1bs6NGj7OjRo6yyspIxxtjOnTtZYGAgmzFjhsF+rl696vBjdhZHlfXdu3dZ586dWc+ePdmRI0fY4cOHWbdu3Vj//v0dfszOIkdZ5+fns0aNGrHnnnvOII1Lly7p0qDrojgUANoJAN7HqlWrdOvcuXOHpaWlsZCQEBYQEMCSk5PZ+fPnDdL5888/2aBBg1hAQAALCQlhaWlp7O+//zZYZ9euXaxTp07M19eXRUdHsy+++MIRh+gyHFnW+jwtAHRkOX/66acsNjaWBQQEsMaNG7PnnnuOXbx40RGH6RLkKutevXrxpnPu3DnGGGOjRo3ifb1Xr16OO1gnc1RZM8YNafLUU0+xevXqsfDwcDZ69GiPCrblKOvZs2fzptG8eXODfXn6dVEMBWMeck+FEEIIIYQAoDaAhBBCCCEehwJAQgghhBAPQwEgIYQQQoiHoQCQEEIIIcTDUABICCGEEOJhKAAkhBBCCPEwFAASQgghhHgYCgAJIXVO7969MXnyZKu3/+OPP6BQKKBWq2XMFSGEuA4fZ2eAEELktnHjRprzkxBCBFAASAipc0JCQpydBUIIcWl0C5gQUufo3wKOjo7GvHnz8OKLLyI4OBjNmjXDsmXLDNY/ePAgOnXqBH9/f3Tp0gVHjx41SbOgoAADBw5EvXr1EB4ejpSUFFy5cgUAcPnyZURERGDevHm69Q8cOABfX1/89NNPdjxSQgixDgWAhJA67+OPP9YFdq+88gomTJiAX3/9FQBw+/ZtJCcno3Xr1sjLy0N6ejpef/11g+2Li4vRq1cvdOzYEYcPH0ZWVhZKS0sxbNgwAECjRo2wcuVKpKen4/Dh/2/f7lkaWeMAip+ELWIIWvoCglWIGhQDFn4BhYC1aKwcLIyFnRb5AgoBxSZdmmAjWAkWNqZQENFKiCAYEMTCQhAEQci4nZB1L+7lsrsX5/yqgXmegX8zHOblnOfnZ+bn5ykWi0xOTv7xeSXpM74ClvTl5fN5isUiAGtra2xublKv18lkMuzs7NBqtahWqySTSYaHh7m7u2Npael9f6VSIZfLtT3hq1ar9Pf3c319TTqdJp/Ps7i4SKFQYHx8nEQiwfr6+h+fVZJ+hQEo6csbGRl5P47FYvT09PDw8ADA1dUVo6OjJJPJ9zUTExNt+y8uLjg6OiKVSn249s3NDel0GoByuUw2m2V3d5fz83MSicTvGEeS/jMDUNKX9+MfwbFYjDAMAXh7e/t0fxiGTE9Ps7Gx8eFcb2/v+3Gz2eT+/p4wDLm9vW0LT0n6PzEAJUXa0NAQtVqNl5cXOjo6ADg9PW1bk8vl2NvbY2BggG/ffn7bfH19pVAoMDMzQyaTIQgCLi8v6e7u/u0zSNK/5U8gkiJtbm6OeDxOEAQ0Gg0ODg4ol8tta5aXl3l8fGR2dpazszOazSaHh4csLCzQarUAKJVKPD09sb29zerqKoODgwRB8DdGkqRPGYCSIi2VSrG/v0+j0WBsbIxSqfThVW9fXx8nJye0Wi2mpqbIZrOsrKzQ1dVFPB6nXq+ztbVFrVajs7OTeDxOrVbj+PiYSqXylyaTpH8We/uVD2AkSZL0ZfgEUJIkKWIMQEmSpIgxACVJkiLGAJQkSYoYA1CSJCliDEBJkqSIMQAlSZIixgCUJEmKGANQkiQpYgxASZKkiDEAJUmSIsYAlCRJipjv7znYP4doyw8AAAAASUVORK5CYII=' width=640.0/>\n",
       "            </div>\n",
       "        "
      ],
      "text/plain": [
       "Canvas(toolbar=Toolbar(toolitems=[('Home', 'Reset original view', 'home', 'home'), ('Back', 'Back to previous …"
      ]
     },
     "metadata": {},
     "output_type": "display_data"
    },
    {
     "name": "stdout",
     "output_type": "stream",
     "text": [
      "\n"
     ]
    }
   ],
   "source": [
    "# performance of krr is aweful\n",
    "wdw=30\n",
    "%matplotlib widget\n",
    "fig = plt.figure()\n",
    "ax = fig.add_subplot(111)\n",
    "ax.plot(data.index[:(len(data)-wdw-1)],pr, label = 'pr', color = 'r')\n",
    "ax2 = ax.twinx()\n",
    "ax2.plot(data.index[:(len(data)-wdw-1)],data.iloc[1:(len(data)-wdw),1], label = 'real', color = 'b')\n",
    "ax.legend(loc=0)\n",
    "#ax2.legend(loc=0)\n",
    "ax.grid()\n",
    "ax.set_xlabel(\"index\")\n",
    "ax.set_ylabel(\"real\")\n",
    "ax2.set_ylabel(\"pred\")\n",
    "plt.show()\n",
    "print()"
   ]
  },
  {
   "cell_type": "markdown",
   "metadata": {},
   "source": [
    "### Testing the univariate strategies"
   ]
  },
  {
   "cell_type": "code",
   "execution_count": 124,
   "metadata": {
    "ExecuteTime": {
     "end_time": "2022-01-16T17:38:29.956036Z",
     "start_time": "2022-01-16T17:38:27.376710Z"
    }
   },
   "outputs": [
    {
     "data": {
      "text/html": [
       "<div>\n",
       "<style scoped>\n",
       "    .dataframe tbody tr th:only-of-type {\n",
       "        vertical-align: middle;\n",
       "    }\n",
       "\n",
       "    .dataframe tbody tr th {\n",
       "        vertical-align: top;\n",
       "    }\n",
       "\n",
       "    .dataframe thead th {\n",
       "        text-align: right;\n",
       "    }\n",
       "</style>\n",
       "<table border=\"1\" class=\"dataframe\">\n",
       "  <thead>\n",
       "    <tr style=\"text-align: right;\">\n",
       "      <th></th>\n",
       "      <th>signal_0</th>\n",
       "      <th>signal_1</th>\n",
       "      <th>signal_2</th>\n",
       "      <th>signal_3</th>\n",
       "      <th>signal_4</th>\n",
       "      <th>signal_5</th>\n",
       "      <th>signal_6</th>\n",
       "      <th>signal_7</th>\n",
       "      <th>signal_8</th>\n",
       "      <th>signal_9</th>\n",
       "    </tr>\n",
       "    <tr>\n",
       "      <th>date</th>\n",
       "      <th></th>\n",
       "      <th></th>\n",
       "      <th></th>\n",
       "      <th></th>\n",
       "      <th></th>\n",
       "      <th></th>\n",
       "      <th></th>\n",
       "      <th></th>\n",
       "      <th></th>\n",
       "      <th></th>\n",
       "    </tr>\n",
       "  </thead>\n",
       "  <tbody>\n",
       "    <tr>\n",
       "      <th>2000-01-03</th>\n",
       "      <td>0.000000</td>\n",
       "      <td>-0.000000</td>\n",
       "      <td>0.000000</td>\n",
       "      <td>-0.000000</td>\n",
       "      <td>-0.000000</td>\n",
       "      <td>-0.000000</td>\n",
       "      <td>-0.000000</td>\n",
       "      <td>-0.000000</td>\n",
       "      <td>-0.000000</td>\n",
       "      <td>-0.000000</td>\n",
       "    </tr>\n",
       "    <tr>\n",
       "      <th>2000-01-04</th>\n",
       "      <td>0.084310</td>\n",
       "      <td>0.033780</td>\n",
       "      <td>0.083217</td>\n",
       "      <td>-0.023493</td>\n",
       "      <td>0.036610</td>\n",
       "      <td>0.039252</td>\n",
       "      <td>0.059355</td>\n",
       "      <td>-0.034561</td>\n",
       "      <td>-0.019242</td>\n",
       "      <td>-0.017586</td>\n",
       "    </tr>\n",
       "    <tr>\n",
       "      <th>2000-01-05</th>\n",
       "      <td>-0.014634</td>\n",
       "      <td>-0.010544</td>\n",
       "      <td>0.148741</td>\n",
       "      <td>-0.006173</td>\n",
       "      <td>0.010556</td>\n",
       "      <td>-0.019455</td>\n",
       "      <td>0.010974</td>\n",
       "      <td>0.016432</td>\n",
       "      <td>-0.019025</td>\n",
       "      <td>0.054516</td>\n",
       "    </tr>\n",
       "    <tr>\n",
       "      <th>2000-01-06</th>\n",
       "      <td>0.086538</td>\n",
       "      <td>0.033498</td>\n",
       "      <td>0.060036</td>\n",
       "      <td>0.014197</td>\n",
       "      <td>0.035515</td>\n",
       "      <td>0.010913</td>\n",
       "      <td>0.071913</td>\n",
       "      <td>0.041570</td>\n",
       "      <td>0.046061</td>\n",
       "      <td>0.049383</td>\n",
       "    </tr>\n",
       "    <tr>\n",
       "      <th>2000-01-07</th>\n",
       "      <td>-0.047368</td>\n",
       "      <td>-0.013068</td>\n",
       "      <td>-0.061010</td>\n",
       "      <td>0.018373</td>\n",
       "      <td>0.038332</td>\n",
       "      <td>0.075564</td>\n",
       "      <td>-0.013924</td>\n",
       "      <td>0.008869</td>\n",
       "      <td>0.079954</td>\n",
       "      <td>-0.000735</td>\n",
       "    </tr>\n",
       "    <tr>\n",
       "      <th>...</th>\n",
       "      <td>...</td>\n",
       "      <td>...</td>\n",
       "      <td>...</td>\n",
       "      <td>...</td>\n",
       "      <td>...</td>\n",
       "      <td>...</td>\n",
       "      <td>...</td>\n",
       "      <td>...</td>\n",
       "      <td>...</td>\n",
       "      <td>...</td>\n",
       "    </tr>\n",
       "    <tr>\n",
       "      <th>2019-12-24</th>\n",
       "      <td>0.000951</td>\n",
       "      <td>-0.000000</td>\n",
       "      <td>-0.000000</td>\n",
       "      <td>-0.002770</td>\n",
       "      <td>-0.000000</td>\n",
       "      <td>-0.004033</td>\n",
       "      <td>-0.001422</td>\n",
       "      <td>0.000044</td>\n",
       "      <td>-0.002562</td>\n",
       "      <td>-0.000000</td>\n",
       "    </tr>\n",
       "    <tr>\n",
       "      <th>2019-12-26</th>\n",
       "      <td>0.019840</td>\n",
       "      <td>0.008197</td>\n",
       "      <td>0.044467</td>\n",
       "      <td>0.010612</td>\n",
       "      <td>0.000685</td>\n",
       "      <td>-0.000084</td>\n",
       "      <td>0.008518</td>\n",
       "      <td>-0.004346</td>\n",
       "      <td>-0.000000</td>\n",
       "      <td>0.000000</td>\n",
       "    </tr>\n",
       "    <tr>\n",
       "      <th>2019-12-27</th>\n",
       "      <td>-0.000379</td>\n",
       "      <td>0.001828</td>\n",
       "      <td>0.000551</td>\n",
       "      <td>0.000000</td>\n",
       "      <td>0.000549</td>\n",
       "      <td>-0.000586</td>\n",
       "      <td>0.004786</td>\n",
       "      <td>0.001369</td>\n",
       "      <td>0.006948</td>\n",
       "      <td>0.003422</td>\n",
       "    </tr>\n",
       "    <tr>\n",
       "      <th>2019-12-30</th>\n",
       "      <td>0.005935</td>\n",
       "      <td>0.008619</td>\n",
       "      <td>-0.000000</td>\n",
       "      <td>0.003665</td>\n",
       "      <td>0.003087</td>\n",
       "      <td>0.001589</td>\n",
       "      <td>0.005658</td>\n",
       "      <td>0.001680</td>\n",
       "      <td>0.012848</td>\n",
       "      <td>0.005866</td>\n",
       "    </tr>\n",
       "    <tr>\n",
       "      <th>2019-12-31</th>\n",
       "      <td>0.007307</td>\n",
       "      <td>-0.000698</td>\n",
       "      <td>0.000000</td>\n",
       "      <td>0.000000</td>\n",
       "      <td>-0.003923</td>\n",
       "      <td>0.004690</td>\n",
       "      <td>-0.001991</td>\n",
       "      <td>-0.003278</td>\n",
       "      <td>-0.003455</td>\n",
       "      <td>-0.004318</td>\n",
       "    </tr>\n",
       "  </tbody>\n",
       "</table>\n",
       "<p>5031 rows × 10 columns</p>\n",
       "</div>"
      ],
      "text/plain": [
       "            signal_0  signal_1  signal_2  signal_3  signal_4  signal_5  \\\n",
       "date                                                                     \n",
       "2000-01-03  0.000000 -0.000000  0.000000 -0.000000 -0.000000 -0.000000   \n",
       "2000-01-04  0.084310  0.033780  0.083217 -0.023493  0.036610  0.039252   \n",
       "2000-01-05 -0.014634 -0.010544  0.148741 -0.006173  0.010556 -0.019455   \n",
       "2000-01-06  0.086538  0.033498  0.060036  0.014197  0.035515  0.010913   \n",
       "2000-01-07 -0.047368 -0.013068 -0.061010  0.018373  0.038332  0.075564   \n",
       "...              ...       ...       ...       ...       ...       ...   \n",
       "2019-12-24  0.000951 -0.000000 -0.000000 -0.002770 -0.000000 -0.004033   \n",
       "2019-12-26  0.019840  0.008197  0.044467  0.010612  0.000685 -0.000084   \n",
       "2019-12-27 -0.000379  0.001828  0.000551  0.000000  0.000549 -0.000586   \n",
       "2019-12-30  0.005935  0.008619 -0.000000  0.003665  0.003087  0.001589   \n",
       "2019-12-31  0.007307 -0.000698  0.000000  0.000000 -0.003923  0.004690   \n",
       "\n",
       "            signal_6  signal_7  signal_8  signal_9  \n",
       "date                                                \n",
       "2000-01-03 -0.000000 -0.000000 -0.000000 -0.000000  \n",
       "2000-01-04  0.059355 -0.034561 -0.019242 -0.017586  \n",
       "2000-01-05  0.010974  0.016432 -0.019025  0.054516  \n",
       "2000-01-06  0.071913  0.041570  0.046061  0.049383  \n",
       "2000-01-07 -0.013924  0.008869  0.079954 -0.000735  \n",
       "...              ...       ...       ...       ...  \n",
       "2019-12-24 -0.001422  0.000044 -0.002562 -0.000000  \n",
       "2019-12-26  0.008518 -0.004346 -0.000000  0.000000  \n",
       "2019-12-27  0.004786  0.001369  0.006948  0.003422  \n",
       "2019-12-30  0.005658  0.001680  0.012848  0.005866  \n",
       "2019-12-31 -0.001991 -0.003278 -0.003455 -0.004318  \n",
       "\n",
       "[5031 rows x 10 columns]"
      ]
     },
     "execution_count": 124,
     "metadata": {},
     "output_type": "execute_result"
    }
   ],
   "source": [
    "# 1. test macd\n",
    "stock = data.iloc[:,200]\n",
    "stocks = data.iloc[:,:200]\n",
    "macd_single = macd(stock, 26,12,9,)\n",
    "macd_multiple = macd_signals(stocks,26,12,9)\n",
    "\n",
    "# 2. test others ...."
   ]
  },
  {
   "cell_type": "markdown",
   "metadata": {},
   "source": [
    "# Multivariate Econometric\n",
    "   * Vector Autoregressive (VAR) -> DONE\n",
    "   * Vector error correction models (VECM)\n",
    "   * Kernel Ridge Regression (KRR)"
   ]
  },
  {
   "cell_type": "markdown",
   "metadata": {},
   "source": [
    "### Statistical tests\n",
    "   * **Granger causality** (column var causes row var) -> rejection means good candidate for MV\n",
    "       (tests the null hypothesis that the coefficients of past values in the regression equation is zero. In simpler terms, the past values of time series (X) do not cause the other series (Y))\n",
    "   * **ADF test** -> need stationarity in time series\n",
    "   * **cointegration** -> establish the presence of a statistically significant connection between two or more time series"
   ]
  },
  {
   "cell_type": "code",
   "execution_count": 48,
   "metadata": {
    "ExecuteTime": {
     "end_time": "2022-01-26T15:00:28.989476Z",
     "start_time": "2022-01-26T15:00:28.223657Z"
    }
   },
   "outputs": [],
   "source": [
    "def grangers_causation_matrix(data, variables, test='ssr_chi2test', maxlag=4):    \n",
    "    \"\"\"\n",
    "    data      : pandas dataframe containing the time series variables\n",
    "    variables : list containing names of the time series variables.\n",
    "    \"\"\"\n",
    "    df = pd.DataFrame(np.zeros((len(variables), len(variables))), columns=variables, index=variables)\n",
    "    for c in df.columns:\n",
    "        for r in df.index:\n",
    "            test_result = grangercausalitytests(data[[r, c]], maxlag=maxlag, verbose=False)\n",
    "            p_values = [round(test_result[i+1][0][test][1],4) for i in range(maxlag)]\n",
    "            min_p_value = np.min(p_values)\n",
    "            df.loc[r, c] = min_p_value\n",
    "    df.columns = [var + '_x' for var in variables]\n",
    "    df.index = [var + '_y' for var in variables]\n",
    "    return df\n",
    "\n",
    "def adfuller_test(series, signif=0.05):\n",
    "    \"\"\"Perform ADFuller to test for Stationarity of given series of returns and print report\"\"\"\n",
    "    for name, column in series.iteritems():\n",
    "        r = adfuller(column, autolag='BIC')\n",
    "        output = {'test_statistic':round(r[0], 4), 'pvalue':round(r[1], 4), 'n_lags':round(r[2], 4), 'n_obs':r[3]}\n",
    "        p_value = output['pvalue']\n",
    "        if p_value > signif:\n",
    "            print(\"series {} is non-stationary\".format(column.name))\n",
    "def cointegration_test(df, alpha=0.05): \n",
    "    \"\"\"Perform Johanson's Cointegration Test and Report Summary\"\"\"\n",
    "    out = coint_johansen(df,-1,5)\n",
    "    d = {'0.90':0, '0.95':1, '0.99':2}\n",
    "    traces = out.lr1\n",
    "    cvts = out.cvt[:, d[str(1-alpha)]]\n",
    "    # print output if failed\n",
    "    for name, trace, cvt in zip(df.columns, traces, cvts):\n",
    "        if trace < cvt: print(\"column {} failed the cointegration test\".format(name))\n",
    "\n",
    "def multivariate_tests(data,alpha=0.05,maxlag=4, test = 'ssr_chi2test'):\n",
    "    \"\"\"\n",
    "    data: pandas dataframe\n",
    "    alpha: significance level\n",
    "    maxlag: maximum number of lags for granger causality test\n",
    "    test: test for granger causality\n",
    "    \n",
    "    what it does: prints failed adf and cointegration tests\n",
    "    \n",
    "    returns: granger causality matrix\n",
    "    \"\"\"\n",
    "    adfuller_test(data, signif=alpha)\n",
    "    cointegration_test(data, alpha=alpha)\n",
    "    \n",
    "    return grangers_causation_matrix(data, data.columns, test=test, maxlag=maxlag)"
   ]
  },
  {
   "cell_type": "markdown",
   "metadata": {},
   "source": [
    "### VAR model\n",
    "still requires some code optimisation"
   ]
  },
  {
   "cell_type": "code",
   "execution_count": 307,
   "metadata": {
    "ExecuteTime": {
     "end_time": "2022-01-26T17:37:27.675734Z",
     "start_time": "2022-01-26T17:37:27.663710Z"
    }
   },
   "outputs": [],
   "source": [
    "def var(df, window,maxlag):\n",
    "    \n",
    "    n = len(df)\n",
    "    # initiate forecasts dataframe\n",
    "    forecasts = pd.DataFrame(df,columns=df.columns+'_fc')\n",
    "    \n",
    "    # rolling window approach\n",
    "    for i in range(window,n):\n",
    "        if i % 250 == 0: print('{}% done'.format(round(i/(n-30)*100)),end=\"\\r\")\n",
    "        bic_list = []\n",
    "        series = df.iloc[(i-window):i,:]\n",
    "        model = VAR(series)\n",
    "        \n",
    "        # optimal lags and fitting\n",
    "        for j in np.arange(0,maxlag+1,1):\n",
    "            try:\n",
    "                result = model.fit(j)\n",
    "                bic_list.append(result.bic)\n",
    "            except:\n",
    "                print(\"cannot deal with lag of {}, restarting with maxlag of {}\".format(j,maxlag-1))\n",
    "                if maxlag == 0:\n",
    "                    print(\"window size too small relative to number of assets, please restart\")\n",
    "                    return 0\n",
    "                else:\n",
    "                    return var(df, window, maxlag-1)\n",
    "        \n",
    "        # final check\n",
    "        if len(bic_list) == 1:\n",
    "                print(\"window size too small relative to number of assets, please restart\")\n",
    "                return 0   \n",
    "            \n",
    "        nbr_lags = bic_list.index(min(bic_list)) + 1\n",
    "        model_fitted = model.fit(nbr_lags)\n",
    "\n",
    "        forecast_input = series.values[-nbr_lags:]\n",
    "        \n",
    "        fc = model_fitted.forecast(y=forecast_input, steps=2) # 2 step ahead forecast\n",
    "        forecasts.iloc[i,:] = fc[0]\n",
    "                \n",
    "    return forecasts"
   ]
  },
  {
   "cell_type": "code",
   "execution_count": 302,
   "metadata": {
    "ExecuteTime": {
     "end_time": "2022-01-26T17:35:37.421570Z",
     "start_time": "2022-01-26T17:34:50.036079Z"
    }
   },
   "outputs": [
    {
     "name": "stdout",
     "output_type": "stream",
     "text": [
      "cannot deal with lag of 2, restarting with maxlag of 2\n",
      "cannot deal with lag of 2, restarting with maxlag of 1\n",
      "done done\n",
      "\n",
      "\n"
     ]
    }
   ],
   "source": [
    "# do the prediction for N = 10, 100, 200\n",
    "stocks = data.iloc[:,:10]\n",
    "pred_10 = var(stocks,window = 30,maxlag=3)\n",
    "pred_10 = pred_10.dropna(how='all')\n",
    "print(\"done\\n\\n\")"
   ]
  },
  {
   "cell_type": "code",
   "execution_count": null,
   "metadata": {
    "ExecuteTime": {
     "start_time": "2022-01-26T17:38:17.375Z"
    }
   },
   "outputs": [
    {
     "name": "stdout",
     "output_type": "stream",
     "text": [
      "cannot deal with lag of 2, restarting with maxlag of 2\n",
      "cannot deal with lag of 2, restarting with maxlag of 1\n",
      "30% done\r"
     ]
    }
   ],
   "source": [
    "stocks = data.iloc[:,:100]\n",
    "pred_100 = var(stocks ,window = 300,maxlag=3)\n",
    "pred_100 = pred_100.dropna(how='all')\n"
   ]
  },
  {
   "cell_type": "code",
   "execution_count": null,
   "metadata": {},
   "outputs": [],
   "source": [
    "stocks = data.iloc[:,:200]\n",
    "pred_200 = var(stocks ,window = 400,maxlag=3)\n",
    "pred_200 = pred_200.dropna(how='all')\n",
    "print(\"done\\n\\n\")"
   ]
  },
  {
   "cell_type": "markdown",
   "metadata": {},
   "source": [
    "plot VAR prediction results"
   ]
  },
  {
   "cell_type": "code",
   "execution_count": null,
   "metadata": {
    "ExecuteTime": {
     "start_time": "2022-01-26T17:40:18.012Z"
    }
   },
   "outputs": [],
   "source": [
    "start = 0\n",
    "wdw=300\n",
    "index = data.index[(wdw+start):(wdw+len(pred_100))]\n",
    "low = wdw+start\n",
    "high = start + len(pred) + wdw\n",
    "%matplotlib widget\n",
    "fig = plt.figure()\n",
    "ax = fig.add_subplot(111)\n",
    "ax.plot(index,pred_100.iloc[:,2], label = 'pr', color = 'r')\n",
    "ax2 = ax.twinx()\n",
    "ax.plot(index,data.iloc[low:high,2], label = 'real', color = 'b')\n",
    "ax.legend(loc=0)\n",
    "#ax2.legend(loc=0)\n",
    "ax.grid()\n",
    "ax.set_xlabel(\"index\")\n",
    "ax.set_ylabel(\"real\")\n",
    "ax2.set_ylabel(\"pred\")\n",
    "plt.show()\n",
    "print()"
   ]
  },
  {
   "cell_type": "markdown",
   "metadata": {},
   "source": [
    "# NN-based methodologies\n",
    "   * LSTM\n",
    "   * CNN\n",
    "   * other?"
   ]
  },
  {
   "cell_type": "code",
   "execution_count": null,
   "metadata": {},
   "outputs": [],
   "source": []
  }
 ],
 "metadata": {
  "kernelspec": {
   "display_name": "Python 3",
   "language": "python",
   "name": "python3"
  },
  "language_info": {
   "codemirror_mode": {
    "name": "ipython",
    "version": 3
   },
   "file_extension": ".py",
   "mimetype": "text/x-python",
   "name": "python",
   "nbconvert_exporter": "python",
   "pygments_lexer": "ipython3",
   "version": "3.7.6"
  },
  "latex_envs": {
   "LaTeX_envs_menu_present": true,
   "autoclose": false,
   "autocomplete": true,
   "bibliofile": "biblio.bib",
   "cite_by": "apalike",
   "current_citInitial": 1,
   "eqLabelWithNumbers": true,
   "eqNumInitial": 1,
   "hotkeys": {
    "equation": "Ctrl-E",
    "itemize": "Ctrl-I"
   },
   "labels_anchors": false,
   "latex_user_defs": false,
   "report_style_numbering": false,
   "user_envs_cfg": false
  }
 },
 "nbformat": 4,
 "nbformat_minor": 4
}
