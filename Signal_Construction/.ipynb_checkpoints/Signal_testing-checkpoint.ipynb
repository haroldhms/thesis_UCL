{
 "cells": [
  {
   "cell_type": "markdown",
   "metadata": {},
   "source": [
    "# This file will serve as the main testing ground for a variety of signals for the CRSP data set\n",
    "\n",
    "## The multiple strategies are the underlying:\n",
    "\n",
    "### 1. Univariate Strategies\n",
    "   * MACD (momentum), bollinger bands (mean reversion), univariate KRR\n",
    "   \n",
    "### 2. Multivariate Strategies\n",
    "   * KRR, VAR\n",
    "   \n",
    "### 3. NN-based methodologies\n",
    "   \n",
    "### 4. Others? (eg. from academic literature)"
   ]
  },
  {
   "cell_type": "markdown",
   "metadata": {},
   "source": [
    "# Libraries"
   ]
  },
  {
   "cell_type": "code",
   "execution_count": 7,
   "metadata": {
    "ExecuteTime": {
     "end_time": "2022-01-31T10:42:23.407767Z",
     "start_time": "2022-01-31T10:42:23.388811Z"
    }
   },
   "outputs": [],
   "source": [
    "import pandas as pd\n",
    "import numpy as np\n",
    "import matplotlib.pyplot as plt\n",
    "import matplotlib.dates as mdates\n",
    "import statsmodels as sm\n",
    "from sklearn.model_selection import *\n",
    "from sklearn.metrics import mean_squared_error\n",
    "from sklearn.decomposition import *\n",
    "from sklearn.kernel_ridge import *\n",
    "import math\n",
    "import scipy\n",
    "from statsmodels.tsa.api import VAR\n",
    "from statsmodels.tsa.stattools import adfuller\n",
    "from statsmodels.tools.eval_measures import rmse, aic\n",
    "from statsmodels.tsa.stattools import grangercausalitytests\n",
    "from statsmodels.tsa.vector_ar.vecm import coint_johansen\n",
    "from scipy.stats.mstats import winsorize\n",
    "import warnings\n",
    "warnings.filterwarnings(\"ignore\")"
   ]
  },
  {
   "cell_type": "markdown",
   "metadata": {},
   "source": [
    "# Preprocessing"
   ]
  },
  {
   "cell_type": "code",
   "execution_count": 2,
   "metadata": {
    "ExecuteTime": {
     "end_time": "2022-01-31T09:35:13.891962Z",
     "start_time": "2022-01-31T09:35:13.243905Z"
    }
   },
   "outputs": [],
   "source": [
    "data  = pd.read_csv('data/returns.csv')\n",
    "data.set_index('date', inplace=True)\n",
    "data.index = pd.to_datetime(data.index)\n",
    "data = data.iloc[:,:50]"
   ]
  },
  {
   "cell_type": "markdown",
   "metadata": {},
   "source": [
    "# Univariate strategies\n",
    "* Simple strategies\n",
    "    + mean reversion -> DONE\n",
    "    + momentum (MACD) -> DONE\n",
    "* forecasting strategies (requires cross-validation procedure)\n",
    "    + ARMA\n",
    "    + KRR -> IN PROGRESS\n",
    "    + Ornstein-Uhlenbeck"
   ]
  },
  {
   "cell_type": "code",
   "execution_count": 423,
   "metadata": {
    "ExecuteTime": {
     "end_time": "2022-01-31T18:05:35.815810Z",
     "start_time": "2022-01-31T18:05:35.593925Z"
    }
   },
   "outputs": [],
   "source": [
    "def macd(ret, long=26, short=12, signal_span=9, plot=False):\n",
    "\n",
    "    short_signal = ret.ewm(span=short, adjust=False).mean()\n",
    "    long_signal = ret.ewm(span=long, adjust=False).mean() \n",
    "    macd = short_signal - long_signal\n",
    "    \n",
    "    pos = np.zeros(len(ret))\n",
    "    pos = np.where(macd>0,1,-1)\n",
    "    \n",
    "    if plot==True:\n",
    "        %matplotlib widget\n",
    "        fig = plt.figure()\n",
    "        ax = fig.add_subplot(111)\n",
    "        ax.plot(ret.index[:100],signal[:100], label = 'signal', color='g')\n",
    "        ax.plot(ret.index[:100],macd[:100], label = 'macd', color = 'b')\n",
    "        ax.legend(loc=1)\n",
    "        ax.set_xlabel(\"time\")\n",
    "        ax.set_ylabel(\"MACD/SIGNAL\")\n",
    "        \n",
    "        months = mdates.MonthLocator()\n",
    "        ax.xaxis.set_major_locator(months) \n",
    "        fig.autofmt_xdate()\n",
    "        \n",
    "        ax2 = ax.twinx()\n",
    "        ax2.stem(stock.index[:100],position[:100])\n",
    "        ax2.set_ylabel(\"position (1 for long, 0 for none, -1 for short)\")\n",
    "        ax2.set_ylim(-3,3)\n",
    "        ax.set_title(\"MACD strategy visualised with positions as stems for first 100 observations\")\n",
    "        plt.show()\n",
    "    \n",
    "    return pos\n",
    "\n",
    "def macd_signals(returns,long=26,short=12,signal_span=9):\n",
    "    signals = pd.DataFrame()\n",
    "    for i in range(returns.shape[1]):\n",
    "        signals['signal_{}'.format(i)] = macd(returns.iloc[:,i],long,short,signal_span)\n",
    "    signals.index = returns.index\n",
    "    return signals.shift(1).fillna(0)\n",
    "\n",
    "# figure out way to use this function -> more efficient code\n",
    "def rolling_pipe(dataframe, window, fctn):\n",
    "    return pd.Series([dataframe.iloc[i-window: i].pipe(fctn) \n",
    "                      if i >= window else None \n",
    "                      for i in range(1, len(dataframe)+1)],\n",
    "                     index = dataframe.index) \n",
    "\n",
    "# bollinger bands: mean reversion\n",
    "def rev(ret,lookback,band,plot):\n",
    "    # work with prices\n",
    "    p = (ret+1).cumprod()\n",
    "    # obtain mean & vol\n",
    "    m = p.rolling(window=lookback).mean()\n",
    "    s = p.rolling(window=lookback).std()\n",
    "    lower_band = m - band*s\n",
    "    higher_band = m + band*s\n",
    "    \n",
    "    #signal = np.where(ret > higher_band,-1,\n",
    "    #                  np.where(ret < m, 0,\n",
    "    #                           np.where(ret < lower_band, 1,0)))\n",
    "    \n",
    "    signal2 = np.zeros(len(ret))\n",
    "    position_short = False\n",
    "    position_long = False\n",
    "    for i in range(len(ret)):\n",
    "        # sell if higher than band\n",
    "        if p[i] > higher_band[i]:\n",
    "            signal2[i] = -1\n",
    "            position_short = True\n",
    "        # sell back if from lower band to mean\n",
    "        elif p[i] < higher_band[i] and p.iloc[i] > m[i] and position_long == True:\n",
    "            signal2[i] = 0\n",
    "            position_long = False\n",
    "        # buy back if from higher band to mean\n",
    "        elif p[i] < m[i] and position_short == True:\n",
    "            signal2[i] = 0\n",
    "            position_short = False\n",
    "        # buy if lower barrier hit\n",
    "        elif p[i] < lower_band[i]:\n",
    "            signal2[i] = 1\n",
    "            position_long = True\n",
    "        else:\n",
    "            signal2[i] = signal2[i-1]\n",
    "        \n",
    "\n",
    "    if plot==True:\n",
    "        %matplotlib widget\n",
    "        fig = plt.figure()\n",
    "        ax = fig.add_subplot(111)\n",
    "        ax.plot(ret.index,lower_band, label = 'lower', color='b')\n",
    "        ax.plot(ret.index,higher_band, label = 'higher', color = 'b')\n",
    "        ax.plot(ret.index,m, label = 'mean', color = 'b')\n",
    "        ax.plot(ret.index,p,label=\"returns\", color=\"r\")\n",
    "\n",
    "        ax.legend(loc=1)\n",
    "        ax.set_xlabel(\"TIME\")\n",
    "        ax.set_ylabel(\"PRICE\")\n",
    "\n",
    "        months = mdates.MonthLocator()\n",
    "        ax.xaxis.set_major_locator(months) \n",
    "        fig.autofmt_xdate()\n",
    "\n",
    "        plt.show()\n",
    "        \n",
    "    return signal2\n",
    "\n",
    "\n",
    "def reversion_signals(returns,lookback=100,band=2,plot=False):\n",
    "    signals = pd.DataFrame()\n",
    "    for i in range(returns.shape[1]):\n",
    "        signals['signal_{}'.format(i)] = rev(ret = returns.iloc[:,i],lookback=lookback,band=band,plot=plot)\n",
    "    signals.index = returns.index\n",
    "    return signals.shift(1).fillna(0)\n",
    "\n",
    "# kernel ridge\n",
    "def krr_signals(data,window_size=30,npredictions=1):\n",
    "    n = len(data)-1\n",
    "    predicted_values = np.zeros(n+1)\n",
    "\n",
    "    \n",
    "    # rolling window\n",
    "    for i in range(window_size,n,npredictions):\n",
    "        if i % 100 == 0: print('{} % done'.format(round(i/(n-30)*100)),end=\"\\r\")\n",
    "        #    print(i)\n",
    "                \n",
    "        list_x = np.array(data.iloc[(i-window_size):i]).reshape(-1,1)\n",
    "        list_y = np.array(data.iloc[(i-window_size+1):(i+1)]) \n",
    "        list_x_pred = np.array(data.iloc[i:(i+npredictions)]).reshape(-1,1)\n",
    "        \n",
    "        parameters = {'kernel':['rbf'], 'alpha':np.arange(0.001,3,1).tolist(),'degree':np.arange(0.001,3,1).tolist()}\n",
    "        clf = GridSearchCV(KernelRidge(), parameters)\n",
    "        clf = clf.fit(list_x,list_y)\n",
    "        pred = clf.predict(list_x_pred)\n",
    "        predicted_values[i:(i+npredictions)] = pred\n",
    "    \n",
    "    # turn values into signals\n",
    "    signals = np.where(predicted_values > 0,1,-1)\n",
    "    \n",
    "    return signals\n",
    "def krr_signals_univ(data,window_size=30,npredictions=5):\n",
    "    n = data.shape[0]\n",
    "    signals = np.zeros((n+npredictions,data.shape[1]))\n",
    "    for i in range(data.shape[1]):\n",
    "        signals[:,i] = krr_signals(data.iloc[:,i],window_size=window_size,npredictions=npredictions)\n",
    "\n",
    "def krr_signals_mv(data,window_size=30,npredictions=5):\n",
    "    n = len(data)-1\n",
    "\n",
    "    predicted_values = np.zeros((n+npredictions+1,data.shape[1]))    \n",
    "\n",
    "    # rolling window\n",
    "    # re-fit the model every \"npredictions\" days\n",
    "    for i in range(window_size,n,npredictions):\n",
    "        if i % 100 == 0: print('{} % done'.format(round(i/(n-window_size)*100)),end=\"\\r\")\n",
    "        begin = i - window_size\n",
    "        \n",
    "        # obtain principal components, section 2.5\n",
    "        pca = PCA(n_components=4)\n",
    "        principalComponents = pca.fit_transform(np.array(data.iloc[begin:i,:]))\n",
    "        \n",
    "        principalDf = pd.DataFrame(data = principalComponents, columns = ['pc1','pc2','pc3','pc4'])\n",
    "        \n",
    "        model = linear_model.LinearRegression()\n",
    "        model_score = model.fit(principalDf,data.iloc[begin:i,:]).score(principalDf,data.iloc[begin:i,:])\n",
    "        \n",
    "        x = np.array(data.iloc[(i-window_size):i,:])#.reshape(-1,1)\n",
    "        y = np.array(data.iloc[(i-window_size+1):(i+1),:]) \n",
    "        x_pred = np.array(data.iloc[i:(i+npredictions),:])\n",
    "        \n",
    "        # gaussian kernel parameters\n",
    "        nbr_assets = data.shape[1]\n",
    "        df = window_size - nbr_assets\n",
    "        if df<0:df=1 # for chi-square\n",
    "        r2 = np.array(model_score)\n",
    "        sigma0 = math.sqrt(chi2.ppf(0.95,df)) / math.pi\n",
    "        sigma = np.array([0.5*sigma0,sigma0,2*sigma0,4*sigma0,8*sigma0])\n",
    "        lambda0 = (1-r2)/(r2)\n",
    "        lambdaa = np.array([lambda0/8.0,lambda0/4.0,lambda0/2.0,lambda0,2*lambda0])\n",
    "        \n",
    "        parameters = {'kernel':['rbf'], 'alpha':lambdaa.tolist(),'degree':[2]}\n",
    "        clf = GridSearchCV(KernelRidge(), parameters)\n",
    "        clf = clf.fit(x,y)\n",
    "        pred = clf.predict(x_pred)\n",
    "        predicted_values[i:(i+npredictions),:] = pred\n",
    "    \n",
    "    # turn values into signals\n",
    "    signals = np.where(predicted_values > 0,1,-1)\n",
    "    \n",
    "    return signals"
   ]
  },
  {
   "cell_type": "markdown",
   "metadata": {},
   "source": [
    "# Multivariate Econometric\n",
    "   * Vector Autoregressive (VAR) -> DONE\n",
    "   * Vector error correction models (VECM)\n",
    "   * Kernel Ridge Regression (KRR)"
   ]
  },
  {
   "cell_type": "markdown",
   "metadata": {},
   "source": [
    "### Statistical tests\n",
    "   * **Granger causality** (column var causes row var) -> rejection means good candidate for MV\n",
    "       (tests the null hypothesis that the coefficients of past values in the regression equation is zero. In simpler terms, the past values of time series (X) do not cause the other series (Y))\n",
    "   * **ADF test** -> need stationarity in time series\n",
    "   * **cointegration** -> establish the presence of a statistically significant connection between two or more time series"
   ]
  },
  {
   "cell_type": "code",
   "execution_count": 424,
   "metadata": {
    "ExecuteTime": {
     "end_time": "2022-01-31T18:05:36.965645Z",
     "start_time": "2022-01-31T18:05:36.935890Z"
    }
   },
   "outputs": [],
   "source": [
    "def grangers_causation_matrix(data, variables, test='ssr_chi2test', maxlag=4):    \n",
    "    \"\"\"\n",
    "    data      : pandas dataframe containing the time series variables\n",
    "    variables : list containing names of the time series variables.\n",
    "    \"\"\"\n",
    "    df = pd.DataFrame(np.zeros((len(variables), len(variables))), columns=variables, index=variables)\n",
    "    for c in df.columns:\n",
    "        for r in df.index:\n",
    "            test_result = grangercausalitytests(data[[r, c]], maxlag=maxlag, verbose=False)\n",
    "            p_values = [round(test_result[i+1][0][test][1],4) for i in range(maxlag)]\n",
    "            min_p_value = np.min(p_values)\n",
    "            df.loc[r, c] = min_p_value\n",
    "    df.columns = [var + '_x' for var in variables]\n",
    "    df.index = [var + '_y' for var in variables]\n",
    "    return df\n",
    "\n",
    "def adfuller_test(series, signif=0.05):\n",
    "    \"\"\"Perform ADFuller to test for Stationarity of given series of returns and print report\"\"\"\n",
    "    for name, column in series.iteritems():\n",
    "        r = adfuller(column, autolag='BIC')\n",
    "        output = {'test_statistic':round(r[0], 4), 'pvalue':round(r[1], 4), 'n_lags':round(r[2], 4), 'n_obs':r[3]}\n",
    "        p_value = output['pvalue']\n",
    "        if p_value > signif:\n",
    "            print(\"series {} is non-stationary\".format(column.name))\n",
    "            \n",
    "def cointegration_test(df, alpha=0.05): \n",
    "    \"\"\"Perform Johanson's Cointegration Test and Report Summary\"\"\"\n",
    "    out = coint_johansen(df,-1,5)\n",
    "    d = {'0.90':0, '0.95':1, '0.99':2}\n",
    "    traces = out.lr1\n",
    "    cvts = out.cvt[:, d[str(1-alpha)]]\n",
    "    # print output if failed\n",
    "    for name, trace, cvt in zip(df.columns, traces, cvts):\n",
    "        if trace < cvt: print(\"column {} failed the cointegration test\".format(name))\n",
    "\n",
    "def multivariate_tests(data,alpha=0.05,maxlag=4, test = 'ssr_chi2test'):\n",
    "    \"\"\"\n",
    "    data: pandas dataframe\n",
    "    alpha: significance level\n",
    "    maxlag: maximum number of lags for granger causality test\n",
    "    test: test for granger causality\n",
    "    \n",
    "    what it does: prints failed adf and cointegration tests\n",
    "    \n",
    "    returns: granger causality matrix\n",
    "    \"\"\"\n",
    "    adfuller_test(data, signif=alpha)\n",
    "    cointegration_test(data, alpha=alpha)\n",
    "    \n",
    "    return grangers_causation_matrix(data, data.columns, test=test, maxlag=maxlag)"
   ]
  },
  {
   "cell_type": "markdown",
   "metadata": {},
   "source": [
    "### VAR model\n",
    "still requires some code optimisation"
   ]
  },
  {
   "cell_type": "code",
   "execution_count": 431,
   "metadata": {
    "ExecuteTime": {
     "end_time": "2022-01-31T18:08:09.770602Z",
     "start_time": "2022-01-31T18:08:09.759589Z"
    }
   },
   "outputs": [],
   "source": [
    "def var(df, window=30,maxlag=3,npredictions=5):\n",
    "    \n",
    "    n = len(df)\n",
    "    # initiate forecasts dataframe\n",
    "    forecasts = np.zeros((n+npredictions,df.shape[1])) \n",
    "    \n",
    "    # rolling window approach\n",
    "    for i in range(window,n,npredictions):\n",
    "        if i % 250 == 0: print('{}% done'.format(round(i/(n-30)*100)),end=\"\\r\")\n",
    "        bic_list = []\n",
    "        series = df.iloc[(i-window):i,:]\n",
    "        model = VAR(series)\n",
    "        \n",
    "        # optimal lags and fitting\n",
    "        for j in np.arange(0,maxlag+1,1):\n",
    "            try:\n",
    "                result = model.fit(j)\n",
    "                bic_list.append(result.bic)\n",
    "            except:\n",
    "                print(\"cannot deal with lag of {}, restarting with maxlag of {}\".format(j,maxlag-1))\n",
    "                if maxlag == 0:\n",
    "                    print(\"window size too small relative to number of assets, please restart\")\n",
    "                    return 0\n",
    "                else:\n",
    "                    return var(df, window, maxlag-1)\n",
    "        \n",
    "        # final check\n",
    "        if len(bic_list) == 1:\n",
    "                print(\"window size too small relative to number of assets, please restart\")\n",
    "                return 0   \n",
    "            \n",
    "        nbr_lags = bic_list.index(min(bic_list)) + 1\n",
    "        model_fitted = model.fit(nbr_lags)\n",
    "\n",
    "        forecast_input = series.values[-nbr_lags:]\n",
    "        \n",
    "        fc = model_fitted.forecast(y=forecast_input, steps=npredictions)\n",
    "        forecasts[i:(i+npredictions),:] = fc\n",
    "        \n",
    "    signals = np.where(forecasts > 0,1,-1)\n",
    "\n",
    "                \n",
    "    return signals"
   ]
  },
  {
   "cell_type": "markdown",
   "metadata": {},
   "source": [
    "# NN-based methodologies\n",
    "   * LSTM\n",
    "   * CNN\n",
    "   * prophet (Facebook)\n",
    "   * other?"
   ]
  },
  {
   "cell_type": "code",
   "execution_count": null,
   "metadata": {},
   "outputs": [],
   "source": []
  },
  {
   "cell_type": "markdown",
   "metadata": {},
   "source": [
    "# (initial) Testing the strategies\n",
    "\n",
    "Conclusions:\n",
    "   * standard MACD, mean reversion and VAR are bad strategies, all beaten by long only\n",
    "   * KRR performs very well on average"
   ]
  },
  {
   "cell_type": "code",
   "execution_count": 432,
   "metadata": {
    "ExecuteTime": {
     "end_time": "2022-01-31T18:08:11.332181Z",
     "start_time": "2022-01-31T18:08:11.319710Z"
    }
   },
   "outputs": [],
   "source": [
    "# performance evaluation\n",
    "def pnl(data,signals):\n",
    "    d = np.array(data)\n",
    "    s = np.array(signals)\n",
    "    return (1 + pd.DataFrame(np.multiply(d,s), index=data.index)).cumprod()"
   ]
  },
  {
   "cell_type": "code",
   "execution_count": null,
   "metadata": {
    "ExecuteTime": {
     "start_time": "2022-01-31T18:16:28.240Z"
    }
   },
   "outputs": [
    {
     "name": "stdout",
     "output_type": "stream",
     "text": [
      "macd done\n",
      "mean reversion done\n",
      "36 % done\r"
     ]
    }
   ],
   "source": [
    "stocks = data\n",
    "# 1. test macd\n",
    "macd_multiple = macd_signals(stocks,26,12,9)\n",
    "print(\"macd done\")\n",
    "# 2. test mean reversion\n",
    "#m_r = reversion_signals(stocks)\n",
    "print(\"mean reversion done\")\n",
    "# 3. test krr univariate\n",
    "krr_univ = krr_signals_univ(stocks)\n",
    "print(\"krr univariate done\")\n",
    "# 4. test krr multivariate\n",
    "krr_mv = krr_signals_mv(stocks)\n",
    "print(\"krr multivariate done\")\n",
    "# 5. test VAR -> cannot deal with very high dimensions\n",
    "var_s = var(stocks.iloc[:,:5],window = 30,maxlag=3,npredictions=5)"
   ]
  },
  {
   "cell_type": "code",
   "execution_count": 452,
   "metadata": {
    "ExecuteTime": {
     "end_time": "2022-01-31T18:14:02.751630Z",
     "start_time": "2022-01-31T18:14:02.661816Z"
    }
   },
   "outputs": [],
   "source": [
    "macd_perf = pnl(stocks,macd_multiple)\n",
    "m_r_perf = pnl(stocks,m_r)\n",
    "krr_perf = pnl(stocks,krr_mv[:-5,:])\n",
    "var_perf = pnl(stocks.iloc[:,:5],var_s[:-5,:])\n",
    "\n",
    "# skip first 30 days -> window size\n",
    "macd_perf = macd_perf.iloc[30:,:]\n",
    "m_r_perf = m_r_perf.iloc[30:,:]\n",
    "krr_perf = krr_perf.iloc[30:,:]\n",
    "var_perf = var_perf.iloc[30:,:]\n",
    "long_only = (1+stocks.iloc[30:,:]).cumprod()"
   ]
  },
  {
   "cell_type": "code",
   "execution_count": 453,
   "metadata": {
    "ExecuteTime": {
     "end_time": "2022-01-31T18:14:03.557186Z",
     "start_time": "2022-01-31T18:14:03.232861Z"
    }
   },
   "outputs": [
    {
     "data": {
      "application/vnd.jupyter.widget-view+json": {
       "model_id": "aa22295d4c684377b71acaac8010294e",
       "version_major": 2,
       "version_minor": 0
      },
      "image/png": "[encoded data removed]",
      "text/html": [
       "\n",
       "            <div style=\"display: inline-block;\">\n",
       "                <div class=\"jupyter-widgets widget-label\" style=\"text-align: center;\">\n",
       "                    Figure\n",
       "                </div>\n",
       "                <img src='data:image/png;base64,iVBORw0KGgoAAAANSUhEUgAAAoAAAAHgCAYAAAA10dzkAAAABHNCSVQICAgIfAhkiAAAAAlwSFlzAAAPYQAAD2EBqD+naQAAADh0RVh0U29mdHdhcmUAbWF0cGxvdGxpYiB2ZXJzaW9uMy4xLjMsIGh0dHA6Ly9tYXRwbG90bGliLm9yZy+AADFEAAAgAElEQVR4nOzdeXhTVcIG8DdN2nQvtEBLoVB2lX1TQQSE0kplEwcGRGT73Fi0IoKIaGEQBFEYcERUBJVhqqPgoLK0yC4iUkBZHEBkldbiCA2FNkmT+/0RkmZt0/bm3jT3/T1PnyQnN+eenC55e+6556oEQRBARERERIoRJHcDiIiIiEhaDIBERERECsMASERERKQwDIBERERECsMASERERKQwDIBERERECsMASERERKQwDIBERERECsMASERERKQwDIBERERECsMASERERKQwDIBERERECsMASERERKQwDIBERERECsMASERERKQwDIBERERECsMASERERKQwDIBERERECsMASERERKQwDIBERERECsMASERERKQwDIBERERECsMASERERKQwDIBERERECsMASERERKQwDIBERERECsMASERERKQwDIBERERECsMASERERKQwDIBERERECsMASERERKQwDIBERERECsMASERERKQwDIBERERECsMASERERKQwDIBERERECsMASERERKQwDIBERERECsMASERERKQwDIBERERECsMASERERKQwDIBERERECsMASERERKQwDIBERERECsMASERERKQwDIBERERECsMASERERKQwDIBERERECsMASERERKQwDIBERERECsMASERERKQwDIBERERECsMASERERKQwDIBERERECsMASERERKQwDIBERERECqORuwE1mdlsxuXLlxEVFQWVSiV3c4iIiMgLgiDg+vXrSExMRFCQMsfCGACr4fLly0hKSpK7GURERFQFFy9eRMOGDeVuhiwYAKshKioKgOUHKDo6utr1GY1GZGdnIzU1FcHBwdWujzxjX0uD/Swd9rV02NfS8VVf63Q6JCUl2T7HlYgBsBqsh32jo6NFC4Dh4eGIjo7mHxUfY19Lg/0sHfa1dNjX0vF1Xyt5+pYyD3wTERERKRgDIBEREZHCMAASERERKQznAPqYIAgoLS2FyWSqcFuj0QiNRoOSkhKvtqeqC9S+VqvV0Gg0ip7XQkREFWMA9CGDwYC8vDzcvHnTq+0FQUBCQgIuXrzID3AfC+S+Dg8PR/369RESEiJ3U4iIyE8xAPqI2WzG2bNnoVarkZiYiJCQkAqDhtlsRlFRESIjIxW7MKVUArGvBUGAwWDAlStXcPbsWbRo0SJg3hsREYmLAdBHDAYDzGYzkpKSEB4e7tVrzGYzDAYDQkND+cHtY4Ha12FhYQgODsb58+dt74+IiMhZ4Hzy+alAChdUM/BnjoiIKsJPCiIiIiKFYQAkv6VSqfDFF1/I3QwiIqKAwwBIREREpDAMgEREREQKwwBILnr37o0pU6YgIyMDtWvXRnx8PN59913cuHED48aNQ1RUFJo1a4bNmzcDAEwmEyZMmIAmTZogLCwMrVq1wt///neXej/44AO0bt0aWq0W9evXx+TJk23PnT59Gj179kRoaCjuuOMO5OTkSPZ+iYgCkdkMzJkDZGfL3RLyRwEbAEtLS/HSSy/ZQknTpk0xd+5cmM1m2zaCICAzMxOJiYkICwtD7969cfz4cd81ShCAGzek/xKESjf1ww8/RJ06dXDgwAFMmTIFTz31FIYNG4bu3bvj0KFDSEtLw+jRo3Hz5k2YzWY0bNgQn376KU6cOIGXX34ZL774Ij799FNbfStWrMCkSZPw+OOP4+jRo9i4cSOaN28OwLIky9ChQ6FWq7F//3688847mDFjhmjdTkSkROvWAZmZQFqa3C0hvyQEqHnz5glxcXHCV199JZw9e1b497//LURGRgpLly61bfPaa68JUVFRwueffy4cPXpU+Otf/yrUr19f0Ol0Xu2jsLBQACAUFha6PFdcXCycOHFCKC4uLissKhIESxyT9quoqFJ916tXL6FHjx62x6WlpUJERIQwevRoW1leXp4AQPjuu+/c1jFx4kThoYcesj1OTEwUZs2a5XbbrVu3Cmq1Wrh48aKtbPPmzQIAYcOGDZVqu7dMJpNw9epVwWQy+aR+Obn92ZOJwWAQvvjiC8FgMMjdlIDHvpZOTejrkhLHj4Gayld9Xd7nt1IE7ELQ3333HQYPHowHHngAAJCcnIx//etfOHjwIADL6N/SpUsxa9YsDB06FIBl1Cs+Ph7r1q3DE088IVvb/UG7du1s99VqNeLi4tC2bVtbWXx8PACgoKAAAPDOO+/g/fffx/nz51FcXAyDwYAOHTrYtrl8+TL69u3rdl8///wzGjVqhIYNG9rKunXrJvp7IiJSihMn5G4B+buAPQTco0cPfPPNNzh16hQA4Mcff8TevXuRnp4OADh79izy8/ORmppqe41Wq0WvXr2wb98+3zQqPBwoKvL4ZdbpcO3SJZh1unK3q/SXl1cisRccHOzwWKVSOZRZL2tnNpvx6aef4tlnn8X48eORnZ2NI0eOYNy4cTAYDAAsV6coj+DmEHWgXZ+XiEhKzhcBqsJMIApwATsCOGPGDBQWFuK2226DWq2GyWTCq6++ipEjRwIA8vPzAZSNZFnFx8fj/PnzbuvU6/XQ6/W2xzqdDgBgNBphNBodtjUajRAEAWaz2WHeIcoJQ4IgACYThPBwmMUMQNajAJV6ieDYbg9lZrMZu3fvRvfu3fHkk0/ays+cOWN7PiIiAsnJydi2bRt69erlsq/bbrsNFy5cwKVLl5CYmAgA+Pbbb22vd96nGKyh0917qunMZjMEQYDRaIRarZa1LdbfC+ffDxIf+1o6NaGvLRcEKvun/fp1Y3kfP37LV33tz987qQRsAPzkk0+wdu1arFu3Dq1bt8aRI0eQkZGBxMREjBkzxrad80iTIAgeR58WLFiAOXPmuJRnZ2e7XO9Xo9EgISEBRUVFtpEwb12/fr1S24uttLQUBoPBFnABS6goKSlxKAOA4uJiNGzYEB999BE2bNiAxo0b45NPPsGBAwfQuHFj2/bTp0/H1KlTER0djZSUFBQVFeH777/H448/jjvvvBMtWrTAI488gr/97W+4fv06Zs2aZavfeZ9ikruvfcFgMKC4uBi7d+9GaWmp3M0BAJ7VLSH2tXT8ua+vXAkDUHaEa9OmbISF+cffg6oQu69v3rwpan01UcAGwOeffx4vvPACRowYAQBo27Ytzp8/jwULFmDMmDFISEgAYBkJrF+/vu11BQUFLqOCVjNnzsTUqVNtj3U6HZKSkpCamoro6GiHbUtKSnDx4kVERkYi1Hks3gNBEHD9+nVERUXJeghUo9EgJCTE4T0FBQUhNDTU5X2GhYXhmWeewX//+19MmDABKpUKI0aMwMSJE7Flyxbb9tY5lX//+98xe/Zs1KlTBw899JDt+Q0bNuCxxx5DSkoKkpOTsXTpUqSnpyMsLMxln2Lwl772hZKSEoSFhdmW1ZGT0WhETk4O+vXr5zKtgMTFvpZOTehr5wNZffumolYtedpSHb7qa18OLNQUARsAb968iaAgxymOarXadrivSZMmSEhIQE5ODjp27AjAMnKya9cuLFy40G2dWq0WWq3WpTw4ONjlB9NkMkGlUiEoKMilHZ5Y22Z9nVx27tzpUnbu3DmXMvu5e2vWrHF5/rXXXnN4/NRTT+Gpp55yu8/bbrsNe/bs8Vi/2Pylr30hKCjINmfTXz6c/KktgY59LR1/7uurVx0fBwUFw0+b6hWx+9pfv29SCtgAOHDgQLz66qto1KgRWrdujcOHD+PNN9/E+PHjAVg++DMyMjB//ny0aNECLVq0wPz58xEeHo6HH35Y5tYTERFVndP/3zCZ5GkH+a+ADYDLly/H7NmzMXHiRBQUFCAxMRFPPPEEXn75Zds206dPR3FxMSZOnIirV6/irrvuQnZ2NqKiomRsORERUfU4T3FjACRnARsAo6KisHTpUixdutTjNiqVCpmZmcjMzJSuYURERD7mHPi4DAw5C6zJT0RERATnBQAYAMkZAyAREVGAuXzZ8TEDIDljACQiIgowf/7p+JgBkJwxABIREQWYK1fkbgH5OwZAIiKiAMcRQHLGAEhERBTgGADJGQMguejduzcyMjLkbgYREYmEAZCcMQASEREFmAYN5G4B+TsGQKoWg8FQqXIiIvK9pk0dH3MEkJwxAFKFtmzZgpiYGHz00UcYO3YshgwZggULFiAxMREtW7YEACQnJ2PevHkYO3YsYmJi8Nhjj8ncaiIi5SopcXzMAEjOAvZScP5IEFyvz2jPbAZu3ADUaiBIxGgeHg6oVFV7bVZWFh5//HF8/PHHGDx4MLZv345vvvkG0dHRyMnJgWD3V+X111/H7Nmz8dJLL4nUciIiqorCQsfHDIDkjAFQQjdvApGR5W0RBKCW6PstKgIiIir/urfffhsvvvgi/vOf/+C+++6zlUdEROD9999HSEiIw/Z9+vTBtGnTqttcIiKqpmvX5G4B+TsGQHLr888/x++//469e/fizjvvdHiubdu2LuEPALp06SJV84iIqBw6neNjjgCSMwZACYWHW0bjPDGbzdDpdIiOjkaQiMeAw8Mr/5oOHTrg0KFDWL16Nbp27QqV3THkCA/DiZ7KiYhIWiaT4+Njx4DmzeVpC/knBkAJqVTlH4o1my2/tBER4s4BrIpmzZrhjTfeQO/evaFWq/HWW2/J2yAiIvKa2ez4ePNmYMgQedpC/okBkDxq2bIlduzYgd69e0Oj0WDp0qVyN4mIiLzgHACdHxMxAFK5WrVqhe3bt9tGAomIyL+Zza5z/pwPCRMxAJKLnTt3Ojy+/fbb8fvvv5f7mnPnzvmuQURE5DV3M3Y4AkjOuBA0ERFRAHnmGdcyBkByxgBIREQU4BgAyRkDIBERUYBr107uFpC/YQAkIiIKIPXrl92vV89y27ixPG0h/8UASEREFECKi8vut2hhuS0tlact5L8YAImIiAKIfQAMC7PcMgCSMwZAIiKiAGIwlN3Xai23vloHcO9eYPx44H//80395DtcB5CIiCiANGsG/PIL0Lo1oLn1Ke+rEcB77y27/8EHvtkH+QZHAImIiAKIdQTwgw88B8DSUuCFF4BvvhFnn7wWQM3DAEgkkXPnzkGlUuHIkSNyN4WIApheb7nVaj0HwCeeABYuBFJSxNlncLA49ZB0eAiYSCJJSUnIy8tDnTp15G4KEQWwigLga685Hq69cgWoW7d6+ywpqd7rSXocAaSAYjQa/XbfarUaCQkJ0Gj4fxcR+Y67AGh/EsjMmY7bX7lS/X3u3g0IQvXrIekwAJKD3r17Y8qUKcjIyEDt2rURHx+Pd999Fzdu3MC4ceMQFRWFZs2aYfPmzQ6vO3HiBNLT0xEZGYn4+HiMHj0af/zxh+35LVu2oEePHqhVqxbi4uIwYMAAnDlzxva89fDo+vXrcd999yE8PBzt27fHd999V257VSoV3nnnHQwePBgRERGYN29ehe1ZuXIlkpKSYHa6NtKgQYMwZswY2+Mvv/wSnTt3RmhoKJo2bYo5c+ag1O7faHf7vnr1KkaNGoW6desiLCwMLVq0wOrVqx3eo/0h4F27duHOO++EVqtF/fr18cILLzjso3fv3nj66acxffp0xMbGIiEhAZmZmeX2CREplyCUjcY5jwCWlgI9erh/jRh4ubmaJWADYHJyMlQqlcvXpEmTAAB6vR5TpkxBnTp1EBERgUGDBuHSpUs+bZMgCLhhuFH+l7GC56vwJVTyt/vDDz9EnTp1cODAAUyZMgVPPfUUhg0bhu7du+PQoUNIS0vD6NGjcfPmTQBAXl4eevXqhQ4dOuDgwYPYsmULfv/9dwwfPtxW540bNzB16lT88MMP+OabbxAUFIQHH3zQJYTNmjUL06ZNw5EjR9CyZUuMHDnSIRC588orr2Dw4ME4evQoxo8fX2F7hg0bhj/++AN79uyx1XH16lVs3boVo0aNAgBs3boVjzzyCJ5++mmcOHECK1euxJo1a/Dqq6+Wu+/Zs2fjxIkT2Lx5M37++WesWLHC4yHf3377Denp6ejatSt+/PFHrFixAqtWrbKFWPvvR0REBL7//nssWrQIc+fORU5OTrl9QkTKVFpaFui0WkCtLivfsQP49lvX13DkTqGEAFVQUCDk5eXZvnJycgQAwo4dOwRBEIQnn3xSaNCggZCTkyMcOnRIuO+++4T27dsLpaWlXu+jsLBQACAUFha6PFdcXCycOHFCKC4utpUV6YsEZELyryJ9kdfvqVevXkKPHj1sj0tLS4WIiAhh9OjRtrK8vDwBgPDdd98JgiAIs2fPFlJTUx3quXjxogBAOHnypNv9FBQUCACEo0ePCoIgCGfPnhUACO+//75tm+PHjwsAhJ9//tljewEIGRkZDmXetGfgwIHCI488IphMJkEQBGHlypVCQkKC7ft/7733CvPnz3eo4+OPPxbq169f7r4HDhwojBs3zm1bre/x8OHDgiAIwosvvii0atVKMJvNtm3+8Y9/CJGRkbZ2OX8/BEEQunbtKsyYMcNjn7j72ZOLwWAQvvjiC8FgMMjdlIDHvpaOP/d1UZEgWCKdIOh0gjBxouX+yy8Lwueflz1n/3Xrz3CV2NdjNIr3Pqx81dflfX4rRcCOANatWxcJCQm2r6+++grNmjVDr169UFhYiFWrVuGNN95ASkoKOnbsiLVr1+Lo0aPYtm2b3E2XXTu7q4ar1WrExcWhbdu2trL4+HgAQEFBAQAgNzcXO3bsQGRkpO3rtttuAwDbYd4zZ87g4YcfRtOmTREdHY0mTZoAAC5cuOBx3/VvXdDSuh9PunTp4vDYm/Y8/PDD2LhxI/S3Jsv885//xIgRI6C+9e9ybm4u5s6d61DHY489hry8PNvIp7t9P/XUU8jKykKHDh0wffp07Nu3z2O7f/75Z3Tr1g0qlcpWds8996CoqMhhNLqd01Xc69evX2GfEJHyXLoE9O1b9jgkpOwQ8LFjjlcIsXf4sDj750hizaKI2egGgwFr167F1KlToVKpkJubC6PRiNTUVNs2iYmJaNOmDfbt24e0tDS39ej1eltgAACdTgfAMvnf+QQAo9EIQRBgNptthzlD1aHQzdB5bKcgCLhedB1RkVEOoaC6QtWhLoday6PRaBy2V6lULmUAUFpaCrPZDJPJhAEDBuC1115zqat+/fowm80YOHAgGjZsiJUrVyIxMRFmsxnt2rVDSUmJQx+p1WrbfeHWXxPrfjwJCwtzeN6b9gwYMACCIODrr79G165dsWfPHixevNhWj9lsRmZmJh588EGXOkJCQmzbOe87LS0NZ8+exddff41vvvkGffv2xcSJE/H666871G3/np3bbn3v1nJ3fW8ymTz2idlshiAIMBqNtkArF+vvhZwn5ygF+1o6/trXf/tbEL7/3v533gijMQiAGuvXA/feawLg+jfh0UeBESOq+l7K1n8xGMTvD1/1tb997+SgiAD4xRdf4Nq1axg7diwAID8/HyEhIahdu7bDdvHx8cjPz/dYz4IFCzBnzhyX8uzsbISHhzuUaTQaJCQkoKioCAb76/JUICI4Ama9uDNpr5dc93rb0tJSGAwGW7gFLIGipKTEoQwAiouLodPp0Lp1a3z55ZeIjY11OcPVZDLh3Llz+Pnnn7F48WJ07doVAGwnd1jrKCoqAmCZK2jdz/XrlnbfvHnTZd/u2mFVUXus2w4YMAAfffQRjh8/jubNm6NFixa259q1a4djx47hiSeecNmfta3u9g0AWq0WQ4cOxdChQ9GlSxe88sormD17tst7bNasGb788ksUFhbaAv/27dsRFRWFqKgo6HQ6t9+P0tJSGI1Gj31iMBhQXFyM3bt3Vzh/Uiqcsygd9rV0/K2vv/++G4B6AAC12owtWzbhzJn2AJIBAHv3ngHQ0u1rN23aVMW9Drbd27x5C4KDfXMmiNh9bX8kR6kUEQBXrVqF/v37IzExsdztBEEod+Rt5syZmDp1qu2xTqdDUlISUlNTER0d7bBtSUkJLl68iMjISISGhnrVTkEQcP36dURFiTsCWBkajQYhISEO7ycoKAihoaEu7zEsLAzR0dF49tln8fHHH+PJJ5/EtGnTUKdOHfzyyy/45JNP8O677yIyMhJxcXFYt24dmjdvjgsXLuCVV15xqCMyMhIAEBERYduPdYQrPDzcZd/u2mFVUXvUajUEQcCwYcMwcuRInDp1CqNHj3aoIzMzE4MGDULTpk3xl7/8BUFBQfjpp59w7Ngx/O1vf/O471deeQWdOnVC69atodfr8c033+D22293+x4zMjLwzjvv4KWXXsKkSZNw8uRJLFy4EM8++yxq1arl8fuh0WgQHBzssU9KSkoQFhaGnj17ev2z5ytGoxE5OTno168fgrlSrE+xr6Xjr329YoUaP/5ouR8SokJ6ejq+/rpspleLFs08vjY9Pb3a+09Lux9i/8nxVV+XN6igFAEfAM+fP49t27Zh/fr1trKEhAQYDAZcvXrVYRSwoKAA3bt391iXVquF1nplbTvBwcEuP5gmkwkqlQpBQUEICvJuqqU18FhfJxd3+3dXZn1vDRs2xLfffosZM2agf//+0Ov1aNy4Me6//35oNBqoVCpkZWXh6aefRrt27dCqVSssW7YMvXv3ttVhrdv5vnOZO87Pe9Mes9mMnj17IjY2FidPnsSoUaMc6ujfvz+++uorzJ07F6+//jqCg4Nx22234f/+7/8ctnPet1arxaxZs3Du3DmEhYXh3nvvRVZWltv3mJSUhE2bNuH5559Hx44dERsbiwkTJmD27NkOdTr3vfWMdk99EhQUBJVK5fbnUi7+1JZAx76Wjr/1tf24QUiI5W+A/SwQjcbzlBAx3oelP8oer14NhIUBI0ZUu2rR+9qfvm9yCfgAuHr1atSrVw8PPPCAraxz584IDg5GTk6ObWmQvLw8HDt2DIsWLZKrqX5h586dLmXn3FzkUXCa7duiRQuHkO0sJSUFJ06c8FhHcnKyS521atWqcAkbT89X1B7AMt/w0qVLHoNUWlqax/mgnvb90ksv4aWXXnK7vbv32KtXLxw4cMDjPtx9P7744guP2xORctn/ebHmG/tQ6OuTNOzrP3cOGD/ecj8mBujf37f7psoL6ABoNpuxevVqjBkzxmEuWExMDCZMmIDnnnsOcXFxiI2NxbRp09C2bVukiHVhRCIiIgnZB7CQEMutfQC8eNH968SacWS//zVryu6np/MMYX8U0AFw27ZtuHDhAsZb/w2xs2TJEmg0GgwfPhzFxcXo27cv1qxZI/tZk0RERFVhvzCAdQTQ/gDHRx/5dv/2Ia+c8ynJTwR0AExNTfV4iDA0NBTLly/H8uXLJW4VERGRb1lHAMW4zq+37D9u/WQBAipHwC4ETUREpCTu5gB+8knFr/PFIeBbCxmQH2MAJCIiCgDu5gB6cwauLwJg06bi1Em+wwBIREQUAOwDWEyM5dZ+ZbNbS5G68MWyszwE7P8YAImIiAKAfQC0LnFrv3St3UWMfL5/5wB4+TLwz38ClbgwFvlYQJ8EQkREpBT2Z/xa5+DVqyfd/ssLgO3aAf/7H/Dbb8D06dK1iTzjCCAREVEAsA+ALW9d8nfgwIpf16WLOPsvLwD+73+WWz+7fLKiMQCSZJKTk7F06VK5m0FEFJDsl7Ft1Mi1zJP9+8XZvzfLwERFibMvqj4GQCIiogDgeN1fafZpfwKJyWS5NRiAV15xvz0DoP9gAKQKGThrl4jI79kHQOs6gL5mP+pnDYBvveV5+7Aw37aHvMcASC569+6NyZMnY+rUqahTpw769euHwsJCPP7446hXrx6io6PRp08f/Pjjj7bXnDlzBoMHD0Z8fDwiIyPRtWtXbNu2TcZ3QUSkLPYBUIqrmjpfaMt62PeXXzy/Joipw2/wWyEhQRBgMt2Q/MvT5fDK8+GHH0Kj0eDbb7/FO++8gwceeAD5+fnYtGkTcnNz0alTJ/Tt2xd//vknAKCoqAjp6enYtm0bDh8+jLS0NAwcOBAXLlwQuxuJiMgN+9Bnf2jWm6uBVNbevcCiRY5l1hHA8jAA+g8uAyMhs/km9uzxsBKnD917bxHU6ohKvaZ58+ZYdOu3e/v27Th69CgKCgqgvbWo1OLFi/HFF1/gs88+w+OPP4727dujffv2ttfPmzcPGzZswMaNGzF58mTx3gwREbnlKQAOHw7MmQOcOOH5tadOlZ057I1773UtswbA8sYcpBiZJO8wAJJbXezWBcjNzUVRURHi4uIctikuLsaZM2cAADdu3MCcOXPw1Vdf4fLlyygtLUVxcTFHAImIJOIpAAIVzwk8eLByAdAd6yHg8gIgRwD9BwOghIKCwnHvvZ6XYjebzdDpdIiOjkaQiL8lQUHhlX5NRETZiKHZbEb9+vWxc+dOl+1q3Vpt9Pnnn8fWrVuxePFiNG/eHGFhYfjLX/7CE0iIiCRS3uhaRZd7E+MqIUZjxdswAPoPBkAJqVSqcg/FqlRmqNUmqNURogbA6urUqRPy8/Oh0WiQnJzsdps9e/Zg7NixePDBBwFY5gSeO3dOukYSESnUBx8AFy86hivnwOeL6/26a8cbb5S/DQ8B+w8GQKpQSkoKunXrhiFDhmDhwoVo1aoVLl++jE2bNmHIkCHo0qULmjdvjvXr12PgwIFQqVSYPXs2zGaz3E0nIgpoZjMwYYLlfrNmnrezW7TBLTECYna25ZZzAGsG/xlmIr+lUqmwadMm9OzZE+PHj0fLli0xYsQInDt3DvHx8QCAJUuWoHbt2ujevTsGDhyItLQ0dOrUSeaWExEFNvvDrremZANwnfMnxf/j3swBZAD0HxwBJBfu5vpFRUVh2bJlWLZsmdvXJCcnY/v27Q5lkyZNcnjMQ8JEROLS692X2y3KIBl3l3+LiQEKC8se+9HsJsXjt4KIiKiG8nSe3a2DM14T4xCwNQDaX4YuLc1xGwZA/8FvBRERUQ1VnYUW3nxTvHYAZQHw1nKxAIB69Ry3+QmdaMMAACAASURBVO03cfdJVccASEREVEO5OwT8j39491qxp2mHhlpu7UcAndcWfP99cfdJVccASEREVAOZzUDHjq7lTZt693qxT8h48knXekNCxN0HiYcBkIiIqAb67TfHEyysrCNxFRE7AIaFWW7t5/nxrF//xQBIRERUA7k76xaQLwBal5qxv2poTIy4+yDxMAASERHVQDdvui/XeLHAW5s2jiN15a3d5y2TyXJrXYOwV6+yUUEr66LVJD8GQCIiohrI0/V7nReBdqdWLccTNMRYKNoaAK11NWjgOsrIQ8L+gwGQiIioBvJ03V1vRgAFAYiOBrp3tzwWMwBab4OCXNvy7rtlz5O8GACJiIhqoH//2325NwGwfn3LbWKi5dYXI4BqtfsRv127qr8vqj4GQCIiohroiSfcl1d0FZAHHgCsV/W0zgMUMwBaRyb37XO/DMz169XfF1UfAyD5nKE6S9UTEZFbtWq5lu3a5b7cGvT+/nfgq6/KRgCtI3RiBsDff7fcnj7t/oxkzgP0DwyA5GDlypVo0KABzE5/DQYNGoQxY8bgzJkzGDx4MOLj4xEZGYmuXbti27ZtDtsmJydj3rx5GDt2LGJiYvDYY49J+RaIiBTB3TIwPXq43/aXX4A1a4BJkxzLxRwBfOUVx8fJye5PSOH1gP1DQH8bfvvtNzzyyCOIi4tDeHg4OnTogNzcXNvzgiAgMzMTiYmJCAsLQ+/evXH8+HGftUcQBBgMhnK/jEZjhdtU9kuoxPn9w4YNwx9//IEdO3bYyq5evYqtW7di1KhRKCoqQnp6OrZt24bDhw8jLS0NAwcOxIULFxzqef3119GmTRvk5uZi9uzZovUhERFZuDuZwlO4atIEGDPGdfTt2jXL7enT3u+3vI+UP/8E+ve33J89m6N9/syLqaI109WrV3HPPffgvvvuw+bNm1GvXj2cOXMGtezGxhctWoQ333wTa9asQcuWLTFv3jz069cPJ0+eRFRUlOhtMhqNWLBggej1VmTmzJkI8fJ6PLGxsbj//vuxbt069O3bFwDw73//G7Gxsejbty/UajXat29v237evHnYsGEDNm7ciMmTJ9vK+/Tpg2nTpon7RoiIyMbTQtCV8fXXltsVK4C33/buNeUFwE8+cVwP0N0JKQcPAosXA6+9Btx5Z+XaS+IJ2AC4cOFCJCUlYfXq1bay5ORk231BELB06VLMmjULQ4cOBQB8+OGHiI+Px7p16/CEp9m1CjBq1Cg8/vjjePvtt6HVavHPf/4TI0aMgFqtxo0bNzBnzhx89dVXuHz5MkpLS1FcXOwyAtilSxeZWk9EFNiOHAE2bvS8DqCvlXe4WBDKgqlG434E0Hqo+O67xTn0TFUTsAFw48aNSEtLw7Bhw7Br1y40aNAAEydOtM1HO3v2LPLz85Gammp7jVarRa9evbBv3z63AVCv10Ov19se63Q6AJaRPaPR6LCt0WiEIAgwm822+XRqtRozZszw2GZBEFBUVITIyEioVKqqv3knarXaZU5feR544AGYzWZ8+eWX6Nq1K/bs2YPFixfDbDZj2rRpyM7OxqJFi9C8eXOEhYVh+PDh0Ov1DvsIDw+v1D6lZj0sbv0eBRKz2QxBEGA0GqGW+fiL9ffC+feDxMe+lo7cfd2xo+eVnivfprK6vH2t5by+stdlZJiwdKnlb41KVQqjMQiWGWalMJsFh23tCULF+/RVX/P3JIAD4K+//ooVK1Zg6tSpePHFF3HgwAE8/fTT0Gq1ePTRR5Gfnw8AiHc6Xz4+Ph7nz593W+eCBQswZ84cl/Ls7GyEh4c7lGk0GiQkJKCoqKhSZ8EGBwc7hEwxlJSUVPo1AwYMwEcffYTjx4+jefPmaNGiBXQ6HXbt2oURI0bYDg8XFRXh7Nmz6Natmy0Qm81mlJSU2B77s+sBuB6BwWBAcXExdu/ejVIxjhGJICcnR+4mKAb7Wjry9fVgj89s2rSpynV5+1pLwBtoe5yXdxrAbQCAn38+iitXGgGIw08/HUJR0TUAqe6qqdQ+xe7rm56uo6cgARsAzWYzunTpgvnz5wMAOnbsiOPHj2PFihV49NFHbds5j7QJguBx9G3mzJmYOnWq7bFOp0NSUhJSU1MRHR3tsG1JSQkuXryIyMhIhHp5ZW5BEHD9+nVERUWJOgJYFWPGjMHgwYNx6tQpjB492vb+WrZsiU2bNuGhhx6CSqXCyy+/DEEQEBISYtsmKCgIoaGhLn3iT/ypr8VWUlKCsLAw9OzZ0+ufPV8xGo3IyclBv379EOzN9amoytjX0vHXvm7SREB6enqlXvPSSybMm6dGVJT3ry0udn5cdk25jh3bYv9+y5kod97ZCR06lH8SYkX79FVf14QBCl8L2ABYv3593HHHHQ5lt99+Oz7//HMAQEJCAgAgPz8f9a0LIgEoKChwGRW00mq10Gq1LuXBwcEuP5gmkwkqlQpBQUEI8vKcd+uhSOvr5JSSkoLY2FicPHkSo0aNsrVn6dKlGD9+PHr06IE6depgxowZuH79ukub/eE9lMef+lpsQUFBUKlUbn8u5eJPbQl07Gvp+Ftfd+6sqnR7eva03DZp4v1rnQ9qnTxZ9jc0NFRjOwkkNFTjdh1Ae97uU+y+9qfvm1wCNgDec889OHnypEPZqVOn0LhxYwBAkyZNkJCQgJycHHTs2BGA5dDZrl27sHDhQsnb62/UajUuX77sUp6cnIzt27c7lE1yWljq3LlzvmwaERG5UZWDGdazdCszW8T5LOC+fQHrx61GU/FJIOQfAmvow86zzz6L/fv3Y/78+fjll1+wbt06vPvuu7awolKpkJGRgfnz52PDhg04duwYxo4di/DwcDz88MMyt56IiKhyqnIwwzoQVpkA6Hze3F13OdbHAFgzBOwIYNeuXbFhwwbMnDkTc+fORZMmTbB06VKMGjXKts306dNRXFyMiRMn4urVq7jrrruQnZ3tkzUAiYiIfMnu481rYowA2gdCjgDWHAEbAAHLmawDBgzw+LxKpUJmZiYyMzOlaxQREZGIli2zzOVr167yr61KAHRmf0WSoCAGwJoioAMgERFRoKtVC7C7QFOlWANgZZbFK28EUKdjAKwpGACJiIhqsOqc0CrGCKB9IBw50rFuBkD/FbAngfiLQLvKBPk//swRKUt1AqD1tVeuAN6ujew8AmhdSsaZRuN4LeDBntevJhlwBNBHQkJCEBQUhMuXL6Nu3boICQmpcMFhs9kMg8GAkpKSgFubzt8EYl8LggCDwYArV64gKCgIISEhcjeJiCRQnV91+4D25pvASy9Vvo6ICM912/951bhJHIJQteVrqPoYAH0kKCgITZo0QV5entv19NwRBAHFxcUICwsLuKtT+JtA7uvw8HA0atQoYIItEZVPjEPAAHDrCqkVch4B9PQnVKNxfM7dVUlNJvfBkHyP3e5DISEhaNSoEUpLS2GyP03KA6PRiN27d6Nnz55cpdzHArWv1Wo1NBpNwIVaIvJMrABY1T8b5QVAe19/7boNZ6zIhwHQxypzSS61Wo3S0lKEhoYGVCjxR+xrIgoU1fkTZn+ptqqGMbMZePBBYMMGx3LnADhuHLB6tWOZF2Mj5CM8RkRERFSDVScAhoeX3Xd3iNYd50PAJpP7q5A4B8B69Vy34QigfBgAiYiIajCxRgCLi6tWh8nk/jCwcwBs0cL9a0kePARMRERUg7RtCxw9Wva4OgHQPrh5GwCdRwBLS8sfAdy7F/jtNyA52XUbjgDKhwGQiIioBnEOamJNY05IKP95QbCM2On1juVmc/kjgPfcY7nNzXXdhiOA8uEhYCIiohrEecFmsQLgqVPlP/+XvwC1awMNGzqWJyZ6NwfQ3TYcAZQPRwCJiIhqEF8FwO3by39+/XrXsv/+F4iJ8W4OoLvLwjEAyocjgERERDWIrw4BV0WrVpZb53mBgGvgczcCyEPA8mEAJCIiqiF0Otc5eNUNgNOnW24HDvS8jbuAZ89odC1zDnwcAfQvDIBEREQ1xKJFrmXVDYDNmllu3QU0ADh8GHjoofLrMBgq3o+7EcDS0opfR77BOYBEREQ1xJkzrmUhIdWr0/p6TyGuU6eK6/AmyGm1rmU8BCwfjgASERHVEF27upZVdwSwogDoif2JH86HgJctc90+Nta1jAFQPgyARERENYS7kCZmAMzKsoz4uRtpLI99AGzaFJgyxXWbqCjXsm+/rdx+SDwMgERERDWETme5jY4uK3O3BEtlWAOgXg+MHGmZ8zd+fMWvsz8xxD4A/vqr++3dtdOb/ZBvMAASERHVENYlYCIixKvTOoL4/fdlZbm5FZ/5a89+ZPL22z1v9+qrlWsb+Q4DIBERUQ1hDVqhoeLV6bxgMwDcuAH06uV9CLQfAXz+ec/bPf008M9/Vq595BsMgERERDWEdQ1Ad2fUVpWnOYR79gAnT3pXh30AHDvW83aRkcDDD3vdNPIhBkAiIqIa4rPPLLfNm4tXp7sRQKu0NO/qsA+A1Z2TSNLgOoBEREQ1RGGh5TY3F1i7tmwR5+oo7yziCxe8q4NX9Kh5GACJiIhqmD//BEaNEqcuMa4lXJkTRsg/8BAwERFRDRMZKV5d5R0C9hYDYM3DAEhERFQD/PJL2f0FC8SrV4wRQKp5GACJiIhqgCNHyu736ydevRwBVCYGQCIiohqgtLTsvvXqHWLgHEBlCtgAmJmZCZVK5fCVkJBge14QBGRmZiIxMRFhYWHo3bs3jh8/LmOLiYiIPLMPgGq1ePXKMQK4a5fltkGD6u+bqiZgAyAAtG7dGnl5ebavo0eP2p5btGgR3nzzTbz11lv44YcfkJCQgH79+uH69esytpiIiMg9+8utiRHarOQYAbRey9hkqv6+qWoCOgBqNBokJCTYvurWrQvAMvq3dOlSzJo1C0OHDkWbNm3w4Ycf4ubNm1i3bp3MrSYiInJlvQoIIP0IYP365T9f2QBobT/XD5RPQAfA06dPIzExEU2aNMGIESPw66+/AgDOnj2L/Px8pKam2rbVarXo1asX9u3bJ1dziYiIPPJVAPRGcDCwcqXn56saADkCKJ+AXQj6rrvuwkcffYSWLVvi999/x7x589C9e3ccP34c+fn5AID4+HiH18THx+P8+fMe69Tr9dDb/QbqdDoAgNFohNH+OjhVZK1DjLqofOxrabCfpcO+lo5cfV1cHATAkpzMZiPE2n1UFACUfxz4wgXAbC6Fc2yw9oEgaACoHMrKYwl+wTCZBBiNpR6381Vf8/ckgANg//79bffbtm2Lbt26oVmzZvjwww9x9913AwBUThcsFATBpczeggULMGfOHJfy7OxshIeHi9RyICcnR7S6qHzsa2mwn6XDvpaO1H19/HhLALcDALKztyAkRMzjp4Mr3OLYsaMAOjqUbdq0CQBQXJwKIMyhrDyXL0cASIFeX+p2e6MxCMOGDURkpICPPhK/r2/evClqfTVRwAZAZxEREWjbti1Onz6NIUOGAADy8/NR325iQ0FBgcuooL2ZM2di6tSptsc6nQ5JSUlITU1FtHVGazUYjUbk5OSgX79+CObKnD7FvpYG+1k67GvpyNXXBw+WzdpKT79f5KVgBBiNngdAAKB9+7YOj8eONSM9PR0AoNWWxQlrWXluzchCUJDG7fYbNljaUlQUglOnamPKlC6i9rX1CJ6SKSYA6vV6/Pzzz7j33nvRpEkTJCQkICcnBx07Wv6bMRgM2LVrFxYuXOixDq1WC61W61IeHBws6g+m2PWRZ+xrabCfpcO+lo7UfW0/X06rDRb1TOBPPgGGDi1/m+Bgxx2GhAQhONgSSu3nAHrTJ6GhlluTSeV2e+vzAGA2q3zyOat0ARsAp02bhoEDB6JRo0YoKCjAvHnzoNPpMGbMGKhUKmRkZGD+/Plo0aIFWrRogfnz5yM8PBwPP/yw3E0nIiJyYT9tLUjkUzhbtiz/eY0GcJ4hZX8iSmVPArG239NJIPZrHhqNEp/xohABGwAvXbqEkSNH4o8//kDdunVx9913Y//+/WjcuDEAYPr06SguLsbEiRNx9epV3HXXXcjOzkaUZTYsERGRX7EPgOVMV6+S1q2BefMsJ4Q884zr86GhrqGzOiG0omVg7Nc81OsZAH0hYANgVlZWuc+rVCpkZmYiMzNTmgYRERFVg30oEjsAAsCsWZalZqwB8K23gMmTLfeDglz3+eOPZffFXgbGPuwyAPpGQK8DSEREFCjq1fP9Puynxg0aVHY/KMh1xG/v3rL7VQ2AgPtRQAZA3wvYEUAiIqJAcutiVrg1k8kngoKA998HdDogKamsXKUqf9QxOhq4cqVy+7EymVzDpf1op8HAAOgLDIBEREQ1gHWU7c47fbufCRNcy1Sq8uf8ffYZ8MgjwPz53u2DI4DyYwAkIiKqAawB0Bfz/yoSGem6X/up9h06AMeOeV+ffQB0Nw+QJ4H4HucAEhER1QDWACj2EjDeiItzDYDVORRdUQC0HwG8/fb/VX1H5BEDIBERUQ1gPVQq5QhgWprldto01+BZnYWonecAOrMGwMceM6F9+z+qviPyiAGQiIioBpDjEPAXX1iWexk50nW/d9xR9XormgNoPQTMC3b4DucAEhER1QByBMDQUKBdO8t9+1G7qVOB8PCq11vRIeBXX7Xc1q5d9X1Q+fxyBPDatWt4//33MXPmTPz5558AgEOHDuG3336TuWVERETysI6UyTEHEHAMnpGR1a/LWp+7AGgNfmJe75gc+V0A/Omnn9CyZUssXLgQixcvxrVr1wAAGzZswMyZM2VuHRERkTzkPAsYcAyeFVxsq1L1OR8C3r0buDX2g/btK7nCNHnN7wLg1KlTMXbsWJw+fRqhoaG28v79+2P37t0ytoyIiEg+cgdA+/2eOlX9+jxdDq5XL9dtSHx+FwB/+OEHPPHEEy7lDRo0QH5+vgwtIiIikp/cAdB+BHDUKPHq9XQ9YIAB0Jf8LgCGhoZCp9O5lJ88eRJ1rdfBISIiUhh/mgM4blz167Oe6fvLL563YQD0Hb8LgIMHD8bcuXNhvLUIkEqlwoULF/DCCy/goYcekrl1RERE8pB7BNB+cebSUvHqLW8+IQOg7/hdAFy8eDGuXLmCevXqobi4GL169ULz5s0RFRWFV63nhRMRESmM3AHQemIGAJSUiFevUM55HlqtePshR353gnV0dDT27t2L7du349ChQzCbzejUqRNSUlLkbhoREZFs5A6A9nP1xFyepby6QkN5FrCv+F0AtOrTpw/69OkjdzOIiIj8gtxzAO0DoJghND3d83MhIeLthxz5RQBctmyZ19s+/fTTPmwJERGRf/KnEUAx3HkncOCAY6A9etRxG7vV4EhkfhEAlyxZ4tV2KpWKAZCIiBRJ7gBov2CzGNfotR76tT+hxHrZOaumTYGTJ6u/L3LlFwHw7NmzcjeBiIjIr1kDmD+MAIoxB9A5AB475rqNXO9VCfzuLGB7giBAKO/0ICIiIoWwfhzKNQfQfqROjLl5zgHw+vXq10ne88sAuGrVKrRp0wahoaEIDQ1FmzZt8P7778vdLCIiItnIfQi4Zcuy+7VrV78+6zUfrAcBebEvafnFIWB7s2fPxpIlSzBlyhR069YNAPDdd9/h2Wefxblz5zBv3jyZW0hERCQ9uQPgAw8ArVoBDRoAd9xR/foOHrTczpoFvPgiMHSo4/Pfflv9fZBnfhcAV6xYgffeew8jR460lQ0aNAjt2rXDlClTGACJiEiR5J4DqFIB//2vdPvr3t3x6iMkLr87BGwymdClSxeX8s6dO6NUzGvPEBER1SByzwGUUv36crcg8Pndj9EjjzyCFStWuJS/++67GDVqlAwtIiIikp/ch4CltH+/3C0IfH53CBiwnASSnZ2Nu+++GwCwf/9+XLx4EY8++iimTp1q2+7NN9+Uq4lERESSCrQAOGMGsHAh0KuX63ONGknfHqXxuwB47NgxdOrUCQBw5swZAEDdunVRt25dHLNbJEgVKL8BREREXpB7DqDYWre23Gq18rZDqfwuAO7YsUPuJhAREfmdQBsBtK4lqNdbbjt3BnJzgU8/la9NSuJ3cwCJiIjIVaCdBGINgLt2WRaDto5wRkbK1yYl8YsRwKFDh2LNmjWIjo7GUOeFgJysX79eolYRERH5j0A7BGx/oa8dO4DDhy331Wp52qM0fvF/RExMjG1OX3R0NGJiYjx+VcWCBQugUqmQkZFhK9Pr9ZgyZQrq1KmDiIgIDBo0CJcuXRLl/RAREYkt0A4B21/6bfbssvvnzkneFEXyixHA1atX2+6vWbNG1Lp/+OEHvPvuu2jXrp1DeUZGBr788ktkZWUhLi4Ozz33HAYMGIDc3Fyo+e8HERH5mUAbAbQPgBculN3v10/6tiiRX4wA2uvTpw+uXbvmUq7T6dCnT59K1VVUVIRRo0bhvffeQ227CxcWFhZi1apVeOONN5CSkoKOHTti7dq1OHr0KLZt21bt90BERCSm0lLgrbcs9wNlDuD995fd//PPsvuNG0vfFiXyixFAezt37oTBYHApLykpwZ49eypV16RJk/DAAw8gJSXF4RJyubm5MBqNSE1NtZUlJiaiTZs22LdvH9LS0tzWp9frobeergRLKAUAo9EIowjXq7HWIUZdVD72tTTYz9JhX0tHjr7+/nsVrB/ZJpMJRqNZsn37iiXoBQMAYmMF5OVZhjZNJiNMJss2vupr/p74UQD86aefbPdPnDiB/Px822OTyYQtW7agQYMGXteXlZWF3NxcHLRebdpOfn4+QkJCHEYFASA+Pt5hv84WLFiAOXPmuJRnZ2cjPDzc67ZVJCcnR7S6qHzsa2mwn6XDvpaOlH09f/6dACzXRzt16gw2bfpZsn37UnT0/dDptCgqMgCwLAi4adMml+3E7uubN2+KWl9N5DcBsEOHDlCpVFCpVG4P9YaFhWH58uVe1XXx4kU888wzyM7ORmhoqNdtEASh3AWmZ86c6XAlEp1Oh6SkJKSmpiI6Otrr/XhiNBqRk5ODfv36ITg4uNr1kWfsa2mwn6XDvpaOHH09cmTZx3XDhs2Qnt5Ekv36WliYBjodMHhwMNautZSlp6fbnvdVX1uP4CmZ3wTAs2fPQhAENG3aFAcOHEDdunVtz4WEhKBevXpen5yRm5uLgoICdO7c2VZmMpmwe/duvPXWW9i6dSsMBgOuXr3qMApYUFCA7t27e6xXq9VC62bJ8uDgYFF/MMWujzxjX0uD/Swd9rV0pOzrevWA8+ct9zduVGPp0sA4WdH6sR4SYpnYOGwY3PapLz5nlc5vAmDjW7M+zebqz2vo27cvjh496lA2btw43HbbbZgxYwaSkpIQHByMnJwcDB8+HACQl5eHY8eOYdGiRdXePxERkVguXCgLfwAwYIB8bRGbNQBap+QFygkuNYFfBMCNGzd6ve2gQYMq3CYqKgpt2rRxKIuIiEBcXJytfMKECXjuuecQFxeH2NhYTJs2DW3btkVKSkrlGk9ERORDzh+RQ4bI0w5fsAbAU6cst1Vc7peqwC8C4BAvf5pVKhVM1lODqmnJkiXQaDQYPnw4iouL0bdvX6xZs4ZrABIRkewEAVi8GPjHP4Bu3Ryf691blib5hHXR5++/t9wmJ8vVEuXxiwAoxmHfiuzcudPhcWhoKJYvX+71iSVERERSyckBpk+33Lc//Pvee4F9mHTzZmDmTLlboQwB/GNERERUMy1e7L48UK4C4gkPAUvHL0YA7c2dO7fc519++WWJWkJERCSPGzfcl0twwExWdguAkI/5XQDcsGGDw2Oj0YizZ89Co9GgWbNmDIBERBTwPAXAQJ+mXomle6ma/C4AHj582KVMp9Nh7NixePDBB2VoERERkbQ8BcBhw6Rth9Q0fpdKAleNmAMYHR2NuXPnYvbs2XI3hYiIyOc8BcCoKGnb4Wv/+Ifj40Af4fQnNSIAAsC1a9dQWFgodzOIiIh8ymgE8vJcy195Rfq2+NpTTzk+njJFnnYokd8Nti5btszhsSAIyMvLw8cff4z7779fplYRERFJIyvLfXmrVtK2QwrOZzU3bSpPO5TI7wLgkiVLHB4HBQWhbt26GDNmDGZycSAiIgpQBw4Ahw8Df/7p/nkeHiUx+V0APHv2rNxNICIiktxdd1lu77zT/fMMgCQmvwmA48eP92q7Dz74wMctISIiks/Ro+7LGQBJTH4TANesWYPGjRujY8eOEARB7uYQERHJorjYfXmgBkCdDvjXv4AhQ+RuibL4TQB88sknkZWVhV9//RXjx4/HI488gtjYWLmbRURE5BcCNQBGRQGPPy53K5THb5aBefvtt5GXl4cZM2bgyy+/RFJSEoYPH46tW7dyRJCIiBQvUAMgycNvAiAAaLVajBw5Ejk5OThx4gRat26NiRMnonHjxigqKpK7eURERD7hzTgHl8IlMflVALSnUqmgUqkgCALMgX71ayIiUrTS0oq3adjQ9+0g5fCrAKjX6/Gvf/0L/fr1Q6tWrXD06FG89dZbuHDhAiIjI+VuHhERkU/o9a5lztc+6NZNmraQMvjNSSATJ05EVlYWGjVqhHHjxiErKwtxcXFyN4uIiMjn3AXAggLgs8+Av/wFePZZ16tmEFWH3wTAd955B40aNUKTJk2wa9cu7Nq1y+1269evl7hlREREvuUuABYXAw895N38QKLK8psA+Oijj0LFf2+IiEiBDAbXsn79pG8HKYffBMA1a9bI3QQiIiJZuAuAc+ZI3w5SDr86CYSIiEiJ3B0CjomRvh2kHAyAREREMnM3AshZUeRLDIBEREQyczcCSORLDIBEREQyczcCSORLDIBEREQyYwAkqTEAEhERyYyHgElqDIBEREQycx4BDA+Xpx2kHAyAREREMisudnx886Y87SDlYAAkIiKS2aVLjo8zMuRpBymH31wJhIiISKn++MNyO2UKMHQobAkvuQAAIABJREFU0L27vO2hwBewI4ArVqxAu3btEB0djejoaHTr1g2bN2+2Pa/X6zFlyhTUqVMHERERGDRoEC45/wtGREQkgdJSy21kJNC7NxASImtzSAECNgA2bNgQr732Gg4ePIiDBw+iT58+GDx4MI4fPw4AyMjIwIYNG5CVlYW9e/eiqKgIAwYMgMlkkrnlRESkNEaj5VbD43IkkYD9URs4cKDD41dffRUrVqzA/v370bBhQ6xatQoff/wxUlJSAABr165FUlIStm3bhrS0NDmaTERECmUdAWQAJKkE7AigPZPJhKysLNy4cQPdunVDbm4ujEYjUlNTbdskJiaiTZs22Ldvn4wtJSIiJbIGwOBgedtByhHQ/2scPXoU3bp1Q0lJCSIjI7FhwwbccccdOHLkCEJCQlC7dm2H7ePj45Gfn++xPr1eD73dap06nQ4AYDQaYbSO31eDtQ4x6qLysa+lwX6WDvtaOr7o6717NQBUUKlMMBrNotVb0/nq55q/JwEeAFu1aoUjR47g2rVr+PzzzzFmzBjs2rXL4/aCIEClUnl8fsGCBZgzZ45LeXZ2NsJFXLUzJydHtLqofOxrabCfpcO+lo5YfX31qhanTt0PADh9+gQ2bfpVlHoDidg/1ze50CJUgiAIcjdCKikpKWjWrBn++te/om/fvvjzzz8dRgHbt2+PIUOGuA15gPsRwKSkJPzxxx+Ijo6udvuMRiNycnLQr18/BPM4gE+xr6XBfpYO+1o6Yvd106YaXLpkGXxYvNiEp5/mCKCVr36udTod6tSpg8LCQlE+v2uigB4BdCYIAvR6PTp37ozg4GDk5ORg+PDhAIC8vDwcO3YMixYt8vh6rVYLrVbrUh4cHCzqD6bY9ZFn7GtpsJ+lw76Wjhh9rdM5LgJtNqsRHKyuZssCjy8+Z5UuYAPgiy++iP79+yMpKQnXr19HVlYWdu7ciS1btiAmJgYTJkzAc889h7i4OMTGxmLatGlo27at7axgIiIiX9uwwfFxSYk87SDlCdgA+Pvvv2P06NHIy8tDTEwM2rVrhy1btqBfv34AgCVLlkCj0WD48OEoLi5G3759sWbNGqjV/M+LiIikUauW42PnawIT+UrABsBVq1aV+3xoaCiWL1+O5cuXS9QiIiIiR84nozIAklQUsQ4gERGRPzIYHB9zdRKSCgMgERGRTJwDn9NFrIh8hgGQiIhIJkVFjo/tLlBF5FMMgERERDKZPNnxcTnXIiASFQMgERGRH9i7V+4WkJIwABIREfmBe+6RuwWkJAyARERERArDAEhERESkMAyARERERArDAEhERCSToFufwqNGydsOUh4GQCIiIpn06WO5TU+Xtx2kPAyAREREMhEEuVtASsUASEREJBNrAOQC0CQ1BkAiIiKZMQCS1BgAiYiIZMJDwCQXBkAiIiKZcQSQpMYASEREJBOOAJJcGACJiIhkwpNASC4MgERERDJjACSpMQASERHJhIeASS4MgERERDLhIWCSCwMgERGRTBgASS4MgERERDJYuhTYu1fuVpBSMQASERHJ4Nlny+6XlsrXDlImBkAiIiKZ7dkjdwtIaRgAiYiIZGYwyN0CUhqN3A0gIiJSEkEAduxwLFOr5WkLKRdHAImIiCS0dy/Qt69jGdcDJKkxABIREUno3DnXstRUyZtBCscASEREJKGiIsfHDz0EPPigPG0h5eIcQCIiIgldv+74+LPP5GkHKVvAjgAuWLAAXbt2RVRUFOrVq4chQ4bg5MmTDtvo9XpMmTIFderUQUREBAYNGoRLly7J1GIiIlKCGTPkbgFRAAfAXbt2YdKkSdi/fz9ycnJQWlqK1NRU3Lhxw7ZNRkYGNmzYgKysLOzduxdFRUUYMGAATCaTjC0nIiKl+OMPuVtAShWwh4C3bNni8Hj16tWoV68ecnNz0bNnTxQWFmLVqlX4+OOPkZKSAgBYu3YtkpKSsG3bNqSlpcnRbCIiCkB6PfDMM8DKlWVlS5YAcXHytYmULWADoLPCwkIAQGxsLAAgNzcXRqMRqXanXiUmJqJNmzbYt2+f2wCo1+uh1+ttj3U6HQDAaDTCaDRWu43WOsSoi8rHvpYG+1k67GvpVKWv161TYeVKx4/cYcOM4LerfL76uebviUICoCAImDp1Knr06IE2bdoAAPLz8xESEoLatWs7bBsfH4/8/Hy39SxYsABz5sxxKc/OzkZ4eLho7c3JyRGtLiof+1oa7GfpsK+lU5m+zslpCeB2h7KDBzeJ3KLAJfbP9c2bN0WtryZSRACcPHkyfvrpJ+zdu7fCbQVBgEqlcvvczJkzMXXqVNtjnU6HpKQkpKamIjo6utrtNBqNyMnJQb9+/RAcHFzt+sgz9rU02M/SYV9Lpyp9feiQ65T79PR0sZsWcHz1c209gqdkAR8Ap0yZgo0bN2L37t1o2LChrTwhIQEGgwFXr151GAUsKChA9+7d3dal1Wqh1WpdyoODg0X9wRS7PvKMfS0N9rN02NfSqUxf35p95PJ68o4vPmeVLmDPAhYEAZMnT8b69euxfft2NGnSxOH5zp07Izg42GFYOS8vD8eOHfMYAImIiKriyhW5W0DkKGBHACdNmoR169bhP//5D6Kiomzz+mJiYhAWFoaYmBhMmDABzz33HOLi4hAbG4tp06ahbdu2trOCiYiIxPDqq2X3/+//gPnz5WsLERDAAXDFihUAgN69ezuUr169GmPHjgUALFmyBBqNBsOHD0dxcTH69u2LNWvWQK1WS9xaIiJSgocfBt57T+5WEAVwABQEocJtQkNDsXz5cixfvlyCFhERkRJ9913Z/YkT5WsHkb2AnQNIRETkD0aOLLtvNsvXDiJ7DIBEREQ+1K1b2f1OneRrB5E9BkAiIiIfysqy3L7wAhARIW9biKwYAImIiHzEfjr6v/4lXzuInDEAEhER+Yj9FczsLj1PJDsGQCIiIh+5erXs/rJl8rWDyBkDIBERkY9YLzmbng6EhsrbFiJ7DIBEREQ+UlhouXV3LWAiOTEAEhER+Yg1AMbEyNsOImcMgERERD5w+jQwb57lPgMg+RsGQCIiIpGZTEDLlmWPGQDJ3zAAEhERiUyjcXyckCBPO4g8YQAkIiISkcnkWnbPPdK3g6g8DIBEREQiOnXKtaxZM+nbQVQeTcWbEBERkbdOn7bcJicDLVrg/9u78/ioynvx45+zzExmskNIIBA2BWQTEK0LLqAXvO7WWq21Xu3tIvWHa9XqrXWrS6te63ZdWr2orbVaa11arOJVEIVWEEEBAdm3BBII2WY95zy/P05mMpNMQoBsZL7v12tec5bnnPOcJycz33nOeZ6HU0/t1uwIkZYEgEIIIUQHigeAxx4Lf/pT9+ZFiNbILWAhhBCiA61b574ffnj35kOItkgAKIQQQnQgCQDFoUACQCGEEF2mpgbeeit9S9neIn4LWAJA0ZNJACiEEKLL3HcfnHee20/es892zD6feQZuvRWUajvdRx/BsmUdc0yAvXthyZLUZbYNW7a408OHd9yxhOhoEgAKIYToMg880DT9ox8d2D6Uagr2du+GmTPhV7+ClStb32bePDjlFJg0ad+BYnsVF3s45hj461+blllW0/6zszvmOEJ0BgkAhRCih9uxA/bs6e5cdI41a/adRil46il4+23QNNB19wXuLeW41mr3bBumTWua3737wPJaUuIe//LLDTZsyEssf+qppjSO0zRtGAd2HCG6ggSAQgjRg9XUwMCB0LcvfPJJd+fm4KSreTviCFi+vOVy23aDQ6Xc27tXXQXnntty2zvuaJpfurTlfoLBlsOybdu2/3kPh2HXLnf65Zd1brihKaI84YTUdHG6fMOKHkwuTyGE6MG++qpp+sQTuy8fHaG1hh8TJ7q3TuN+8xs3aDviCPjpT+HXv06/3Zo18Ic/pG7X3E03tVy2d2/78xz3f//X+rqGBvf9tdegT5+m5VIDKHoyCQCFEKIHi8W6OwcHz7bdV/K5NA/MsrMhNxeuvx5uuKFpebqgbn88+WTLZQ884DbUWLiwfftYsADOPrv19Xv2QEUFfPvbqculBlD0ZHJ5CiFED3YoBIDV1fDyy1Bf3/L5ujVr3No803Rr+uIuvTQ1XTTqbv/II+mP0d4GFcuXwwcfuNPJtYrJ3nkHhgyBKVPSj9vb3E9/2vb63bvhBz9ouVxqAEVPJgGgEEL0YNFo6nxHtWDtSH36wHe/69bgFRXBihVN6+68s2k6OdiaMGH/gtuKCvfck28j9+vnvl9wQdOyiRPhtNPcxhrJzxYWFcExx7Tc76hRMHdu2+W6eHHT9DPPtFy/Zw/MmdNyuaa1vk+xbytWfItPPvFimu2sqhX7RQJAIYTooWzbfa4sWU9rDbxzZ8tl48fD5s1w+unpx8KN3/41TbdfwNa8+677/vOfQ06OO63r7u3bOXPcYysFf/lL+u2PPrpp+tNPm2oGm5sxww1UZ8/ed6vkH/+45bIFC5qmTz7Zff/pTyUAPBhVVW9SVfU6AIaxrptz0zuZ+04ihBCiO1x3HTz3XOqynjaCRroaMYChQ9Mv/9GPUvsCvPVWuPBCGDkyNd0VV7iBWbqaubIy95Xs7LPhb39Lf8wxY2DYsPTr4u6+u2natpue30u+pX3UUW3vY9QomD/fDdKTG4OI/bNz55/46qtLEvORyLe6MTe9l9QACiFED/XEEy2XvfNO1+ejLW+91b50FRVuYPTb37ZcV1LSNP31127QN3v2/uWjb9/W1+1vv3/Nbx3HXXNNfH2MM87YyPz5qQ8Zxm8xS/B34Gpr/5US/I0Z8zdAetTuDL02APzoo48455xzKC0tRdM03njjjZT1SinuvPNOSktL8fv9TJ06lZVtdSMvhBA9wBVXdP0xW3s+zrLgs8+a5teuhQ0bWqZbu9YN8goL0+8nuYHHgAEHlsfkGrzmkm9T27ZbS9da1zLQFOg1f/4y3sff6NFw5ZVfMH58asEcccR+ZFi0EIlUsHTpcSnLCgqmd1Nuer9eGwA2NDQwYcIEnkj3Exp44IEHePjhh3niiSdYvHgx/fv3Z/r06dTV1XVxToUQoqXubuzx4YewapXbUGPyZHf83uaSW/V+9BGMGOHeanUceP55OPJINyAcMaLtYxmG+1zf+vUHPnza4MHusVaudGsPf/EL+OEP3XWnntqUTtfd5/Ruvhm+/DL9reH169337dtTl3/ve6nzzfMaDxzFvkWjldh2GMex2LjxF5SXP8+iRU3R//DhDzJlyh40eZCy0/TaZwDPOOMMzjjjjLTrlFI88sgj/PznP+eCxuZjL7zwAiUlJfzxj3/kyiuv7MqsCiEyWFWVe9vzuOPcRgM1NW6Dh+ajV4wf7wYskycf3PFs2x0X95hjIC8vfZp165qCpn/9Cz7/3H3V1cE//gEXXdRym5NOapp2h0tzX+3V/Jm+AxEP5saMcd+3b4fDDmu91nTcODdo/Oort1zmzIGf/cxtRQzu3yUuFmv5N9E0N+B86SW49lq3FXRvVl//BaHQ1xQVfRNNO7D6oz173uWLL/69zTRjxrxKcbHbqWLsUOgH6RDVa2sA27Jx40YqKiqYMWNGYpnP5+OUU05hYXt7BhVCiINUW+t2ZXLCCW7NVGkpFBS0vA26bRs89JA7fTDfh19/7QYx//Zv8O+tfAf/+tepNXbHHts0nZeXPvjrqQYOhFtugf792043erQbDMYDPMeBTZvcVszgdvDcPPiLGzMG7r0Xios7LNs9TjS6i8WLJ7JkyQRWrryQbdta6awxjc2b72XFiguIRMrZs+f9fQZ/QCL4E52r19YAtqWiogKAkuQnjxvnN2/e3Op2kUiESCSSmK+trQXcXygd8Sslvg/5xdP5pKy7hpRz2y65xCD5d3h5ufteWZmarrg4xqJFGmDyxRfpy3NfZf300zrXXNPUM/GiRenT3nKLZ/9OAnjxRYtYrAd2ULif3Fotg0jEYdiwpr/LjBmp55dJ17VSNgsXpn5Xbtp0N/37X93mdjU181mxoun5vaqqv7breMccszWlXDurrDPhb7cvGRkAxjV/tkAp1ebzBvfffz933XVXi+XvvfcegUCgw/I1d+7cDtuXaJuUddeQck5v48YTgTaarwIPPPARc+ZUs3p1ETAFgL//fU6rfcylK+vVqwu55ZaTWyz/29/mcMEF7sN9Tz89l7VrC4GjW6RLZ9q0LezYkcONNy4hLy+UtiPkQ83q1cOAI/nLX1JvjtXVLWDOnNoW6Xv7da1pVeTl/bDFctuu4ZNPvNTXP4Btj2yx3uOZTyDQ+hh+4fC3ycr6c2I+GLwK2x6PUjm8//5nabfp6LIOBoMdur9DkaZUdz9q3Pk0TeOvf/0r559/PgAbNmzgsMMOY+nSpUyaNCmR7rzzzqOgoIAXXngh7X7S1QCWlZVRVVVFXmsP0+yHWCzG3LlzmT59Oh7P/v8KF+0nZd01pJzb9tOf6jz+eOvjhY0bp1i61O1qJBSC/Hy3DK+5xuaxxwwuucThhRfcjgFjsRivvLKAceNOZsqULB56yOEnP3EA8HrTl/2DD9rcdFP7xis7/niHRYt0Zs60eeABh6ysdp/mIePNNzW+/e2W9SLBYCzlFnBvvq5rauYTiWzGMApZvbqp/73Bg+8iGt1ORUVqPz55eScybtz7aJqOZdXwr3/1S1nv8w0mEtmSsmzKlCgNDcvZvfstBg26GV33tZqfzirr2tpaioqKqKmp6ZDv70NRRtYADhs2jP79+zN37txEABiNRpk/fz6/bqNvAJ/Ph8/X8kL1eDwdemF29P5E66Ssu4aUc3qhUNvrr71WS5Sbx+N2o1JdDY895gZtL7+sM3myzjnnwP/9n8ZVV52etK3BT35itPrsGrDP4O/DD93nAUtLSXro32h89T4nnNBy2dNPg9+f/to91K5r2w6zdu1MCgqmYhg5eDyFFBRMQ9N0gsG1fPrpqLTbBQJjGT78diKRlgFgbe3HOE4lPt9APvkkNfgrKDiNiRPfp7p6HsuXTwNg5Mhn8Hg8FBQcTUFB+2qboXO+ZzNdrw0A6+vrWbeuafiYjRs3smzZMvr06cPgwYO57rrruO+++xgxYgQjRozgvvvuIxAI8N3vfrcbcy2EyAS7dsEdd8CzzzYte/311DFtAc49N3W+tNQNAJPdeKP7SvdxfuON8IMfpC574w1ovBnSqptugm99K7UBSCYoLXUbe1iN/TsvWXLwra57ksWLRxMOb2LnztS7XOlq6eKKis5n7NjXG9MNJC/veGprF6Wk2bjxVnbu/EPKsuLi7zB69B8BKCycyqRJC6mqeoPi4u901OmIg9RrA8AlS5Ywbdq0xPwNN9wAwOWXX87zzz/PzTffTCgU4qqrrqK6uppjjz2W9957j9ze3o5fCNHtJk2CHTua5l96Cb75TXe82m98w122eHHLlqWlpW63I+312GPuK27x4tTxcdO54Qa3JXCmdr928slNYwaPHdu9eelIe/cuIBzelHZda8HfoEHXcfjhqc/yTZz4IcuXT6empmkA5ObB30knhTCM1GcE8vOPJz//+APIuegsvTYAnDp1Km093qhpGnfeeSd33nln12VKCJHxFixIDf6gqUuWY46BjRvdUTP8/pbbjhsHB/osfCDQFPytWeOOWxv3m9/A9dfDT3/a1N1Mpkq+Zd4bnnOMRnfy9ddXU1n5532m1fUAJ5/cQCi0kUhkCwUFp6RJ42PSpI9ajNcbN3Hi/BbBn+iZem0AKIQQPdHJLRvjpnTIPHRo69seTGfJyUOlHX546rrrrnNfwh1RpDew7TALF/bHtmtaTZN867ew8HRGj3ZvDfv9w/D70wyRkqSk5Dv06/dNPvqoKdgbN+4NCgrSXOCiR8rIjqCFEKInaauhRrLkoccuvbTl+ldeeZvKyhiO0/JZweQAT9dh5kzw+dxOpkWTu+92g/C2xhbu6ZSyWbDA3yL4c5/nc/vjGzfuTY4/fjMnnriXk0+OMmHCP/B6S9LtrlXNW+/26ZN+9C3RM0kNoBBCdJGD7XRrw4am6aQeqQB45RULn88hP999fq+gALZuhQcfdMfENZo13H3qKfclUg0Y4N6GPxRZVj0VFbPZvv2JlOWDB9/K0KF3oetuy9epU5suRNPM76Cj6+i6t4P2JbqCBIBCCNFFkgcfGDrUHW7sv/+7/dtfe63bQAPccW63bnWHKfuf/4Hx41WLzpgHDYJHHz3YXIuerKrqbVavvhzLqm6xrqjoAsaN+0unHn/SpIVUVLzA8OH3depxRMeTAFAI0WPs2AEPPwyvvgo//zlceWV356hj7dnTNL16tVsr197bv5A6RnB5uRvgLWrskUNGtsoMSim++OLfqa5+r810kyZ9TH7+lE7Pj7TuPXTJM4BCiB7joovcGrGtW91n1HrbOEULmnrOwOvdv+Av7he/cN+Tu3cRmSEW28P8+Xqbwd+IEU8yZUp1lwR/4tAmNYBCiB5BKfjkk9RlCxakbzV7qIpG3fe8vAPvZ++uu9xbwX3bHkJYHOKUUmzY8DNCoQ1EIlvwekvZvfvNtGlPOcVC03rn6Cyi80gAKIToERYvbrnMtrs+H50pPvTbKS27V2s3TZPgr7ezrHq+/PIMamo+Tru+oOBUJk78vy7OlehtJAAUQvQIa9a474MGNXVN0ryl66EuHgCm6+RZZLa9e+ezbNnUNtNkZ49j4sT5eDx9uiZToleTAFAI0SPEx18dP74pADzjjN71HKAEgJnNsmrQdT+67kUphaZpRKOVLF16LOFwy75nRo/+IyUl7mgbStmAjpapY/SJDicBoBCiR4jf7m3eMCIc7h1DcgG8/rr7fiCNP8ShybZDbN58D9u3P4Zt17drm5Ejf0u/ft/G4ylILJNn/ERHk48hIUS3c5ymGkDDcJ8HPOYYd/7dd+G887ovbx1h1y53fN+45p0yi57NcWI4TphYbDdeb3+g5R/QtsNs3/4EmmZSV/cpodA66urSPNjaipycyRx55D/weos6MOdCtE4CQCFEt6mpgSFD3Pc4peDoo2HSJPj8czj/fKirg5yc7svnwTrnnNT5a67pnnxkKqVs6uqWYpoFmGY+Hk9fHCdCff0XgMK2GzCMbDZuvI1odAeDBl1HaanbCeW6dTeybVvL3ro9nhuBM1HKZv36m9i27Tdt5qFv37MpKbmc7dufoKZmfsq6fv0uYuzYVzrqdIVoFwkAhRDdpqCg5TJv42hSw4e7ASDAvHlw9tldlq0DYlnuGLt6s95Vf/c7+PTTpvmLL4axY7s2b5nEcaJEoztxnCC6HmDHjmfYsuXe/drH2rUzWbt2ZptpAoGH+OSTh9q1v+zs8Ywf/zYAxcUX7ldehOgsEgAKIfbbnj1u8NY82NmXvXuhsNCdjgd3zXnc4Up56CH4S+MoVrff3rMDwJ07oX9/d/qRR9waPsty+/378Y+b0r3xxqF/O7unsu0G1q+/mR07nuyU/fv9IzGMbOrrW7lwgaOP/pJAYBSaZqBpeiJfui6tfkTPIwGgEKLdQiF3qLbbbmtaVl7uBj9ffglHHunesi0thQsuaNmJ87BhTdOTJqU/xuzZ7vvQoU3Lkp+f62n+539g1qym+euuc19FRW6Hz3EnnCDB38FSSqGUTSxWRTD4FTU1n7Bp0y/ate3Agdeyffuj9O17Nrm536C6+j3Kym4mK2swweDXNDSsYMCA/2TTpjuoqHg+ZduTTw6j677E/Lp1P2PbtgcS8z7fEI47bn3ahhqGkX1gJytEJ5MAUAjRbuPGwYYNqcsGDIDRo+Grr9z5N95w3598Eh58UGfr1jIuuMDk2WfdGsB0duyAO+5wA8v4LWCAG25wA85//rPjz+VgbdjgdlOzdm369VVV7gugTx/4OH2fvqIZpZxE7ZnjxNi9+22qqz+guvpdQqF1+9x+yJBf0NDwJTU1i7CsagYOvJqhQ3+BaeYzYsQjiXRDhzYFjjk5EwD31uywYfcmAsATT6xD173oujf5EAwZcg8rV57A1KlDaWj4JwMG/Fi6ZxGHHAkAhRD7pJQ7LFvz4C8uHvw1d9NNBnAUAP/5n+nTVFe7t5N/+9uW6xoa3Pe9e908dNV3bHm521dfumcUAWpr4bDD2r+/3bs7Jl+9RTi8hZqaj4lGd1JV9TrR6E6ys8dSVfXGfu0nEBhLMLgyMT906J0MHXrHQeXN5ytl6tT2dT4ZCIwhP3/CQR1PiO4iAaAQooWtW91n2IYOhdNPh7lzU9fPmweTJ0Nu7v7ve8QI9xnC/v3hs8/A52s97T33wDPPuNNPPgn/7//t//H212WXwR/+4E7/859w7LGp620b8vPTbxuLwQ9+AC++2LRsy5bOyeehIN7ZcSi0iVisksrKV9m6NX3DiVDo6zb3NXjwreTlHYdh5LF9+xP07XsWAwZ8v3HbDdTVLaVfv292+DkI0VtJAChEhquqcmvhRo5053Nz3W5XWvPEE01j2Z5zDrztNm7khRfgu991G0QATJsGX6f5Tl+zpv01eUVJXaLNmrV/AaBSbkDm9br9DGpa03Hr692uZq68Eq6/3g14Cwth0aKm4A/guOPcQHXOHPeZxbVr4ZJLWh5ryxYoK3OnX3gBHnjA3Z/X2zJtb2TbIcLhTUSj5eh6Fnv2vMPmzfe0a1u/fxSh0JrEfFHRBfTpM4NNm37JiBGPU1h4GoaRm3KLtbBwarN9DMfvH94h5yJEppAAUIgM9M9/wvHHp1/XWvDn87nB25AhTcveeqtluoED3fe1a+HKK21++1v3wfjLL4dzzz2427ivvgpHHeXeft3Xfpq3UNZ1N9DNy3PPYc8e9xnDG25oez8VFe4x07nxRrjrLggEUpf35EYrHUEpm92732HjxttoaFiOYeRj2zX73hDQ9WyOOOJ5iorOx7L24vUWEYtVU1n5F4qLv41putWr8X74hBCdQwJAITKEZcFNs+UyAAAgAElEQVTVV8PTT+/fdllZbi1h9gE0Zrz9docVKyr45S9LOPXUA/u4yc5uehbw4ovd90CgaVmyTz9tecs2znFav3Xb3J13wnPPuTWDrXnvPZg+vX37606OY6FpeqJhRTKlFNFoOdu3P86ePe9RX78Ur7c/ffr8O2VlN2FZ1YTDm6mufp/6+s+pr1+W9hjNgz+fbxClpTNRyiEYXEW/fhcTCIzCsmrIzz8ukS4+6oXHU0hp6Q878KyFEPsiAaAQvdznn7u1fZFI+vWnndZUq3baae4t4I6qwSouhptvXsJJJ515wPtYuTK1SxiAYNC9vfqHP7jTL7/sBmQd5fbb3VbJy5a5LZP//vfU9Q8/3HODP8eJUF7+e8rLn6W2dlHKOl3PxnHSRM5JotEKKiqeb9EVSlsOP/xRSktnUlPzMcHgakpKvodp5u17QyFEt5EAUIheJhp13++4A371q9bTffQRnHRS1+TpYAwenH55LNZUI9iWoiJYvrzp1nTc2rXuuv/+bzj1VLelrs/nPvcXv708cSL87W8Hl//WKGWjlAUY6LqJ48SoqnqD2tqF5OYeTWHhdCor/0xNzccUF19KUdHZSds67Nr1MlVVbzJs2H1UVr5CefkL5OXtYNGi1gO8toI/r7eUaHRHq+uzsoYTjZZjGHn06fPvjBjxBKaZOj5fYeGpFBae2v5CEEJ0GwkAhTiEKQWffALvvgurVrn96bXVZ96bb7qdNTevUTtY0egudux4ilBoPTt3/p6SkssJBldRV/cZHs+1KHXGAe9b09yWt0bLPnbTGjDAbV3cv79729e23drCL75wRxe5+ebUodjuaV9bhQNmWW5fcpHINurrv2Tv3g/ZvfttwuGN7d7Hrl1/anVdZeWfE9PJz0VmZQ3H4+lLaelPqKx8Db9/ONu3P5FYP2jQ9WRlDSMQOII+fVKrMx0nQkXF78nJmUBe3jGJ1rxCiN5DAkAhOlgs1jScWUfbsgUWL4bNm2HJEvfWZ3u8+ip8+9utr3cci3B4E5pmYtu1ZGUNQykLy6qmtvZfNDR8SSj0NZWVrxEIjCEYXNXm8XbufCExHQj8hoULfwNoFBb+GwUFU4lEtrJ37zyCwdX07Xsuu3e7rUmOOWYF2dljCQa/pqLifwkExlBUdC6mmc8jj7gjbMTf01m4MLVxi2E0BY7jx7stdA9EMLiWmppPCAZXs3WrOwLEEUe8QCAwBqVi5OYeQzC4Gtuuw+cbyN69H1Je/iw1NV3b+7NljWTUqOsZOPA/UzovjneXMmLE4+3aj677Up7Jk+BPiN5HAkDRq2zaBI895jYEOP74tm8fVlb6aWiAcNh91qumxh2qKyurZfqKCncYs3DY7RLkG9+Avn3dGrhFi9x+8V54wb2tmJXldqkSCMCMGe4zdcXF7nNjX33ldmcydqxbW6Pr7r737nVrq2pqYP16dx/FxbB9u7vP7Gx3XfNGCR5PBMOIkZ+vqK2FUCgH0DjuOPe25sUXw+GHR9G0bezevaYxkFtPLFZJLFZJNFpJLFaFZbW/p+J9BX+tU1RXz6W6OrVTwXjwB7B48bhWt541K8S117p/nGuvdcv+uefcLl1aCwjTse0QsVgVkchWgsHVKOUkAt1QaA22HSIa3dEYDLfeH87q1Ze3/6CNsrKGUlAwFcPIpbDw3/B6B7B799/RNJOiovPx+Qbg8fTFtsPU1CxoHKFCZ+HCfi32NXDgtZSV/ZTKyr/Qp88MPJ7hvPPOu/Tvfya63km/QIQQvYYEgOKQFYvBn//sPqRfXw+VlS3TDBgAl17q1pYNGuR2AbJyJXz5pcmePTP40Y9S0xcUuDVFxcVuAFddDStWuIFl3JmN7Rn8fnds3GQeT4RYTOeLLzx4PBG2bNmG4+hUVg5CKR3HMXjssSj9+m0jEKgjFMrG76/H728gGs1C0xx8vhB5ebspKVlCWZnijDM+RtcddN0mO7sG2zbp16+WQGAXptksA4DXOxC//3AikS3s2bORTz89uHLOyZlEbu4xOE4E267H6+2PzzeIjRtvBSAr6zCGD7+PoqIL0HX3I8VxYoB7+/W99+4hO/vutPsOBMaSn38i9fVLqatb3GY+FizwA3DUUYsxjBxsu5YLLwyRn38yltWQeB5NKYVt17Fx4+1UV7+LrgfQNB1dz24cQ3ZlW4dpVX7+yQQCR1BenmbIkjQGDPgRllXDkCG3EQ5vIitrKDk541uky8s7psUyw8hKuS170kn1KGWnbVhRVuZGv7FYrL2nIoQQEgCK/aeUYm94L2ErTNgKE7Wj6JqOQhG1o1i2haUsCrMKGZQ3CFM3sZWN13BvSdXWurcyR49uGt5rwwY3yJoxo+k499wDw4fD3hqb3TURTjg5wp6aKDuromzaGuGh30RBt6B6OMQCoDUO3+SrBSsLHA/lFToPPZTa/YXHE6G0dD1Dh5bj9YYwDIu+fRVbt+bTr982+vbdwfr1EzAMi5ycvYwZE2XUKJNoNItYzEte3m6KirY3rq+hrGw1xcXlDBy4DdN0B7u1rFxMM7X2yHF0gsEcAoE6dL19Q00diGh0O9Ho9hbLfb4ysrPHEQiMxu8/DI+nHx5PP7zefuh6Nj7fQJSKYdtB9u79gIKCUzHNgkRQ19yQIbe0mod4DZRtx7Cso5gyJYrH40EpRTC4Cp9vSIsGBI5jsWPHU1RWvkrfvufRt+THNDR8waovUluqLF3aMmAC8PsPxzT7Ulf3rzbLp7msrGF4vQPweovJzh5PQcFUfL4yQqG1VFS8SEHBVIqKzsXnc1uRjBr1DI4TY+/eeYAG2ESjlRQXfwfL2k04vIns7HEYRlO/OekCv/2RvC8hhOgImlKq876Jerna2lry8/OpqakhL+/guzyIxWLMmTOH404ex6JPP+XL5R50Zzl9+wQ5/PCX0Yy+VFZPIRbVMD178PkVHiOEru9FI4auxdC1PXi1TUTsfnj0vehaU61ASJWAkY9heFB6H5Rdx46QQZGxg5itoRMiorzstQKEHdA0C69mUWdnsX3vCEJ6BE1bRb6+F58Wo6TxVqmhweik03cU1MRgdxRqY5Bjwt4Y1MQ09kQVb+6ABgtKnX6Ubz+cGgv0skWUBSBWMwDDsAkrC8eI4PNEKY/FiF+kfsPdX18vFHmhwAvFPsg1wNTBBgIGhG03nc+AHAOyTQ2P5s738yn0LnqkyVGkPVbM0YgqnSzdpsE2iDoapgaO0ogpjTzTwm84rKj1sbreR62lszemEbY1NADdJOjkojAIOm6AluPxMTArQn9vkJgyyTIcCswY/6wdTFj5MHQTXdPRNR1DMxLTPtOHz2hjPDb2/QxY1I6ilMLQ3f2amomDg4FB+bZy+pX2Y1dwF6ZuEnNi7KzfSdR2mytH7AiOcsgys9DQWFm5ElM3sRwLgDwT3pyy30WfsD3sYWBWjOqYwbK6Qr4MHY7S88nP6ovXzMZrePEaXrI92fQN9EVDw1Y2tmNjKxtHOYlp22mcVzYN0QaCsSB7wnsIW2GUUuiaTsyJEbWjeA0vOd4c/KYfj+HBo3vwGl4CngD9Av3I9eW6/fDZURSK+Edx82mAt9e+zZqqNZwz8hxKckowdZPttdtpiDVgORambuLVvVSVVzH6sNFk+7Lxm34CngB+jx8NDZ/poy5SR9SOYupm4mXoRsq85ViEYiEc5bjXim4krpdsr7vfHG8Oub5ccr255PnyyPXl4jW8KKWIOTHMpB8NlmPhKCexD03T3B+MShGxIyilUKjE8XyGL5GuresNwKN7Etsq1fieNJ9uXWvp4mVu6AZ1kTpCVgiv4aUqWJU4XuKcLIt//etfHHvssVhY7AntIWJFEvu1HZuYE6M9X6/7+t8ydTNx3cX/Fj7TR5aZlTiX+DWkazoe3ZO43pKvu4KsAvpl9yPfl88XO79AoRLXuuVYxOwYMSfWYtrQDPweP1lmFoZmUBWsImS5dx7iZWc7Nuv2rKM6XE3UjuIoJ+35NX56pV2WvNyre8kys/B7/Hg0D4GdAW65+BY8HfhwdUd/fx+KJAA8CJ0VAC5a/gZ+NXSf6TXNoqhoNfn5WzCMKJpmk5NTQVZWDYYR3ef2h5LdEbAUiaDzYDVYblAatiHigMINKCsjbkDr1cGjw84wxBRk6TAyF6IOrK93g1sdd7vKCHxV575XRcBWkO+BoN2ULs8DBR43gN0RdgNksX+KfXDWAPiPIfDmdvjjVhiaDVcfBg4wOGk0juuXw+paCDut7k50MA0NTdNSvvzbSqtrOrayW11v6mYiAG4eELfnGKL3+E7/7/Dif74oAWAHy/hbwE8++SQPPvgg5eXljB07lkceeYSTurlztBzfHuzwUHJzt1JXV9ZqOqVMKivHUVnZ8sF5SwvS4P+SPD0XgsPRHDdyCql66vRd9MsOMaRPFRHfNnzeKl755zeIhAP0DYTI88fwG4pIxI+jdMYOW8uE4WuJ2QYrvh5PQ20/vl51Ijk0ENxVTDiUS8mAzQT3FqErjbrtJQR8deT3qaKi0KbQW8PggmoOO2kO/UoqiETysG0vgUAljuPFsrLQ9SimGUZTOjgG6DboTR/yfZtVUPnsPnidPuiaD12VoBwdzQ5gYKMTxbACKNuLQxg9mosWDaBshWODHczGG1Js3fQVZQMHAQ5RJ0a+46HEVngdDY+tMGzFBFuhOw5OKIgTi2EX9WGgqWN7TCyvSZAoDbrNySpKgxMh6IQxHfBFdWzbwlRg2gpPPXhiDqbXhycrG4+jYRomHsOLBx2ladg47q9hpdAVBDDRYjaaYYCuJe5wawoiWG4tKQrH0FG6RlizsTS3uw5H03BMA1sHx7FxdA3H0N15Q8cBnCwvduN2MRxIrohQuPfndQ2l625rldZeho5heNANE0fTsDWFpTnohknEtli1egXDBvRncFYxXn8ODbrFgIIy+ua6vU37TLfGJ2yFqQ7toS5Uw9GDvsHAvEF4DA+2Y/PSly8xe9lsZm9awuxN4DN8PDD9AXY17OKyBfcyJH8IBWwm4sDI0nO5bfp/MChvEIZuJGrvNDSqglU0xBqoCddQHa4mZseoi9ZhORZ1kTpqIjWJWkxDMxI1LvHp5OV+00+2N5vCrEICngC6pidqabyGl6gdpS5SR8SOELWjiVqV+mg9VcEq6qJ1KKUIeNzIVdO0lBqS5Onnlz0PwAWjLyDXm4ujHI4oOoIcb45bq2rHaIg2sHzVcgYNHUTYDhOyQoSsEMFYMFFLlOt1a+ritT6WY2E7SdONy3O9uYmyj9d4OsqhLlJH2ApTH62nLlpHbaSWsBVuvGRUu2q84mlbC/7i62NO1/xKigej8don27Hxmb5ELd7g/MHk+VIDBKUUdXV15Oa65dnH3we/x+/up3F/XsOLnm70FdKXUWtlF69R1TU9cS2HrTARK5LIt0f3JALq+HWWXIsXsSJUh6upbKgk5sQozCqkX3Y/lFKYuonH8LjvjbWG8el4jXBdtC5xLWiaRlGgCJ/hS1ynmqZRlldGaW4pXsOLoRktzrV5EN/8nJOD/agdJWy513AwGqTvnr77/DuK/ZfRNYCvvPIKl112GU8++SRTpkzhmWee4dlnn2XVqlUMbq35aJLOqgE8ccIxxCp3UdiwDs+b8/ly/CQ2b93K6O3bGbJhA576eiry81laXIyl60Q8HmKmycbiYuz2dpbWCs1xyG5oILuunkBNCNs0CAYChPKzsHUDI2TjcSxCue4D+brjoDsOmlKEs7IwLQvdcbANA6VpOLob3MSnUzoqiz8A2CivtgZ/MERdbi6mZaEpheHYaIZFINJAINSAFgU96gZDqnFbyzSJer04uo6j63hiMQzbTuQt+eUPhTBjMRxdxzZNNKVwGvOnOw6G4+CJRjFtG81pCkB15QaCmuO4X8tKoSuFplRKukT6xjKBpLgqzXxb64BE2SVeuu7mV9fdj0tNa3pPfjXbtkXZJ5W/5jju+dk2WvJ5NZ6bo+vYhpHYh6bcj+qoz4dpWWSFQlimiW26AaDuOO7fDxL7AYh6POhK4YlGKdq9m/y6OnTTRDNNdMtCj0TQw2E3P4aB7vej5eTgZGezy3GIHnEEzsiROJWV5B53HJ7sbDxeL8FoFMvrpZ4YMRR+M9AYiGo4uI8FOJrmviuFHYvh2Da2bTetB2ylcBwn9b1xWmssU8u2cZRC1zS8polpGHh0HVPT8BhGYj4+bTf+rTAM9x0SX3/x6zcxH/87Jv1fqMaXHY3SEIngGAZZfj9+v59ATg6m14vp8eD1+VBKsXDhQo4++mg0TSMWixEOhxN9+Hm9XozGzwelmoI1rfGY8fl4LUt8WfzlOE6LZUopLNtyv6xjITTVWHOXtB7lBlm2Y7sNdBoDCcdxMHXTre0zTAzTwDTNRFAavz2Lcv8x4tPx89HRcZr/7ykStzYT59cYkOl60yt+G9owjMS8pmkYhoHX68Xr9eJvLOfk8omXQywWY+HChRx33HEYhoFt24kycxynzVc8jW3bKeWe/PeIp7VtO+U9WTy/8bzH1yfnNZ4vPWlgbAcHr+nF4/EkzjddP48pwVnStKZpZGVlpVxXlmXh9/vx+Xz4fL5EmbV2zezPKxaL8dVXX/Gtb31LagA7WEYHgMceeyxHHXUUTz31VGLZ6NGjOf/887n//vv3uX1nBYBnnnnmAV/otbW1rFu3jq1bt2LbNvX19eTn57Nu3Tr65OVRmJ9PbiBAQ3U1tmWxZvt2Inbrv8SFEEKI7jQqGORb99wjAWAHy9hbwNFolM8++4xbbkltyThjxgwWLlyYdptIJEIkaUDV2tpawA3cOqILhvg+DmZffr+f8ePHM358+1odnuk4hEKhxC/JaDRKfX099fX11NbWYpomgUAAv9+Px+MhGo1i2zY5OTmJX53xX3o+n49YLIbjOHg8npRf1vFpgKysLGzbpqGhIfErOxQKUVFRgWVZZGVlYZpm4hesZVnU1tYmyj6+n/i7YRiJX526rifykO4XdygUwrLcxgVbtmxhyJAhKTUetm0Ti8USv87jy5v/mm2+vLnkX+PJWvtV3dp88/JLno9LXp5cNq2lby651qJ5TUd8X7qup9QeAYlf/pFIBNM03doUTcNqrGFTjoNjWeyqrKRowAB8Ph+O4xBuaGD3nj0EQyEcpVCO08pNsVR9bBtCISzbJpaVRcw0sQyDrFgMr2VhNNbyGo6D3lgDHJ9OeQeMxprOxHLLStTyJrZLele6juY4mI3zjqYRNU0sIObzYXm9xAwDyzTdd8MgZhgYjTXZmm031fjGa0WTakcT87i18PHaQC2phj27vh7DcQj5/YSzsggGAtiGQczjIebx4Oi6m2fbxrBtt3Y2HHbzq+tEfL5EraPWeK7xGuJ4Ta3SNCzTTEmTqA1u5bXPNM3W683WA255eTxYHk+LdSllk1Ru7ZmPb6fij0UYBk68dlXXsRtrteN3KizTJObxEPV63Tsffn8iD22dc/J8ujsP6V7J2zX+YyVq8hPXarPrN5EW3HNJusMSvzuRXAZm4497u/H/XwMcXccyDOzG/5+oz5e4FpIlHyt5Pur1Yplm4rqKer2JOz4Rn4+Iz5e4Ftt7De3rld/43dKRpNukDA4Aq6qqsG2bkmaj3peUlFBRUZF2m/vvv5+77rqrxfL33nuPQCCQZosDM3fu3H0nEgdtwIABRKNRotGWDWaSg6neLn4rKR7gtZdSCsMwWlz7Hl/qA5tDCwpS5n0+H/l9+rTYV/w93bRpmmn/Hgc7RJnCvQXcUXXgOuBrfHW0kOOgNQYBWbaNvzHIJf5oguOgx2Ju4JP0qEI8IGhtuvkXPY3bNZe2lJunS7evNNp7zAPORw/bNp1eXwbt+DyJ/+jYl/qysg7/XgwGgx26v0NRxgaAcemee2jtC+XWW2/lhhtuSMzX1tZSVlbGjBkzOuwW8Ny5c5k+fXqHVnWLlqSsu4aUc9eRsu46UtZdp7PKOn4HL5NlbABYVFSEYRgtavt27drVolYwLv6Aa3Mej6dDL8yO3p9onZR115By7jpS1l1HyrrrdMb3bKZr/cGgXs7r9TJ58uQW1cpz587lhBNO6KZcCSGEEEJ0voytAQS44YYbuOyyyzj66KM5/vjj+e1vf8uWLVuYOXNmd2dNCCGEEKLTZHQAePHFF7N7927uvvtuysvLGTduHHPmzGHIkCHdnTUhhBBCiE6T0QEgwFVXXcVVV13V3dkQQgghhOgyGfsMoBBCCCFEppIAUAghhBAiw0gAKIQQQgiRYSQAFEIIIYTIMBIACiGEEEJkGAkAhRBCCCEyjASAQgghhBAZRgJAIYQQQogMk/EdQR8MpRQAtbW1HbK/WCxGMBiktrZWBqruZFLWXUPKuetIWXcdKeuu01llHf/ejn+PZyIJAA9CXV0dAGVlZd2cEyGEEELsr7q6OvLz87s7G91CU5kc/h4kx3HYsWMHubm5aJp20Purra2lrKyMrVu3kpeX1wE5FK2Rsu4aUs5dR8q660hZd53OKmulFHV1dZSWlqLrmfk0nNQAHgRd1xk0aFCH7zcvL08+VLqIlHXXkHLuOlLWXUfKuut0Rllnas1fXGaGvUIIIYQQGUwCQCGEEEKIDGPceeedd3Z3JkQTwzCYOnUqpil35zublHXXkHLuOlLWXUfKuutIWXcOaQQihBBCCJFh5BawEEIIIUSGkQBQCCGEECLDSAAohBBCCJFhJAAUQgghhMgwEgB2oPvvv59jjjmG3NxciouLOf/881mzZk1KmkgkwtVXX01RURHZ2dmce+65bNu2LSXNli1bOOecc8jOzqaoqIhrrrmGaDSakmb+/PlMnjyZrKwshg8fztNPP93p59eTdGVZx33yySeYpsnEiRM77bx6oq4s65deeokJEyYQCAQYMGAA3//+99m9e3enn2NP0FHlfO211zJ58mR8Pl/aa3XevHmcd955DBgwgOzsbCZOnMhLL73UqefW03RVWYM74sRDDz3EyJEj8fl8lJWVcd9993XaufU0HVHWy5cv55JLLqGsrAy/38/o0aN59NFHWxwr078X95sSHeb0009Xs2fPVitWrFDLli1TZ511lho8eLCqr69PpJk5c6YaOHCgmjt3rlq6dKmaNm2amjBhgrIsSymllGVZaty4cWratGlq6dKlau7cuaq0tFTNmjUrsY8NGzaoQCCgrr32WrVq1Sr1u9/9Tnk8HvXaa691+Tl3l64q67i9e/eq4cOHqxkzZqgJEyZ02Xn2BF1V1gsWLFC6rqtHH31UbdiwQS1YsECNHTtWnX/++V1+zt2hI8pZKaWuvvpq9cQTT6jLLrss7bV67733qttuu0198sknat26derRRx9Vuq6rt956q0vOsyfoqrKOpxk1apR688031YYNG9Tnn3+u5s6d2+nn2FN0RFk/99xz6uqrr1bz5s1T69evV7///e+V3+9Xjz/+eGIf8r24/yQA7ES7du1SgJo/f75Syg0iPB6P+tOf/pRIs337dqXruvrHP/6hlFJqzpw5Std1tX379kSal19+Wfl8PlVTU6OUUurmm29WRxxxRMqxrrzySnXcccd19in1WJ1V1nEXX3yxuu2229Qdd9yRcQFgc51V1g8++KAaPnx4yrEee+wxNWjQoM4+pR7pQMo52f5cq2eeeab6/ve/3zEZPwR1VlmvWrVKmaapVq9e3XmZP8QcbFnHXXXVVWratGmJefle3H9yC7gT1dTUANCnTx8APvvsM2KxGDNmzEikKS0tZdy4cSxcuBCARYsWMW7cOEpLSxNpTj/9dCKRCJ999lkiTfI+4mmWLFlCLBbr1HPqqTqrrAFmz57N+vXrueOOO7riVHq8zirrE044gW3btjFnzhyUUuzcuZPXXnuNs846q6tOrUc5kHI+mGPFj5OJOqus3377bYYPH87f/vY3hg0bxtChQ/nhD3/Inj17OvYEDiEdVdbNr1n5Xtx/EgB2EqUUN9xwAyeeeCLjxo0DoKKiAq/XS2FhYUrakpISKioqEmlKSkpS1hcWFuL1ettMU1JSgmVZVFVVddYp9VidWdZff/01t9xyCy+99JL0Qk/nlvUJJ5zASy+9xMUXX4zX66V///4UFBTw+OOPd8GZ9SwHWs4H4rXXXmPx4sV8//vfP6g8H6o6s6w3bNjA5s2b+fOf/8yLL77I888/z2effcaFF17YoedwqOiosl60aBGvvvoqV155ZWKZfC/uP/lG6ySzZs3iiy++4OOPP95nWqUUmqYl5pOn25tGNQ7okm7b3q6zytq2bb773e9y1113MXLkyA7N86GqM6/rVatWcc0113D77bdz+umnU15ezk033cTMmTN57rnnOu4kDgEHU877Y968eVxxxRX87ne/Y+zYsQe0j0NdZ5a14zhEIhFefPHFxGfIc889x+TJk1mzZg2jRo064HwfijqirFeuXMl5553H7bffzvTp01PWyffi/pEawE5w9dVX89Zbb/Hhhx8yaNCgxPL+/fsTjUaprq5OSb9r167EL5f+/fu3+NVTXV1NLBZrM82uXbswTZO+fft2xin1WJ1Z1nV1dSxZsoRZs2ZhmiamaXL33XezfPlyTNPkgw8+6PwT7EE6+7q+//77mTJlCjfddBNHHnkkp59+Ok8++ST/+7//S3l5eSefXc9xMOW8P+bPn88555zDww8/zH/8x38cdL4PRZ1d1gMGDMA0zZQfkKNHjwbcVvGZpCPKetWqVZx66qn86Ec/4rbbbktZJ9+L+08CwA6klGLWrFm8/vrrfPDBBwwbNixl/eTJk/F4PMydOzexrLy8nBUrVnDCCScAcPzxx7NixYqUL7z33nsPn8/H5MmTE2mS9xFPc/TRR+PxeDrr9HqUrijrvLw8vvzyS5YtW5Z4zZw5k1GjRrFs2TKOPfbYrjnZbtZV13UwGETXUz+SDMNI5KG364hybq958+Zx1lln8atf/Yof/8Z8pAEAAATpSURBVPjHHZL/Q0lXlfWUKVOwLIv169cnlq1duxaAIUOGHORZHBo6qqxXrlzJtGnTuPzyy7n33ntbHEe+Fw9AlzU3yQA/+clPVH5+vpo3b54qLy9PvILBYCLNzJkz1aBBg9T777+vli5dqk499dS03WWcdtppaunSper9999XgwYNStsNzPXXX69WrVqlnnvuuYxr7t5VZd1cJrYC7qqynj17tjJNUz355JNq/fr16uOPP1ZHH320+sY3vtHl59wdOqKclVLq66+/Vp9//rm68sor1ciRI9Xnn3+uPv/8cxWJRJRSSn344YcqEAioW2+9NeU4u3fv7vJz7i5dVda2baujjjpKnXzyyWrp0qVqyZIl6thjj1XTp0/v8nPuLh1R1itWrFD9+vVTl156aco+du3aldiHfC/uPwkAOxCQ9jV79uxEmlAopGbNmqX69Omj/H6/Ovvss9WWLVtS9rN582Z11llnKb/fr/r06aNmzZqlwuFwSpp58+apSZMmKa/Xq4YOHaqeeuqprjjFHqMryzpZJgaAXVnWjz32mBozZozy+/1qwIAB6tJLL1Xbtm3ritPsdh1Vzqecckra/WzcuFEppdTll1+edv0pp5zSdSfbzbqqrJVyuzS54IILVE5OjiopKVFXXHFFRgXbHVHWd9xxR9p9DBkyJOVYmf69uL80pTLg3ooQQgghhEiQZwCFEEIIITKMBIBCCCGEEBlGAkAhhBBCiAwjAaAQQgghRIaRAFAIIYQQIsNIACiEEEIIkWEkABRCCCGEyDASAAohMtamTZvQNI1ly5Z1d1aEEKJLSQAohOiVNE1r83XFFVdQVlZGeXk548aN6+7sCiFEl5KRQIQQvVJFRUVi+pVXXuH2229nzZo1iWV+v5/8/PzuyJoQQnQ7qQEUQvRK/fv3T7zy8/PRNK3Fsua3gOfNm4emabz77rtMmjQJv9/Pqaeeyq5du3jnnXcYPXo0eXl5XHLJJQSDwcSxlFI88MADDB8+HL/fz4QJE3jttde669SFEGKfzO7OgBBC9DR33nknTzzxBIFAgIsuuoiLLroIn8/HH//4R+rr6/nmN7/J448/zs9+9jMAbrvtNl5//XWeeuopRowYwUcffcT3vvc9+vXrxymnnNLNZyOEEC1JACiEEM3cc889TJkyBYAf/OAH3Hrrraxfv57hw4cDcOGFF/Lhhx/ys5/9jIaGBh5++GE++OADjj/+eACGDx/Oxx9/zDPPPCMBoBCiR5IAUAghmjnyyCMT0yUlJQQCgUTwF1/26aefArBq1SrC4TDTp09P2Uc0GmXSpEldk2EhhNhPEgAKIUQzHo8nMa1pWsp8fJnjOACJ97///e8MHDgwJZ3P5+vknAohxIGRAFAIIQ7CmDFj8Pl8bNmyRW73CiEOGRIACiHEQcjNzeXGG2/k+uuvx3EcTjzxRGpra1m4cCE5OTlcfvnl3Z1FIYRoQQJAIYQ4SL/85S8pLi7m/vvvZ8OGDRQUFHDUUUfxX//1X92dNSGESEs6ghZCCCGEyDDSEbQQQgghRIaRAFAIIYQQIsNIACiEEEIIkWEkABRCCCGEyDASAAohhBBCZBgJAIUQQgghMowEgEIIIYQQGUYCQCGEEEKIDCMBoBBCCCFEhpEAUAghhBAiw0gAKIQQQgiRYSQAFEIIIYTIMP8fHAVU38/BSCsAAAAASUVORK5CYII=' width=640.0/>\n",
       "            </div>\n",
       "        "
      ],
      "text/plain": [
       "Canvas(toolbar=Toolbar(toolitems=[('Home', 'Reset original view', 'home', 'home'), ('Back', 'Back to previous …"
      ]
     },
     "metadata": {},
     "output_type": "display_data"
    }
   ],
   "source": [
    "index = macd_perf.index\n",
    "%matplotlib widget\n",
    "fig = plt.figure()\n",
    "ax = fig.add_subplot(111)\n",
    "ax.plot(index,macd_perf.mean(axis=1), label = 'macd', color = 'r')\n",
    "ax.plot(index,krr_perf.mean(axis=1), label = 'krr', color = 'b')\n",
    "ax.plot(index,m_r_perf.mean(axis=1), label = 'mean reversion', color = 'g')\n",
    "ax.plot(index,long_only.mean(axis=1), label = 'real', color = 'y')\n",
    "ax.plot(index,var_perf.mean(axis=1), label = 'var', color = 'gray')\n",
    "\n",
    "ax.legend(loc=0)\n",
    "ax.grid()\n",
    "ax.set_xlabel(\"Time\")\n",
    "ax.set_ylabel(\"Multiple\")\n",
    "#ax2.set_ylabel(\"pred\")\n",
    "plt.show()"
   ]
  },
  {
   "cell_type": "code",
   "execution_count": null,
   "metadata": {},
   "outputs": [],
   "source": []
  }
 ],
 "metadata": {
  "kernelspec": {
   "display_name": "Python 3",
   "language": "python",
   "name": "python3"
  },
  "language_info": {
   "codemirror_mode": {
    "name": "ipython",
    "version": 3
   },
   "file_extension": ".py",
   "mimetype": "text/x-python",
   "name": "python",
   "nbconvert_exporter": "python",
   "pygments_lexer": "ipython3",
   "version": "3.7.6"
  },
  "latex_envs": {
   "LaTeX_envs_menu_present": true,
   "autoclose": false,
   "autocomplete": true,
   "bibliofile": "biblio.bib",
   "cite_by": "apalike",
   "current_citInitial": 1,
   "eqLabelWithNumbers": true,
   "eqNumInitial": 1,
   "hotkeys": {
    "equation": "Ctrl-E",
    "itemize": "Ctrl-I"
   },
   "labels_anchors": false,
   "latex_user_defs": false,
   "report_style_numbering": false,
   "user_envs_cfg": false
  }
 },
 "nbformat": 4,
 "nbformat_minor": 4
}
