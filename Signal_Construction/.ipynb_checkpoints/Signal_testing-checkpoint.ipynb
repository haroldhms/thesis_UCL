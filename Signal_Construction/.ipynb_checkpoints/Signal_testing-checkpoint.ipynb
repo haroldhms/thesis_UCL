{
 "cells": [
  {
   "cell_type": "markdown",
   "metadata": {},
   "source": [
    "# This file will serve as the main testing ground for a variety of signals for the CRSP data set\n",
    "\n",
    "## The multiple strategies are the underlying:\n",
    "\n",
    "### 1. Univariate Strategies\n",
    "   * MACD (momentum), bollinger bands (mean reversion), univariate KRR\n",
    "   \n",
    "### 2. Multivariate Strategies\n",
    "   * multivariate KRR, VAR\n",
    "   \n",
    "### 3. NN-based methodologies\n",
    "   \n",
    "### 4. Others? (eg. from academic literature)\n",
    "\n",
    "### Further to do:\n",
    "\n",
    "   * **ideas to include:**\n",
    "       * PLS (pure dimension reduction but keeping objective), elastic net (as a way to include penalization methods)\n",
    "       * momentum:\n",
    "           * L5 ledoit & wolf notes: straight momentum\n",
    "           * L5 ledoit & wolf notes: echo momentum \n",
    "           * L5 ledoit & wolf notes: momentum consistency\n",
    "           * L5 ledoit & wolf notes: momentum acceleration\n",
    "           * p.138 algo trading book: fama & blume 1966, Moskowitz Yao & Pedersen 2012\n",
    "       * pairs trading strategy using cointegration\n",
    "       * mean reversion: individual (p.48 algo trading ernest chan) and in pairs (cointegrated assets: short one, long other, with and without bollinger bands, using kalman filters p.67,71,78)\n",
    "       * relative strength index (RSI)\n",
    "       * seasonal trending strategy (buy yearly losers end of december and sell them end of january) -> Singal 2006\n",
    "       * the model in \"the virtue of complexity in ml portfolios\" -> instead of 15 features a number of PC's fom whole data set?\n",
    "       * deep learning statistical arbitrage method using a number of PC's from whole data set\n",
    "   * delve deeper into cross validation methodologies for each method, making sure all parameters are optimal\n",
    "   * include fractional differentiation to maximise memory & keep stationarity\n",
    "   * perform necessary statistical tests on VAR & its parameters\n",
    "        * get VAR to work only with cointegrated pairs\n",
    "   * generally: optimize code & parallelize operations"
   ]
  },
  {
   "cell_type": "markdown",
   "metadata": {},
   "source": [
    "# Libraries"
   ]
  },
  {
   "cell_type": "code",
   "execution_count": 1,
   "metadata": {
    "ExecuteTime": {
     "end_time": "2022-02-02T10:58:26.873943Z",
     "start_time": "2022-02-02T10:58:21.942991Z"
    }
   },
   "outputs": [],
   "source": [
    "import pandas as pd\n",
    "import numpy as np\n",
    "import matplotlib.pyplot as plt\n",
    "import matplotlib.dates as mdates\n",
    "import statsmodels as sm\n",
    "from sklearn.model_selection import *\n",
    "from sklearn.metrics import mean_squared_error\n",
    "from sklearn.decomposition import *\n",
    "from sklearn.kernel_ridge import *\n",
    "from sklearn import linear_model\n",
    "import math\n",
    "import scipy\n",
    "from statsmodels.tsa.api import VAR\n",
    "from statsmodels.tsa.stattools import adfuller\n",
    "from statsmodels.tools.eval_measures import rmse, aic\n",
    "from statsmodels.tsa.stattools import grangercausalitytests\n",
    "from statsmodels.tsa.vector_ar.vecm import coint_johansen\n",
    "from scipy.stats.mstats import winsorize\n",
    "from scipy.stats import chi2\n",
    "import warnings\n",
    "warnings.filterwarnings(\"ignore\")"
   ]
  },
  {
   "cell_type": "markdown",
   "metadata": {},
   "source": [
    "# Preprocessing"
   ]
  },
  {
   "cell_type": "code",
   "execution_count": 11,
   "metadata": {
    "ExecuteTime": {
     "end_time": "2022-02-02T11:02:16.774655Z",
     "start_time": "2022-02-02T11:02:16.207073Z"
    }
   },
   "outputs": [],
   "source": [
    "data  = pd.read_csv('data/returns.csv')\n",
    "data.set_index('date', inplace=True)\n",
    "data.index = pd.to_datetime(data.index)\n",
    "data = data.iloc[:,:]"
   ]
  },
  {
   "cell_type": "markdown",
   "metadata": {},
   "source": [
    "# Univariate strategies\n",
    "* Simple strategies\n",
    "    + mean reversion -> DONE\n",
    "    + momentum (MACD) -> DONE\n",
    "* forecasting strategies (requires cross-validation procedure)\n",
    "    + ARMA\n",
    "    + KRR (extremely slow) -> DONE"
   ]
  },
  {
   "cell_type": "code",
   "execution_count": 12,
   "metadata": {
    "ExecuteTime": {
     "end_time": "2022-02-02T11:02:18.364658Z",
     "start_time": "2022-02-02T11:02:18.288042Z"
    }
   },
   "outputs": [],
   "source": [
    "def macd(ret, long=26, short=12, signal_span=9, plot=False):\n",
    "\n",
    "    short_signal = ret.ewm(span=short, adjust=False).mean()\n",
    "    long_signal = ret.ewm(span=long, adjust=False).mean() \n",
    "    macd = short_signal - long_signal\n",
    "    \n",
    "    pos = np.zeros(len(ret))\n",
    "    pos = np.where(macd>0,1,-1)\n",
    "    \n",
    "    if plot==True:\n",
    "        %matplotlib widget\n",
    "        fig = plt.figure()\n",
    "        ax = fig.add_subplot(111)\n",
    "        ax.plot(ret.index[:100],signal[:100], label = 'signal', color='g')\n",
    "        ax.plot(ret.index[:100],macd[:100], label = 'macd', color = 'b')\n",
    "        ax.legend(loc=1)\n",
    "        ax.set_xlabel(\"time\")\n",
    "        ax.set_ylabel(\"MACD/SIGNAL\")\n",
    "        \n",
    "        months = mdates.MonthLocator()\n",
    "        ax.xaxis.set_major_locator(months) \n",
    "        fig.autofmt_xdate()\n",
    "        \n",
    "        ax2 = ax.twinx()\n",
    "        ax2.stem(stock.index[:100],position[:100])\n",
    "        ax2.set_ylabel(\"position (1 for long, 0 for none, -1 for short)\")\n",
    "        ax2.set_ylim(-3,3)\n",
    "        ax.set_title(\"MACD strategy visualised with positions as stems for first 100 observations\")\n",
    "        plt.show()\n",
    "    \n",
    "    return pos\n",
    "\n",
    "def macd_signals(returns,long=26,short=12,signal_span=9):\n",
    "    signals = pd.DataFrame()\n",
    "    for i in range(returns.shape[1]):\n",
    "        signals['signal_{}'.format(i)] = macd(returns.iloc[:,i],long,short,signal_span)\n",
    "    signals.index = returns.index\n",
    "    return signals.shift(1).fillna(0)\n",
    "\n",
    "# figure out way to use this function -> more efficient code\n",
    "def rolling_pipe(dataframe, window, fctn):\n",
    "    return pd.Series([dataframe.iloc[i-window: i].pipe(fctn) \n",
    "                      if i >= window else None \n",
    "                      for i in range(1, len(dataframe)+1)],\n",
    "                     index = dataframe.index) \n",
    "\n",
    "# bollinger bands: mean reversion\n",
    "def rev(ret,lookback,band,plot):\n",
    "    # work with prices\n",
    "    p = (ret+1).cumprod()\n",
    "    # obtain mean & vol\n",
    "    m = p.rolling(window=lookback).mean()\n",
    "    s = p.rolling(window=lookback).std()\n",
    "    lower_band = m - band*s\n",
    "    higher_band = m + band*s\n",
    "    \n",
    "    #signal = np.where(ret > higher_band,-1,\n",
    "    #                  np.where(ret < m, 0,\n",
    "    #                           np.where(ret < lower_band, 1,0)))\n",
    "    \n",
    "    signal2 = np.zeros(len(ret))\n",
    "    position_short = False\n",
    "    position_long = False\n",
    "    for i in range(len(ret)):\n",
    "        # sell if higher than band\n",
    "        if p[i] > higher_band[i]:\n",
    "            signal2[i] = -1\n",
    "            position_short = True\n",
    "        # sell back if from lower band to mean\n",
    "        elif p[i] < higher_band[i] and p.iloc[i] > m[i] and position_long == True:\n",
    "            signal2[i] = 0\n",
    "            position_long = False\n",
    "        # buy back if from higher band to mean\n",
    "        elif p[i] < m[i] and position_short == True:\n",
    "            signal2[i] = 0\n",
    "            position_short = False\n",
    "        # buy if lower barrier hit\n",
    "        elif p[i] < lower_band[i]:\n",
    "            signal2[i] = 1\n",
    "            position_long = True\n",
    "        else:\n",
    "            signal2[i] = signal2[i-1]\n",
    "        \n",
    "\n",
    "    if plot==True:\n",
    "        %matplotlib widget\n",
    "        fig = plt.figure()\n",
    "        ax = fig.add_subplot(111)\n",
    "        ax.plot(ret.index,lower_band, label = 'lower', color='b')\n",
    "        ax.plot(ret.index,higher_band, label = 'higher', color = 'b')\n",
    "        ax.plot(ret.index,m, label = 'mean', color = 'b')\n",
    "        ax.plot(ret.index,p,label=\"returns\", color=\"r\")\n",
    "\n",
    "        ax.legend(loc=1)\n",
    "        ax.set_xlabel(\"TIME\")\n",
    "        ax.set_ylabel(\"PRICE\")\n",
    "\n",
    "        months = mdates.MonthLocator()\n",
    "        ax.xaxis.set_major_locator(months) \n",
    "        fig.autofmt_xdate()\n",
    "\n",
    "        plt.show()\n",
    "        \n",
    "    return signal2\n",
    "\n",
    "\n",
    "def reversion_signals(returns,lookback=100,band=2,plot=False):\n",
    "    signals = pd.DataFrame()\n",
    "    for i in range(returns.shape[1]):\n",
    "        signals['signal_{}'.format(i)] = rev(ret = returns.iloc[:,i],lookback=lookback,band=band,plot=plot)\n",
    "    signals.index = returns.index\n",
    "    return signals.shift(1).fillna(0)\n",
    "\n",
    "# kernel ridge\n",
    "def krr_signals(data,window_size=30,npredictions=5):\n",
    "    n = len(data)-1\n",
    "    predicted_values = np.zeros(n+npredictions+1)\n",
    "\n",
    "    \n",
    "    # rolling window\n",
    "    for i in range(window_size,n,npredictions):\n",
    "        if i % 100 == 0: print('{} % done'.format(round(i/(n-30)*100)),end=\"\\r\")\n",
    "        #    print(i)\n",
    "                \n",
    "        list_x = np.array(data.iloc[(i-window_size):i]).reshape(-1,1)\n",
    "        list_y = np.array(data.iloc[(i-window_size+1):(i+1)]) \n",
    "        list_x_pred = np.array(data.iloc[i:(i+npredictions)]).reshape(-1,1)\n",
    "        \n",
    "        parameters = {'kernel':['rbf'], 'alpha':np.arange(0.001,3,1).tolist(),'degree':np.arange(0.001,3,1).tolist()}\n",
    "        clf = GridSearchCV(KernelRidge(), parameters)\n",
    "        clf = clf.fit(list_x,list_y)\n",
    "        pred = clf.predict(list_x_pred)\n",
    "        predicted_values[i:(i+npredictions)] = pred\n",
    "    \n",
    "    # turn values into signals\n",
    "    signals = np.where(predicted_values > 0,1,-1)\n",
    "    \n",
    "    return signals\n",
    "def krr_signals_univ(data,window_size=30,npredictions=5):\n",
    "    n = data.shape[0]\n",
    "    signals = np.zeros((n+npredictions,data.shape[1]))\n",
    "    for i in range(data.shape[1]):\n",
    "        signals[:,i] = krr_signals(data.iloc[:,i],window_size=window_size,npredictions=npredictions)\n",
    "    return signals\n"
   ]
  },
  {
   "cell_type": "markdown",
   "metadata": {},
   "source": [
    "# Multivariate Econometric\n",
    "   * Vector Autoregressive (VAR) -> DONE\n",
    "   * Vector error correction models (VECM)\n",
    "   * Kernel Ridge Regression (KRR) -> DONE"
   ]
  },
  {
   "cell_type": "markdown",
   "metadata": {},
   "source": [
    "### Statistical tests\n",
    "   * **Granger causality** (column var causes row var) -> rejection means good candidate for MV\n",
    "       (tests the null hypothesis that the coefficients of past values in the regression equation is zero. In simpler terms, the past values of time series (X) do not cause the other series (Y))\n",
    "   * **ADF test** -> need stationarity in time series\n",
    "   * **cointegration** -> establish the presence of a statistically significant connection between two or more time series"
   ]
  },
  {
   "cell_type": "code",
   "execution_count": 13,
   "metadata": {
    "ExecuteTime": {
     "end_time": "2022-02-02T11:02:19.515274Z",
     "start_time": "2022-02-02T11:02:19.501309Z"
    }
   },
   "outputs": [],
   "source": [
    "def grangers_causation_matrix(data, variables, test='ssr_chi2test', maxlag=4):    \n",
    "    \"\"\"\n",
    "    data      : pandas dataframe containing the time series variables\n",
    "    variables : list containing names of the time series variables.\n",
    "    \"\"\"\n",
    "    df = pd.DataFrame(np.zeros((len(variables), len(variables))), columns=variables, index=variables)\n",
    "    for c in df.columns:\n",
    "        for r in df.index:\n",
    "            test_result = grangercausalitytests(data[[r, c]], maxlag=maxlag, verbose=False)\n",
    "            p_values = [round(test_result[i+1][0][test][1],4) for i in range(maxlag)]\n",
    "            min_p_value = np.min(p_values)\n",
    "            df.loc[r, c] = min_p_value\n",
    "    df.columns = [var + '_x' for var in variables]\n",
    "    df.index = [var + '_y' for var in variables]\n",
    "    return df\n",
    "\n",
    "def adfuller_test(series, signif=0.05):\n",
    "    \"\"\"Perform ADFuller to test for Stationarity of given series of returns and print report\"\"\"\n",
    "    for name, column in series.iteritems():\n",
    "        r = adfuller(column, autolag='BIC')\n",
    "        output = {'test_statistic':round(r[0], 4), 'pvalue':round(r[1], 4), 'n_lags':round(r[2], 4), 'n_obs':r[3]}\n",
    "        p_value = output['pvalue']\n",
    "        if p_value > signif:\n",
    "            print(\"series {} is non-stationary\".format(column.name))\n",
    "            \n",
    "def cointegration_test(df, alpha=0.05): \n",
    "    \"\"\"Perform Johanson's Cointegration Test and Report Summary\"\"\"\n",
    "    out = coint_johansen(df,-1,5)\n",
    "    d = {'0.90':0, '0.95':1, '0.99':2}\n",
    "    traces = out.lr1\n",
    "    cvts = out.cvt[:, d[str(1-alpha)]]\n",
    "    # print output if failed\n",
    "    for name, trace, cvt in zip(df.columns, traces, cvts):\n",
    "        if trace < cvt: print(\"column {} failed the cointegration test\".format(name))\n",
    "\n",
    "def multivariate_tests(data,alpha=0.05,maxlag=4, test = 'ssr_chi2test'):\n",
    "    \"\"\"\n",
    "    data: pandas dataframe\n",
    "    alpha: significance level\n",
    "    maxlag: maximum number of lags for granger causality test\n",
    "    test: test for granger causality\n",
    "    \n",
    "    what it does: prints failed adf and cointegration tests\n",
    "    \n",
    "    returns: granger causality matrix\n",
    "    \"\"\"\n",
    "    adfuller_test(data, signif=alpha)\n",
    "    cointegration_test(data, alpha=alpha)\n",
    "    \n",
    "    return grangers_causation_matrix(data, data.columns, test=test, maxlag=maxlag)"
   ]
  },
  {
   "cell_type": "markdown",
   "metadata": {},
   "source": [
    "### VAR model\n",
    "still requires some code optimisation\n",
    "\n",
    "suggested improvements: build model using solely cointegrated time series -> can include more lags"
   ]
  },
  {
   "cell_type": "code",
   "execution_count": 71,
   "metadata": {
    "ExecuteTime": {
     "end_time": "2022-02-02T12:01:49.679722Z",
     "start_time": "2022-02-02T12:01:49.633913Z"
    }
   },
   "outputs": [],
   "source": [
    "def var(df, window=30,maxlag=3,npredictions=5):\n",
    "    \n",
    "    n = len(df)\n",
    "    # initiate forecasts dataframe\n",
    "    forecasts = np.zeros((n+npredictions,df.shape[1])) \n",
    "    \n",
    "    # rolling window approach\n",
    "    for i in range(window,n,npredictions):\n",
    "        if i % 250 == 0: print('{}% done'.format(round(i/(n-30)*100)),end=\"\\r\")\n",
    "        bic_list = []\n",
    "        series = df.iloc[(i-window):i,:]\n",
    "        model = VAR(series)\n",
    "        \n",
    "        # optimal lags and fitting\n",
    "        for j in np.arange(0,maxlag+1,1):\n",
    "            try:\n",
    "                result = model.fit(j)\n",
    "                bic_list.append(result.bic)\n",
    "            except:\n",
    "                print(\"cannot deal with lag of {}, restarting with maxlag of {}\".format(j,maxlag-1))\n",
    "                if maxlag == 0:\n",
    "                    print(\"window size too small relative to number of assets, please restart\")\n",
    "                    return 0\n",
    "                else:\n",
    "                    return var(df, window, maxlag-1)\n",
    "        \n",
    "        # final check\n",
    "        if len(bic_list) == 1:\n",
    "                print(\"window size too small relative to number of assets, please restart\")\n",
    "                return 0   \n",
    "            \n",
    "        nbr_lags = bic_list.index(min(bic_list)) + 1\n",
    "        model_fitted = model.fit(nbr_lags)\n",
    "\n",
    "        forecast_input = series.values[-nbr_lags:]\n",
    "        \n",
    "        fc = model_fitted.forecast(y=forecast_input, steps=npredictions)\n",
    "        forecasts[i:(i+npredictions),:] = fc\n",
    "        \n",
    "    signals = np.where(forecasts > 0,1,-1)\n",
    "\n",
    "                \n",
    "    return signals\n",
    "\n",
    "def krr_signals_mv(data,window_size=30,npredictions=5):\n",
    "    n = len(data)\n",
    "\n",
    "    predicted_values = np.zeros((n+npredictions,data.shape[1]))\n",
    "    \n",
    "    # define x and y\n",
    "    x = data.shift(-1)\n",
    "    y = data\n",
    "\n",
    "    # rolling window\n",
    "    # re-fit the model every \"npredictions\" days\n",
    "    for i in range(window_size,n-npredictions,npredictions):\n",
    "        if i % 100 == 0: print('{} % done'.format(round(i/(n-window_size)*100)),end=\"\\r\")\n",
    "        begin = i - window_size\n",
    "        \n",
    "        # obtain principal components, section 2.5\n",
    "        # question : is there no look-ahead bias by doing PCA on the same day returns, i.e. should it not be lagged?\n",
    "        pca = PCA(n_components=4)\n",
    "        principalComponents = pca.fit_transform(np.array(data.iloc[begin:i,:]))\n",
    "        \n",
    "        principalDf = pd.DataFrame(data = principalComponents, columns = ['pc1','pc2','pc3','pc4'])\n",
    "        \n",
    "        model = linear_model.LinearRegression()\n",
    "        model_score = model.fit(principalDf,data.iloc[begin:i,:]).score(principalDf,data.iloc[begin:i,:])\n",
    "        \n",
    "        #x = np.array(data.iloc[(i-window_size):i,:])#.reshape(-1,1)\n",
    "        #y = np.array(data.iloc[(i-window_size+1):(i+1),:]) \n",
    "        #x_pred = np.array(data.iloc[i:(i+npredictions),:])\n",
    "        \n",
    "        x_in = x.iloc[begin:i,:]\n",
    "        y_in = y.iloc[begin:i,:]\n",
    "        x_pred = x.iloc[i:(i+npredictions),:]\n",
    "        \n",
    "        # gaussian kernel parameters\n",
    "        nbr_assets = data.shape[1]\n",
    "        df = window_size - nbr_assets\n",
    "        if df<0:df=1 # for chi-square\n",
    "        r2 = np.array(model_score)\n",
    "        sigma0 = math.sqrt(chi2.ppf(0.95,df)) / math.pi\n",
    "        sigma = np.array([0.5*sigma0,sigma0,2*sigma0,4*sigma0,8*sigma0])\n",
    "        lambda0 = (1-r2)/(r2)\n",
    "        lambdaa = np.array([lambda0/8.0,lambda0/4.0,lambda0/2.0,lambda0,2*lambda0])\n",
    "        \n",
    "        parameters = {'kernel':['rbf'], 'alpha':lambdaa.tolist(),'degree':[2]}\n",
    "        clf = GridSearchCV(KernelRidge(), parameters)\n",
    "        clf = clf.fit(x_in,y_in)\n",
    "        pred = clf.predict(x_pred)\n",
    "        #print(i,i+npredictions)\n",
    "        predicted_values[(i):(i+npredictions),:] = pred\n",
    "    \n",
    "    # turn values into signals\n",
    "    signals = np.where(predicted_values > 0,1,-1)\n",
    "    \n",
    "    return signals"
   ]
  },
  {
   "cell_type": "markdown",
   "metadata": {},
   "source": [
    "# NN-based methodologies\n",
    "   * LSTM\n",
    "   * CNN\n",
    "   * other?"
   ]
  },
  {
   "cell_type": "code",
   "execution_count": null,
   "metadata": {},
   "outputs": [],
   "source": []
  },
  {
   "cell_type": "markdown",
   "metadata": {},
   "source": [
    "# (initial) Testing the strategies\n",
    "\n",
    "Conclusions:\n",
    "   * standard MACD, mean reversion and VAR are bad strategies, all beaten by long only\n",
    "   * KRR performs very well on average"
   ]
  },
  {
   "cell_type": "code",
   "execution_count": 72,
   "metadata": {
    "ExecuteTime": {
     "end_time": "2022-02-02T12:01:51.770758Z",
     "start_time": "2022-02-02T12:01:51.761746Z"
    }
   },
   "outputs": [],
   "source": [
    "# performance evaluation\n",
    "def pnl(data,signals):\n",
    "    d = np.array(data)\n",
    "    s = np.array(signals)\n",
    "    return (1 + pd.DataFrame(np.multiply(d,s), index=data.index)).cumprod()"
   ]
  },
  {
   "cell_type": "code",
   "execution_count": 74,
   "metadata": {
    "ExecuteTime": {
     "end_time": "2022-02-02T12:36:03.023441Z",
     "start_time": "2022-02-02T12:09:25.609614Z"
    }
   },
   "outputs": [
    {
     "name": "stdout",
     "output_type": "stream",
     "text": [
      "macd done\n",
      "mean reversion done\n",
      "krr univariate done\n",
      "krr multivariate done\n"
     ]
    }
   ],
   "source": [
    "stocks = data\n",
    "# 1. test macd\n",
    "macd_multiple = macd_signals(stocks,26,12,9)\n",
    "print(\"macd done\")\n",
    "# 2. test mean reversion\n",
    "#m_r = reversion_signals(stocks)\n",
    "print(\"mean reversion done\")\n",
    "# 3. test krr univariate\n",
    "#krr_univ = krr_signals_univ(stocks)\n",
    "print(\"krr univariate done\")\n",
    "# 4. test krr multivariate\n",
    "krr_mv = krr_signals_mv(stocks,window_size=15,npredictions=1)\n",
    "print(\"krr multivariate done\")\n",
    "# 5. test VAR -> cannot deal with very high dimensions\n",
    "#var_s = var(stocks.iloc[:,20:25],window = 30,maxlag=3,npredictions=5)"
   ]
  },
  {
   "cell_type": "code",
   "execution_count": 75,
   "metadata": {
    "ExecuteTime": {
     "end_time": "2022-02-02T12:36:03.763670Z",
     "start_time": "2022-02-02T12:36:03.027442Z"
    }
   },
   "outputs": [],
   "source": [
    "macd_perf = pnl(stocks,macd_multiple)\n",
    "m_r_perf = pnl(stocks,m_r)\n",
    "krr_perf = pnl(stocks,krr_mv[:-1,:])\n",
    "#krr2_perf = pnl(stocks,krr_univ[:-5,:])\n",
    "var_perf = pnl(stocks.iloc[:,:5],var_s[:-5,:])\n",
    "\n",
    "# skip first 30 days -> window size\n",
    "macd_perf = macd_perf.iloc[30:,:]\n",
    "m_r_perf = m_r_perf.iloc[30:,:]\n",
    "krr_perf = krr_perf.iloc[30:,:]\n",
    "#krr2_perf = krr2_perf.iloc[30:,:]\n",
    "var_perf = var_perf.iloc[30:,:]\n",
    "long_only = (1+stocks.iloc[30:,:]).cumprod()"
   ]
  },
  {
   "cell_type": "code",
   "execution_count": 76,
   "metadata": {
    "ExecuteTime": {
     "end_time": "2022-02-02T12:36:03.998872Z",
     "start_time": "2022-02-02T12:36:03.769445Z"
    }
   },
   "outputs": [
    {
     "data": {
      "application/vnd.jupyter.widget-view+json": {
       "model_id": "50ad773f8387436bad26205256168bf8",
       "version_major": 2,
       "version_minor": 0
      },
      "image/png": "[encoded data removed]",
      "text/html": [
       "\n",
       "            <div style=\"display: inline-block;\">\n",
       "                <div class=\"jupyter-widgets widget-label\" style=\"text-align: center;\">\n",
       "                    Figure\n",
       "                </div>\n",
       "                <img src='data:image/png;base64,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' width=640.0/>\n",
       "            </div>\n",
       "        "
      ],
      "text/plain": [
       "Canvas(toolbar=Toolbar(toolitems=[('Home', 'Reset original view', 'home', 'home'), ('Back', 'Back to previous …"
      ]
     },
     "metadata": {},
     "output_type": "display_data"
    }
   ],
   "source": [
    "index = macd_perf.index\n",
    "%matplotlib widget\n",
    "fig = plt.figure()\n",
    "ax = fig.add_subplot(111)\n",
    "ax.plot(index,macd_perf.mean(axis=1), label = 'macd', color = 'r')\n",
    "#ax2 = ax.twinx()\n",
    "ax.plot(index,krr_perf.mean(axis=1), label = 'krr multivariate', color = 'b')\n",
    "#ax.plot(index,krr2_perf.mean(axis=1), label = 'krr univariate', color = 'b')\n",
    "ax.plot(index,m_r_perf.mean(axis=1), label = 'mean reversion', color = 'g')\n",
    "ax.plot(index,long_only.mean(axis=1), label = 'real', color = 'y')\n",
    "ax.plot(index,var_perf.mean(axis=1), label = 'var', color = 'gray')\n",
    "\n",
    "ax.legend(loc=0)\n",
    "#ax2.legend(loc=1)\n",
    "ax.grid()\n",
    "ax.set_xlabel(\"Time\")\n",
    "ax.set_ylabel(\"Multiple\")\n",
    "#ax2.set_ylabel(\"pred\")\n",
    "plt.show()"
   ]
  },
  {
   "cell_type": "code",
   "execution_count": null,
   "metadata": {},
   "outputs": [],
   "source": []
  }
 ],
 "metadata": {
  "kernelspec": {
   "display_name": "Python 3",
   "language": "python",
   "name": "python3"
  },
  "language_info": {
   "codemirror_mode": {
    "name": "ipython",
    "version": 3
   },
   "file_extension": ".py",
   "mimetype": "text/x-python",
   "name": "python",
   "nbconvert_exporter": "python",
   "pygments_lexer": "ipython3",
   "version": "3.7.6"
  },
  "latex_envs": {
   "LaTeX_envs_menu_present": true,
   "autoclose": false,
   "autocomplete": true,
   "bibliofile": "biblio.bib",
   "cite_by": "apalike",
   "current_citInitial": 1,
   "eqLabelWithNumbers": true,
   "eqNumInitial": 1,
   "hotkeys": {
    "equation": "Ctrl-E",
    "itemize": "Ctrl-I"
   },
   "labels_anchors": false,
   "latex_user_defs": false,
   "report_style_numbering": false,
   "user_envs_cfg": false
  }
 },
 "nbformat": 4,
 "nbformat_minor": 4
}
